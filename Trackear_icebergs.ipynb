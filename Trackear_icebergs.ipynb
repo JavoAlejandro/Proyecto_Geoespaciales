{
 "cells": [
  {
   "cell_type": "markdown",
   "metadata": {},
   "source": [
    "## Tracking de Icebergs"
   ]
  },
  {
   "cell_type": "code",
   "execution_count": 1,
   "metadata": {},
   "outputs": [],
   "source": [
    "import warnings\n",
    "warnings.filterwarnings('ignore')\n",
    "import numpy as np\n",
    "import pandas as pd\n",
    "import datetime as dt\n",
    "import matplotlib.pyplot as plt\n",
    "import geopandas as gpd\n",
    "from shapely.geometry import shape, mapping\n",
    "import json\n",
    "import geemap,ee\n",
    "import folium\n",
    "ee.Authenticate()\n",
    "ee.Initialize()"
   ]
  },
  {
   "cell_type": "markdown",
   "metadata": {},
   "source": [
    "- Primero definimos nuestro icebergs de interes\n",
    "\n",
    "Para este proceso, directamente en Google engine seleccionamos manualmente el icebreg de interes. Usando el siguiente codigo."
   ]
  },
  {
   "cell_type": "code",
   "execution_count": null,
   "metadata": {},
   "outputs": [],
   "source": [
    "# var roi = ee.Geometry.Polygon([\n",
    "#   [[-112, -72.7], [-112, -73.7], [-108.5, -73.7], [-108.5, -72.7], [-112, -72.7]]\n",
    "# ]);\n",
    "\n",
    "# var startdate = '2017-04-19' \n",
    "# var enddate = '2017-04-20' \n",
    "\n",
    "# var S1 = sentinel1\n",
    "#   // Filter to get images with VV and VH dual polarization.\n",
    "#   //.filter(ee.Filter.listContains('transmitterReceiverPolarisation', 'HH'))\n",
    "#   // Filter to get images collected in interferometric wide swath mode.\n",
    "#   .filterDate(startdate, enddate) \n",
    "#   // .filter(ee.Filter.lt('CLOUDY_PIXEL_PERCENTAGE', 50))\n",
    "#   .filterBounds(roi);\n",
    "  \n",
    "# print(S1)\n",
    "# var img = S1.select(\"HH\")\n",
    "\n",
    "# var visParams1 = {band: ['HH'], min: -30, max: 0};\n",
    "# // var visParams2 = {band: ['B4'], max: 10000, min: 0};\n",
    "\n",
    "# Map.addLayer(img, visParams1, 'S1');\n",
    "\n",
    "# Definimos \"geometry\" manualmente\n",
    "# var geometry = ee.FeatureCollection(geometry)\n",
    "# Export.table.toDrive(geometry, 'iceberg_' + startdate, 'users/kooala317/Iceberg_tracking')"
   ]
  },
  {
   "cell_type": "code",
   "execution_count": 41,
   "metadata": {},
   "outputs": [
    {
     "data": {
      "text/html": [
       "\n",
       "            <style>\n",
       "                .geemap-dark {\n",
       "                    --jp-widgets-color: white;\n",
       "                    --jp-widgets-label-color: white;\n",
       "                    --jp-ui-font-color1: white;\n",
       "                    --jp-layout-color2: #454545;\n",
       "                    background-color: #383838;\n",
       "                }\n",
       "\n",
       "                .geemap-dark .jupyter-button {\n",
       "                    --jp-layout-color3: #383838;\n",
       "                }\n",
       "\n",
       "                .geemap-colab {\n",
       "                    background-color: var(--colab-primary-surface-color, white);\n",
       "                }\n",
       "\n",
       "                .geemap-colab .jupyter-button {\n",
       "                    --jp-layout-color3: var(--colab-primary-surface-color, white);\n",
       "                }\n",
       "            </style>\n",
       "            "
      ],
      "text/plain": [
       "<IPython.core.display.HTML object>"
      ]
     },
     "metadata": {},
     "output_type": "display_data"
    }
   ],
   "source": [
    "df = pd.read_csv(\"Icebergs\\iceberg_0004_2020-06-01.csv\")\n",
    "df['geometry'] = df['.geo'].apply(lambda x: shape(json.loads(x)))\n",
    "\n",
    "gdf = gpd.GeoDataFrame(df, geometry='geometry').set_crs('epsg:4326', inplace=True)"
   ]
  },
  {
   "cell_type": "code",
   "execution_count": 42,
   "metadata": {},
   "outputs": [
    {
     "data": {
      "text/html": [
       "\n",
       "            <style>\n",
       "                .geemap-dark {\n",
       "                    --jp-widgets-color: white;\n",
       "                    --jp-widgets-label-color: white;\n",
       "                    --jp-ui-font-color1: white;\n",
       "                    --jp-layout-color2: #454545;\n",
       "                    background-color: #383838;\n",
       "                }\n",
       "\n",
       "                .geemap-dark .jupyter-button {\n",
       "                    --jp-layout-color3: #383838;\n",
       "                }\n",
       "\n",
       "                .geemap-colab {\n",
       "                    background-color: var(--colab-primary-surface-color, white);\n",
       "                }\n",
       "\n",
       "                .geemap-colab .jupyter-button {\n",
       "                    --jp-layout-color3: var(--colab-primary-surface-color, white);\n",
       "                }\n",
       "            </style>\n",
       "            "
      ],
      "text/plain": [
       "<IPython.core.display.HTML object>"
      ]
     },
     "metadata": {},
     "output_type": "display_data"
    },
    {
     "data": {
      "text/plain": [
       "<Axes: >"
      ]
     },
     "execution_count": 42,
     "metadata": {},
     "output_type": "execute_result"
    },
    {
     "data": {
      "image/png": "[encoded data removed]",
      "text/plain": [
       "<Figure size 640x480 with 1 Axes>"
      ]
     },
     "metadata": {},
     "output_type": "display_data"
    }
   ],
   "source": [
    "gdf[\"geometry\"].plot()"
   ]
  },
  {
   "cell_type": "markdown",
   "metadata": {},
   "source": [
    "- Luego, haciendo comparativas de similitud, localizamos el mismo iceberg en una imagen posterior. (Con un cierto margen de error)"
   ]
  },
  {
   "cell_type": "markdown",
   "metadata": {},
   "source": [
    "#### 1. Pasamos nuestro archivo local a una Feature collection"
   ]
  },
  {
   "cell_type": "code",
   "execution_count": 43,
   "metadata": {},
   "outputs": [
    {
     "data": {
      "text/html": [
       "\n",
       "            <style>\n",
       "                .geemap-dark {\n",
       "                    --jp-widgets-color: white;\n",
       "                    --jp-widgets-label-color: white;\n",
       "                    --jp-ui-font-color1: white;\n",
       "                    --jp-layout-color2: #454545;\n",
       "                    background-color: #383838;\n",
       "                }\n",
       "\n",
       "                .geemap-dark .jupyter-button {\n",
       "                    --jp-layout-color3: #383838;\n",
       "                }\n",
       "\n",
       "                .geemap-colab {\n",
       "                    background-color: var(--colab-primary-surface-color, white);\n",
       "                }\n",
       "\n",
       "                .geemap-colab .jupyter-button {\n",
       "                    --jp-layout-color3: var(--colab-primary-surface-color, white);\n",
       "                }\n",
       "            </style>\n",
       "            "
      ],
      "text/plain": [
       "<IPython.core.display.HTML object>"
      ]
     },
     "metadata": {},
     "output_type": "display_data"
    }
   ],
   "source": [
    "gdf.columns = [col.replace('.', '_') for col in gdf.columns]\n",
    "\n",
    "# Verificamos que todas las columnas son strings\n",
    "for col in gdf.columns:\n",
    "    if col != 'geometry':\n",
    "        gdf[col] = gdf[col].astype(str)\n",
    "\n",
    "# Convertimos el GeoDataFrame a una lista de Features\n",
    "features = []\n",
    "for _, row in gdf.iterrows():\n",
    "    geom = ee.Geometry(mapping(row['geometry']))\n",
    "    feature = ee.Feature(geom, row.drop('geometry').to_dict())\n",
    "    features.append(feature)\n",
    "\n",
    "\n",
    "iceberg = ee.FeatureCollection(features)\n"
   ]
  },
  {
   "cell_type": "markdown",
   "metadata": {},
   "source": [
    "#### 2. Una vez obtenida la feature collection del iceberg, obtenemos las imagenes satelitales de esté.\n",
    "\n",
    "https://developers.google.com/earth-engine/datasets/catalog/COPERNICUS_S1_GRD"
   ]
  },
  {
   "cell_type": "code",
   "execution_count": 44,
   "metadata": {},
   "outputs": [
    {
     "data": {
      "text/html": [
       "\n",
       "            <style>\n",
       "                .geemap-dark {\n",
       "                    --jp-widgets-color: white;\n",
       "                    --jp-widgets-label-color: white;\n",
       "                    --jp-ui-font-color1: white;\n",
       "                    --jp-layout-color2: #454545;\n",
       "                    background-color: #383838;\n",
       "                }\n",
       "\n",
       "                .geemap-dark .jupyter-button {\n",
       "                    --jp-layout-color3: #383838;\n",
       "                }\n",
       "\n",
       "                .geemap-colab {\n",
       "                    background-color: var(--colab-primary-surface-color, white);\n",
       "                }\n",
       "\n",
       "                .geemap-colab .jupyter-button {\n",
       "                    --jp-layout-color3: var(--colab-primary-surface-color, white);\n",
       "                }\n",
       "            </style>\n",
       "            "
      ],
      "text/plain": [
       "<IPython.core.display.HTML object>"
      ]
     },
     "metadata": {},
     "output_type": "display_data"
    }
   ],
   "source": [
    "fecha_inicio = '2020-06-01'\n",
    "fecha_fin = '2020-06-02'"
   ]
  },
  {
   "cell_type": "code",
   "execution_count": 45,
   "metadata": {},
   "outputs": [
    {
     "data": {
      "text/html": [
       "\n",
       "            <style>\n",
       "                .geemap-dark {\n",
       "                    --jp-widgets-color: white;\n",
       "                    --jp-widgets-label-color: white;\n",
       "                    --jp-ui-font-color1: white;\n",
       "                    --jp-layout-color2: #454545;\n",
       "                    background-color: #383838;\n",
       "                }\n",
       "\n",
       "                .geemap-dark .jupyter-button {\n",
       "                    --jp-layout-color3: #383838;\n",
       "                }\n",
       "\n",
       "                .geemap-colab {\n",
       "                    background-color: var(--colab-primary-surface-color, white);\n",
       "                }\n",
       "\n",
       "                .geemap-colab .jupyter-button {\n",
       "                    --jp-layout-color3: var(--colab-primary-surface-color, white);\n",
       "                }\n",
       "            </style>\n",
       "            "
      ],
      "text/plain": [
       "<IPython.core.display.HTML object>"
      ]
     },
     "metadata": {},
     "output_type": "display_data"
    }
   ],
   "source": [
    "S1A = ee.ImageCollection(\"COPERNICUS/S1_GRD\")\\\n",
    ".filterDate(fecha_inicio, fecha_fin)\\\n",
    ".filterBounds(iceberg)\\\n",
    ".filter(ee.Filter.listContains('transmitterReceiverPolarisation', \"HH\"))\n",
    "\n",
    "band = [\"HH\", \"angle\"]\n",
    "\n",
    "img = S1A.select(band).mean().clip(iceberg) "
   ]
  },
  {
   "cell_type": "markdown",
   "metadata": {},
   "source": [
    "#### 3. Planteamos una forma de identificar el iceberg. Esta forma requiere calcular cómo varía la distancia desde el centroide hacia los bordes del iceberg. Para ello:"
   ]
  },
  {
   "cell_type": "markdown",
   "metadata": {},
   "source": [
    "- Definimos una capa de cobertura del iceberg, la cual vale 1 siempre que se abarca el iceberg."
   ]
  },
  {
   "cell_type": "code",
   "execution_count": 46,
   "metadata": {},
   "outputs": [
    {
     "data": {
      "text/html": [
       "\n",
       "            <style>\n",
       "                .geemap-dark {\n",
       "                    --jp-widgets-color: white;\n",
       "                    --jp-widgets-label-color: white;\n",
       "                    --jp-ui-font-color1: white;\n",
       "                    --jp-layout-color2: #454545;\n",
       "                    background-color: #383838;\n",
       "                }\n",
       "\n",
       "                .geemap-dark .jupyter-button {\n",
       "                    --jp-layout-color3: #383838;\n",
       "                }\n",
       "\n",
       "                .geemap-colab {\n",
       "                    background-color: var(--colab-primary-surface-color, white);\n",
       "                }\n",
       "\n",
       "                .geemap-colab .jupyter-button {\n",
       "                    --jp-layout-color3: var(--colab-primary-surface-color, white);\n",
       "                }\n",
       "            </style>\n",
       "            "
      ],
      "text/plain": [
       "<IPython.core.display.HTML object>"
      ]
     },
     "metadata": {},
     "output_type": "display_data"
    }
   ],
   "source": [
    "cover = img.select('HH').clip(iceberg).multiply(0).add(1)\n",
    "cover = cover.addBands(ee.Image.pixelLonLat())"
   ]
  },
  {
   "cell_type": "markdown",
   "metadata": {},
   "source": [
    "- Definimos una Imagen que vale 1 en el centroide del Iceberg."
   ]
  },
  {
   "cell_type": "code",
   "execution_count": 47,
   "metadata": {},
   "outputs": [
    {
     "data": {
      "text/html": [
       "\n",
       "            <style>\n",
       "                .geemap-dark {\n",
       "                    --jp-widgets-color: white;\n",
       "                    --jp-widgets-label-color: white;\n",
       "                    --jp-ui-font-color1: white;\n",
       "                    --jp-layout-color2: #454545;\n",
       "                    background-color: #383838;\n",
       "                }\n",
       "\n",
       "                .geemap-dark .jupyter-button {\n",
       "                    --jp-layout-color3: #383838;\n",
       "                }\n",
       "\n",
       "                .geemap-colab {\n",
       "                    background-color: var(--colab-primary-surface-color, white);\n",
       "                }\n",
       "\n",
       "                .geemap-colab .jupyter-button {\n",
       "                    --jp-layout-color3: var(--colab-primary-surface-color, white);\n",
       "                }\n",
       "            </style>\n",
       "            "
      ],
      "text/plain": [
       "<IPython.core.display.HTML object>"
      ]
     },
     "metadata": {},
     "output_type": "display_data"
    }
   ],
   "source": [
    "centroid = iceberg.geometry().centroid(10).getInfo()['coordinates']\n",
    "\n",
    "sources = ee.Image().toByte().paint(ee.Geometry.Point(centroid), 1)"
   ]
  },
  {
   "cell_type": "markdown",
   "metadata": {},
   "source": [
    "- Calculamos el costo acumulativo para recorrer la imagen desde el centroide del iceberg hasta los bordes del iceberg."
   ]
  },
  {
   "cell_type": "code",
   "execution_count": 48,
   "metadata": {},
   "outputs": [
    {
     "data": {
      "text/html": [
       "\n",
       "            <style>\n",
       "                .geemap-dark {\n",
       "                    --jp-widgets-color: white;\n",
       "                    --jp-widgets-label-color: white;\n",
       "                    --jp-ui-font-color1: white;\n",
       "                    --jp-layout-color2: #454545;\n",
       "                    background-color: #383838;\n",
       "                }\n",
       "\n",
       "                .geemap-dark .jupyter-button {\n",
       "                    --jp-layout-color3: #383838;\n",
       "                }\n",
       "\n",
       "                .geemap-colab {\n",
       "                    background-color: var(--colab-primary-surface-color, white);\n",
       "                }\n",
       "\n",
       "                .geemap-colab .jupyter-button {\n",
       "                    --jp-layout-color3: var(--colab-primary-surface-color, white);\n",
       "                }\n",
       "            </style>\n",
       "            "
      ],
      "text/plain": [
       "<IPython.core.display.HTML object>"
      ]
     },
     "metadata": {},
     "output_type": "display_data"
    }
   ],
   "source": [
    "cumulativeCost = cover.select('HH').cumulativeCost(\n",
    "    source = sources,\n",
    "    maxDistance = 30000,\n",
    "    geodeticDistance = True\n",
    ").clip(iceberg)\n",
    "\n",
    "result = cumulativeCost.reduceRegion(ee.Reducer.toList(), iceberg, scale=200, maxPixels=1e20)\n",
    "A = result.getInfo()['cumulative_cost'] "
   ]
  },
  {
   "cell_type": "markdown",
   "metadata": {},
   "source": [
    "- Calculamos un histograma de la distribucion de las distancias centroide-borde"
   ]
  },
  {
   "cell_type": "code",
   "execution_count": 49,
   "metadata": {},
   "outputs": [
    {
     "data": {
      "text/html": [
       "\n",
       "            <style>\n",
       "                .geemap-dark {\n",
       "                    --jp-widgets-color: white;\n",
       "                    --jp-widgets-label-color: white;\n",
       "                    --jp-ui-font-color1: white;\n",
       "                    --jp-layout-color2: #454545;\n",
       "                    background-color: #383838;\n",
       "                }\n",
       "\n",
       "                .geemap-dark .jupyter-button {\n",
       "                    --jp-layout-color3: #383838;\n",
       "                }\n",
       "\n",
       "                .geemap-colab {\n",
       "                    background-color: var(--colab-primary-surface-color, white);\n",
       "                }\n",
       "\n",
       "                .geemap-colab .jupyter-button {\n",
       "                    --jp-layout-color3: var(--colab-primary-surface-color, white);\n",
       "                }\n",
       "            </style>\n",
       "            "
      ],
      "text/plain": [
       "<IPython.core.display.HTML object>"
      ]
     },
     "metadata": {},
     "output_type": "display_data"
    },
    {
     "data": {
      "text/plain": [
       "Text(0, 0.5, 'N')"
      ]
     },
     "execution_count": 49,
     "metadata": {},
     "output_type": "execute_result"
    },
    {
     "data": {
      "image/png": "[encoded data removed]",
      "text/plain": [
       "<Figure size 600x200 with 1 Axes>"
      ]
     },
     "metadata": {},
     "output_type": "display_data"
    }
   ],
   "source": [
    "hist1 = {}\n",
    "\n",
    "scale = 200\n",
    "max_pix = 20000\n",
    "\n",
    "fig = plt.subplots(figsize = (6, 2), dpi = 100)\n",
    "hist1['reference'] = np.histogram(A, int(max_pix/scale), [0, max_pix])\n",
    "\n",
    "plt.plot(hist1['reference'][1][:-1], hist1['reference'][0], color = \"k\", linewidth = 2)\n",
    "plt.xlabel(\"Distance from the centroid (m)\", fontsize = 12)\n",
    "plt.ylabel(\"N\", fontsize = 12)"
   ]
  },
  {
   "cell_type": "markdown",
   "metadata": {},
   "source": [
    "- Obtenemos el area real del iceberg"
   ]
  },
  {
   "cell_type": "code",
   "execution_count": 50,
   "metadata": {},
   "outputs": [
    {
     "data": {
      "text/html": [
       "\n",
       "            <style>\n",
       "                .geemap-dark {\n",
       "                    --jp-widgets-color: white;\n",
       "                    --jp-widgets-label-color: white;\n",
       "                    --jp-ui-font-color1: white;\n",
       "                    --jp-layout-color2: #454545;\n",
       "                    background-color: #383838;\n",
       "                }\n",
       "\n",
       "                .geemap-dark .jupyter-button {\n",
       "                    --jp-layout-color3: #383838;\n",
       "                }\n",
       "\n",
       "                .geemap-colab {\n",
       "                    background-color: var(--colab-primary-surface-color, white);\n",
       "                }\n",
       "\n",
       "                .geemap-colab .jupyter-button {\n",
       "                    --jp-layout-color3: var(--colab-primary-surface-color, white);\n",
       "                }\n",
       "            </style>\n",
       "            "
      ],
      "text/plain": [
       "<IPython.core.display.HTML object>"
      ]
     },
     "metadata": {},
     "output_type": "display_data"
    },
    {
     "name": "stdout",
     "output_type": "stream",
     "text": [
      "95700139.00827649\n"
     ]
    }
   ],
   "source": [
    "area0 = iceberg.geometry().area(10).getInfo()\n",
    "print(area0)"
   ]
  },
  {
   "cell_type": "code",
   "execution_count": 51,
   "metadata": {},
   "outputs": [
    {
     "data": {
      "text/html": [
       "\n",
       "            <style>\n",
       "                .geemap-dark {\n",
       "                    --jp-widgets-color: white;\n",
       "                    --jp-widgets-label-color: white;\n",
       "                    --jp-ui-font-color1: white;\n",
       "                    --jp-layout-color2: #454545;\n",
       "                    background-color: #383838;\n",
       "                }\n",
       "\n",
       "                .geemap-dark .jupyter-button {\n",
       "                    --jp-layout-color3: #383838;\n",
       "                }\n",
       "\n",
       "                .geemap-colab {\n",
       "                    background-color: var(--colab-primary-surface-color, white);\n",
       "                }\n",
       "\n",
       "                .geemap-colab .jupyter-button {\n",
       "                    --jp-layout-color3: var(--colab-primary-surface-color, white);\n",
       "                }\n",
       "            </style>\n",
       "            "
      ],
      "text/plain": [
       "<IPython.core.display.HTML object>"
      ]
     },
     "metadata": {},
     "output_type": "display_data"
    },
    {
     "data": {
      "application/vnd.jupyter.widget-view+json": {
       "model_id": "97939ac2a1404be09518b9d4e42cc2c0",
       "version_major": 2,
       "version_minor": 0
      },
      "text/plain": [
       "Map(center=[-74.4004532296082, -105.34131222937333], controls=(WidgetControl(options=['position', 'transparent…"
      ]
     },
     "execution_count": 51,
     "metadata": {},
     "output_type": "execute_result"
    }
   ],
   "source": [
    "Map = geemap.Map(center= [centroid[1], centroid[0]], zoom = 10)\n",
    "visParams1 = {\"bands\": ['HH'], \"min\": -30, \"max\": 0}\n",
    "Map.addLayer(img, visParams1, 'S1')\n",
    "Map"
   ]
  },
  {
   "cell_type": "markdown",
   "metadata": {},
   "source": [
    "4. Ahora queremos Trackear nuestro iceberg en un lapso de tiempo usando lo anterior."
   ]
  },
  {
   "cell_type": "markdown",
   "metadata": {},
   "source": [
    "En cada iteración segmentaremos la zona objetivo usando snic eh identificaremos el iceberg de estudio usando lo anterior."
   ]
  },
  {
   "cell_type": "code",
   "execution_count": 52,
   "metadata": {},
   "outputs": [
    {
     "data": {
      "text/html": [
       "\n",
       "            <style>\n",
       "                .geemap-dark {\n",
       "                    --jp-widgets-color: white;\n",
       "                    --jp-widgets-label-color: white;\n",
       "                    --jp-ui-font-color1: white;\n",
       "                    --jp-layout-color2: #454545;\n",
       "                    background-color: #383838;\n",
       "                }\n",
       "\n",
       "                .geemap-dark .jupyter-button {\n",
       "                    --jp-layout-color3: #383838;\n",
       "                }\n",
       "\n",
       "                .geemap-colab {\n",
       "                    background-color: var(--colab-primary-surface-color, white);\n",
       "                }\n",
       "\n",
       "                .geemap-colab .jupyter-button {\n",
       "                    --jp-layout-color3: var(--colab-primary-surface-color, white);\n",
       "                }\n",
       "            </style>\n",
       "            "
      ],
      "text/plain": [
       "<IPython.core.display.HTML object>"
      ]
     },
     "metadata": {},
     "output_type": "display_data"
    }
   ],
   "source": [
    "ice_area = {}\n",
    "ice_centroid = {}\n",
    "mapid_seg = {}\n",
    "mapid_target = {}\n",
    "\n",
    "startdate = fecha_inicio; enddate = fecha_fin\n",
    "center = centroid\n",
    "\n",
    "buf_dist = 25000 # distancia desde el centroide para buscar icebergs\n",
    "\n",
    "# Map initialization (note: if you run this code, map is entirely initialized!)\n",
    "map1 = folium.Map(location=[center[1], center[0]], zoom_start=7, height=550,width=700)\n",
    "\n",
    "# color codes to visualize the iceberg geometry by time\n",
    "color_codes = ['red', 'chocolate', 'orange', 'yellow', 'olive', 'lime',\n",
    "               'green', 'teal', 'cyan', 'blue', 'navy', 'purple']\n"
   ]
  },
  {
   "cell_type": "markdown",
   "metadata": {},
   "source": [
    "Dias de estudio"
   ]
  },
  {
   "cell_type": "code",
   "execution_count": 62,
   "metadata": {},
   "outputs": [
    {
     "data": {
      "text/html": [
       "\n",
       "            <style>\n",
       "                .geemap-dark {\n",
       "                    --jp-widgets-color: white;\n",
       "                    --jp-widgets-label-color: white;\n",
       "                    --jp-ui-font-color1: white;\n",
       "                    --jp-layout-color2: #454545;\n",
       "                    background-color: #383838;\n",
       "                }\n",
       "\n",
       "                .geemap-dark .jupyter-button {\n",
       "                    --jp-layout-color3: #383838;\n",
       "                }\n",
       "\n",
       "                .geemap-colab {\n",
       "                    background-color: var(--colab-primary-surface-color, white);\n",
       "                }\n",
       "\n",
       "                .geemap-colab .jupyter-button {\n",
       "                    --jp-layout-color3: var(--colab-primary-surface-color, white);\n",
       "                }\n",
       "            </style>\n",
       "            "
      ],
      "text/plain": [
       "<IPython.core.display.HTML object>"
      ]
     },
     "metadata": {},
     "output_type": "display_data"
    }
   ],
   "source": [
    "# Cuantos dias queremos estudiar\n",
    "day_range = range(0, 37)"
   ]
  },
  {
   "cell_type": "markdown",
   "metadata": {},
   "source": [
    "Calculo Area de cada iceberg"
   ]
  },
  {
   "cell_type": "code",
   "execution_count": 54,
   "metadata": {},
   "outputs": [
    {
     "data": {
      "text/html": [
       "\n",
       "            <style>\n",
       "                .geemap-dark {\n",
       "                    --jp-widgets-color: white;\n",
       "                    --jp-widgets-label-color: white;\n",
       "                    --jp-ui-font-color1: white;\n",
       "                    --jp-layout-color2: #454545;\n",
       "                    background-color: #383838;\n",
       "                }\n",
       "\n",
       "                .geemap-dark .jupyter-button {\n",
       "                    --jp-layout-color3: #383838;\n",
       "                }\n",
       "\n",
       "                .geemap-colab {\n",
       "                    background-color: var(--colab-primary-surface-color, white);\n",
       "                }\n",
       "\n",
       "                .geemap-colab .jupyter-button {\n",
       "                    --jp-layout-color3: var(--colab-primary-surface-color, white);\n",
       "                }\n",
       "            </style>\n",
       "            "
      ],
      "text/plain": [
       "<IPython.core.display.HTML object>"
      ]
     },
     "metadata": {},
     "output_type": "display_data"
    }
   ],
   "source": [
    "#decidir si mantener o no el parametro maxError=10\n",
    "def addArea(feature):\n",
    "    return feature.set({\"area\": feature.geometry().area(10), \"centroid\": feature.geometry().centroid(10)})"
   ]
  },
  {
   "cell_type": "code",
   "execution_count": 55,
   "metadata": {},
   "outputs": [
    {
     "data": {
      "text/html": [
       "\n",
       "            <style>\n",
       "                .geemap-dark {\n",
       "                    --jp-widgets-color: white;\n",
       "                    --jp-widgets-label-color: white;\n",
       "                    --jp-ui-font-color1: white;\n",
       "                    --jp-layout-color2: #454545;\n",
       "                    background-color: #383838;\n",
       "                }\n",
       "\n",
       "                .geemap-dark .jupyter-button {\n",
       "                    --jp-layout-color3: #383838;\n",
       "                }\n",
       "\n",
       "                .geemap-colab {\n",
       "                    background-color: var(--colab-primary-surface-color, white);\n",
       "                }\n",
       "\n",
       "                .geemap-colab .jupyter-button {\n",
       "                    --jp-layout-color3: var(--colab-primary-surface-color, white);\n",
       "                }\n",
       "            </style>\n",
       "            "
      ],
      "text/plain": [
       "<IPython.core.display.HTML object>"
      ]
     },
     "metadata": {},
     "output_type": "display_data"
    }
   ],
   "source": [
    "ice_area = {}\n",
    "ice_centroid = {}\n",
    "mapid_seg = {}\n",
    "mapid_target = {}"
   ]
  },
  {
   "cell_type": "code",
   "execution_count": 56,
   "metadata": {},
   "outputs": [
    {
     "data": {
      "text/html": [
       "\n",
       "            <style>\n",
       "                .geemap-dark {\n",
       "                    --jp-widgets-color: white;\n",
       "                    --jp-widgets-label-color: white;\n",
       "                    --jp-ui-font-color1: white;\n",
       "                    --jp-layout-color2: #454545;\n",
       "                    background-color: #383838;\n",
       "                }\n",
       "\n",
       "                .geemap-dark .jupyter-button {\n",
       "                    --jp-layout-color3: #383838;\n",
       "                }\n",
       "\n",
       "                .geemap-colab {\n",
       "                    background-color: var(--colab-primary-surface-color, white);\n",
       "                }\n",
       "\n",
       "                .geemap-colab .jupyter-button {\n",
       "                    --jp-layout-color3: var(--colab-primary-surface-color, white);\n",
       "                }\n",
       "            </style>\n",
       "            "
      ],
      "text/plain": [
       "<IPython.core.display.HTML object>"
      ]
     },
     "metadata": {},
     "output_type": "display_data"
    }
   ],
   "source": [
    "df_iceberg = pd.DataFrame(columns=['fecha', 'similaridad', 'area', 'centroide', 'poligono', 'source', 'covers'])"
   ]
  },
  {
   "cell_type": "code",
   "execution_count": 65,
   "metadata": {},
   "outputs": [
    {
     "data": {
      "text/html": [
       "\n",
       "            <style>\n",
       "                .geemap-dark {\n",
       "                    --jp-widgets-color: white;\n",
       "                    --jp-widgets-label-color: white;\n",
       "                    --jp-ui-font-color1: white;\n",
       "                    --jp-layout-color2: #454545;\n",
       "                    background-color: #383838;\n",
       "                }\n",
       "\n",
       "                .geemap-dark .jupyter-button {\n",
       "                    --jp-layout-color3: #383838;\n",
       "                }\n",
       "\n",
       "                .geemap-colab {\n",
       "                    background-color: var(--colab-primary-surface-color, white);\n",
       "                }\n",
       "\n",
       "                .geemap-colab .jupyter-button {\n",
       "                    --jp-layout-color3: var(--colab-primary-surface-color, white);\n",
       "                }\n",
       "            </style>\n",
       "            "
      ],
      "text/plain": [
       "<IPython.core.display.HTML object>"
      ]
     },
     "metadata": {},
     "output_type": "display_data"
    },
    {
     "name": "stdout",
     "output_type": "stream",
     "text": [
      "2020-11-23 ============================================\n",
      "Feature 0 >>> area: 101.83 km^2, centroid: [-107.796, -73.236], similarity: 0.866\n",
      "Se aumento la distancia de busqueda a 45000\n",
      "2020-11-28 ============================================\n",
      "Feature 0 >>> area: 103.78 km^2, centroid: [-107.858, -73.18], similarity: 0.853\n",
      "Se aumento la distancia de busqueda a 45000\n",
      "2020-12-03 ============================================\n",
      "Feature 0 >>> area: 99.68 km^2, centroid: [-107.992, -73.015], similarity: 0.881\n",
      "Se aumento la distancia de busqueda a 45000\n",
      "2020-12-08 ============================================\n",
      "Feature 0 >>> area: 111.15 km^2, centroid: [-108.095, -72.918], similarity: 0.862\n",
      "Se aumento la distancia de busqueda a 45000\n",
      "2020-12-13 ============================================\n",
      "Feature 0 >>> area: 96.16 km^2, centroid: [-108.117, -72.769], similarity: 0.87\n",
      "Se aumento la distancia de busqueda a 45000\n",
      "Se aumento la distancia de busqueda a 45000\n",
      "Se aumento la distancia de busqueda a 45000\n",
      "2020-12-28 ============================================\n",
      "Feature 0 >>> area: 99.18 km^2, centroid: [-109.039, -72.619], similarity: 0.854\n",
      "Se aumento la distancia de busqueda a 45000\n",
      "2021-01-02 ============================================\n",
      "Feature 0 >>> area: 101.02 km^2, centroid: [-109.126, -72.6], similarity: 0.903\n",
      "Se aumento la distancia de busqueda a 45000\n",
      "2021-01-07 ============================================\n",
      "Feature 0 >>> area: 95.47 km^2, centroid: [-109.354, -72.608], similarity: 0.858\n",
      "Se aumento la distancia de busqueda a 45000\n",
      "2021-01-12 ============================================\n",
      "Feature 0 >>> area: 102.45 km^2, centroid: [-109.832, -72.643], similarity: 0.883\n",
      "Se aumento la distancia de busqueda a 45000\n",
      "2021-01-17 ============================================\n",
      "Se aumento la distancia de busqueda a 65000\n",
      "2021-01-22 ============================================\n",
      "Feature 0 >>> area: 98.93 km^2, centroid: [-110.317, -72.557], similarity: 0.865\n",
      "Se aumento la distancia de busqueda a 45000\n",
      "2021-01-27 ============================================\n",
      "Feature 0 >>> area: 99.0 km^2, centroid: [-110.502, -72.602], similarity: 0.87\n",
      "Se aumento la distancia de busqueda a 45000\n",
      "2021-02-01 ============================================\n",
      "Feature 0 >>> area: 103.05 km^2, centroid: [-110.443, -72.631], similarity: 0.86\n",
      "Feature 1 >>> area: 98.3 km^2, centroid: [-111.639, -72.674], similarity: 0.836\n",
      "Se aumento la distancia de busqueda a 45000\n",
      "2021-02-06 ============================================\n",
      "Feature 0 >>> area: 108.38 km^2, centroid: [-110.77, -72.621], similarity: 0.873\n",
      "Feature 1 >>> area: 86.45 km^2, centroid: [-111.619, -72.682], similarity: 0.796\n",
      "Se aumento la distancia de busqueda a 45000\n",
      "2021-02-11 ============================================\n",
      "Feature 0 >>> area: 99.09 km^2, centroid: [-111.404, -72.351], similarity: 0.756\n",
      "Se aumento la distancia de busqueda a 45000\n",
      "Se aumento la distancia de busqueda a 45000\n",
      "Se aumento la distancia de busqueda a 45000\n",
      "2021-02-26 ============================================\n",
      "Se aumento la distancia de busqueda a 65000\n",
      "2021-03-03 ============================================\n",
      "Feature 0 >>> area: 85.73 km^2, centroid: [-111.89, -72.594], similarity: 0.779\n",
      "Feature 1 >>> area: 97.89 km^2, centroid: [-112.175, -72.501], similarity: 0.837\n",
      "Se aumento la distancia de busqueda a 45000\n",
      "2021-03-08 ============================================\n",
      "Feature 0 >>> area: 98.82 km^2, centroid: [-112.178, -72.516], similarity: 0.834\n",
      "Se aumento la distancia de busqueda a 45000\n",
      "2021-03-13 ============================================\n",
      "Se aumento la distancia de busqueda a 65000\n",
      "2021-03-18 ============================================\n",
      "Feature 0 >>> area: 78.51 km^2, centroid: [-111.941, -72.565], similarity: 0.729\n",
      "Feature 1 >>> area: 99.22 km^2, centroid: [-112.308, -72.484], similarity: 0.872\n",
      "Se aumento la distancia de busqueda a 45000\n",
      "2021-03-23 ============================================\n",
      "Feature 0 >>> area: 86.65 km^2, centroid: [-111.636, -72.71], similarity: 0.418\n",
      "Se aumento la distancia de busqueda a 65000\n",
      "2021-03-28 ============================================\n",
      "Se aumento la distancia de busqueda a 85000\n",
      "2021-04-02 ============================================\n",
      "Feature 0 >>> area: 100.77 km^2, centroid: [-112.481, -72.471], similarity: 0.886\n",
      "Se aumento la distancia de busqueda a 45000\n",
      "2021-04-07 ============================================\n",
      "Feature 0 >>> area: 86.68 km^2, centroid: [-112.163, -72.559], similarity: 0.727\n",
      "Feature 1 >>> area: 95.88 km^2, centroid: [-112.446, -72.449], similarity: 0.818\n",
      "Se aumento la distancia de busqueda a 45000\n",
      "2021-04-12 ============================================\n",
      "Se aumento la distancia de busqueda a 65000\n",
      "Se aumento la distancia de busqueda a 85000\n",
      "Se aumento la distancia de busqueda a 105000\n",
      "2021-04-27 ============================================\n",
      "Feature 0 >>> area: 95.3 km^2, centroid: [-113.045, -72.334], similarity: 0.832\n",
      "Se aumento la distancia de busqueda a 45000\n",
      "2021-05-02 ============================================\n",
      "Feature 0 >>> area: 94.77 km^2, centroid: [-113.003, -72.333], similarity: 0.783\n",
      "Se aumento la distancia de busqueda a 45000\n",
      "2021-05-07 ============================================\n",
      "Feature 0 >>> area: 95.59 km^2, centroid: [-113.178, -72.334], similarity: 0.83\n",
      "Se aumento la distancia de busqueda a 45000\n",
      "2021-05-12 ============================================\n",
      "Feature 0 >>> area: 92.2 km^2, centroid: [-113.172, -72.247], similarity: 0.802\n",
      "Se aumento la distancia de busqueda a 45000\n",
      "Se aumento la distancia de busqueda a 45000\n",
      "Se aumento la distancia de busqueda a 45000\n"
     ]
    },
    {
     "data": {
      "image/png": "[encoded data removed]",
      "text/plain": [
       "<Figure size 1000x500 with 1 Axes>"
      ]
     },
     "metadata": {},
     "output_type": "display_data"
    }
   ],
   "source": [
    "startdate = \"2020-11-23\"; enddate = \"2020-11-24\"\n",
    "center = [-107.79560517456291, -73.23605789872016]\n",
    "\n",
    "vectorscale = 40\n",
    "\n",
    "fig = plt.subplots(figsize = (10, 5))\n",
    "plt.plot(hist1['reference'][1][:-1], hist1['reference'][0], label = \"reference\", color = \"k\", linestyle = \"--\")\n",
    "\n",
    "for day in day_range:\n",
    "    \n",
    "    month = dt.datetime.strptime(startdate, \"%Y-%m-%d\").month\n",
    "    band = [\"HH\", \"angle\"]  # intersted band\n",
    "    \n",
    "    aoi = ee.Geometry.Point(center).buffer(buf_dist)\n",
    "\n",
    "    # Utilizamos las imagenes HH de Sentinel-1\n",
    "    S1A = ee.ImageCollection(\"COPERNICUS/S1_GRD\")\\\n",
    "    .filterDate(startdate, enddate)\\\n",
    "    .filterBounds(aoi)\\\n",
    "    .filter(ee.Filter.listContains('transmitterReceiverPolarisation', \"HH\"))\n",
    "    \n",
    "    if S1A.size().getInfo() > 0:\n",
    "        imageA = S1A.select(band).mean().clip(aoi) # clip image into ROI\n",
    "\n",
    "        seeds = ee.Algorithms.Image.Segmentation.seedGrid(80);\n",
    "        \n",
    "        # Gaussian kernel to softening the image (remove some salt and pepper noise)\n",
    "        kernel = ee.Kernel.gaussian(3)\n",
    "        img1 = imageA.convolve(kernel)\n",
    "        img = img1.select(['HH', 'angle'], ['HH', 'angle'])\n",
    "        \n",
    "        \n",
    "        \n",
    "        # segmentamos la imagen con SNIC\n",
    "        # size = 20, compactness= 5, connectivity= 8, neighborhoodSize = 256\n",
    "        snic = ee.Algorithms.Image.Segmentation.SNIC(img, 20, 5, 8, 256, seeds)\\\n",
    "        .select([\"HH_mean\", \"angle_mean\", \"clusters\"], [\"HH\", \"angle\", \"clusters\"])\n",
    "        \n",
    "        segments = snic.select(\"clusters\").reduceToVectors(\n",
    "            geometry = snic.geometry(),\n",
    "            scale = vectorscale,\n",
    "            geometryType = 'polygon',            \n",
    "            maxPixels = 1e20\n",
    "        )     \n",
    "        \n",
    "        segimageA = segments.reduceToImage(\n",
    "            properties = ['label'],\n",
    "            reducer = ee.Reducer.first()\n",
    "        ).rename('id')       \n",
    "\n",
    "        # dividimos los valores HH por los valores de la banda angle para mejorar el contraste entre los icebergs y el mar abierto o el hielo circundante.\n",
    "        ratio = snic.select(\"HH\").divide(snic.select(\"angle\"))\n",
    "        # mantenemos solo los valores mayores que -0.2 (icebergs)\n",
    "        icebergs = ratio.gt(-0.2).selfMask()     \n",
    "        \n",
    "        # convertimos los iceberg raster a vectores\n",
    "        vectors = icebergs.reduceToVectors(\n",
    "            geometry = icebergs.geometry(),\n",
    "            scale = vectorscale,\n",
    "            geometryType = 'polygon',            \n",
    "            maxPixels = 1e20)\n",
    "\n",
    "        # permitimos un margen de error del 20% en el area de los icebergs respecto al iceberg objetivo\n",
    "        area_max = area0 * 1.2\n",
    "        area_min = area0 * 0.8\n",
    "        # obtenemos el area y el centroide de los icebergs\n",
    "        areaAdded = vectors.map(addArea)\n",
    "        # filtramos los icebergs que tienen un area entre el 80% y el 120% del area objetivo\n",
    "        target = areaAdded.filter(ee.Filter.gt('area', area_min)).filter(ee.Filter.lt('area', area_max))\n",
    "        \n",
    "        num = target.size().getInfo()\n",
    "        features = target.getInfo()['features']\n",
    "        \n",
    "        print(startdate + \" ============================================\")\n",
    "        threshold = 0.7\n",
    "        find = False\n",
    "        candidates = []\n",
    "        \n",
    "        for k in range(0, num): # if there is a valid iceberg\n",
    "            \n",
    "            area = features[k]['properties']['area']\n",
    "            centroid = features[k]['properties']['centroid']['coordinates']\n",
    "            polygon = ee.FeatureCollection(ee.Geometry.Polygon(features[k]['geometry']['coordinates'][0]))\n",
    "            sources = ee.Image().toByte().paint(ee.Geometry.Point(centroid), 1)\n",
    "            covers = snic.select('HH').multiply(0).add(1)\n",
    "\n",
    "            cumCost = covers.cumulativeCost(\n",
    "                source = sources,\n",
    "                maxDistance = 30000,\n",
    "                geodeticDistance = True\n",
    "            ).clip(polygon)\n",
    "\n",
    "            result = cumCost.reduceRegion(ee.Reducer.toList(), polygon, scale = 200)\n",
    "            cumdist = result.getInfo()['cumulative_cost']\n",
    "            B = np.histogram(cumdist, int(max_pix/scale), [0, max_pix])  \n",
    "            \n",
    "            diff = abs(hist1['reference'][0] - B[0])\n",
    "            similarity = 1-np.sum(diff)/np.sum(hist1['reference'][0])          \n",
    "            \n",
    "            print(\"Feature {0} >>> area: {1} km^2, centroid: [{2}, {3}], similarity: {4}\".format(\n",
    "                k, round(area/1e6,2), round(centroid[0],3), round(centroid[1], 3), round(similarity, 3)\n",
    "            ))                       \n",
    "            \n",
    "            if similarity >= threshold: \n",
    "                threshold = similarity\n",
    "                find = True\n",
    "                candidates.append((startdate, similarity, area, centroid, polygon, sources, covers, B))\n",
    "    \n",
    "    if find == True:\n",
    "        startdate = candidates[-1][0]\n",
    "        similarity = candidates[-1][1]\n",
    "        area = candidates[-1][2]\n",
    "        centroid = candidates[-1][3]\n",
    "        polygon = candidates[-1][4]\n",
    "        sources = candidates[-1][5]\n",
    "        covers = candidates[-1][6]\n",
    "        B = candidates[-1][7]\n",
    "        df_iceberg.loc[len(df_iceberg.index)] = [startdate, similarity, area, centroid, polygon, sources, covers]\n",
    "\n",
    "        ice_area[startdate] = area\n",
    "        ice_centroid[startdate] = centroid\n",
    "        hist1[startdate] = B \n",
    "        plt.plot(B[1][:-1], B[0], label = startdate + \"_\" + str(k))\n",
    "                  \n",
    "        threshold = similarity\n",
    "                \n",
    "        center = centroid\n",
    "        buf_dist = 25000\n",
    "            \n",
    "            # (startdate == \"2020-07-01\")\n",
    "    if (buf_dist > 250000): \n",
    "        print(\"!!! STOP !!! buffer {0} km ( {1} )\".format(buf_dist, startdate))\n",
    "        break\n",
    "    \n",
    "    buf_dist += 20000\n",
    "    if buf_dist >= 35000:\n",
    "        print(f'Se aumento la distancia de busqueda a {buf_dist}')\n",
    "    startdate = (dt.datetime.strptime(enddate, \"%Y-%m-%d\") + dt.timedelta(days=4)).strftime(\"%Y-%m-%d\") # Cada 5 dias\n",
    "    enddate = (dt.datetime.strptime(enddate, \"%Y-%m-%d\") + dt.timedelta(days=5)).strftime(\"%Y-%m-%d\")"
   ]
  },
  {
   "cell_type": "markdown",
   "metadata": {},
   "source": [
    "-2021-09-16\t"
   ]
  },
  {
   "cell_type": "code",
   "execution_count": 71,
   "metadata": {},
   "outputs": [
    {
     "data": {
      "text/html": [
       "\n",
       "            <style>\n",
       "                .geemap-dark {\n",
       "                    --jp-widgets-color: white;\n",
       "                    --jp-widgets-label-color: white;\n",
       "                    --jp-ui-font-color1: white;\n",
       "                    --jp-layout-color2: #454545;\n",
       "                    background-color: #383838;\n",
       "                }\n",
       "\n",
       "                .geemap-dark .jupyter-button {\n",
       "                    --jp-layout-color3: #383838;\n",
       "                }\n",
       "\n",
       "                .geemap-colab {\n",
       "                    background-color: var(--colab-primary-surface-color, white);\n",
       "                }\n",
       "\n",
       "                .geemap-colab .jupyter-button {\n",
       "                    --jp-layout-color3: var(--colab-primary-surface-color, white);\n",
       "                }\n",
       "            </style>\n",
       "            "
      ],
      "text/plain": [
       "<IPython.core.display.HTML object>"
      ]
     },
     "metadata": {},
     "output_type": "display_data"
    },
    {
     "data": {
      "text/html": [
       "<div>\n",
       "<style scoped>\n",
       "    .dataframe tbody tr th:only-of-type {\n",
       "        vertical-align: middle;\n",
       "    }\n",
       "\n",
       "    .dataframe tbody tr th {\n",
       "        vertical-align: top;\n",
       "    }\n",
       "\n",
       "    .dataframe thead th {\n",
       "        text-align: right;\n",
       "    }\n",
       "</style>\n",
       "<table border=\"1\" class=\"dataframe\">\n",
       "  <thead>\n",
       "    <tr style=\"text-align: right;\">\n",
       "      <th></th>\n",
       "      <th>fecha</th>\n",
       "      <th>similaridad</th>\n",
       "      <th>area</th>\n",
       "      <th>centroide</th>\n",
       "      <th>poligono</th>\n",
       "      <th>source</th>\n",
       "      <th>covers</th>\n",
       "    </tr>\n",
       "  </thead>\n",
       "  <tbody>\n",
       "    <tr>\n",
       "      <th>0</th>\n",
       "      <td>2020-06-01</td>\n",
       "      <td>0.853959</td>\n",
       "      <td>1.011406e+08</td>\n",
       "      <td>[-105.85692458022025, -74.4847173305595]</td>\n",
       "      <td>ee.FeatureCollection({\\n  \"functionInvocationV...</td>\n",
       "      <td>ee.Image({\\n  \"functionInvocationValue\": {\\n  ...</td>\n",
       "      <td>ee.Image({\\n  \"functionInvocationValue\": {\\n  ...</td>\n",
       "    </tr>\n",
       "    <tr>\n",
       "      <th>1</th>\n",
       "      <td>2020-06-06</td>\n",
       "      <td>0.890917</td>\n",
       "      <td>1.049709e+08</td>\n",
       "      <td>[-105.9198679208885, -74.44201168227734]</td>\n",
       "      <td>ee.FeatureCollection({\\n  \"functionInvocationV...</td>\n",
       "      <td>ee.Image({\\n  \"functionInvocationValue\": {\\n  ...</td>\n",
       "      <td>ee.Image({\\n  \"functionInvocationValue\": {\\n  ...</td>\n",
       "    </tr>\n",
       "    <tr>\n",
       "      <th>2</th>\n",
       "      <td>2020-06-11</td>\n",
       "      <td>0.914884</td>\n",
       "      <td>1.001686e+08</td>\n",
       "      <td>[-106.17683309386793, -74.34499706400955]</td>\n",
       "      <td>ee.FeatureCollection({\\n  \"functionInvocationV...</td>\n",
       "      <td>ee.Image({\\n  \"functionInvocationValue\": {\\n  ...</td>\n",
       "      <td>ee.Image({\\n  \"functionInvocationValue\": {\\n  ...</td>\n",
       "    </tr>\n",
       "    <tr>\n",
       "      <th>3</th>\n",
       "      <td>2020-06-16</td>\n",
       "      <td>0.952962</td>\n",
       "      <td>9.852995e+07</td>\n",
       "      <td>[-105.33165233951375, -74.40811010064519]</td>\n",
       "      <td>ee.FeatureCollection({\\n  \"functionInvocationV...</td>\n",
       "      <td>ee.Image({\\n  \"functionInvocationValue\": {\\n  ...</td>\n",
       "      <td>ee.Image({\\n  \"functionInvocationValue\": {\\n  ...</td>\n",
       "    </tr>\n",
       "    <tr>\n",
       "      <th>4</th>\n",
       "      <td>2020-06-16</td>\n",
       "      <td>0.952962</td>\n",
       "      <td>9.852995e+07</td>\n",
       "      <td>[-105.33165233951375, -74.40811010064519]</td>\n",
       "      <td>ee.FeatureCollection({\\n  \"functionInvocationV...</td>\n",
       "      <td>ee.Image({\\n  \"functionInvocationValue\": {\\n  ...</td>\n",
       "      <td>ee.Image({\\n  \"functionInvocationValue\": {\\n  ...</td>\n",
       "    </tr>\n",
       "    <tr>\n",
       "      <th>...</th>\n",
       "      <td>...</td>\n",
       "      <td>...</td>\n",
       "      <td>...</td>\n",
       "      <td>...</td>\n",
       "      <td>...</td>\n",
       "      <td>...</td>\n",
       "      <td>...</td>\n",
       "    </tr>\n",
       "    <tr>\n",
       "      <th>59</th>\n",
       "      <td>2021-05-02</td>\n",
       "      <td>0.782506</td>\n",
       "      <td>9.477398e+07</td>\n",
       "      <td>[-113.00345675402097, -72.33341727049034]</td>\n",
       "      <td>ee.FeatureCollection({\\n  \"functionInvocationV...</td>\n",
       "      <td>ee.Image({\\n  \"functionInvocationValue\": {\\n  ...</td>\n",
       "      <td>ee.Image({\\n  \"functionInvocationValue\": {\\n  ...</td>\n",
       "    </tr>\n",
       "    <tr>\n",
       "      <th>60</th>\n",
       "      <td>2021-05-07</td>\n",
       "      <td>0.829768</td>\n",
       "      <td>9.558847e+07</td>\n",
       "      <td>[-113.17839911855751, -72.33378301757487]</td>\n",
       "      <td>ee.FeatureCollection({\\n  \"functionInvocationV...</td>\n",
       "      <td>ee.Image({\\n  \"functionInvocationValue\": {\\n  ...</td>\n",
       "      <td>ee.Image({\\n  \"functionInvocationValue\": {\\n  ...</td>\n",
       "    </tr>\n",
       "    <tr>\n",
       "      <th>61</th>\n",
       "      <td>2021-05-12</td>\n",
       "      <td>0.801658</td>\n",
       "      <td>9.220334e+07</td>\n",
       "      <td>[-113.1720956079102, -72.24707758654496]</td>\n",
       "      <td>ee.FeatureCollection({\\n  \"functionInvocationV...</td>\n",
       "      <td>ee.Image({\\n  \"functionInvocationValue\": {\\n  ...</td>\n",
       "      <td>ee.Image({\\n  \"functionInvocationValue\": {\\n  ...</td>\n",
       "    </tr>\n",
       "    <tr>\n",
       "      <th>62</th>\n",
       "      <td>2021-05-12</td>\n",
       "      <td>0.801658</td>\n",
       "      <td>9.220334e+07</td>\n",
       "      <td>[-113.1720956079102, -72.24707758654496]</td>\n",
       "      <td>ee.FeatureCollection({\\n  \"functionInvocationV...</td>\n",
       "      <td>ee.Image({\\n  \"functionInvocationValue\": {\\n  ...</td>\n",
       "      <td>ee.Image({\\n  \"functionInvocationValue\": {\\n  ...</td>\n",
       "    </tr>\n",
       "    <tr>\n",
       "      <th>63</th>\n",
       "      <td>2021-05-12</td>\n",
       "      <td>0.801658</td>\n",
       "      <td>9.220334e+07</td>\n",
       "      <td>[-113.1720956079102, -72.24707758654496]</td>\n",
       "      <td>ee.FeatureCollection({\\n  \"functionInvocationV...</td>\n",
       "      <td>ee.Image({\\n  \"functionInvocationValue\": {\\n  ...</td>\n",
       "      <td>ee.Image({\\n  \"functionInvocationValue\": {\\n  ...</td>\n",
       "    </tr>\n",
       "  </tbody>\n",
       "</table>\n",
       "<p>64 rows × 7 columns</p>\n",
       "</div>"
      ],
      "text/plain": [
       "         fecha  similaridad          area  \\\n",
       "0   2020-06-01     0.853959  1.011406e+08   \n",
       "1   2020-06-06     0.890917  1.049709e+08   \n",
       "2   2020-06-11     0.914884  1.001686e+08   \n",
       "3   2020-06-16     0.952962  9.852995e+07   \n",
       "4   2020-06-16     0.952962  9.852995e+07   \n",
       "..         ...          ...           ...   \n",
       "59  2021-05-02     0.782506  9.477398e+07   \n",
       "60  2021-05-07     0.829768  9.558847e+07   \n",
       "61  2021-05-12     0.801658  9.220334e+07   \n",
       "62  2021-05-12     0.801658  9.220334e+07   \n",
       "63  2021-05-12     0.801658  9.220334e+07   \n",
       "\n",
       "                                    centroide  \\\n",
       "0    [-105.85692458022025, -74.4847173305595]   \n",
       "1    [-105.9198679208885, -74.44201168227734]   \n",
       "2   [-106.17683309386793, -74.34499706400955]   \n",
       "3   [-105.33165233951375, -74.40811010064519]   \n",
       "4   [-105.33165233951375, -74.40811010064519]   \n",
       "..                                        ...   \n",
       "59  [-113.00345675402097, -72.33341727049034]   \n",
       "60  [-113.17839911855751, -72.33378301757487]   \n",
       "61   [-113.1720956079102, -72.24707758654496]   \n",
       "62   [-113.1720956079102, -72.24707758654496]   \n",
       "63   [-113.1720956079102, -72.24707758654496]   \n",
       "\n",
       "                                             poligono  \\\n",
       "0   ee.FeatureCollection({\\n  \"functionInvocationV...   \n",
       "1   ee.FeatureCollection({\\n  \"functionInvocationV...   \n",
       "2   ee.FeatureCollection({\\n  \"functionInvocationV...   \n",
       "3   ee.FeatureCollection({\\n  \"functionInvocationV...   \n",
       "4   ee.FeatureCollection({\\n  \"functionInvocationV...   \n",
       "..                                                ...   \n",
       "59  ee.FeatureCollection({\\n  \"functionInvocationV...   \n",
       "60  ee.FeatureCollection({\\n  \"functionInvocationV...   \n",
       "61  ee.FeatureCollection({\\n  \"functionInvocationV...   \n",
       "62  ee.FeatureCollection({\\n  \"functionInvocationV...   \n",
       "63  ee.FeatureCollection({\\n  \"functionInvocationV...   \n",
       "\n",
       "                                               source  \\\n",
       "0   ee.Image({\\n  \"functionInvocationValue\": {\\n  ...   \n",
       "1   ee.Image({\\n  \"functionInvocationValue\": {\\n  ...   \n",
       "2   ee.Image({\\n  \"functionInvocationValue\": {\\n  ...   \n",
       "3   ee.Image({\\n  \"functionInvocationValue\": {\\n  ...   \n",
       "4   ee.Image({\\n  \"functionInvocationValue\": {\\n  ...   \n",
       "..                                                ...   \n",
       "59  ee.Image({\\n  \"functionInvocationValue\": {\\n  ...   \n",
       "60  ee.Image({\\n  \"functionInvocationValue\": {\\n  ...   \n",
       "61  ee.Image({\\n  \"functionInvocationValue\": {\\n  ...   \n",
       "62  ee.Image({\\n  \"functionInvocationValue\": {\\n  ...   \n",
       "63  ee.Image({\\n  \"functionInvocationValue\": {\\n  ...   \n",
       "\n",
       "                                               covers  \n",
       "0   ee.Image({\\n  \"functionInvocationValue\": {\\n  ...  \n",
       "1   ee.Image({\\n  \"functionInvocationValue\": {\\n  ...  \n",
       "2   ee.Image({\\n  \"functionInvocationValue\": {\\n  ...  \n",
       "3   ee.Image({\\n  \"functionInvocationValue\": {\\n  ...  \n",
       "4   ee.Image({\\n  \"functionInvocationValue\": {\\n  ...  \n",
       "..                                                ...  \n",
       "59  ee.Image({\\n  \"functionInvocationValue\": {\\n  ...  \n",
       "60  ee.Image({\\n  \"functionInvocationValue\": {\\n  ...  \n",
       "61  ee.Image({\\n  \"functionInvocationValue\": {\\n  ...  \n",
       "62  ee.Image({\\n  \"functionInvocationValue\": {\\n  ...  \n",
       "63  ee.Image({\\n  \"functionInvocationValue\": {\\n  ...  \n",
       "\n",
       "[64 rows x 7 columns]"
      ]
     },
     "execution_count": 71,
     "metadata": {},
     "output_type": "execute_result"
    }
   ],
   "source": [
    "df_iceberg"
   ]
  },
  {
   "cell_type": "code",
   "execution_count": 72,
   "metadata": {},
   "outputs": [
    {
     "data": {
      "text/html": [
       "\n",
       "            <style>\n",
       "                .geemap-dark {\n",
       "                    --jp-widgets-color: white;\n",
       "                    --jp-widgets-label-color: white;\n",
       "                    --jp-ui-font-color1: white;\n",
       "                    --jp-layout-color2: #454545;\n",
       "                    background-color: #383838;\n",
       "                }\n",
       "\n",
       "                .geemap-dark .jupyter-button {\n",
       "                    --jp-layout-color3: #383838;\n",
       "                }\n",
       "\n",
       "                .geemap-colab {\n",
       "                    background-color: var(--colab-primary-surface-color, white);\n",
       "                }\n",
       "\n",
       "                .geemap-colab .jupyter-button {\n",
       "                    --jp-layout-color3: var(--colab-primary-surface-color, white);\n",
       "                }\n",
       "            </style>\n",
       "            "
      ],
      "text/plain": [
       "<IPython.core.display.HTML object>"
      ]
     },
     "metadata": {},
     "output_type": "display_data"
    }
   ],
   "source": [
    "df_iceberg.to_csv('0004_06_01__05_12.csv', index=False, sep='&')"
   ]
  },
  {
   "cell_type": "code",
   "execution_count": 67,
   "metadata": {},
   "outputs": [
    {
     "data": {
      "text/html": [
       "\n",
       "            <style>\n",
       "                .geemap-dark {\n",
       "                    --jp-widgets-color: white;\n",
       "                    --jp-widgets-label-color: white;\n",
       "                    --jp-ui-font-color1: white;\n",
       "                    --jp-layout-color2: #454545;\n",
       "                    background-color: #383838;\n",
       "                }\n",
       "\n",
       "                .geemap-dark .jupyter-button {\n",
       "                    --jp-layout-color3: #383838;\n",
       "                }\n",
       "\n",
       "                .geemap-colab {\n",
       "                    background-color: var(--colab-primary-surface-color, white);\n",
       "                }\n",
       "\n",
       "                .geemap-colab .jupyter-button {\n",
       "                    --jp-layout-color3: var(--colab-primary-surface-color, white);\n",
       "                }\n",
       "            </style>\n",
       "            "
      ],
      "text/plain": [
       "<IPython.core.display.HTML object>"
      ]
     },
     "metadata": {},
     "output_type": "display_data"
    }
   ],
   "source": [
    "S1A = ee.ImageCollection(\"COPERNICUS/S1_GRD\")\\\n",
    ".filterDate(\"2021-05-12\", \"2021-05-13\")\\\n",
    ".filter(ee.Filter.listContains('transmitterReceiverPolarisation', \"HH\"))\n",
    "\n",
    "band = [\"HH\", \"angle\"]\n",
    "\n",
    "img = S1A.select(band).mean()"
   ]
  },
  {
   "cell_type": "code",
   "execution_count": 68,
   "metadata": {},
   "outputs": [
    {
     "data": {
      "text/html": [
       "\n",
       "            <style>\n",
       "                .geemap-dark {\n",
       "                    --jp-widgets-color: white;\n",
       "                    --jp-widgets-label-color: white;\n",
       "                    --jp-ui-font-color1: white;\n",
       "                    --jp-layout-color2: #454545;\n",
       "                    background-color: #383838;\n",
       "                }\n",
       "\n",
       "                .geemap-dark .jupyter-button {\n",
       "                    --jp-layout-color3: #383838;\n",
       "                }\n",
       "\n",
       "                .geemap-colab {\n",
       "                    background-color: var(--colab-primary-surface-color, white);\n",
       "                }\n",
       "\n",
       "                .geemap-colab .jupyter-button {\n",
       "                    --jp-layout-color3: var(--colab-primary-surface-color, white);\n",
       "                }\n",
       "            </style>\n",
       "            "
      ],
      "text/plain": [
       "<IPython.core.display.HTML object>"
      ]
     },
     "metadata": {},
     "output_type": "display_data"
    },
    {
     "data": {
      "application/vnd.jupyter.widget-view+json": {
       "model_id": "fa32e2fc938f4937afcdac6ce931504f",
       "version_major": 2,
       "version_minor": 0
      },
      "text/plain": [
       "Map(center=[-72.24707758654496, -113.1720956079102], controls=(WidgetControl(options=['position', 'transparent…"
      ]
     },
     "execution_count": 68,
     "metadata": {},
     "output_type": "execute_result"
    }
   ],
   "source": [
    "Map = geemap.Map(center= [centroid[1], centroid[0]], zoom = 10)\n",
    "vis_seg = {'bands': [\"HH\"], 'min': -30, 'max': 0}\n",
    "Map.addLayer(img, vis_seg, 'sat')\n",
    "\n",
    "polygon_style = {'color': 'red', 'fillColor': 'red', 'fillOpacity': 0.5}\n",
    "point_style = {'color': 'blue', 'pointSize': 5}\n",
    "for i, row in df_iceberg.iterrows():\n",
    "    variable = row.poligono\n",
    "    Map.addLayer(variable, polygon_style, f'ice{i}')\n",
    "    centroide_ee = ee.Geometry.Point(row['centroide'])\n",
    "    Map.addLayer(centroide_ee, point_style, f'cent-ice{i}')\n",
    "\n",
    "Map.addLayerControl()\n",
    "Map"
   ]
  },
  {
   "cell_type": "code",
   "execution_count": 155,
   "metadata": {},
   "outputs": [
    {
     "data": {
      "text/html": [
       "\n",
       "            <style>\n",
       "                .geemap-dark {\n",
       "                    --jp-widgets-color: white;\n",
       "                    --jp-widgets-label-color: white;\n",
       "                    --jp-ui-font-color1: white;\n",
       "                    --jp-layout-color2: #454545;\n",
       "                    background-color: #383838;\n",
       "                }\n",
       "\n",
       "                .geemap-dark .jupyter-button {\n",
       "                    --jp-layout-color3: #383838;\n",
       "                }\n",
       "\n",
       "                .geemap-colab {\n",
       "                    background-color: var(--colab-primary-surface-color, white);\n",
       "                }\n",
       "\n",
       "                .geemap-colab .jupyter-button {\n",
       "                    --jp-layout-color3: var(--colab-primary-surface-color, white);\n",
       "                }\n",
       "            </style>\n",
       "            "
      ],
      "text/plain": [
       "<IPython.core.display.HTML object>"
      ]
     },
     "metadata": {},
     "output_type": "display_data"
    }
   ],
   "source": [
    "img = df_iceberg.iloc[20].source"
   ]
  },
  {
   "cell_type": "code",
   "execution_count": 139,
   "metadata": {},
   "outputs": [
    {
     "data": {
      "text/html": [
       "\n",
       "            <style>\n",
       "                .geemap-dark {\n",
       "                    --jp-widgets-color: white;\n",
       "                    --jp-widgets-label-color: white;\n",
       "                    --jp-ui-font-color1: white;\n",
       "                    --jp-layout-color2: #454545;\n",
       "                    background-color: #383838;\n",
       "                }\n",
       "\n",
       "                .geemap-dark .jupyter-button {\n",
       "                    --jp-layout-color3: #383838;\n",
       "                }\n",
       "\n",
       "                .geemap-colab {\n",
       "                    background-color: var(--colab-primary-surface-color, white);\n",
       "                }\n",
       "\n",
       "                .geemap-colab .jupyter-button {\n",
       "                    --jp-layout-color3: var(--colab-primary-surface-color, white);\n",
       "                }\n",
       "            </style>\n",
       "            "
      ],
      "text/plain": [
       "<IPython.core.display.HTML object>"
      ]
     },
     "metadata": {},
     "output_type": "display_data"
    }
   ],
   "source": [
    "import math\n",
    "def calcular_distancia(lat1, lon1, lat2, lon2):\n",
    "    # Convertir grados a radianes\n",
    "    lat1_rad = math.radians(lat1)\n",
    "    lon1_rad = math.radians(lon1)\n",
    "    lat2_rad = math.radians(lat2)\n",
    "    lon2_rad = math.radians(lon2)\n",
    "    \n",
    "    # Radio de la Tierra en metros\n",
    "    R = 6371000\n",
    "    \n",
    "    # Diferencias de coordenadas\n",
    "    delta_lat = lat2_rad - lat1_rad\n",
    "    delta_lon = lon2_rad - lon1_rad\n",
    "    \n",
    "    # Fórmula de Haversine\n",
    "    a = math.sin(delta_lat / 2)**2 + math.cos(lat1_rad) * math.cos(lat2_rad) * math.sin(delta_lon / 2)**2\n",
    "    c = 2 * math.atan2(math.sqrt(a), math.sqrt(1 - a))\n",
    "    \n",
    "    # Distancia\n",
    "    distancia = R * c\n",
    "    \n",
    "    return distancia"
   ]
  },
  {
   "cell_type": "code",
   "execution_count": 140,
   "metadata": {},
   "outputs": [
    {
     "data": {
      "text/html": [
       "\n",
       "            <style>\n",
       "                .geemap-dark {\n",
       "                    --jp-widgets-color: white;\n",
       "                    --jp-widgets-label-color: white;\n",
       "                    --jp-ui-font-color1: white;\n",
       "                    --jp-layout-color2: #454545;\n",
       "                    background-color: #383838;\n",
       "                }\n",
       "\n",
       "                .geemap-dark .jupyter-button {\n",
       "                    --jp-layout-color3: #383838;\n",
       "                }\n",
       "\n",
       "                .geemap-colab {\n",
       "                    background-color: var(--colab-primary-surface-color, white);\n",
       "                }\n",
       "\n",
       "                .geemap-colab .jupyter-button {\n",
       "                    --jp-layout-color3: var(--colab-primary-surface-color, white);\n",
       "                }\n",
       "            </style>\n",
       "            "
      ],
      "text/plain": [
       "<IPython.core.display.HTML object>"
      ]
     },
     "metadata": {},
     "output_type": "display_data"
    },
    {
     "name": "stdout",
     "output_type": "stream",
     "text": [
      "La distancia entre Madrid y Barcelona es de 19889.83 metros.\n"
     ]
    }
   ],
   "source": [
    "latitud1 = coords1[0]  # Madrid\n",
    "longitud1 = coords1[1]  # Madrid\n",
    "latitud2 = coords2[0]  # Barcelona\n",
    "longitud2 = coords2[1] # Barcelona\n",
    "\n",
    "distancia_metros = calcular_distancia(latitud1, longitud1, latitud2, longitud2)\n",
    "print(f\"La distancia entre Madrid y Barcelona es de {distancia_metros:.2f} metros.\")"
   ]
  }
 ],
 "metadata": {
  "kernelspec": {
   "display_name": "test",
   "language": "python",
   "name": "python3"
  },
  "language_info": {
   "codemirror_mode": {
    "name": "ipython",
    "version": 3
   },
   "file_extension": ".py",
   "mimetype": "text/x-python",
   "name": "python",
   "nbconvert_exporter": "python",
   "pygments_lexer": "ipython3",
   "version": "3.11.8"
  }
 },
 "nbformat": 4,
 "nbformat_minor": 2
}
