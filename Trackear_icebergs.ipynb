{
 "cells": [
  {
   "cell_type": "markdown",
   "metadata": {},
   "source": [
    "## Tracking de Icebergs"
   ]
  },
  {
   "cell_type": "code",
   "execution_count": 1,
   "metadata": {},
   "outputs": [],
   "source": [
    "import warnings\n",
    "warnings.filterwarnings('ignore')\n",
    "import numpy as np\n",
    "import pandas as pd\n",
    "import datetime as dt\n",
    "import matplotlib.pyplot as plt\n",
    "import geopandas as gpd\n",
    "from shapely.geometry import shape, mapping\n",
    "import json\n",
    "import geemap,ee\n",
    "import folium\n",
    "ee.Authenticate()\n",
    "ee.Initialize()"
   ]
  },
  {
   "cell_type": "markdown",
   "metadata": {},
   "source": [
    "- Primero definimos nuestro icebergs de interes\n",
    "\n",
    "Para este proceso, directamente en Google engine seleccionamos manualmente el icebreg de interes. Usando el siguiente codigo."
   ]
  },
  {
   "cell_type": "code",
   "execution_count": 2,
   "metadata": {},
   "outputs": [
    {
     "data": {
      "text/html": [
       "\n",
       "            <style>\n",
       "                .geemap-dark {\n",
       "                    --jp-widgets-color: white;\n",
       "                    --jp-widgets-label-color: white;\n",
       "                    --jp-ui-font-color1: white;\n",
       "                    --jp-layout-color2: #454545;\n",
       "                    background-color: #383838;\n",
       "                }\n",
       "\n",
       "                .geemap-dark .jupyter-button {\n",
       "                    --jp-layout-color3: #383838;\n",
       "                }\n",
       "\n",
       "                .geemap-colab {\n",
       "                    background-color: var(--colab-primary-surface-color, white);\n",
       "                }\n",
       "\n",
       "                .geemap-colab .jupyter-button {\n",
       "                    --jp-layout-color3: var(--colab-primary-surface-color, white);\n",
       "                }\n",
       "            </style>\n",
       "            "
      ],
      "text/plain": [
       "<IPython.core.display.HTML object>"
      ]
     },
     "metadata": {},
     "output_type": "display_data"
    }
   ],
   "source": [
    "# var roi = ee.Geometry.Polygon([\n",
    "#   [[-112, -72.7], [-112, -73.7], [-108.5, -73.7], [-108.5, -72.7], [-112, -72.7]]\n",
    "# ]);\n",
    "\n",
    "# var startdate = '2017-04-19' \n",
    "# var enddate = '2017-04-20' \n",
    "\n",
    "# var S1 = sentinel1\n",
    "#   // Filter to get images with VV and VH dual polarization.\n",
    "#   //.filter(ee.Filter.listContains('transmitterReceiverPolarisation', 'HH'))\n",
    "#   // Filter to get images collected in interferometric wide swath mode.\n",
    "#   .filterDate(startdate, enddate) \n",
    "#   // .filter(ee.Filter.lt('CLOUDY_PIXEL_PERCENTAGE', 50))\n",
    "#   .filterBounds(roi);\n",
    "  \n",
    "# print(S1)\n",
    "# var img = S1.select(\"HH\")\n",
    "\n",
    "# var visParams1 = {band: ['HH'], min: -30, max: 0};\n",
    "# // var visParams2 = {band: ['B4'], max: 10000, min: 0};\n",
    "\n",
    "# Map.addLayer(img, visParams1, 'S1');\n",
    "\n",
    "# Definimos \"geometry\" manualmente\n",
    "# var geometry = ee.FeatureCollection(geometry)\n",
    "# Export.table.toDrive(geometry, 'iceberg_' + startdate, 'users/kooala317/Iceberg_tracking')"
   ]
  },
  {
   "cell_type": "code",
   "execution_count": 26,
   "metadata": {},
   "outputs": [
    {
     "data": {
      "text/html": [
       "\n",
       "            <style>\n",
       "                .geemap-dark {\n",
       "                    --jp-widgets-color: white;\n",
       "                    --jp-widgets-label-color: white;\n",
       "                    --jp-ui-font-color1: white;\n",
       "                    --jp-layout-color2: #454545;\n",
       "                    background-color: #383838;\n",
       "                }\n",
       "\n",
       "                .geemap-dark .jupyter-button {\n",
       "                    --jp-layout-color3: #383838;\n",
       "                }\n",
       "\n",
       "                .geemap-colab {\n",
       "                    background-color: var(--colab-primary-surface-color, white);\n",
       "                }\n",
       "\n",
       "                .geemap-colab .jupyter-button {\n",
       "                    --jp-layout-color3: var(--colab-primary-surface-color, white);\n",
       "                }\n",
       "            </style>\n",
       "            "
      ],
      "text/plain": [
       "<IPython.core.display.HTML object>"
      ]
     },
     "metadata": {},
     "output_type": "display_data"
    }
   ],
   "source": [
    "df = pd.read_csv(\"iceberg_0005_2020-06-02.csv\")\n",
    "df['geometry'] = df['.geo'].apply(lambda x: shape(json.loads(x)))\n",
    "\n",
    "gdf = gpd.GeoDataFrame(df, geometry='geometry').set_crs('epsg:4326', inplace=True)"
   ]
  },
  {
   "cell_type": "code",
   "execution_count": 27,
   "metadata": {},
   "outputs": [
    {
     "data": {
      "text/html": [
       "\n",
       "            <style>\n",
       "                .geemap-dark {\n",
       "                    --jp-widgets-color: white;\n",
       "                    --jp-widgets-label-color: white;\n",
       "                    --jp-ui-font-color1: white;\n",
       "                    --jp-layout-color2: #454545;\n",
       "                    background-color: #383838;\n",
       "                }\n",
       "\n",
       "                .geemap-dark .jupyter-button {\n",
       "                    --jp-layout-color3: #383838;\n",
       "                }\n",
       "\n",
       "                .geemap-colab {\n",
       "                    background-color: var(--colab-primary-surface-color, white);\n",
       "                }\n",
       "\n",
       "                .geemap-colab .jupyter-button {\n",
       "                    --jp-layout-color3: var(--colab-primary-surface-color, white);\n",
       "                }\n",
       "            </style>\n",
       "            "
      ],
      "text/plain": [
       "<IPython.core.display.HTML object>"
      ]
     },
     "metadata": {},
     "output_type": "display_data"
    },
    {
     "data": {
      "text/plain": [
       "<Axes: >"
      ]
     },
     "execution_count": 27,
     "metadata": {},
     "output_type": "execute_result"
    },
    {
     "data": {
      "image/png": "[encoded data removed]",
      "text/plain": [
       "<Figure size 640x480 with 1 Axes>"
      ]
     },
     "metadata": {},
     "output_type": "display_data"
    }
   ],
   "source": [
    "gdf[\"geometry\"].plot()"
   ]
  },
  {
   "cell_type": "markdown",
   "metadata": {},
   "source": [
    "- Luego, haciendo comparativas de similitud, localizamos el mismo iceberg en una imagen posterior. (Con un cierto margen de error)"
   ]
  },
  {
   "cell_type": "markdown",
   "metadata": {},
   "source": [
    "#### 1. Pasamos nuestro archivo local a una Feature collection"
   ]
  },
  {
   "cell_type": "code",
   "execution_count": 28,
   "metadata": {},
   "outputs": [
    {
     "data": {
      "text/html": [
       "\n",
       "            <style>\n",
       "                .geemap-dark {\n",
       "                    --jp-widgets-color: white;\n",
       "                    --jp-widgets-label-color: white;\n",
       "                    --jp-ui-font-color1: white;\n",
       "                    --jp-layout-color2: #454545;\n",
       "                    background-color: #383838;\n",
       "                }\n",
       "\n",
       "                .geemap-dark .jupyter-button {\n",
       "                    --jp-layout-color3: #383838;\n",
       "                }\n",
       "\n",
       "                .geemap-colab {\n",
       "                    background-color: var(--colab-primary-surface-color, white);\n",
       "                }\n",
       "\n",
       "                .geemap-colab .jupyter-button {\n",
       "                    --jp-layout-color3: var(--colab-primary-surface-color, white);\n",
       "                }\n",
       "            </style>\n",
       "            "
      ],
      "text/plain": [
       "<IPython.core.display.HTML object>"
      ]
     },
     "metadata": {},
     "output_type": "display_data"
    }
   ],
   "source": [
    "gdf.columns = [col.replace('.', '_') for col in gdf.columns]\n",
    "\n",
    "# Verificamos que todas las columnas son strings\n",
    "for col in gdf.columns:\n",
    "    if col != 'geometry':\n",
    "        gdf[col] = gdf[col].astype(str)\n",
    "\n",
    "# Convertimos el GeoDataFrame a una lista de Features\n",
    "features = []\n",
    "for _, row in gdf.iterrows():\n",
    "    geom = ee.Geometry(mapping(row['geometry']))\n",
    "    feature = ee.Feature(geom, row.drop('geometry').to_dict())\n",
    "    features.append(feature)\n",
    "\n",
    "\n",
    "iceberg = ee.FeatureCollection(features)\n"
   ]
  },
  {
   "cell_type": "markdown",
   "metadata": {},
   "source": [
    "#### 2. Una vez obtenida la feature collection del iceberg, obtenemos las imagenes satelitales de esté.\n",
    "\n",
    "https://developers.google.com/earth-engine/datasets/catalog/COPERNICUS_S1_GRD"
   ]
  },
  {
   "cell_type": "code",
   "execution_count": 29,
   "metadata": {},
   "outputs": [
    {
     "data": {
      "text/html": [
       "\n",
       "            <style>\n",
       "                .geemap-dark {\n",
       "                    --jp-widgets-color: white;\n",
       "                    --jp-widgets-label-color: white;\n",
       "                    --jp-ui-font-color1: white;\n",
       "                    --jp-layout-color2: #454545;\n",
       "                    background-color: #383838;\n",
       "                }\n",
       "\n",
       "                .geemap-dark .jupyter-button {\n",
       "                    --jp-layout-color3: #383838;\n",
       "                }\n",
       "\n",
       "                .geemap-colab {\n",
       "                    background-color: var(--colab-primary-surface-color, white);\n",
       "                }\n",
       "\n",
       "                .geemap-colab .jupyter-button {\n",
       "                    --jp-layout-color3: var(--colab-primary-surface-color, white);\n",
       "                }\n",
       "            </style>\n",
       "            "
      ],
      "text/plain": [
       "<IPython.core.display.HTML object>"
      ]
     },
     "metadata": {},
     "output_type": "display_data"
    }
   ],
   "source": [
    "fecha_inicio = '2020-06-01'\n",
    "fecha_fin = '2020-06-03'"
   ]
  },
  {
   "cell_type": "code",
   "execution_count": 30,
   "metadata": {},
   "outputs": [
    {
     "data": {
      "text/html": [
       "\n",
       "            <style>\n",
       "                .geemap-dark {\n",
       "                    --jp-widgets-color: white;\n",
       "                    --jp-widgets-label-color: white;\n",
       "                    --jp-ui-font-color1: white;\n",
       "                    --jp-layout-color2: #454545;\n",
       "                    background-color: #383838;\n",
       "                }\n",
       "\n",
       "                .geemap-dark .jupyter-button {\n",
       "                    --jp-layout-color3: #383838;\n",
       "                }\n",
       "\n",
       "                .geemap-colab {\n",
       "                    background-color: var(--colab-primary-surface-color, white);\n",
       "                }\n",
       "\n",
       "                .geemap-colab .jupyter-button {\n",
       "                    --jp-layout-color3: var(--colab-primary-surface-color, white);\n",
       "                }\n",
       "            </style>\n",
       "            "
      ],
      "text/plain": [
       "<IPython.core.display.HTML object>"
      ]
     },
     "metadata": {},
     "output_type": "display_data"
    }
   ],
   "source": [
    "S1A = ee.ImageCollection(\"COPERNICUS/S1_GRD\")\\\n",
    ".filterDate(fecha_inicio, fecha_fin)\\\n",
    ".filterBounds(iceberg)\\\n",
    ".filter(ee.Filter.listContains('transmitterReceiverPolarisation', \"HH\"))\n",
    "\n",
    "band = [\"HH\", \"angle\"]\n",
    "\n",
    "img = S1A.select(band).mean().clip(iceberg) "
   ]
  },
  {
   "cell_type": "markdown",
   "metadata": {},
   "source": [
    "#### 3. Planteamos una forma de identificar el iceberg. Esta forma requiere calcular cómo varía la distancia desde el centroide hacia los bordes del iceberg. Para ello:"
   ]
  },
  {
   "cell_type": "markdown",
   "metadata": {},
   "source": [
    "- Definimos una capa de cobertura del iceberg, la cual vale 1 siempre que se abarca el iceberg."
   ]
  },
  {
   "cell_type": "code",
   "execution_count": 31,
   "metadata": {},
   "outputs": [
    {
     "data": {
      "text/html": [
       "\n",
       "            <style>\n",
       "                .geemap-dark {\n",
       "                    --jp-widgets-color: white;\n",
       "                    --jp-widgets-label-color: white;\n",
       "                    --jp-ui-font-color1: white;\n",
       "                    --jp-layout-color2: #454545;\n",
       "                    background-color: #383838;\n",
       "                }\n",
       "\n",
       "                .geemap-dark .jupyter-button {\n",
       "                    --jp-layout-color3: #383838;\n",
       "                }\n",
       "\n",
       "                .geemap-colab {\n",
       "                    background-color: var(--colab-primary-surface-color, white);\n",
       "                }\n",
       "\n",
       "                .geemap-colab .jupyter-button {\n",
       "                    --jp-layout-color3: var(--colab-primary-surface-color, white);\n",
       "                }\n",
       "            </style>\n",
       "            "
      ],
      "text/plain": [
       "<IPython.core.display.HTML object>"
      ]
     },
     "metadata": {},
     "output_type": "display_data"
    }
   ],
   "source": [
    "cover = img.select('HH').clip(iceberg).multiply(0).add(1)\n",
    "cover = cover.addBands(ee.Image.pixelLonLat())"
   ]
  },
  {
   "cell_type": "markdown",
   "metadata": {},
   "source": [
    "- Definimos una Imagen que vale 1 en el centroide del Iceberg."
   ]
  },
  {
   "cell_type": "code",
   "execution_count": 32,
   "metadata": {},
   "outputs": [
    {
     "data": {
      "text/html": [
       "\n",
       "            <style>\n",
       "                .geemap-dark {\n",
       "                    --jp-widgets-color: white;\n",
       "                    --jp-widgets-label-color: white;\n",
       "                    --jp-ui-font-color1: white;\n",
       "                    --jp-layout-color2: #454545;\n",
       "                    background-color: #383838;\n",
       "                }\n",
       "\n",
       "                .geemap-dark .jupyter-button {\n",
       "                    --jp-layout-color3: #383838;\n",
       "                }\n",
       "\n",
       "                .geemap-colab {\n",
       "                    background-color: var(--colab-primary-surface-color, white);\n",
       "                }\n",
       "\n",
       "                .geemap-colab .jupyter-button {\n",
       "                    --jp-layout-color3: var(--colab-primary-surface-color, white);\n",
       "                }\n",
       "            </style>\n",
       "            "
      ],
      "text/plain": [
       "<IPython.core.display.HTML object>"
      ]
     },
     "metadata": {},
     "output_type": "display_data"
    }
   ],
   "source": [
    "centroid = iceberg.geometry().centroid(10).getInfo()['coordinates']\n",
    "\n",
    "sources = ee.Image().toByte().paint(ee.Geometry.Point(centroid), 1)"
   ]
  },
  {
   "cell_type": "markdown",
   "metadata": {},
   "source": [
    "- Calculamos el costo acumulativo para recorrer la imagen desde el centroide del iceberg hasta los bordes del iceberg."
   ]
  },
  {
   "cell_type": "code",
   "execution_count": 33,
   "metadata": {},
   "outputs": [
    {
     "data": {
      "text/html": [
       "\n",
       "            <style>\n",
       "                .geemap-dark {\n",
       "                    --jp-widgets-color: white;\n",
       "                    --jp-widgets-label-color: white;\n",
       "                    --jp-ui-font-color1: white;\n",
       "                    --jp-layout-color2: #454545;\n",
       "                    background-color: #383838;\n",
       "                }\n",
       "\n",
       "                .geemap-dark .jupyter-button {\n",
       "                    --jp-layout-color3: #383838;\n",
       "                }\n",
       "\n",
       "                .geemap-colab {\n",
       "                    background-color: var(--colab-primary-surface-color, white);\n",
       "                }\n",
       "\n",
       "                .geemap-colab .jupyter-button {\n",
       "                    --jp-layout-color3: var(--colab-primary-surface-color, white);\n",
       "                }\n",
       "            </style>\n",
       "            "
      ],
      "text/plain": [
       "<IPython.core.display.HTML object>"
      ]
     },
     "metadata": {},
     "output_type": "display_data"
    }
   ],
   "source": [
    "cumulativeCost = cover.select('HH').cumulativeCost(\n",
    "    source = sources,\n",
    "    maxDistance = 30000,\n",
    "    geodeticDistance = True\n",
    ").clip(iceberg)\n",
    "\n",
    "result = cumulativeCost.reduceRegion(ee.Reducer.toList(), iceberg, scale=200, maxPixels=1e20)\n",
    "A = result.getInfo()['cumulative_cost'] "
   ]
  },
  {
   "cell_type": "markdown",
   "metadata": {},
   "source": [
    "- Calculamos un histograma de la distribucion de las distancias centroide-borde"
   ]
  },
  {
   "cell_type": "code",
   "execution_count": 34,
   "metadata": {},
   "outputs": [
    {
     "data": {
      "text/html": [
       "\n",
       "            <style>\n",
       "                .geemap-dark {\n",
       "                    --jp-widgets-color: white;\n",
       "                    --jp-widgets-label-color: white;\n",
       "                    --jp-ui-font-color1: white;\n",
       "                    --jp-layout-color2: #454545;\n",
       "                    background-color: #383838;\n",
       "                }\n",
       "\n",
       "                .geemap-dark .jupyter-button {\n",
       "                    --jp-layout-color3: #383838;\n",
       "                }\n",
       "\n",
       "                .geemap-colab {\n",
       "                    background-color: var(--colab-primary-surface-color, white);\n",
       "                }\n",
       "\n",
       "                .geemap-colab .jupyter-button {\n",
       "                    --jp-layout-color3: var(--colab-primary-surface-color, white);\n",
       "                }\n",
       "            </style>\n",
       "            "
      ],
      "text/plain": [
       "<IPython.core.display.HTML object>"
      ]
     },
     "metadata": {},
     "output_type": "display_data"
    },
    {
     "data": {
      "text/plain": [
       "Text(0, 0.5, 'N')"
      ]
     },
     "execution_count": 34,
     "metadata": {},
     "output_type": "execute_result"
    },
    {
     "data": {
      "image/png": "[encoded data removed]",
      "text/plain": [
       "<Figure size 600x200 with 1 Axes>"
      ]
     },
     "metadata": {},
     "output_type": "display_data"
    }
   ],
   "source": [
    "hist1 = {}\n",
    "\n",
    "scale = 200\n",
    "max_pix = 20000\n",
    "\n",
    "fig = plt.subplots(figsize = (6, 2), dpi = 100)\n",
    "hist1['reference'] = np.histogram(A, int(max_pix/scale), [0, max_pix])\n",
    "\n",
    "plt.plot(hist1['reference'][1][:-1], hist1['reference'][0], color = \"k\", linewidth = 2)\n",
    "plt.xlabel(\"Distance from the centroid (m)\", fontsize = 12)\n",
    "plt.ylabel(\"N\", fontsize = 12)"
   ]
  },
  {
   "cell_type": "markdown",
   "metadata": {},
   "source": [
    "- Obtenemos el area real del iceberg"
   ]
  },
  {
   "cell_type": "code",
   "execution_count": 35,
   "metadata": {},
   "outputs": [
    {
     "data": {
      "text/html": [
       "\n",
       "            <style>\n",
       "                .geemap-dark {\n",
       "                    --jp-widgets-color: white;\n",
       "                    --jp-widgets-label-color: white;\n",
       "                    --jp-ui-font-color1: white;\n",
       "                    --jp-layout-color2: #454545;\n",
       "                    background-color: #383838;\n",
       "                }\n",
       "\n",
       "                .geemap-dark .jupyter-button {\n",
       "                    --jp-layout-color3: #383838;\n",
       "                }\n",
       "\n",
       "                .geemap-colab {\n",
       "                    background-color: var(--colab-primary-surface-color, white);\n",
       "                }\n",
       "\n",
       "                .geemap-colab .jupyter-button {\n",
       "                    --jp-layout-color3: var(--colab-primary-surface-color, white);\n",
       "                }\n",
       "            </style>\n",
       "            "
      ],
      "text/plain": [
       "<IPython.core.display.HTML object>"
      ]
     },
     "metadata": {},
     "output_type": "display_data"
    },
    {
     "name": "stdout",
     "output_type": "stream",
     "text": [
      "41323578.479730785\n"
     ]
    }
   ],
   "source": [
    "area0 = iceberg.geometry().area(10).getInfo()\n",
    "print(area0)"
   ]
  },
  {
   "cell_type": "code",
   "execution_count": 36,
   "metadata": {},
   "outputs": [
    {
     "data": {
      "text/html": [
       "\n",
       "            <style>\n",
       "                .geemap-dark {\n",
       "                    --jp-widgets-color: white;\n",
       "                    --jp-widgets-label-color: white;\n",
       "                    --jp-ui-font-color1: white;\n",
       "                    --jp-layout-color2: #454545;\n",
       "                    background-color: #383838;\n",
       "                }\n",
       "\n",
       "                .geemap-dark .jupyter-button {\n",
       "                    --jp-layout-color3: #383838;\n",
       "                }\n",
       "\n",
       "                .geemap-colab {\n",
       "                    background-color: var(--colab-primary-surface-color, white);\n",
       "                }\n",
       "\n",
       "                .geemap-colab .jupyter-button {\n",
       "                    --jp-layout-color3: var(--colab-primary-surface-color, white);\n",
       "                }\n",
       "            </style>\n",
       "            "
      ],
      "text/plain": [
       "<IPython.core.display.HTML object>"
      ]
     },
     "metadata": {},
     "output_type": "display_data"
    },
    {
     "data": {
      "application/vnd.jupyter.widget-view+json": {
       "model_id": "951cabb63b9641a3b7354a30a3e71579",
       "version_major": 2,
       "version_minor": 0
      },
      "text/plain": [
       "Map(center=[-76.01826718657878, -159.47522377565502], controls=(WidgetControl(options=['position', 'transparen…"
      ]
     },
     "metadata": {},
     "output_type": "display_data"
    }
   ],
   "source": [
    "Map = geemap.Map(center= [centroid[1], centroid[0]], zoom = 10)\n",
    "visParams1 = {\"bands\": ['HH'], \"min\": -30, \"max\": 0}\n",
    "Map.addLayer(img, visParams1, 'S1')\n",
    "Map"
   ]
  },
  {
   "cell_type": "markdown",
   "metadata": {},
   "source": [
    "4. Ahora queremos Trackear nuestro iceberg en un lapso de tiempo usando lo anterior."
   ]
  },
  {
   "cell_type": "markdown",
   "metadata": {},
   "source": [
    "En cada iteración segmentaremos la zona objetivo usando snic eh identificaremos el iceberg de estudio usando lo anterior."
   ]
  },
  {
   "cell_type": "code",
   "execution_count": 37,
   "metadata": {},
   "outputs": [
    {
     "data": {
      "text/html": [
       "\n",
       "            <style>\n",
       "                .geemap-dark {\n",
       "                    --jp-widgets-color: white;\n",
       "                    --jp-widgets-label-color: white;\n",
       "                    --jp-ui-font-color1: white;\n",
       "                    --jp-layout-color2: #454545;\n",
       "                    background-color: #383838;\n",
       "                }\n",
       "\n",
       "                .geemap-dark .jupyter-button {\n",
       "                    --jp-layout-color3: #383838;\n",
       "                }\n",
       "\n",
       "                .geemap-colab {\n",
       "                    background-color: var(--colab-primary-surface-color, white);\n",
       "                }\n",
       "\n",
       "                .geemap-colab .jupyter-button {\n",
       "                    --jp-layout-color3: var(--colab-primary-surface-color, white);\n",
       "                }\n",
       "            </style>\n",
       "            "
      ],
      "text/plain": [
       "<IPython.core.display.HTML object>"
      ]
     },
     "metadata": {},
     "output_type": "display_data"
    }
   ],
   "source": [
    "ice_area = {}\n",
    "ice_centroid = {}\n",
    "mapid_seg = {}\n",
    "mapid_target = {}\n",
    "\n",
    "startdate = fecha_inicio; enddate = fecha_fin\n",
    "center = centroid\n",
    "\n",
    "buf_dist = 20000 # distancia desde el centroide para buscar icebergs\n",
    "\n",
    "# Map initialization (note: if you run this code, map is entirely initialized!)\n",
    "map1 = folium.Map(location=[center[1], center[0]], zoom_start=7, height=550,width=700)\n",
    "\n",
    "# color codes to visualize the iceberg geometry by time\n",
    "color_codes = ['red', 'chocolate', 'orange', 'yellow', 'olive', 'lime',\n",
    "               'green', 'teal', 'cyan', 'blue', 'navy', 'purple']\n"
   ]
  },
  {
   "cell_type": "markdown",
   "metadata": {},
   "source": [
    "Dias de estudio"
   ]
  },
  {
   "cell_type": "code",
   "execution_count": 38,
   "metadata": {},
   "outputs": [
    {
     "data": {
      "text/html": [
       "\n",
       "            <style>\n",
       "                .geemap-dark {\n",
       "                    --jp-widgets-color: white;\n",
       "                    --jp-widgets-label-color: white;\n",
       "                    --jp-ui-font-color1: white;\n",
       "                    --jp-layout-color2: #454545;\n",
       "                    background-color: #383838;\n",
       "                }\n",
       "\n",
       "                .geemap-dark .jupyter-button {\n",
       "                    --jp-layout-color3: #383838;\n",
       "                }\n",
       "\n",
       "                .geemap-colab {\n",
       "                    background-color: var(--colab-primary-surface-color, white);\n",
       "                }\n",
       "\n",
       "                .geemap-colab .jupyter-button {\n",
       "                    --jp-layout-color3: var(--colab-primary-surface-color, white);\n",
       "                }\n",
       "            </style>\n",
       "            "
      ],
      "text/plain": [
       "<IPython.core.display.HTML object>"
      ]
     },
     "metadata": {},
     "output_type": "display_data"
    }
   ],
   "source": [
    "# Cuantos dias queremos estudiar\n",
    "day_range = range(0, 50)"
   ]
  },
  {
   "cell_type": "markdown",
   "metadata": {},
   "source": [
    "Calculo Area de cada iceberg"
   ]
  },
  {
   "cell_type": "code",
   "execution_count": 39,
   "metadata": {},
   "outputs": [
    {
     "data": {
      "text/html": [
       "\n",
       "            <style>\n",
       "                .geemap-dark {\n",
       "                    --jp-widgets-color: white;\n",
       "                    --jp-widgets-label-color: white;\n",
       "                    --jp-ui-font-color1: white;\n",
       "                    --jp-layout-color2: #454545;\n",
       "                    background-color: #383838;\n",
       "                }\n",
       "\n",
       "                .geemap-dark .jupyter-button {\n",
       "                    --jp-layout-color3: #383838;\n",
       "                }\n",
       "\n",
       "                .geemap-colab {\n",
       "                    background-color: var(--colab-primary-surface-color, white);\n",
       "                }\n",
       "\n",
       "                .geemap-colab .jupyter-button {\n",
       "                    --jp-layout-color3: var(--colab-primary-surface-color, white);\n",
       "                }\n",
       "            </style>\n",
       "            "
      ],
      "text/plain": [
       "<IPython.core.display.HTML object>"
      ]
     },
     "metadata": {},
     "output_type": "display_data"
    }
   ],
   "source": [
    "#decidir si mantener o no el parametro maxError=10\n",
    "def addArea(feature):\n",
    "    return feature.set({\"area\": feature.geometry().area(10), \"centroid\": feature.geometry().centroid(10)})"
   ]
  },
  {
   "cell_type": "code",
   "execution_count": 40,
   "metadata": {},
   "outputs": [
    {
     "data": {
      "text/html": [
       "\n",
       "            <style>\n",
       "                .geemap-dark {\n",
       "                    --jp-widgets-color: white;\n",
       "                    --jp-widgets-label-color: white;\n",
       "                    --jp-ui-font-color1: white;\n",
       "                    --jp-layout-color2: #454545;\n",
       "                    background-color: #383838;\n",
       "                }\n",
       "\n",
       "                .geemap-dark .jupyter-button {\n",
       "                    --jp-layout-color3: #383838;\n",
       "                }\n",
       "\n",
       "                .geemap-colab {\n",
       "                    background-color: var(--colab-primary-surface-color, white);\n",
       "                }\n",
       "\n",
       "                .geemap-colab .jupyter-button {\n",
       "                    --jp-layout-color3: var(--colab-primary-surface-color, white);\n",
       "                }\n",
       "            </style>\n",
       "            "
      ],
      "text/plain": [
       "<IPython.core.display.HTML object>"
      ]
     },
     "metadata": {},
     "output_type": "display_data"
    }
   ],
   "source": [
    "df_iceberg = pd.DataFrame(columns=['fecha', 'similaridad', 'area', 'centroide', 'poligono', 'source', 'covers'])"
   ]
  },
  {
   "cell_type": "code",
   "execution_count": 41,
   "metadata": {},
   "outputs": [
    {
     "data": {
      "text/html": [
       "\n",
       "            <style>\n",
       "                .geemap-dark {\n",
       "                    --jp-widgets-color: white;\n",
       "                    --jp-widgets-label-color: white;\n",
       "                    --jp-ui-font-color1: white;\n",
       "                    --jp-layout-color2: #454545;\n",
       "                    background-color: #383838;\n",
       "                }\n",
       "\n",
       "                .geemap-dark .jupyter-button {\n",
       "                    --jp-layout-color3: #383838;\n",
       "                }\n",
       "\n",
       "                .geemap-colab {\n",
       "                    background-color: var(--colab-primary-surface-color, white);\n",
       "                }\n",
       "\n",
       "                .geemap-colab .jupyter-button {\n",
       "                    --jp-layout-color3: var(--colab-primary-surface-color, white);\n",
       "                }\n",
       "            </style>\n",
       "            "
      ],
      "text/plain": [
       "<IPython.core.display.HTML object>"
      ]
     },
     "metadata": {},
     "output_type": "display_data"
    }
   ],
   "source": [
    "def contains_aoi(image, aoi):\n",
    "    footprint = ee.Geometry(image.geometry())\n",
    "    contains = footprint.contains(aoi, 1)  # 1 es la tolerancia en metros\n",
    "    return image.set('contains_aoi', contains)"
   ]
  },
  {
   "cell_type": "code",
   "execution_count": 42,
   "metadata": {},
   "outputs": [
    {
     "data": {
      "text/html": [
       "\n",
       "            <style>\n",
       "                .geemap-dark {\n",
       "                    --jp-widgets-color: white;\n",
       "                    --jp-widgets-label-color: white;\n",
       "                    --jp-ui-font-color1: white;\n",
       "                    --jp-layout-color2: #454545;\n",
       "                    background-color: #383838;\n",
       "                }\n",
       "\n",
       "                .geemap-dark .jupyter-button {\n",
       "                    --jp-layout-color3: #383838;\n",
       "                }\n",
       "\n",
       "                .geemap-colab {\n",
       "                    background-color: var(--colab-primary-surface-color, white);\n",
       "                }\n",
       "\n",
       "                .geemap-colab .jupyter-button {\n",
       "                    --jp-layout-color3: var(--colab-primary-surface-color, white);\n",
       "                }\n",
       "            </style>\n",
       "            "
      ],
      "text/plain": [
       "<IPython.core.display.HTML object>"
      ]
     },
     "metadata": {},
     "output_type": "display_data"
    }
   ],
   "source": [
    "def contains_aoi_by_percentage(image, aoi, threshold=0.5):\n",
    "    footprint = ee.Geometry(image.geometry())\n",
    "    intersection = footprint.intersection(aoi, ee.ErrorMargin(1))\n",
    "    intersection_area = intersection.area()\n",
    "    aoi_area = aoi.area()\n",
    "    percentage_contained = intersection_area.divide(aoi_area)\n",
    "    return image.set('contains_aoi', percentage_contained.gte(threshold))"
   ]
  },
  {
   "cell_type": "code",
   "execution_count": 43,
   "metadata": {},
   "outputs": [
    {
     "data": {
      "text/html": [
       "\n",
       "            <style>\n",
       "                .geemap-dark {\n",
       "                    --jp-widgets-color: white;\n",
       "                    --jp-widgets-label-color: white;\n",
       "                    --jp-ui-font-color1: white;\n",
       "                    --jp-layout-color2: #454545;\n",
       "                    background-color: #383838;\n",
       "                }\n",
       "\n",
       "                .geemap-dark .jupyter-button {\n",
       "                    --jp-layout-color3: #383838;\n",
       "                }\n",
       "\n",
       "                .geemap-colab {\n",
       "                    background-color: var(--colab-primary-surface-color, white);\n",
       "                }\n",
       "\n",
       "                .geemap-colab .jupyter-button {\n",
       "                    --jp-layout-color3: var(--colab-primary-surface-color, white);\n",
       "                }\n",
       "            </style>\n",
       "            "
      ],
      "text/plain": [
       "<IPython.core.display.HTML object>"
      ]
     },
     "metadata": {},
     "output_type": "display_data"
    },
    {
     "data": {
      "text/plain": [
       "[-159.47522377565502, -76.01826718657878]"
      ]
     },
     "execution_count": 43,
     "metadata": {},
     "output_type": "execute_result"
    }
   ],
   "source": [
    "centroid"
   ]
  },
  {
   "cell_type": "code",
   "execution_count": 44,
   "metadata": {},
   "outputs": [
    {
     "data": {
      "text/html": [
       "\n",
       "            <style>\n",
       "                .geemap-dark {\n",
       "                    --jp-widgets-color: white;\n",
       "                    --jp-widgets-label-color: white;\n",
       "                    --jp-ui-font-color1: white;\n",
       "                    --jp-layout-color2: #454545;\n",
       "                    background-color: #383838;\n",
       "                }\n",
       "\n",
       "                .geemap-dark .jupyter-button {\n",
       "                    --jp-layout-color3: #383838;\n",
       "                }\n",
       "\n",
       "                .geemap-colab {\n",
       "                    background-color: var(--colab-primary-surface-color, white);\n",
       "                }\n",
       "\n",
       "                .geemap-colab .jupyter-button {\n",
       "                    --jp-layout-color3: var(--colab-primary-surface-color, white);\n",
       "                }\n",
       "            </style>\n",
       "            "
      ],
      "text/plain": [
       "<IPython.core.display.HTML object>"
      ]
     },
     "metadata": {},
     "output_type": "display_data"
    },
    {
     "name": "stdout",
     "output_type": "stream",
     "text": [
      "2020-06-01 ============================================\n",
      "Feature 0 >>> area: 39.83 km^2, centroid: [-159.476, -76.019], similarity: 0.962\n",
      "2020-06-03 ============================================\n",
      "Feature 0 >>> area: 39.3 km^2, centroid: [-159.993, -76.05], similarity: 0.925\n",
      "2020-06-05 ============================================\n",
      "Feature 0 >>> area: 39.84 km^2, centroid: [-160.049, -75.902], similarity: 0.912\n",
      "No hay imagenes para la fecha: 2020-06-07\n",
      "Se aumento la distancia de busqueda a 40000\n",
      "2020-06-09 ============================================\n",
      "Feature 0 >>> area: 39.83 km^2, centroid: [-160.875, -75.815], similarity: 0.914\n",
      "2020-06-11 ============================================\n",
      "Se aumento la distancia de busqueda a 40000\n",
      "2020-06-13 ============================================\n",
      "Se aumento la distancia de busqueda a 60000\n",
      "2020-06-15 ============================================\n",
      "Feature 0 >>> area: 41.68 km^2, centroid: [-162.471, -75.776], similarity: 0.855\n",
      "2020-06-17 ============================================\n",
      "Feature 0 >>> area: 39.81 km^2, centroid: [-162.671, -75.694], similarity: 0.904\n",
      "No hay imagenes para la fecha: 2020-06-19\n",
      "Se aumento la distancia de busqueda a 40000\n",
      "2020-06-21 ============================================\n",
      "Se aumento la distancia de busqueda a 60000\n",
      "2020-06-23 ============================================\n",
      "Feature 0 >>> area: 38.97 km^2, centroid: [-164.076, -75.328], similarity: 0.875\n",
      "2020-06-25 ============================================\n",
      "Feature 0 >>> area: 36.5 km^2, centroid: [-163.929, -75.184], similarity: 0.825\n",
      "2020-06-27 ============================================\n",
      "Feature 0 >>> area: 38.29 km^2, centroid: [-163.905, -75.042], similarity: 0.87\n",
      "2020-06-29 ============================================\n",
      "Feature 0 >>> area: 41.4 km^2, centroid: [-164.064, -74.968], similarity: 0.883\n",
      "No hay imagenes para la fecha: 2020-07-01\n",
      "Se aumento la distancia de busqueda a 40000\n",
      "2020-07-03 ============================================\n",
      "Feature 0 >>> area: 40.85 km^2, centroid: [-164.526, -74.761], similarity: 0.874\n",
      "2020-07-05 ============================================\n",
      "Se aumento la distancia de busqueda a 40000\n",
      "2020-07-07 ============================================\n",
      "Se aumento la distancia de busqueda a 60000\n",
      "2020-07-09 ============================================\n",
      "Feature 0 >>> area: 40.85 km^2, centroid: [-164.746, -74.333], similarity: 0.863\n",
      "No hay imagenes para la fecha: 2020-07-11\n",
      "Se aumento la distancia de busqueda a 40000\n",
      "No hay imagenes para la fecha: 2020-07-13\n",
      "Se aumento la distancia de busqueda a 60000\n",
      "2020-07-15 ============================================\n",
      "Feature 0 >>> area: 40.87 km^2, centroid: [-166.241, -74.18], similarity: 0.852\n",
      "2020-07-17 ============================================\n",
      "Se aumento la distancia de busqueda a 40000\n",
      "2020-07-19 ============================================\n",
      "Feature 0 >>> area: 39.87 km^2, centroid: [-166.994, -73.984], similarity: 0.83\n",
      "2020-07-21 ============================================\n",
      "Se aumento la distancia de busqueda a 40000\n",
      "No hay imagenes para la fecha: 2020-07-23\n",
      "Se aumento la distancia de busqueda a 60000\n",
      "No hay imagenes para la fecha: 2020-07-25\n",
      "Se aumento la distancia de busqueda a 80000\n",
      "2020-07-27 ============================================\n",
      "Feature 0 >>> area: 42.13 km^2, centroid: [-167.221, -74.204], similarity: 0.849\n",
      "2020-07-29 ============================================\n",
      "Feature 0 >>> area: 41.26 km^2, centroid: [-167.065, -74.086], similarity: 0.855\n",
      "2020-07-31 ============================================\n",
      "Se aumento la distancia de busqueda a 40000\n",
      "2020-08-02 ============================================\n",
      "Se aumento la distancia de busqueda a 60000\n",
      "2020-08-04 ============================================\n",
      "Se aumento la distancia de busqueda a 80000\n",
      "2020-08-06 ============================================\n",
      "Feature 0 >>> area: 40.86 km^2, centroid: [-169.247, -74.022], similarity: 0.866\n",
      "2020-08-08 ============================================\n",
      "Se aumento la distancia de busqueda a 40000\n",
      "No hay imagenes para la fecha: 2020-08-10\n",
      "Se aumento la distancia de busqueda a 60000\n",
      "2020-08-12 ============================================\n",
      "Se aumento la distancia de busqueda a 80000\n",
      "2020-08-14 ============================================\n",
      "Se aumento la distancia de busqueda a 100000\n",
      "2020-08-16 ============================================\n",
      "Se aumento la distancia de busqueda a 120000\n",
      "No hay imagenes para la fecha: 2020-08-18\n",
      "Se aumento la distancia de busqueda a 140000\n",
      "2020-08-20 ============================================\n",
      "Se aumento la distancia de busqueda a 160000\n",
      "2020-08-22 ============================================\n",
      "Se aumento la distancia de busqueda a 180000\n",
      "2020-08-24 ============================================\n",
      "Se aumento la distancia de busqueda a 200000\n",
      "2020-08-26 ============================================\n",
      "Feature 0 >>> area: 34.0 km^2, centroid: [-171.899, -72.485], similarity: 0.637\n",
      "Se aumento la distancia de busqueda a 220000\n",
      "2020-08-28 ============================================\n",
      "Se aumento la distancia de busqueda a 240000\n"
     ]
    },
    {
     "ename": "EEException",
     "evalue": "Computation timed out.",
     "output_type": "error",
     "traceback": [
      "\u001b[1;31m---------------------------------------------------------------------------\u001b[0m",
      "\u001b[1;31mHttpError\u001b[0m                                 Traceback (most recent call last)",
      "File \u001b[1;32mc:\\Users\\q0gam\\anaconda3\\envs\\geoespacial\\lib\\site-packages\\ee\\data.py:402\u001b[0m, in \u001b[0;36m_execute_cloud_call\u001b[1;34m(call, num_retries)\u001b[0m\n\u001b[0;32m    401\u001b[0m \u001b[38;5;28;01mtry\u001b[39;00m:\n\u001b[1;32m--> 402\u001b[0m   \u001b[38;5;28;01mreturn\u001b[39;00m \u001b[43mcall\u001b[49m\u001b[38;5;241;43m.\u001b[39;49m\u001b[43mexecute\u001b[49m\u001b[43m(\u001b[49m\u001b[43mnum_retries\u001b[49m\u001b[38;5;241;43m=\u001b[39;49m\u001b[43mnum_retries\u001b[49m\u001b[43m)\u001b[49m\n\u001b[0;32m    403\u001b[0m \u001b[38;5;28;01mexcept\u001b[39;00m googleapiclient\u001b[38;5;241m.\u001b[39merrors\u001b[38;5;241m.\u001b[39mHttpError \u001b[38;5;28;01mas\u001b[39;00m e:\n",
      "File \u001b[1;32mc:\\Users\\q0gam\\anaconda3\\envs\\geoespacial\\lib\\site-packages\\googleapiclient\\_helpers.py:130\u001b[0m, in \u001b[0;36mpositional.<locals>.positional_decorator.<locals>.positional_wrapper\u001b[1;34m(*args, **kwargs)\u001b[0m\n\u001b[0;32m    129\u001b[0m         logger\u001b[38;5;241m.\u001b[39mwarning(message)\n\u001b[1;32m--> 130\u001b[0m \u001b[38;5;28;01mreturn\u001b[39;00m wrapped(\u001b[38;5;241m*\u001b[39margs, \u001b[38;5;241m*\u001b[39m\u001b[38;5;241m*\u001b[39mkwargs)\n",
      "File \u001b[1;32mc:\\Users\\q0gam\\anaconda3\\envs\\geoespacial\\lib\\site-packages\\googleapiclient\\http.py:938\u001b[0m, in \u001b[0;36mHttpRequest.execute\u001b[1;34m(self, http, num_retries)\u001b[0m\n\u001b[0;32m    937\u001b[0m \u001b[38;5;28;01mif\u001b[39;00m resp\u001b[38;5;241m.\u001b[39mstatus \u001b[38;5;241m>\u001b[39m\u001b[38;5;241m=\u001b[39m \u001b[38;5;241m300\u001b[39m:\n\u001b[1;32m--> 938\u001b[0m     \u001b[38;5;28;01mraise\u001b[39;00m HttpError(resp, content, uri\u001b[38;5;241m=\u001b[39m\u001b[38;5;28mself\u001b[39m\u001b[38;5;241m.\u001b[39muri)\n\u001b[0;32m    939\u001b[0m \u001b[38;5;28;01mreturn\u001b[39;00m \u001b[38;5;28mself\u001b[39m\u001b[38;5;241m.\u001b[39mpostproc(resp, content)\n",
      "\u001b[1;31mHttpError\u001b[0m: <HttpError 400 when requesting https://earthengine.googleapis.com/v1/projects/earthengine-legacy/value:compute?prettyPrint=false&alt=json returned \"Computation timed out.\". Details: \"Computation timed out.\">",
      "\nDuring handling of the above exception, another exception occurred:\n",
      "\u001b[1;31mEEException\u001b[0m                               Traceback (most recent call last)",
      "Cell \u001b[1;32mIn[44], line 78\u001b[0m\n\u001b[0;32m     75\u001b[0m \u001b[38;5;66;03m# filtramos los icebergs que tienen un area entre el 80% y el 120% del area objetivo\u001b[39;00m\n\u001b[0;32m     76\u001b[0m target \u001b[38;5;241m=\u001b[39m areaAdded\u001b[38;5;241m.\u001b[39mfilter(ee\u001b[38;5;241m.\u001b[39mFilter\u001b[38;5;241m.\u001b[39mgt(\u001b[38;5;124m'\u001b[39m\u001b[38;5;124marea\u001b[39m\u001b[38;5;124m'\u001b[39m, area_min))\u001b[38;5;241m.\u001b[39mfilter(ee\u001b[38;5;241m.\u001b[39mFilter\u001b[38;5;241m.\u001b[39mlt(\u001b[38;5;124m'\u001b[39m\u001b[38;5;124marea\u001b[39m\u001b[38;5;124m'\u001b[39m, area_max))\n\u001b[1;32m---> 78\u001b[0m num \u001b[38;5;241m=\u001b[39m \u001b[43mtarget\u001b[49m\u001b[38;5;241;43m.\u001b[39;49m\u001b[43msize\u001b[49m\u001b[43m(\u001b[49m\u001b[43m)\u001b[49m\u001b[38;5;241;43m.\u001b[39;49m\u001b[43mgetInfo\u001b[49m\u001b[43m(\u001b[49m\u001b[43m)\u001b[49m\n\u001b[0;32m     79\u001b[0m features \u001b[38;5;241m=\u001b[39m target\u001b[38;5;241m.\u001b[39mgetInfo()[\u001b[38;5;124m'\u001b[39m\u001b[38;5;124mfeatures\u001b[39m\u001b[38;5;124m'\u001b[39m]\n\u001b[0;32m     81\u001b[0m \u001b[38;5;28mprint\u001b[39m(startdate \u001b[38;5;241m+\u001b[39m \u001b[38;5;124m\"\u001b[39m\u001b[38;5;124m ============================================\u001b[39m\u001b[38;5;124m\"\u001b[39m)\n",
      "File \u001b[1;32mc:\\Users\\q0gam\\anaconda3\\envs\\geoespacial\\lib\\site-packages\\ee\\computedobject.py:107\u001b[0m, in \u001b[0;36mComputedObject.getInfo\u001b[1;34m(self)\u001b[0m\n\u001b[0;32m    101\u001b[0m \u001b[38;5;28;01mdef\u001b[39;00m \u001b[38;5;21mgetInfo\u001b[39m(\u001b[38;5;28mself\u001b[39m) \u001b[38;5;241m-\u001b[39m\u001b[38;5;241m>\u001b[39m Optional[Any]:\n\u001b[0;32m    102\u001b[0m \u001b[38;5;250m  \u001b[39m\u001b[38;5;124;03m\"\"\"Fetch and return information about this object.\u001b[39;00m\n\u001b[0;32m    103\u001b[0m \n\u001b[0;32m    104\u001b[0m \u001b[38;5;124;03m  Returns:\u001b[39;00m\n\u001b[0;32m    105\u001b[0m \u001b[38;5;124;03m    The object can evaluate to anything.\u001b[39;00m\n\u001b[0;32m    106\u001b[0m \u001b[38;5;124;03m  \"\"\"\u001b[39;00m\n\u001b[1;32m--> 107\u001b[0m   \u001b[38;5;28;01mreturn\u001b[39;00m \u001b[43mdata\u001b[49m\u001b[38;5;241;43m.\u001b[39;49m\u001b[43mcomputeValue\u001b[49m\u001b[43m(\u001b[49m\u001b[38;5;28;43mself\u001b[39;49m\u001b[43m)\u001b[49m\n",
      "File \u001b[1;32mc:\\Users\\q0gam\\anaconda3\\envs\\geoespacial\\lib\\site-packages\\ee\\data.py:1107\u001b[0m, in \u001b[0;36mcomputeValue\u001b[1;34m(obj)\u001b[0m\n\u001b[0;32m   1104\u001b[0m body \u001b[38;5;241m=\u001b[39m {\u001b[38;5;124m'\u001b[39m\u001b[38;5;124mexpression\u001b[39m\u001b[38;5;124m'\u001b[39m: serializer\u001b[38;5;241m.\u001b[39mencode(obj, for_cloud_api\u001b[38;5;241m=\u001b[39m\u001b[38;5;28;01mTrue\u001b[39;00m)}\n\u001b[0;32m   1105\u001b[0m _maybe_populate_workload_tag(body)\n\u001b[1;32m-> 1107\u001b[0m \u001b[38;5;28;01mreturn\u001b[39;00m \u001b[43m_execute_cloud_call\u001b[49m\u001b[43m(\u001b[49m\n\u001b[0;32m   1108\u001b[0m \u001b[43m    \u001b[49m\u001b[43m_get_cloud_projects\u001b[49m\u001b[43m(\u001b[49m\u001b[43m)\u001b[49m\n\u001b[0;32m   1109\u001b[0m \u001b[43m    \u001b[49m\u001b[38;5;241;43m.\u001b[39;49m\u001b[43mvalue\u001b[49m\u001b[43m(\u001b[49m\u001b[43m)\u001b[49m\n\u001b[0;32m   1110\u001b[0m \u001b[43m    \u001b[49m\u001b[38;5;241;43m.\u001b[39;49m\u001b[43mcompute\u001b[49m\u001b[43m(\u001b[49m\u001b[43mbody\u001b[49m\u001b[38;5;241;43m=\u001b[39;49m\u001b[43mbody\u001b[49m\u001b[43m,\u001b[49m\u001b[43m \u001b[49m\u001b[43mproject\u001b[49m\u001b[38;5;241;43m=\u001b[39;49m\u001b[43m_get_projects_path\u001b[49m\u001b[43m(\u001b[49m\u001b[43m)\u001b[49m\u001b[43m,\u001b[49m\u001b[43m \u001b[49m\u001b[43mprettyPrint\u001b[49m\u001b[38;5;241;43m=\u001b[39;49m\u001b[38;5;28;43;01mFalse\u001b[39;49;00m\u001b[43m)\u001b[49m\n\u001b[0;32m   1111\u001b[0m \u001b[43m\u001b[49m\u001b[43m)\u001b[49m[\u001b[38;5;124m'\u001b[39m\u001b[38;5;124mresult\u001b[39m\u001b[38;5;124m'\u001b[39m]\n",
      "File \u001b[1;32mc:\\Users\\q0gam\\anaconda3\\envs\\geoespacial\\lib\\site-packages\\ee\\data.py:404\u001b[0m, in \u001b[0;36m_execute_cloud_call\u001b[1;34m(call, num_retries)\u001b[0m\n\u001b[0;32m    402\u001b[0m   \u001b[38;5;28;01mreturn\u001b[39;00m call\u001b[38;5;241m.\u001b[39mexecute(num_retries\u001b[38;5;241m=\u001b[39mnum_retries)\n\u001b[0;32m    403\u001b[0m \u001b[38;5;28;01mexcept\u001b[39;00m googleapiclient\u001b[38;5;241m.\u001b[39merrors\u001b[38;5;241m.\u001b[39mHttpError \u001b[38;5;28;01mas\u001b[39;00m e:\n\u001b[1;32m--> 404\u001b[0m   \u001b[38;5;28;01mraise\u001b[39;00m _translate_cloud_exception(e)\n",
      "\u001b[1;31mEEException\u001b[0m: Computation timed out."
     ]
    },
    {
     "data": {
      "image/png": "[encoded data removed]",
      "text/plain": [
       "<Figure size 1000x500 with 1 Axes>"
      ]
     },
     "metadata": {},
     "output_type": "display_data"
    }
   ],
   "source": [
    "startdate = fecha_inicio; enddate = fecha_fin\n",
    "center = centroid\n",
    "\n",
    "vectorscale = 40\n",
    "\n",
    "buf_dist = 30000\n",
    "\n",
    "fig = plt.subplots(figsize = (10, 5))\n",
    "plt.plot(hist1['reference'][1][:-1], hist1['reference'][0], label = \"reference\", color = \"k\", linestyle = \"--\")\n",
    "\n",
    "for day in day_range:\n",
    "    \n",
    "    month = dt.datetime.strptime(startdate, \"%Y-%m-%d\").month\n",
    "    band = [\"HH\", \"angle\"]  # intersted band\n",
    "    \n",
    "    aoi = ee.Geometry.Point(center).buffer(buf_dist)\n",
    "\n",
    "    # Utilizamos las imagenes HH de Sentinel-1\n",
    "    S1A = ee.ImageCollection(\"COPERNICUS/S1_GRD\")\\\n",
    "    .filterDate(startdate, enddate)\\\n",
    "    .filterBounds(aoi)\\\n",
    "    .filter(ee.Filter.listContains('transmitterReceiverPolarisation', \"HH\"))\n",
    "    \n",
    "    if S1A.size().getInfo() > 0:\n",
    "\n",
    "        imageA = S1A.select(band).mean().clip(aoi) # clip image into ROI\n",
    "\n",
    "        seeds = ee.Algorithms.Image.Segmentation.seedGrid(80);\n",
    "        \n",
    "        # Gaussian kernel to softening the image (remove some salt and pepper noise)\n",
    "        kernel = ee.Kernel.gaussian(3)\n",
    "        img1 = imageA.convolve(kernel)\n",
    "        img = img1.select(['HH', 'angle'], ['HH', 'angle'])\n",
    "        \n",
    "        \n",
    "        # segmentamos la imagen con SNIC\n",
    "        # size = 20, compactness= 5, connectivity= 8, neighborhoodSize = 256\n",
    "        snic = ee.Algorithms.Image.Segmentation.SNIC(img, 20, 5, 8, 256, seeds)\\\n",
    "        .select([\"HH_mean\", \"angle_mean\", \"clusters\"], [\"HH\", \"angle\", \"clusters\"])\n",
    "        \n",
    "        segments = snic.select(\"clusters\").reduceToVectors(\n",
    "            geometry = snic.geometry(),\n",
    "            scale = vectorscale,\n",
    "            geometryType = 'polygon',            \n",
    "            maxPixels = 1e20\n",
    "        )     \n",
    "        \n",
    "        segimageA = segments.reduceToImage(\n",
    "            properties = ['label'],\n",
    "            reducer = ee.Reducer.first()\n",
    "        ).rename('id')       \n",
    "\n",
    "        # dividimos los valores HH por los valores de la banda angle para mejorar el contraste entre los icebergs y el mar abierto o el hielo circundante.\n",
    "        ratio = snic.select(\"HH\").divide(snic.select(\"angle\"))\n",
    "        # mantenemos solo los valores mayores que -0.2 (icebergs)\n",
    "        icebergs = ratio.gt(-0.2).selfMask()     \n",
    "        \n",
    "        # convertimos los iceberg raster a vectores\n",
    "        vectors = icebergs.reduceToVectors(\n",
    "            geometry = icebergs.geometry(),\n",
    "            scale = vectorscale,\n",
    "            geometryType = 'polygon',            \n",
    "            maxPixels = 1e20)\n",
    "\n",
    "        # permitimos un margen de error del 20% en el area de los icebergs respecto al iceberg objetivo\n",
    "        area_max = area0 * 1.2\n",
    "        area_min = area0 * 0.8\n",
    "        # obtenemos el area y el centroide de los icebergs\n",
    "        areaAdded = vectors.map(addArea)\n",
    "        # filtramos los icebergs que tienen un area entre el 80% y el 120% del area objetivo\n",
    "        target = areaAdded.filter(ee.Filter.gt('area', area_min)).filter(ee.Filter.lt('area', area_max))\n",
    "        \n",
    "        num = target.size().getInfo()\n",
    "        features = target.getInfo()['features']\n",
    "        \n",
    "        print(startdate + \" ============================================\")\n",
    "        threshold = 0.7\n",
    "        find = False\n",
    "        candidates = []\n",
    "        \n",
    "        for k in range(0, num): # if there is a valid iceberg\n",
    "            \n",
    "            area = features[k]['properties']['area']\n",
    "            centroid = features[k]['properties']['centroid']['coordinates']\n",
    "            polygon = ee.FeatureCollection(ee.Geometry.Polygon(features[k]['geometry']['coordinates'][0]))\n",
    "            sources = ee.Image().toByte().paint(ee.Geometry.Point(centroid), 1)\n",
    "            covers = snic.select('HH').multiply(0).add(1)\n",
    "\n",
    "            cumCost = covers.cumulativeCost(\n",
    "                source = sources,\n",
    "                maxDistance = 30000,\n",
    "                geodeticDistance = True\n",
    "            ).clip(polygon)\n",
    "\n",
    "            result = cumCost.reduceRegion(ee.Reducer.toList(), polygon, scale = 200)\n",
    "            cumdist = result.getInfo()['cumulative_cost']\n",
    "            B = np.histogram(cumdist, int(max_pix/scale), [0, max_pix])  \n",
    "            \n",
    "            diff = abs(hist1['reference'][0] - B[0])\n",
    "            similarity = 1-np.sum(diff)/np.sum(hist1['reference'][0])          \n",
    "            \n",
    "            print(\"Feature {0} >>> area: {1} km^2, centroid: [{2}, {3}], similarity: {4}\".format(\n",
    "                k, round(area/1e6,2), round(centroid[0],3), round(centroid[1], 3), round(similarity, 3)\n",
    "            ))                       \n",
    "            \n",
    "            if similarity >= threshold: \n",
    "                threshold = similarity\n",
    "                find = True\n",
    "                candidates.append((startdate, similarity, area, centroid, polygon, sources, covers, B))\n",
    "    else:\n",
    "        print(f'No hay imagenes para la fecha: {startdate}')\n",
    "        find = False\n",
    "    \n",
    "    if find == True:\n",
    "        startdate = candidates[-1][0]\n",
    "        similarity = candidates[-1][1]\n",
    "        area = candidates[-1][2]\n",
    "        centroid = candidates[-1][3]\n",
    "        polygon = candidates[-1][4]\n",
    "        sources = candidates[-1][5]\n",
    "        covers = candidates[-1][6]\n",
    "        B = candidates[-1][7]\n",
    "        df_iceberg.loc[len(df_iceberg.index)] = [startdate, similarity, area, centroid, polygon, sources, covers]\n",
    "\n",
    "        ice_area[startdate] = area\n",
    "        ice_centroid[startdate] = centroid\n",
    "        hist1[startdate] = B \n",
    "        plt.plot(B[1][:-1], B[0], label = startdate + \"_\" + str(k))\n",
    "                   \n",
    "        center = centroid\n",
    "        buf_dist = 30000\n",
    "    \n",
    "    else:\n",
    "        buf_dist += 30000\n",
    "        if buf_dist >= 60000:\n",
    "            print(f'Se aumento la distancia de busqueda a {buf_dist}')\n",
    "  \n",
    "            \n",
    "    if (buf_dist > 260000): \n",
    "        print(\"!!! STOP !!! buffer {0} km ( {1} )\".format(buf_dist, startdate))\n",
    "        break\n",
    "\n",
    "    startdate = enddate\n",
    "    enddate = (dt.datetime.strptime(enddate, \"%Y-%m-%d\") + dt.timedelta(days=2)).strftime(\"%Y-%m-%d\")"
   ]
  },
  {
   "cell_type": "code",
   "execution_count": 45,
   "metadata": {},
   "outputs": [
    {
     "data": {
      "text/html": [
       "\n",
       "            <style>\n",
       "                .geemap-dark {\n",
       "                    --jp-widgets-color: white;\n",
       "                    --jp-widgets-label-color: white;\n",
       "                    --jp-ui-font-color1: white;\n",
       "                    --jp-layout-color2: #454545;\n",
       "                    background-color: #383838;\n",
       "                }\n",
       "\n",
       "                .geemap-dark .jupyter-button {\n",
       "                    --jp-layout-color3: #383838;\n",
       "                }\n",
       "\n",
       "                .geemap-colab {\n",
       "                    background-color: var(--colab-primary-surface-color, white);\n",
       "                }\n",
       "\n",
       "                .geemap-colab .jupyter-button {\n",
       "                    --jp-layout-color3: var(--colab-primary-surface-color, white);\n",
       "                }\n",
       "            </style>\n",
       "            "
      ],
      "text/plain": [
       "<IPython.core.display.HTML object>"
      ]
     },
     "metadata": {},
     "output_type": "display_data"
    },
    {
     "data": {
      "text/html": [
       "<div>\n",
       "<style scoped>\n",
       "    .dataframe tbody tr th:only-of-type {\n",
       "        vertical-align: middle;\n",
       "    }\n",
       "\n",
       "    .dataframe tbody tr th {\n",
       "        vertical-align: top;\n",
       "    }\n",
       "\n",
       "    .dataframe thead th {\n",
       "        text-align: right;\n",
       "    }\n",
       "</style>\n",
       "<table border=\"1\" class=\"dataframe\">\n",
       "  <thead>\n",
       "    <tr style=\"text-align: right;\">\n",
       "      <th></th>\n",
       "      <th>fecha</th>\n",
       "      <th>similaridad</th>\n",
       "      <th>area</th>\n",
       "      <th>centroide</th>\n",
       "      <th>poligono</th>\n",
       "      <th>source</th>\n",
       "      <th>covers</th>\n",
       "    </tr>\n",
       "  </thead>\n",
       "  <tbody>\n",
       "    <tr>\n",
       "      <th>0</th>\n",
       "      <td>2020-06-01</td>\n",
       "      <td>0.962185</td>\n",
       "      <td>3.983131e+07</td>\n",
       "      <td>[-159.47580049338623, -76.018690727559]</td>\n",
       "      <td>ee.FeatureCollection({\\n  \"functionInvocationV...</td>\n",
       "      <td>ee.Image({\\n  \"functionInvocationValue\": {\\n  ...</td>\n",
       "      <td>ee.Image({\\n  \"functionInvocationValue\": {\\n  ...</td>\n",
       "    </tr>\n",
       "    <tr>\n",
       "      <th>1</th>\n",
       "      <td>2020-06-03</td>\n",
       "      <td>0.925303</td>\n",
       "      <td>3.929894e+07</td>\n",
       "      <td>[-159.9928965628811, -76.04987414544136]</td>\n",
       "      <td>ee.FeatureCollection({\\n  \"functionInvocationV...</td>\n",
       "      <td>ee.Image({\\n  \"functionInvocationValue\": {\\n  ...</td>\n",
       "      <td>ee.Image({\\n  \"functionInvocationValue\": {\\n  ...</td>\n",
       "    </tr>\n",
       "    <tr>\n",
       "      <th>2</th>\n",
       "      <td>2020-06-05</td>\n",
       "      <td>0.911765</td>\n",
       "      <td>3.984462e+07</td>\n",
       "      <td>[-160.04896828935276, -75.90185302453892]</td>\n",
       "      <td>ee.FeatureCollection({\\n  \"functionInvocationV...</td>\n",
       "      <td>ee.Image({\\n  \"functionInvocationValue\": {\\n  ...</td>\n",
       "      <td>ee.Image({\\n  \"functionInvocationValue\": {\\n  ...</td>\n",
       "    </tr>\n",
       "    <tr>\n",
       "      <th>3</th>\n",
       "      <td>2020-06-09</td>\n",
       "      <td>0.913866</td>\n",
       "      <td>3.983187e+07</td>\n",
       "      <td>[-160.8751945395577, -75.81509269674966]</td>\n",
       "      <td>ee.FeatureCollection({\\n  \"functionInvocationV...</td>\n",
       "      <td>ee.Image({\\n  \"functionInvocationValue\": {\\n  ...</td>\n",
       "      <td>ee.Image({\\n  \"functionInvocationValue\": {\\n  ...</td>\n",
       "    </tr>\n",
       "    <tr>\n",
       "      <th>4</th>\n",
       "      <td>2020-06-15</td>\n",
       "      <td>0.855042</td>\n",
       "      <td>4.168196e+07</td>\n",
       "      <td>[-162.4712110050837, -75.77637631811481]</td>\n",
       "      <td>ee.FeatureCollection({\\n  \"functionInvocationV...</td>\n",
       "      <td>ee.Image({\\n  \"functionInvocationValue\": {\\n  ...</td>\n",
       "      <td>ee.Image({\\n  \"functionInvocationValue\": {\\n  ...</td>\n",
       "    </tr>\n",
       "    <tr>\n",
       "      <th>5</th>\n",
       "      <td>2020-06-17</td>\n",
       "      <td>0.904062</td>\n",
       "      <td>3.981231e+07</td>\n",
       "      <td>[-162.67128996192596, -75.69381777940913]</td>\n",
       "      <td>ee.FeatureCollection({\\n  \"functionInvocationV...</td>\n",
       "      <td>ee.Image({\\n  \"functionInvocationValue\": {\\n  ...</td>\n",
       "      <td>ee.Image({\\n  \"functionInvocationValue\": {\\n  ...</td>\n",
       "    </tr>\n",
       "    <tr>\n",
       "      <th>6</th>\n",
       "      <td>2020-06-23</td>\n",
       "      <td>0.874650</td>\n",
       "      <td>3.896810e+07</td>\n",
       "      <td>[-164.0758346113031, -75.3278364141418]</td>\n",
       "      <td>ee.FeatureCollection({\\n  \"functionInvocationV...</td>\n",
       "      <td>ee.Image({\\n  \"functionInvocationValue\": {\\n  ...</td>\n",
       "      <td>ee.Image({\\n  \"functionInvocationValue\": {\\n  ...</td>\n",
       "    </tr>\n",
       "    <tr>\n",
       "      <th>7</th>\n",
       "      <td>2020-06-25</td>\n",
       "      <td>0.825163</td>\n",
       "      <td>3.650301e+07</td>\n",
       "      <td>[-163.92862974538656, -75.18424180026743]</td>\n",
       "      <td>ee.FeatureCollection({\\n  \"functionInvocationV...</td>\n",
       "      <td>ee.Image({\\n  \"functionInvocationValue\": {\\n  ...</td>\n",
       "      <td>ee.Image({\\n  \"functionInvocationValue\": {\\n  ...</td>\n",
       "    </tr>\n",
       "    <tr>\n",
       "      <th>8</th>\n",
       "      <td>2020-06-27</td>\n",
       "      <td>0.869514</td>\n",
       "      <td>3.829489e+07</td>\n",
       "      <td>[-163.90542522451295, -75.04205143395228]</td>\n",
       "      <td>ee.FeatureCollection({\\n  \"functionInvocationV...</td>\n",
       "      <td>ee.Image({\\n  \"functionInvocationValue\": {\\n  ...</td>\n",
       "      <td>ee.Image({\\n  \"functionInvocationValue\": {\\n  ...</td>\n",
       "    </tr>\n",
       "    <tr>\n",
       "      <th>9</th>\n",
       "      <td>2020-06-29</td>\n",
       "      <td>0.883053</td>\n",
       "      <td>4.139544e+07</td>\n",
       "      <td>[-164.0637431060819, -74.9680121064042]</td>\n",
       "      <td>ee.FeatureCollection({\\n  \"functionInvocationV...</td>\n",
       "      <td>ee.Image({\\n  \"functionInvocationValue\": {\\n  ...</td>\n",
       "      <td>ee.Image({\\n  \"functionInvocationValue\": {\\n  ...</td>\n",
       "    </tr>\n",
       "    <tr>\n",
       "      <th>10</th>\n",
       "      <td>2020-07-03</td>\n",
       "      <td>0.874416</td>\n",
       "      <td>4.085113e+07</td>\n",
       "      <td>[-164.5263764933715, -74.76065551504921]</td>\n",
       "      <td>ee.FeatureCollection({\\n  \"functionInvocationV...</td>\n",
       "      <td>ee.Image({\\n  \"functionInvocationValue\": {\\n  ...</td>\n",
       "      <td>ee.Image({\\n  \"functionInvocationValue\": {\\n  ...</td>\n",
       "    </tr>\n",
       "    <tr>\n",
       "      <th>11</th>\n",
       "      <td>2020-07-09</td>\n",
       "      <td>0.863212</td>\n",
       "      <td>4.084879e+07</td>\n",
       "      <td>[-164.74593479551132, -74.33331513038779]</td>\n",
       "      <td>ee.FeatureCollection({\\n  \"functionInvocationV...</td>\n",
       "      <td>ee.Image({\\n  \"functionInvocationValue\": {\\n  ...</td>\n",
       "      <td>ee.Image({\\n  \"functionInvocationValue\": {\\n  ...</td>\n",
       "    </tr>\n",
       "    <tr>\n",
       "      <th>12</th>\n",
       "      <td>2020-07-15</td>\n",
       "      <td>0.852007</td>\n",
       "      <td>4.086714e+07</td>\n",
       "      <td>[-166.24083930666944, -74.18000319262356]</td>\n",
       "      <td>ee.FeatureCollection({\\n  \"functionInvocationV...</td>\n",
       "      <td>ee.Image({\\n  \"functionInvocationValue\": {\\n  ...</td>\n",
       "      <td>ee.Image({\\n  \"functionInvocationValue\": {\\n  ...</td>\n",
       "    </tr>\n",
       "    <tr>\n",
       "      <th>13</th>\n",
       "      <td>2020-07-19</td>\n",
       "      <td>0.830299</td>\n",
       "      <td>3.987348e+07</td>\n",
       "      <td>[-166.993522719066, -73.98430036706944]</td>\n",
       "      <td>ee.FeatureCollection({\\n  \"functionInvocationV...</td>\n",
       "      <td>ee.Image({\\n  \"functionInvocationValue\": {\\n  ...</td>\n",
       "      <td>ee.Image({\\n  \"functionInvocationValue\": {\\n  ...</td>\n",
       "    </tr>\n",
       "    <tr>\n",
       "      <th>14</th>\n",
       "      <td>2020-07-27</td>\n",
       "      <td>0.849440</td>\n",
       "      <td>4.213042e+07</td>\n",
       "      <td>[-167.22115811197332, -74.20367224668652]</td>\n",
       "      <td>ee.FeatureCollection({\\n  \"functionInvocationV...</td>\n",
       "      <td>ee.Image({\\n  \"functionInvocationValue\": {\\n  ...</td>\n",
       "      <td>ee.Image({\\n  \"functionInvocationValue\": {\\n  ...</td>\n",
       "    </tr>\n",
       "    <tr>\n",
       "      <th>15</th>\n",
       "      <td>2020-07-29</td>\n",
       "      <td>0.854809</td>\n",
       "      <td>4.126131e+07</td>\n",
       "      <td>[-167.06518942705276, -74.08634248005464]</td>\n",
       "      <td>ee.FeatureCollection({\\n  \"functionInvocationV...</td>\n",
       "      <td>ee.Image({\\n  \"functionInvocationValue\": {\\n  ...</td>\n",
       "      <td>ee.Image({\\n  \"functionInvocationValue\": {\\n  ...</td>\n",
       "    </tr>\n",
       "    <tr>\n",
       "      <th>16</th>\n",
       "      <td>2020-08-06</td>\n",
       "      <td>0.866480</td>\n",
       "      <td>4.085509e+07</td>\n",
       "      <td>[-169.24718516885142, -74.02150603818781]</td>\n",
       "      <td>ee.FeatureCollection({\\n  \"functionInvocationV...</td>\n",
       "      <td>ee.Image({\\n  \"functionInvocationValue\": {\\n  ...</td>\n",
       "      <td>ee.Image({\\n  \"functionInvocationValue\": {\\n  ...</td>\n",
       "    </tr>\n",
       "  </tbody>\n",
       "</table>\n",
       "</div>"
      ],
      "text/plain": [
       "         fecha  similaridad          area  \\\n",
       "0   2020-06-01     0.962185  3.983131e+07   \n",
       "1   2020-06-03     0.925303  3.929894e+07   \n",
       "2   2020-06-05     0.911765  3.984462e+07   \n",
       "3   2020-06-09     0.913866  3.983187e+07   \n",
       "4   2020-06-15     0.855042  4.168196e+07   \n",
       "5   2020-06-17     0.904062  3.981231e+07   \n",
       "6   2020-06-23     0.874650  3.896810e+07   \n",
       "7   2020-06-25     0.825163  3.650301e+07   \n",
       "8   2020-06-27     0.869514  3.829489e+07   \n",
       "9   2020-06-29     0.883053  4.139544e+07   \n",
       "10  2020-07-03     0.874416  4.085113e+07   \n",
       "11  2020-07-09     0.863212  4.084879e+07   \n",
       "12  2020-07-15     0.852007  4.086714e+07   \n",
       "13  2020-07-19     0.830299  3.987348e+07   \n",
       "14  2020-07-27     0.849440  4.213042e+07   \n",
       "15  2020-07-29     0.854809  4.126131e+07   \n",
       "16  2020-08-06     0.866480  4.085509e+07   \n",
       "\n",
       "                                    centroide  \\\n",
       "0     [-159.47580049338623, -76.018690727559]   \n",
       "1    [-159.9928965628811, -76.04987414544136]   \n",
       "2   [-160.04896828935276, -75.90185302453892]   \n",
       "3    [-160.8751945395577, -75.81509269674966]   \n",
       "4    [-162.4712110050837, -75.77637631811481]   \n",
       "5   [-162.67128996192596, -75.69381777940913]   \n",
       "6     [-164.0758346113031, -75.3278364141418]   \n",
       "7   [-163.92862974538656, -75.18424180026743]   \n",
       "8   [-163.90542522451295, -75.04205143395228]   \n",
       "9     [-164.0637431060819, -74.9680121064042]   \n",
       "10   [-164.5263764933715, -74.76065551504921]   \n",
       "11  [-164.74593479551132, -74.33331513038779]   \n",
       "12  [-166.24083930666944, -74.18000319262356]   \n",
       "13    [-166.993522719066, -73.98430036706944]   \n",
       "14  [-167.22115811197332, -74.20367224668652]   \n",
       "15  [-167.06518942705276, -74.08634248005464]   \n",
       "16  [-169.24718516885142, -74.02150603818781]   \n",
       "\n",
       "                                             poligono  \\\n",
       "0   ee.FeatureCollection({\\n  \"functionInvocationV...   \n",
       "1   ee.FeatureCollection({\\n  \"functionInvocationV...   \n",
       "2   ee.FeatureCollection({\\n  \"functionInvocationV...   \n",
       "3   ee.FeatureCollection({\\n  \"functionInvocationV...   \n",
       "4   ee.FeatureCollection({\\n  \"functionInvocationV...   \n",
       "5   ee.FeatureCollection({\\n  \"functionInvocationV...   \n",
       "6   ee.FeatureCollection({\\n  \"functionInvocationV...   \n",
       "7   ee.FeatureCollection({\\n  \"functionInvocationV...   \n",
       "8   ee.FeatureCollection({\\n  \"functionInvocationV...   \n",
       "9   ee.FeatureCollection({\\n  \"functionInvocationV...   \n",
       "10  ee.FeatureCollection({\\n  \"functionInvocationV...   \n",
       "11  ee.FeatureCollection({\\n  \"functionInvocationV...   \n",
       "12  ee.FeatureCollection({\\n  \"functionInvocationV...   \n",
       "13  ee.FeatureCollection({\\n  \"functionInvocationV...   \n",
       "14  ee.FeatureCollection({\\n  \"functionInvocationV...   \n",
       "15  ee.FeatureCollection({\\n  \"functionInvocationV...   \n",
       "16  ee.FeatureCollection({\\n  \"functionInvocationV...   \n",
       "\n",
       "                                               source  \\\n",
       "0   ee.Image({\\n  \"functionInvocationValue\": {\\n  ...   \n",
       "1   ee.Image({\\n  \"functionInvocationValue\": {\\n  ...   \n",
       "2   ee.Image({\\n  \"functionInvocationValue\": {\\n  ...   \n",
       "3   ee.Image({\\n  \"functionInvocationValue\": {\\n  ...   \n",
       "4   ee.Image({\\n  \"functionInvocationValue\": {\\n  ...   \n",
       "5   ee.Image({\\n  \"functionInvocationValue\": {\\n  ...   \n",
       "6   ee.Image({\\n  \"functionInvocationValue\": {\\n  ...   \n",
       "7   ee.Image({\\n  \"functionInvocationValue\": {\\n  ...   \n",
       "8   ee.Image({\\n  \"functionInvocationValue\": {\\n  ...   \n",
       "9   ee.Image({\\n  \"functionInvocationValue\": {\\n  ...   \n",
       "10  ee.Image({\\n  \"functionInvocationValue\": {\\n  ...   \n",
       "11  ee.Image({\\n  \"functionInvocationValue\": {\\n  ...   \n",
       "12  ee.Image({\\n  \"functionInvocationValue\": {\\n  ...   \n",
       "13  ee.Image({\\n  \"functionInvocationValue\": {\\n  ...   \n",
       "14  ee.Image({\\n  \"functionInvocationValue\": {\\n  ...   \n",
       "15  ee.Image({\\n  \"functionInvocationValue\": {\\n  ...   \n",
       "16  ee.Image({\\n  \"functionInvocationValue\": {\\n  ...   \n",
       "\n",
       "                                               covers  \n",
       "0   ee.Image({\\n  \"functionInvocationValue\": {\\n  ...  \n",
       "1   ee.Image({\\n  \"functionInvocationValue\": {\\n  ...  \n",
       "2   ee.Image({\\n  \"functionInvocationValue\": {\\n  ...  \n",
       "3   ee.Image({\\n  \"functionInvocationValue\": {\\n  ...  \n",
       "4   ee.Image({\\n  \"functionInvocationValue\": {\\n  ...  \n",
       "5   ee.Image({\\n  \"functionInvocationValue\": {\\n  ...  \n",
       "6   ee.Image({\\n  \"functionInvocationValue\": {\\n  ...  \n",
       "7   ee.Image({\\n  \"functionInvocationValue\": {\\n  ...  \n",
       "8   ee.Image({\\n  \"functionInvocationValue\": {\\n  ...  \n",
       "9   ee.Image({\\n  \"functionInvocationValue\": {\\n  ...  \n",
       "10  ee.Image({\\n  \"functionInvocationValue\": {\\n  ...  \n",
       "11  ee.Image({\\n  \"functionInvocationValue\": {\\n  ...  \n",
       "12  ee.Image({\\n  \"functionInvocationValue\": {\\n  ...  \n",
       "13  ee.Image({\\n  \"functionInvocationValue\": {\\n  ...  \n",
       "14  ee.Image({\\n  \"functionInvocationValue\": {\\n  ...  \n",
       "15  ee.Image({\\n  \"functionInvocationValue\": {\\n  ...  \n",
       "16  ee.Image({\\n  \"functionInvocationValue\": {\\n  ...  "
      ]
     },
     "execution_count": 45,
     "metadata": {},
     "output_type": "execute_result"
    }
   ],
   "source": [
    "df_iceberg"
   ]
  },
  {
   "cell_type": "code",
   "execution_count": 46,
   "metadata": {},
   "outputs": [
    {
     "data": {
      "text/html": [
       "\n",
       "            <style>\n",
       "                .geemap-dark {\n",
       "                    --jp-widgets-color: white;\n",
       "                    --jp-widgets-label-color: white;\n",
       "                    --jp-ui-font-color1: white;\n",
       "                    --jp-layout-color2: #454545;\n",
       "                    background-color: #383838;\n",
       "                }\n",
       "\n",
       "                .geemap-dark .jupyter-button {\n",
       "                    --jp-layout-color3: #383838;\n",
       "                }\n",
       "\n",
       "                .geemap-colab {\n",
       "                    background-color: var(--colab-primary-surface-color, white);\n",
       "                }\n",
       "\n",
       "                .geemap-colab .jupyter-button {\n",
       "                    --jp-layout-color3: var(--colab-primary-surface-color, white);\n",
       "                }\n",
       "            </style>\n",
       "            "
      ],
      "text/plain": [
       "<IPython.core.display.HTML object>"
      ]
     },
     "metadata": {},
     "output_type": "display_data"
    }
   ],
   "source": [
    "df_iceberg.to_csv('0005_06_01__08_06.csv', index=False, sep='&')"
   ]
  },
  {
   "cell_type": "code",
   "execution_count": 78,
   "metadata": {},
   "outputs": [
    {
     "data": {
      "text/html": [
       "\n",
       "            <style>\n",
       "                .geemap-dark {\n",
       "                    --jp-widgets-color: white;\n",
       "                    --jp-widgets-label-color: white;\n",
       "                    --jp-ui-font-color1: white;\n",
       "                    --jp-layout-color2: #454545;\n",
       "                    background-color: #383838;\n",
       "                }\n",
       "\n",
       "                .geemap-dark .jupyter-button {\n",
       "                    --jp-layout-color3: #383838;\n",
       "                }\n",
       "\n",
       "                .geemap-colab {\n",
       "                    background-color: var(--colab-primary-surface-color, white);\n",
       "                }\n",
       "\n",
       "                .geemap-colab .jupyter-button {\n",
       "                    --jp-layout-color3: var(--colab-primary-surface-color, white);\n",
       "                }\n",
       "            </style>\n",
       "            "
      ],
      "text/plain": [
       "<IPython.core.display.HTML object>"
      ]
     },
     "metadata": {},
     "output_type": "display_data"
    },
    {
     "data": {
      "application/vnd.jupyter.widget-view+json": {
       "model_id": "8564323aff2d4d1a8d95aa918f4bb12e",
       "version_major": 2,
       "version_minor": 0
      },
      "text/plain": [
       "Map(center=[-76.018690727559, -159.47580049338623], controls=(WidgetControl(options=['position', 'transparent_…"
      ]
     },
     "metadata": {},
     "output_type": "display_data"
    }
   ],
   "source": [
    "fecha_inicio = '2020-06-06'\n",
    "fecha_fin = '2020-06-07'\n",
    "\n",
    "center = [-160.04981313796782, -75.90079351379877]\n",
    "buf_dist = 20000\n",
    "aoi = ee.Geometry.Point(center)\n",
    "aoi2 = aoi.buffer(buf_dist)\n",
    "\n",
    "S1A = ee.ImageCollection(\"COPERNICUS/S1_GRD\")\\\n",
    ".filterDate(fecha_inicio, fecha_fin)\\\n",
    ".filterBounds(aoi2)\\\n",
    ".filter(ee.Filter.listContains('transmitterReceiverPolarisation', \"HH\"))\n",
    "\n",
    "band = [\"HH\", \"angle\"]\n",
    "\n",
    "img = S1A.select(band)\n",
    "\n",
    "Map = geemap.Map(center= [centroid[1], centroid[0]], zoom = 10)\n",
    "visParams1 = {\"bands\": ['HH'], \"min\": -30, \"max\": 0}\n",
    "Map.addLayer(img, visParams1, 'S1')\n",
    "Map.addLayer(aoi, {'color': 'red'}, 'centro')\n",
    "Map.addLayer(aoi2, {'color': 'blue'}, 'centro2')\n",
    "Map"
   ]
  },
  {
   "cell_type": "code",
   "execution_count": 112,
   "metadata": {},
   "outputs": [
    {
     "data": {
      "text/html": [
       "\n",
       "            <style>\n",
       "                .geemap-dark {\n",
       "                    --jp-widgets-color: white;\n",
       "                    --jp-widgets-label-color: white;\n",
       "                    --jp-ui-font-color1: white;\n",
       "                    --jp-layout-color2: #454545;\n",
       "                    background-color: #383838;\n",
       "                }\n",
       "\n",
       "                .geemap-dark .jupyter-button {\n",
       "                    --jp-layout-color3: #383838;\n",
       "                }\n",
       "\n",
       "                .geemap-colab {\n",
       "                    background-color: var(--colab-primary-surface-color, white);\n",
       "                }\n",
       "\n",
       "                .geemap-colab .jupyter-button {\n",
       "                    --jp-layout-color3: var(--colab-primary-surface-color, white);\n",
       "                }\n",
       "            </style>\n",
       "            "
      ],
      "text/plain": [
       "<IPython.core.display.HTML object>"
      ]
     },
     "metadata": {},
     "output_type": "display_data"
    }
   ],
   "source": [
    "S1A = ee.ImageCollection(\"COPERNICUS/S1_GRD\")\\\n",
    ".filterDate('2020-06-12', '2020-07-12')\\\n",
    ".filterBounds(aoi2)\\\n",
    ".filter(ee.Filter.listContains('transmitterReceiverPolarisation', \"HH\"))\n",
    "\n",
    "band = [\"HH\", \"angle\"]\n",
    "\n",
    "img = S1A.select(band)"
   ]
  },
  {
   "cell_type": "code",
   "execution_count": 113,
   "metadata": {},
   "outputs": [
    {
     "data": {
      "text/html": [
       "\n",
       "            <style>\n",
       "                .geemap-dark {\n",
       "                    --jp-widgets-color: white;\n",
       "                    --jp-widgets-label-color: white;\n",
       "                    --jp-ui-font-color1: white;\n",
       "                    --jp-layout-color2: #454545;\n",
       "                    background-color: #383838;\n",
       "                }\n",
       "\n",
       "                .geemap-dark .jupyter-button {\n",
       "                    --jp-layout-color3: #383838;\n",
       "                }\n",
       "\n",
       "                .geemap-colab {\n",
       "                    background-color: var(--colab-primary-surface-color, white);\n",
       "                }\n",
       "\n",
       "                .geemap-colab .jupyter-button {\n",
       "                    --jp-layout-color3: var(--colab-primary-surface-color, white);\n",
       "                }\n",
       "            </style>\n",
       "            "
      ],
      "text/plain": [
       "<IPython.core.display.HTML object>"
      ]
     },
     "metadata": {},
     "output_type": "display_data"
    }
   ],
   "source": [
    "def contains_aoi(image):\n",
    "    footprint = ee.Geometry(image.geometry())\n",
    "    contains = footprint.contains(aoi2, 1)  # 1 es la tolerancia en metros\n",
    "    return image.set('contains_aoi', contains)"
   ]
  },
  {
   "cell_type": "code",
   "execution_count": 114,
   "metadata": {},
   "outputs": [
    {
     "data": {
      "text/html": [
       "\n",
       "            <style>\n",
       "                .geemap-dark {\n",
       "                    --jp-widgets-color: white;\n",
       "                    --jp-widgets-label-color: white;\n",
       "                    --jp-ui-font-color1: white;\n",
       "                    --jp-layout-color2: #454545;\n",
       "                    background-color: #383838;\n",
       "                }\n",
       "\n",
       "                .geemap-dark .jupyter-button {\n",
       "                    --jp-layout-color3: #383838;\n",
       "                }\n",
       "\n",
       "                .geemap-colab {\n",
       "                    background-color: var(--colab-primary-surface-color, white);\n",
       "                }\n",
       "\n",
       "                .geemap-colab .jupyter-button {\n",
       "                    --jp-layout-color3: var(--colab-primary-surface-color, white);\n",
       "                }\n",
       "            </style>\n",
       "            "
      ],
      "text/plain": [
       "<IPython.core.display.HTML object>"
      ]
     },
     "metadata": {},
     "output_type": "display_data"
    }
   ],
   "source": [
    "img_filtered = img.map(contains_aoi)"
   ]
  },
  {
   "cell_type": "code",
   "execution_count": 123,
   "metadata": {},
   "outputs": [
    {
     "data": {
      "text/html": [
       "\n",
       "            <style>\n",
       "                .geemap-dark {\n",
       "                    --jp-widgets-color: white;\n",
       "                    --jp-widgets-label-color: white;\n",
       "                    --jp-ui-font-color1: white;\n",
       "                    --jp-layout-color2: #454545;\n",
       "                    background-color: #383838;\n",
       "                }\n",
       "\n",
       "                .geemap-dark .jupyter-button {\n",
       "                    --jp-layout-color3: #383838;\n",
       "                }\n",
       "\n",
       "                .geemap-colab {\n",
       "                    background-color: var(--colab-primary-surface-color, white);\n",
       "                }\n",
       "\n",
       "                .geemap-colab .jupyter-button {\n",
       "                    --jp-layout-color3: var(--colab-primary-surface-color, white);\n",
       "                }\n",
       "            </style>\n",
       "            "
      ],
      "text/plain": [
       "<IPython.core.display.HTML object>"
      ]
     },
     "metadata": {},
     "output_type": "display_data"
    },
    {
     "data": {
      "text/html": [
       "<div><style>:root {\n",
       "  --font-color-primary: var(--jp-content-font-color0, rgba(0, 0, 0, 1));\n",
       "  --font-color-secondary: var(--jp-content-font-color2, rgba(0, 0, 0, 0.6));\n",
       "  --font-color-accent: rgba(123, 31, 162, 1);\n",
       "  --border-color: var(--jp-border-color2, #e0e0e0);\n",
       "  --background-color: var(--jp-layout-color0, white);\n",
       "  --background-color-row-even: var(--jp-layout-color1, white);\n",
       "  --background-color-row-odd: var(--jp-layout-color2, #eeeeee);\n",
       "}\n",
       "\n",
       "html[theme=\"dark\"],\n",
       "body[data-theme=\"dark\"],\n",
       "body.vscode-dark {\n",
       "  --font-color-primary: rgba(255, 255, 255, 1);\n",
       "  --font-color-secondary: rgba(255, 255, 255, 0.6);\n",
       "  --font-color-accent: rgb(173, 132, 190);\n",
       "  --border-color: #2e2e2e;\n",
       "  --background-color: #111111;\n",
       "  --background-color-row-even: #111111;\n",
       "  --background-color-row-odd: #313131;\n",
       "}\n",
       "\n",
       ".ee {\n",
       "  padding: 1em;\n",
       "  line-height: 1.5em;\n",
       "  min-width: 300px;\n",
       "  max-width: 1200px;\n",
       "  overflow-y: scroll;\n",
       "  max-height: 600px;\n",
       "  border: 1px solid var(--border-color);\n",
       "  font-family: monospace;\n",
       "}\n",
       "\n",
       ".ee li {\n",
       "  list-style-type: none;\n",
       "}\n",
       "\n",
       ".ee ul {\n",
       "  padding-left: 1.5em !important;\n",
       "  margin: 0;\n",
       "}\n",
       "\n",
       ".ee > ul {\n",
       "  padding-left: 0 !important;\n",
       "}\n",
       "\n",
       ".ee-open,\n",
       ".ee-shut {\n",
       "  color: var(--font-color-secondary);\n",
       "  cursor: pointer;\n",
       "  margin: 0;\n",
       "}\n",
       "\n",
       ".ee-open:hover,\n",
       ".ee-shut:hover {\n",
       "  color: var(--font-color-primary);\n",
       "}\n",
       "\n",
       ".ee-k {\n",
       "  color: var(--font-color-accent);\n",
       "  margin-right: 6px;\n",
       "}\n",
       "\n",
       ".ee-v {\n",
       "  color: var(--font-color-primary);\n",
       "}\n",
       "\n",
       ".ee-toggle {\n",
       "  display: none;\n",
       "}\n",
       "\n",
       ".ee-shut + ul {\n",
       "  display: none;\n",
       "}\n",
       "\n",
       ".ee-open + ul {\n",
       "  display: block;\n",
       "}\n",
       "\n",
       ".ee-shut::before {\n",
       "  display: inline-block;\n",
       "  content: \"▼\";\n",
       "  margin-right: 6px;\n",
       "  transform: rotate(-90deg);\n",
       "  transition: transform 0.2s;\n",
       "}\n",
       "\n",
       ".ee-open::before {\n",
       "  transform: rotate(0deg);\n",
       "  display: inline-block;\n",
       "  content: \"▼\";\n",
       "  margin-right: 6px;\n",
       "  transition: transform 0.2s;\n",
       "}\n",
       "</style><div class='ee'><ul><li><label class='ee-shut'>Image COPERNICUS/S1_GRD/S1A_EW_GRDM_1SDH_20200612T082629_20200612T082729_032981_03D1F9_F4BE (2 bands)<input type='checkbox' class='ee-toggle'></label><ul><li><span class='ee-k'>type:</span><span class='ee-v'>Image</span></li><li><span class='ee-k'>id:</span><span class='ee-v'>COPERNICUS/S1_GRD/S1A_EW_GRDM_1SDH_20200612T082629_20200612T082729_032981_03D1F9_F4BE</span></li><li><span class='ee-k'>version:</span><span class='ee-v'>1720455786986427</span></li><li><label class='ee-shut'>bands: List (2 elements)<input type='checkbox' class='ee-toggle'></label><ul><li><label class='ee-shut'>0: \"HH\", double, EPSG:32703, 1x1 px<input type='checkbox' class='ee-toggle'></label><ul><li><span class='ee-k'>id:</span><span class='ee-v'>HH</span></li><li><span class='ee-k'>crs:</span><span class='ee-v'>EPSG:32703</span></li><li><label class='ee-shut'>crs_transform: List (6 elements)<input type='checkbox' class='ee-toggle'></label><ul><li><span class='ee-k'>0:</span><span class='ee-v'>40</span></li><li><span class='ee-k'>1:</span><span class='ee-v'>0</span></li><li><span class='ee-k'>2:</span><span class='ee-v'>192052.24062151136</span></li><li><span class='ee-k'>3:</span><span class='ee-v'>0</span></li><li><span class='ee-k'>4:</span><span class='ee-v'>-40</span></li><li><span class='ee-k'>5:</span><span class='ee-v'>1959717.527828916</span></li></ul></li><li><label class='ee-shut'>data_type: double<input type='checkbox' class='ee-toggle'></label><ul><li><span class='ee-k'>type:</span><span class='ee-v'>PixelType</span></li><li><span class='ee-k'>precision:</span><span class='ee-v'>double</span></li></ul></li><li><label class='ee-shut'>dimensions: [1, 1]<input type='checkbox' class='ee-toggle'></label><ul><li><span class='ee-k'>0:</span><span class='ee-v'>1</span></li><li><span class='ee-k'>1:</span><span class='ee-v'>1</span></li></ul></li><li><label class='ee-shut'>origin: [11060, 9736]<input type='checkbox' class='ee-toggle'></label><ul><li><span class='ee-k'>0:</span><span class='ee-v'>11060</span></li><li><span class='ee-k'>1:</span><span class='ee-v'>9736</span></li></ul></li></ul></li><li><label class='ee-shut'>1: \"angle\", float, EPSG:32703, 1x1 px<input type='checkbox' class='ee-toggle'></label><ul><li><span class='ee-k'>id:</span><span class='ee-v'>angle</span></li><li><span class='ee-k'>crs:</span><span class='ee-v'>EPSG:32703</span></li><li><label class='ee-shut'>crs_transform: List (6 elements)<input type='checkbox' class='ee-toggle'></label><ul><li><span class='ee-k'>0:</span><span class='ee-v'>12692.405918962904</span></li><li><span class='ee-k'>1:</span><span class='ee-v'>-16149.555705882725</span></li><li><span class='ee-k'>2:</span><span class='ee-v'>563016.8013980659</span></li><li><span class='ee-k'>3:</span><span class='ee-v'>16419.185176454484</span></li><li><span class='ee-k'>4:</span><span class='ee-v'>12549.242437399924</span></li><li><span class='ee-k'>5:</span><span class='ee-v'>1380403.8905367479</span></li></ul></li><li><label class='ee-shut'>data_type: float<input type='checkbox' class='ee-toggle'></label><ul><li><span class='ee-k'>type:</span><span class='ee-v'>PixelType</span></li><li><span class='ee-k'>precision:</span><span class='ee-v'>float</span></li></ul></li><li><label class='ee-shut'>dimensions: [1, 1]<input type='checkbox' class='ee-toggle'></label><ul><li><span class='ee-k'>0:</span><span class='ee-v'>1</span></li><li><span class='ee-k'>1:</span><span class='ee-v'>1</span></li></ul></li><li><label class='ee-shut'>origin: [9, 2]<input type='checkbox' class='ee-toggle'></label><ul><li><span class='ee-k'>0:</span><span class='ee-v'>9</span></li><li><span class='ee-k'>1:</span><span class='ee-v'>2</span></li></ul></li></ul></li></ul></li><li><label class='ee-shut'>properties: Object (56 properties)<input type='checkbox' class='ee-toggle'></label><ul><li><span class='ee-k'>GRD_Post_Processing_facility_country:</span><span class='ee-v'>Germany</span></li><li><span class='ee-k'>GRD_Post_Processing_facility_name:</span><span class='ee-v'>Copernicus S1 Core Ground Segment - DPA</span></li><li><span class='ee-k'>GRD_Post_Processing_facility_org:</span><span class='ee-v'>ESA</span></li><li><span class='ee-k'>GRD_Post_Processing_facility_site:</span><span class='ee-v'>DLR-Oberpfaffenhofen</span></li><li><span class='ee-k'>GRD_Post_Processing_software_name:</span><span class='ee-v'>Sentinel-1 IPF</span></li><li><span class='ee-k'>GRD_Post_Processing_software_version:</span><span class='ee-v'>003.20</span></li><li><span class='ee-k'>GRD_Post_Processing_start:</span><span class='ee-v'>1591958972927</span></li><li><span class='ee-k'>GRD_Post_Processing_stop:</span><span class='ee-v'>1591959429000</span></li><li><span class='ee-k'>S1TBX_Calibration_vers:</span><span class='ee-v'>7.0.2</span></li><li><span class='ee-k'>S1TBX_SAR_Processing_vers:</span><span class='ee-v'>7.0.2</span></li><li><span class='ee-k'>SLC_Processing_facility_country:</span><span class='ee-v'>Germany</span></li><li><span class='ee-k'>SLC_Processing_facility_name:</span><span class='ee-v'>Copernicus S1 Core Ground Segment - DPA</span></li><li><span class='ee-k'>SLC_Processing_facility_org:</span><span class='ee-v'>ESA</span></li><li><span class='ee-k'>SLC_Processing_facility_site:</span><span class='ee-v'>DLR-Oberpfaffenhofen</span></li><li><span class='ee-k'>SLC_Processing_software_name:</span><span class='ee-v'>Sentinel-1 IPF</span></li><li><span class='ee-k'>SLC_Processing_software_version:</span><span class='ee-v'>003.20</span></li><li><span class='ee-k'>SLC_Processing_start:</span><span class='ee-v'>1591959052000</span></li><li><span class='ee-k'>SLC_Processing_stop:</span><span class='ee-v'>1591959323000</span></li><li><span class='ee-k'>SNAP_Graph_Processing_Framework_GPF_vers:</span><span class='ee-v'>7.0.3</span></li><li><span class='ee-k'>contains_aoi:</span><span class='ee-v'>True</span></li><li><span class='ee-k'>cycleNumber:</span><span class='ee-v'>203</span></li><li><span class='ee-k'>familyName:</span><span class='ee-v'>SENTINEL-1</span></li><li><span class='ee-k'>instrument:</span><span class='ee-v'>Synthetic Aperture Radar</span></li><li><span class='ee-k'>instrumentConfigurationID:</span><span class='ee-v'>6</span></li><li><span class='ee-k'>instrumentMode:</span><span class='ee-v'>EW</span></li><li><span class='ee-k'>instrumentSwath:</span><span class='ee-v'>EW</span></li><li><span class='ee-k'>missionDataTakeID:</span><span class='ee-v'>250361</span></li><li><span class='ee-k'>nssdcIdentifier:</span><span class='ee-v'>2014-016A</span></li><li><span class='ee-k'>orbitNumber_start:</span><span class='ee-v'>32981</span></li><li><span class='ee-k'>orbitNumber_stop:</span><span class='ee-v'>32981</span></li><li><span class='ee-k'>orbitProperties_ascendingNodeTime:</span><span class='ee-v'>1591945828631</span></li><li><span class='ee-k'>orbitProperties_pass:</span><span class='ee-v'>ASCENDING</span></li><li><span class='ee-k'>phaseIdentifier:</span><span class='ee-v'>1</span></li><li><span class='ee-k'>platformHeading:</span><span class='ee-v'>-43.22095534519661</span></li><li><span class='ee-k'>platform_number:</span><span class='ee-v'>A</span></li><li><span class='ee-k'>productClass:</span><span class='ee-v'>S</span></li><li><span class='ee-k'>productClassDescription:</span><span class='ee-v'>SAR Standard L1 Product</span></li><li><span class='ee-k'>productComposition:</span><span class='ee-v'>Slice</span></li><li><span class='ee-k'>productTimelinessCategory:</span><span class='ee-v'>Fast-24h</span></li><li><span class='ee-k'>productType:</span><span class='ee-v'>GRD</span></li><li><span class='ee-k'>relativeOrbitNumber_start:</span><span class='ee-v'>9</span></li><li><span class='ee-k'>relativeOrbitNumber_stop:</span><span class='ee-v'>9</span></li><li><span class='ee-k'>resolution:</span><span class='ee-v'>M</span></li><li><span class='ee-k'>resolution_meters:</span><span class='ee-v'>40</span></li><li><span class='ee-k'>segmentStartTime:</span><span class='ee-v'>1591950325535</span></li><li><span class='ee-k'>sliceNumber:</span><span class='ee-v'>2</span></li><li><span class='ee-k'>sliceProductFlag:</span><span class='ee-v'>true</span></li><li><span class='ee-k'>startTimeANX:</span><span class='ee-v'>4561004</span></li><li><span class='ee-k'>stopTimeANX:</span><span class='ee-v'>4621000</span></li><li><span class='ee-k'>system:asset_size:</span><span class='ee-v'>1000851062</span></li><li><label class='ee-shut'>system:footprint: Point (-160.05, -75.90)<input type='checkbox' class='ee-toggle'></label><ul><li><span class='ee-k'>type:</span><span class='ee-v'>Point</span></li><li><label class='ee-shut'>coordinates: [-160.04981313796782, -75.90079351379877]<input type='checkbox' class='ee-toggle'></label><ul><li><span class='ee-k'>0:</span><span class='ee-v'>-160.04981313796782</span></li><li><span class='ee-k'>1:</span><span class='ee-v'>-75.90079351379877</span></li></ul></li></ul></li><li><span class='ee-k'>system:index:</span><span class='ee-v'>S1A_EW_GRDM_1SDH_20200612T082629_20200612T082729_032981_03D1F9_F4BE</span></li><li><span class='ee-k'>system:time_end:</span><span class='ee-v'>1591950389000</span></li><li><span class='ee-k'>system:time_start:</span><span class='ee-v'>1591950389000</span></li><li><span class='ee-k'>totalSlices:</span><span class='ee-v'>3</span></li><li><label class='ee-shut'>transmitterReceiverPolarisation: ['HH', 'HV']<input type='checkbox' class='ee-toggle'></label><ul><li><span class='ee-k'>0:</span><span class='ee-v'>HH</span></li><li><span class='ee-k'>1:</span><span class='ee-v'>HV</span></li></ul></li></ul></li></ul></li></ul></div><script>function toggleHeader() {\n",
       "    const parent = this.parentElement;\n",
       "    parent.className = parent.className === \"ee-open\" ? \"ee-shut\" : \"ee-open\";\n",
       "}\n",
       "\n",
       "for (let c of document.getElementsByClassName(\"ee-toggle\")) {\n",
       "    c.onclick = toggleHeader;\n",
       "}</script></div>"
      ],
      "text/plain": [
       "<ee.image.Image at 0x253795d1e20>"
      ]
     },
     "execution_count": 123,
     "metadata": {},
     "output_type": "execute_result"
    }
   ],
   "source": [
    "img_filtered.first().clip(aoi)"
   ]
  },
  {
   "cell_type": "code",
   "execution_count": 121,
   "metadata": {},
   "outputs": [
    {
     "data": {
      "text/html": [
       "\n",
       "            <style>\n",
       "                .geemap-dark {\n",
       "                    --jp-widgets-color: white;\n",
       "                    --jp-widgets-label-color: white;\n",
       "                    --jp-ui-font-color1: white;\n",
       "                    --jp-layout-color2: #454545;\n",
       "                    background-color: #383838;\n",
       "                }\n",
       "\n",
       "                .geemap-dark .jupyter-button {\n",
       "                    --jp-layout-color3: #383838;\n",
       "                }\n",
       "\n",
       "                .geemap-colab {\n",
       "                    background-color: var(--colab-primary-surface-color, white);\n",
       "                }\n",
       "\n",
       "                .geemap-colab .jupyter-button {\n",
       "                    --jp-layout-color3: var(--colab-primary-surface-color, white);\n",
       "                }\n",
       "            </style>\n",
       "            "
      ],
      "text/plain": [
       "<IPython.core.display.HTML object>"
      ]
     },
     "metadata": {},
     "output_type": "display_data"
    },
    {
     "data": {
      "text/html": [
       "<div><style>:root {\n",
       "  --font-color-primary: var(--jp-content-font-color0, rgba(0, 0, 0, 1));\n",
       "  --font-color-secondary: var(--jp-content-font-color2, rgba(0, 0, 0, 0.6));\n",
       "  --font-color-accent: rgba(123, 31, 162, 1);\n",
       "  --border-color: var(--jp-border-color2, #e0e0e0);\n",
       "  --background-color: var(--jp-layout-color0, white);\n",
       "  --background-color-row-even: var(--jp-layout-color1, white);\n",
       "  --background-color-row-odd: var(--jp-layout-color2, #eeeeee);\n",
       "}\n",
       "\n",
       "html[theme=\"dark\"],\n",
       "body[data-theme=\"dark\"],\n",
       "body.vscode-dark {\n",
       "  --font-color-primary: rgba(255, 255, 255, 1);\n",
       "  --font-color-secondary: rgba(255, 255, 255, 0.6);\n",
       "  --font-color-accent: rgb(173, 132, 190);\n",
       "  --border-color: #2e2e2e;\n",
       "  --background-color: #111111;\n",
       "  --background-color-row-even: #111111;\n",
       "  --background-color-row-odd: #313131;\n",
       "}\n",
       "\n",
       ".ee {\n",
       "  padding: 1em;\n",
       "  line-height: 1.5em;\n",
       "  min-width: 300px;\n",
       "  max-width: 1200px;\n",
       "  overflow-y: scroll;\n",
       "  max-height: 600px;\n",
       "  border: 1px solid var(--border-color);\n",
       "  font-family: monospace;\n",
       "}\n",
       "\n",
       ".ee li {\n",
       "  list-style-type: none;\n",
       "}\n",
       "\n",
       ".ee ul {\n",
       "  padding-left: 1.5em !important;\n",
       "  margin: 0;\n",
       "}\n",
       "\n",
       ".ee > ul {\n",
       "  padding-left: 0 !important;\n",
       "}\n",
       "\n",
       ".ee-open,\n",
       ".ee-shut {\n",
       "  color: var(--font-color-secondary);\n",
       "  cursor: pointer;\n",
       "  margin: 0;\n",
       "}\n",
       "\n",
       ".ee-open:hover,\n",
       ".ee-shut:hover {\n",
       "  color: var(--font-color-primary);\n",
       "}\n",
       "\n",
       ".ee-k {\n",
       "  color: var(--font-color-accent);\n",
       "  margin-right: 6px;\n",
       "}\n",
       "\n",
       ".ee-v {\n",
       "  color: var(--font-color-primary);\n",
       "}\n",
       "\n",
       ".ee-toggle {\n",
       "  display: none;\n",
       "}\n",
       "\n",
       ".ee-shut + ul {\n",
       "  display: none;\n",
       "}\n",
       "\n",
       ".ee-open + ul {\n",
       "  display: block;\n",
       "}\n",
       "\n",
       ".ee-shut::before {\n",
       "  display: inline-block;\n",
       "  content: \"▼\";\n",
       "  margin-right: 6px;\n",
       "  transform: rotate(-90deg);\n",
       "  transition: transform 0.2s;\n",
       "}\n",
       "\n",
       ".ee-open::before {\n",
       "  transform: rotate(0deg);\n",
       "  display: inline-block;\n",
       "  content: \"▼\";\n",
       "  margin-right: 6px;\n",
       "  transition: transform 0.2s;\n",
       "}\n",
       "</style><div class='ee'><ul><li><label class='ee-shut'>List (15 elements)<input type='checkbox' class='ee-toggle'></label><ul><li><label class='ee-shut'>0: Image COPERNICUS/S1_GRD/S1A_EW_GRDM_1SDH_20200612T082629_20200612T082729_032981_03D1F9_F4BE (2 bands)<input type='checkbox' class='ee-toggle'></label><ul><li><span class='ee-k'>type:</span><span class='ee-v'>Image</span></li><li><span class='ee-k'>id:</span><span class='ee-v'>COPERNICUS/S1_GRD/S1A_EW_GRDM_1SDH_20200612T082629_20200612T082729_032981_03D1F9_F4BE</span></li><li><span class='ee-k'>version:</span><span class='ee-v'>1720455786986427</span></li><li><label class='ee-shut'>bands: List (2 elements)<input type='checkbox' class='ee-toggle'></label><ul><li><label class='ee-shut'>0: \"HH\", double, EPSG:32703, 16593x15020 px<input type='checkbox' class='ee-toggle'></label><ul><li><span class='ee-k'>id:</span><span class='ee-v'>HH</span></li><li><span class='ee-k'>crs:</span><span class='ee-v'>EPSG:32703</span></li><li><label class='ee-shut'>crs_transform: List (6 elements)<input type='checkbox' class='ee-toggle'></label><ul><li><span class='ee-k'>0:</span><span class='ee-v'>40</span></li><li><span class='ee-k'>1:</span><span class='ee-v'>0</span></li><li><span class='ee-k'>2:</span><span class='ee-v'>192052.24062151136</span></li><li><span class='ee-k'>3:</span><span class='ee-v'>0</span></li><li><span class='ee-k'>4:</span><span class='ee-v'>-40</span></li><li><span class='ee-k'>5:</span><span class='ee-v'>1959717.527828916</span></li></ul></li><li><label class='ee-shut'>data_type: double<input type='checkbox' class='ee-toggle'></label><ul><li><span class='ee-k'>type:</span><span class='ee-v'>PixelType</span></li><li><span class='ee-k'>precision:</span><span class='ee-v'>double</span></li></ul></li><li><label class='ee-shut'>dimensions: [16593, 15020]<input type='checkbox' class='ee-toggle'></label><ul><li><span class='ee-k'>0:</span><span class='ee-v'>16593</span></li><li><span class='ee-k'>1:</span><span class='ee-v'>15020</span></li></ul></li></ul></li><li><label class='ee-shut'>1: \"angle\", float, EPSG:32703, 21x21 px<input type='checkbox' class='ee-toggle'></label><ul><li><span class='ee-k'>id:</span><span class='ee-v'>angle</span></li><li><span class='ee-k'>crs:</span><span class='ee-v'>EPSG:32703</span></li><li><label class='ee-shut'>crs_transform: List (6 elements)<input type='checkbox' class='ee-toggle'></label><ul><li><span class='ee-k'>0:</span><span class='ee-v'>12692.405918962904</span></li><li><span class='ee-k'>1:</span><span class='ee-v'>-16149.555705882725</span></li><li><span class='ee-k'>2:</span><span class='ee-v'>563016.8013980659</span></li><li><span class='ee-k'>3:</span><span class='ee-v'>16419.185176454484</span></li><li><span class='ee-k'>4:</span><span class='ee-v'>12549.242437399924</span></li><li><span class='ee-k'>5:</span><span class='ee-v'>1380403.8905367479</span></li></ul></li><li><label class='ee-shut'>data_type: float<input type='checkbox' class='ee-toggle'></label><ul><li><span class='ee-k'>type:</span><span class='ee-v'>PixelType</span></li><li><span class='ee-k'>precision:</span><span class='ee-v'>float</span></li></ul></li><li><label class='ee-shut'>dimensions: [21, 21]<input type='checkbox' class='ee-toggle'></label><ul><li><span class='ee-k'>0:</span><span class='ee-v'>21</span></li><li><span class='ee-k'>1:</span><span class='ee-v'>21</span></li></ul></li></ul></li></ul></li><li><label class='ee-shut'>properties: Object (56 properties)<input type='checkbox' class='ee-toggle'></label><ul><li><span class='ee-k'>GRD_Post_Processing_facility_country:</span><span class='ee-v'>Germany</span></li><li><span class='ee-k'>GRD_Post_Processing_facility_name:</span><span class='ee-v'>Copernicus S1 Core Ground Segment - DPA</span></li><li><span class='ee-k'>GRD_Post_Processing_facility_org:</span><span class='ee-v'>ESA</span></li><li><span class='ee-k'>GRD_Post_Processing_facility_site:</span><span class='ee-v'>DLR-Oberpfaffenhofen</span></li><li><span class='ee-k'>GRD_Post_Processing_software_name:</span><span class='ee-v'>Sentinel-1 IPF</span></li><li><span class='ee-k'>GRD_Post_Processing_software_version:</span><span class='ee-v'>003.20</span></li><li><span class='ee-k'>GRD_Post_Processing_start:</span><span class='ee-v'>1591958972927</span></li><li><span class='ee-k'>GRD_Post_Processing_stop:</span><span class='ee-v'>1591959429000</span></li><li><span class='ee-k'>S1TBX_Calibration_vers:</span><span class='ee-v'>7.0.2</span></li><li><span class='ee-k'>S1TBX_SAR_Processing_vers:</span><span class='ee-v'>7.0.2</span></li><li><span class='ee-k'>SLC_Processing_facility_country:</span><span class='ee-v'>Germany</span></li><li><span class='ee-k'>SLC_Processing_facility_name:</span><span class='ee-v'>Copernicus S1 Core Ground Segment - DPA</span></li><li><span class='ee-k'>SLC_Processing_facility_org:</span><span class='ee-v'>ESA</span></li><li><span class='ee-k'>SLC_Processing_facility_site:</span><span class='ee-v'>DLR-Oberpfaffenhofen</span></li><li><span class='ee-k'>SLC_Processing_software_name:</span><span class='ee-v'>Sentinel-1 IPF</span></li><li><span class='ee-k'>SLC_Processing_software_version:</span><span class='ee-v'>003.20</span></li><li><span class='ee-k'>SLC_Processing_start:</span><span class='ee-v'>1591959052000</span></li><li><span class='ee-k'>SLC_Processing_stop:</span><span class='ee-v'>1591959323000</span></li><li><span class='ee-k'>SNAP_Graph_Processing_Framework_GPF_vers:</span><span class='ee-v'>7.0.3</span></li><li><span class='ee-k'>contains_aoi:</span><span class='ee-v'>True</span></li><li><span class='ee-k'>cycleNumber:</span><span class='ee-v'>203</span></li><li><span class='ee-k'>familyName:</span><span class='ee-v'>SENTINEL-1</span></li><li><span class='ee-k'>instrument:</span><span class='ee-v'>Synthetic Aperture Radar</span></li><li><span class='ee-k'>instrumentConfigurationID:</span><span class='ee-v'>6</span></li><li><span class='ee-k'>instrumentMode:</span><span class='ee-v'>EW</span></li><li><span class='ee-k'>instrumentSwath:</span><span class='ee-v'>EW</span></li><li><span class='ee-k'>missionDataTakeID:</span><span class='ee-v'>250361</span></li><li><span class='ee-k'>nssdcIdentifier:</span><span class='ee-v'>2014-016A</span></li><li><span class='ee-k'>orbitNumber_start:</span><span class='ee-v'>32981</span></li><li><span class='ee-k'>orbitNumber_stop:</span><span class='ee-v'>32981</span></li><li><span class='ee-k'>orbitProperties_ascendingNodeTime:</span><span class='ee-v'>1591945828631</span></li><li><span class='ee-k'>orbitProperties_pass:</span><span class='ee-v'>ASCENDING</span></li><li><span class='ee-k'>phaseIdentifier:</span><span class='ee-v'>1</span></li><li><span class='ee-k'>platformHeading:</span><span class='ee-v'>-43.22095534519661</span></li><li><span class='ee-k'>platform_number:</span><span class='ee-v'>A</span></li><li><span class='ee-k'>productClass:</span><span class='ee-v'>S</span></li><li><span class='ee-k'>productClassDescription:</span><span class='ee-v'>SAR Standard L1 Product</span></li><li><span class='ee-k'>productComposition:</span><span class='ee-v'>Slice</span></li><li><span class='ee-k'>productTimelinessCategory:</span><span class='ee-v'>Fast-24h</span></li><li><span class='ee-k'>productType:</span><span class='ee-v'>GRD</span></li><li><span class='ee-k'>relativeOrbitNumber_start:</span><span class='ee-v'>9</span></li><li><span class='ee-k'>relativeOrbitNumber_stop:</span><span class='ee-v'>9</span></li><li><span class='ee-k'>resolution:</span><span class='ee-v'>M</span></li><li><span class='ee-k'>resolution_meters:</span><span class='ee-v'>40</span></li><li><span class='ee-k'>segmentStartTime:</span><span class='ee-v'>1591950325535</span></li><li><span class='ee-k'>sliceNumber:</span><span class='ee-v'>2</span></li><li><span class='ee-k'>sliceProductFlag:</span><span class='ee-v'>true</span></li><li><span class='ee-k'>startTimeANX:</span><span class='ee-v'>4561004</span></li><li><span class='ee-k'>stopTimeANX:</span><span class='ee-v'>4621000</span></li><li><span class='ee-k'>system:asset_size:</span><span class='ee-v'>1000851062</span></li><li><label class='ee-shut'>system:footprint: LinearRing (20 vertices)<input type='checkbox' class='ee-toggle'></label><ul><li><span class='ee-k'>type:</span><span class='ee-v'>LinearRing</span></li><li><label class='ee-shut'>coordinates: List (20 elements)<input type='checkbox' class='ee-toggle'></label><ul><li><label class='ee-shut'>0: [-162.32003351209858, -77.62719467416953]<input type='checkbox' class='ee-toggle'></label><ul><li><span class='ee-k'>0:</span><span class='ee-v'>-162.32003351209858</span></li><li><span class='ee-k'>1:</span><span class='ee-v'>-77.62719467416953</span></li></ul></li><li><label class='ee-shut'>1: [-162.01176282725515, -77.5322914295239]<input type='checkbox' class='ee-toggle'></label><ul><li><span class='ee-k'>0:</span><span class='ee-v'>-162.01176282725515</span></li><li><span class='ee-k'>1:</span><span class='ee-v'>-77.5322914295239</span></li></ul></li><li><label class='ee-shut'>2: [-154.406962594071, -74.47713254683143]<input type='checkbox' class='ee-toggle'></label><ul><li><span class='ee-k'>0:</span><span class='ee-v'>-154.406962594071</span></li><li><span class='ee-k'>1:</span><span class='ee-v'>-74.47713254683143</span></li></ul></li><li><label class='ee-shut'>3: [-154.37679395223063, -74.46102217008375]<input type='checkbox' class='ee-toggle'></label><ul><li><span class='ee-k'>0:</span><span class='ee-v'>-154.37679395223063</span></li><li><span class='ee-k'>1:</span><span class='ee-v'>-74.46102217008375</span></li></ul></li><li><label class='ee-shut'>4: [-154.39281035807252, -74.45804228658714]<input type='checkbox' class='ee-toggle'></label><ul><li><span class='ee-k'>0:</span><span class='ee-v'>-154.39281035807252</span></li><li><span class='ee-k'>1:</span><span class='ee-v'>-74.45804228658714</span></li></ul></li><li><label class='ee-shut'>5: [-154.76783903685586, -74.40510444996804]<input type='checkbox' class='ee-toggle'></label><ul><li><span class='ee-k'>0:</span><span class='ee-v'>-154.76783903685586</span></li><li><span class='ee-k'>1:</span><span class='ee-v'>-74.40510444996804</span></li></ul></li><li><label class='ee-shut'>6: [-158.7495042459508, -73.78319701889076]<input type='checkbox' class='ee-toggle'></label><ul><li><span class='ee-k'>0:</span><span class='ee-v'>-158.7495042459508</span></li><li><span class='ee-k'>1:</span><span class='ee-v'>-73.78319701889076</span></li></ul></li><li><label class='ee-shut'>7: [-162.45694536199747, -73.08657411302649]<input type='checkbox' class='ee-toggle'></label><ul><li><span class='ee-k'>0:</span><span class='ee-v'>-162.45694536199747</span></li><li><span class='ee-k'>1:</span><span class='ee-v'>-73.08657411302649</span></li></ul></li><li><label class='ee-shut'>8: [-162.86669609533033, -73.0018969562876]<input type='checkbox' class='ee-toggle'></label><ul><li><span class='ee-k'>0:</span><span class='ee-v'>-162.86669609533033</span></li><li><span class='ee-k'>1:</span><span class='ee-v'>-73.0018969562876</span></li></ul></li><li><label class='ee-shut'>9: [-163.2388175552193, -72.92364827137668]<input type='checkbox' class='ee-toggle'></label><ul><li><span class='ee-k'>0:</span><span class='ee-v'>-163.2388175552193</span></li><li><span class='ee-k'>1:</span><span class='ee-v'>-72.92364827137668</span></li></ul></li><li><label class='ee-shut'>10: [-165.13956305012312, -72.50305116146465]<input type='checkbox' class='ee-toggle'></label><ul><li><span class='ee-k'>0:</span><span class='ee-v'>-165.13956305012312</span></li><li><span class='ee-k'>1:</span><span class='ee-v'>-72.50305116146465</span></li></ul></li><li><label class='ee-shut'>11: [-165.2863537473353, -72.46931797579398]<input type='checkbox' class='ee-toggle'></label><ul><li><span class='ee-k'>0:</span><span class='ee-v'>-165.2863537473353</span></li><li><span class='ee-k'>1:</span><span class='ee-v'>-72.46931797579398</span></li></ul></li><li><label class='ee-shut'>12: [-165.29991126695816, -72.47336410020691]<input type='checkbox' class='ee-toggle'></label><ul><li><span class='ee-k'>0:</span><span class='ee-v'>-165.29991126695816</span></li><li><span class='ee-k'>1:</span><span class='ee-v'>-72.47336410020691</span></li></ul></li><li><label class='ee-shut'>13: [-168.51437972360492, -73.6209989831188]<input type='checkbox' class='ee-toggle'></label><ul><li><span class='ee-k'>0:</span><span class='ee-v'>-168.51437972360492</span></li><li><span class='ee-k'>1:</span><span class='ee-v'>-73.6209989831188</span></li></ul></li><li><label class='ee-shut'>14: [-172.38944185305, -74.76733371664308]<input type='checkbox' class='ee-toggle'></label><ul><li><span class='ee-k'>0:</span><span class='ee-v'>-172.38944185305</span></li><li><span class='ee-k'>1:</span><span class='ee-v'>-74.76733371664308</span></li></ul></li><li><label class='ee-shut'>15: [-174.1846536117323, -75.2259971098745]<input type='checkbox' class='ee-toggle'></label><ul><li><span class='ee-k'>0:</span><span class='ee-v'>-174.1846536117323</span></li><li><span class='ee-k'>1:</span><span class='ee-v'>-75.2259971098745</span></li></ul></li><li><label class='ee-shut'>16: [-174.18630244739896, -75.22868667042788]<input type='checkbox' class='ee-toggle'></label><ul><li><span class='ee-k'>0:</span><span class='ee-v'>-174.18630244739896</span></li><li><span class='ee-k'>1:</span><span class='ee-v'>-75.22868667042788</span></li></ul></li><li><label class='ee-shut'>17: [-171.7182651064049, -75.85227034611681]<input type='checkbox' class='ee-toggle'></label><ul><li><span class='ee-k'>0:</span><span class='ee-v'>-171.7182651064049</span></li><li><span class='ee-k'>1:</span><span class='ee-v'>-75.85227034611681</span></li></ul></li><li><label class='ee-shut'>18: [-162.33898642486466, -77.63164405867538]<input type='checkbox' class='ee-toggle'></label><ul><li><span class='ee-k'>0:</span><span class='ee-v'>-162.33898642486466</span></li><li><span class='ee-k'>1:</span><span class='ee-v'>-77.63164405867538</span></li></ul></li><li><label class='ee-shut'>19: [-162.32003351209858, -77.62719467416953]<input type='checkbox' class='ee-toggle'></label><ul><li><span class='ee-k'>0:</span><span class='ee-v'>-162.32003351209858</span></li><li><span class='ee-k'>1:</span><span class='ee-v'>-77.62719467416953</span></li></ul></li></ul></li></ul></li><li><span class='ee-k'>system:index:</span><span class='ee-v'>S1A_EW_GRDM_1SDH_20200612T082629_20200612T082729_032981_03D1F9_F4BE</span></li><li><span class='ee-k'>system:time_end:</span><span class='ee-v'>1591950389000</span></li><li><span class='ee-k'>system:time_start:</span><span class='ee-v'>1591950389000</span></li><li><span class='ee-k'>totalSlices:</span><span class='ee-v'>3</span></li><li><label class='ee-shut'>transmitterReceiverPolarisation: ['HH', 'HV']<input type='checkbox' class='ee-toggle'></label><ul><li><span class='ee-k'>0:</span><span class='ee-v'>HH</span></li><li><span class='ee-k'>1:</span><span class='ee-v'>HV</span></li></ul></li></ul></li></ul></li><li><label class='ee-shut'>1: Image COPERNICUS/S1_GRD/S1A_EW_GRDM_1SDH_20200614T081016_20200614T081116_033010_03D2D6_21C0 (2 bands)<input type='checkbox' class='ee-toggle'></label><ul><li><span class='ee-k'>type:</span><span class='ee-v'>Image</span></li><li><span class='ee-k'>id:</span><span class='ee-v'>COPERNICUS/S1_GRD/S1A_EW_GRDM_1SDH_20200614T081016_20200614T081116_033010_03D2D6_21C0</span></li><li><span class='ee-k'>version:</span><span class='ee-v'>1720455786986427</span></li><li><label class='ee-shut'>bands: List (2 elements)<input type='checkbox' class='ee-toggle'></label><ul><li><label class='ee-shut'>0: \"HH\", double, EPSG:32703, 16715x15387 px<input type='checkbox' class='ee-toggle'></label><ul><li><span class='ee-k'>id:</span><span class='ee-v'>HH</span></li><li><span class='ee-k'>crs:</span><span class='ee-v'>EPSG:32703</span></li><li><label class='ee-shut'>crs_transform: List (6 elements)<input type='checkbox' class='ee-toggle'></label><ul><li><span class='ee-k'>0:</span><span class='ee-v'>40</span></li><li><span class='ee-k'>1:</span><span class='ee-v'>0</span></li><li><span class='ee-k'>2:</span><span class='ee-v'>245613.7197869098</span></li><li><span class='ee-k'>3:</span><span class='ee-v'>0</span></li><li><span class='ee-k'>4:</span><span class='ee-v'>-40</span></li><li><span class='ee-k'>5:</span><span class='ee-v'>2018709.3117770534</span></li></ul></li><li><label class='ee-shut'>data_type: double<input type='checkbox' class='ee-toggle'></label><ul><li><span class='ee-k'>type:</span><span class='ee-v'>PixelType</span></li><li><span class='ee-k'>precision:</span><span class='ee-v'>double</span></li></ul></li><li><label class='ee-shut'>dimensions: [16715, 15387]<input type='checkbox' class='ee-toggle'></label><ul><li><span class='ee-k'>0:</span><span class='ee-v'>16715</span></li><li><span class='ee-k'>1:</span><span class='ee-v'>15387</span></li></ul></li></ul></li><li><label class='ee-shut'>1: \"angle\", float, EPSG:32703, 21x21 px<input type='checkbox' class='ee-toggle'></label><ul><li><span class='ee-k'>id:</span><span class='ee-v'>angle</span></li><li><span class='ee-k'>crs:</span><span class='ee-v'>EPSG:32703</span></li><li><label class='ee-shut'>crs_transform: List (6 elements)<input type='checkbox' class='ee-toggle'></label><ul><li><span class='ee-k'>0:</span><span class='ee-v'>13946.68522428826</span></li><li><span class='ee-k'>1:</span><span class='ee-v'>-15247.73548361042</span></li><li><span class='ee-k'>2:</span><span class='ee-v'>588305.4915894987</span></li><li><span class='ee-k'>3:</span><span class='ee-v'>15692.10285034217</span></li><li><span class='ee-k'>4:</span><span class='ee-v'>13631.072200557217</span></li><li><span class='ee-k'>5:</span><span class='ee-v'>1431003.5283727385</span></li></ul></li><li><label class='ee-shut'>data_type: float<input type='checkbox' class='ee-toggle'></label><ul><li><span class='ee-k'>type:</span><span class='ee-v'>PixelType</span></li><li><span class='ee-k'>precision:</span><span class='ee-v'>float</span></li></ul></li><li><label class='ee-shut'>dimensions: [21, 21]<input type='checkbox' class='ee-toggle'></label><ul><li><span class='ee-k'>0:</span><span class='ee-v'>21</span></li><li><span class='ee-k'>1:</span><span class='ee-v'>21</span></li></ul></li></ul></li></ul></li><li><label class='ee-shut'>properties: Object (56 properties)<input type='checkbox' class='ee-toggle'></label><ul><li><span class='ee-k'>GRD_Post_Processing_facility_country:</span><span class='ee-v'>Germany</span></li><li><span class='ee-k'>GRD_Post_Processing_facility_name:</span><span class='ee-v'>Copernicus S1 Core Ground Segment - DPA</span></li><li><span class='ee-k'>GRD_Post_Processing_facility_org:</span><span class='ee-v'>ESA</span></li><li><span class='ee-k'>GRD_Post_Processing_facility_site:</span><span class='ee-v'>DLR-Oberpfaffenhofen</span></li><li><span class='ee-k'>GRD_Post_Processing_software_name:</span><span class='ee-v'>Sentinel-1 IPF</span></li><li><span class='ee-k'>GRD_Post_Processing_software_version:</span><span class='ee-v'>003.20</span></li><li><span class='ee-k'>GRD_Post_Processing_start:</span><span class='ee-v'>1592129124116</span></li><li><span class='ee-k'>GRD_Post_Processing_stop:</span><span class='ee-v'>1592129604000</span></li><li><span class='ee-k'>S1TBX_Calibration_vers:</span><span class='ee-v'>7.0.2</span></li><li><span class='ee-k'>S1TBX_SAR_Processing_vers:</span><span class='ee-v'>7.0.2</span></li><li><span class='ee-k'>SLC_Processing_facility_country:</span><span class='ee-v'>Germany</span></li><li><span class='ee-k'>SLC_Processing_facility_name:</span><span class='ee-v'>Copernicus S1 Core Ground Segment - DPA</span></li><li><span class='ee-k'>SLC_Processing_facility_org:</span><span class='ee-v'>ESA</span></li><li><span class='ee-k'>SLC_Processing_facility_site:</span><span class='ee-v'>DLR-Oberpfaffenhofen</span></li><li><span class='ee-k'>SLC_Processing_software_name:</span><span class='ee-v'>Sentinel-1 IPF</span></li><li><span class='ee-k'>SLC_Processing_software_version:</span><span class='ee-v'>003.20</span></li><li><span class='ee-k'>SLC_Processing_start:</span><span class='ee-v'>1592129209000</span></li><li><span class='ee-k'>SLC_Processing_stop:</span><span class='ee-v'>1592129492000</span></li><li><span class='ee-k'>SNAP_Graph_Processing_Framework_GPF_vers:</span><span class='ee-v'>7.0.3</span></li><li><span class='ee-k'>contains_aoi:</span><span class='ee-v'>True</span></li><li><span class='ee-k'>cycleNumber:</span><span class='ee-v'>203</span></li><li><span class='ee-k'>familyName:</span><span class='ee-v'>SENTINEL-1</span></li><li><span class='ee-k'>instrument:</span><span class='ee-v'>Synthetic Aperture Radar</span></li><li><span class='ee-k'>instrumentConfigurationID:</span><span class='ee-v'>6</span></li><li><span class='ee-k'>instrumentMode:</span><span class='ee-v'>EW</span></li><li><span class='ee-k'>instrumentSwath:</span><span class='ee-v'>EW</span></li><li><span class='ee-k'>missionDataTakeID:</span><span class='ee-v'>250582</span></li><li><span class='ee-k'>nssdcIdentifier:</span><span class='ee-v'>2014-016A</span></li><li><span class='ee-k'>orbitNumber_start:</span><span class='ee-v'>33010</span></li><li><span class='ee-k'>orbitNumber_stop:</span><span class='ee-v'>33010</span></li><li><span class='ee-k'>orbitProperties_ascendingNodeTime:</span><span class='ee-v'>1592117641321</span></li><li><span class='ee-k'>orbitProperties_pass:</span><span class='ee-v'>ASCENDING</span></li><li><span class='ee-k'>phaseIdentifier:</span><span class='ee-v'>1</span></li><li><span class='ee-k'>platformHeading:</span><span class='ee-v'>-40.79405738035212</span></li><li><span class='ee-k'>platform_number:</span><span class='ee-v'>A</span></li><li><span class='ee-k'>productClass:</span><span class='ee-v'>S</span></li><li><span class='ee-k'>productClassDescription:</span><span class='ee-v'>SAR Standard L1 Product</span></li><li><span class='ee-k'>productComposition:</span><span class='ee-v'>Slice</span></li><li><span class='ee-k'>productTimelinessCategory:</span><span class='ee-v'>Fast-24h</span></li><li><span class='ee-k'>productType:</span><span class='ee-v'>GRD</span></li><li><span class='ee-k'>relativeOrbitNumber_start:</span><span class='ee-v'>38</span></li><li><span class='ee-k'>relativeOrbitNumber_stop:</span><span class='ee-v'>38</span></li><li><span class='ee-k'>resolution:</span><span class='ee-v'>M</span></li><li><span class='ee-k'>resolution_meters:</span><span class='ee-v'>40</span></li><li><span class='ee-k'>segmentStartTime:</span><span class='ee-v'>1592122151902</span></li><li><span class='ee-k'>sliceNumber:</span><span class='ee-v'>2</span></li><li><span class='ee-k'>sliceProductFlag:</span><span class='ee-v'>true</span></li><li><span class='ee-k'>startTimeANX:</span><span class='ee-v'>4574684</span></li><li><span class='ee-k'>stopTimeANX:</span><span class='ee-v'>4634680</span></li><li><span class='ee-k'>system:asset_size:</span><span class='ee-v'>999876999</span></li><li><label class='ee-shut'>system:footprint: LinearRing (20 vertices)<input type='checkbox' class='ee-toggle'></label><ul><li><span class='ee-k'>type:</span><span class='ee-v'>LinearRing</span></li><li><label class='ee-shut'>coordinates: List (20 elements)<input type='checkbox' class='ee-toggle'></label><ul><li><label class='ee-shut'>0: [-152.97506589941761, -74.0582381882431]<input type='checkbox' class='ee-toggle'></label><ul><li><span class='ee-k'>0:</span><span class='ee-v'>-152.97506589941761</span></li><li><span class='ee-k'>1:</span><span class='ee-v'>-74.0582381882431</span></li></ul></li><li><label class='ee-shut'>1: [-152.99646624007647, -74.05435480901846]<input type='checkbox' class='ee-toggle'></label><ul><li><span class='ee-k'>0:</span><span class='ee-v'>-152.99646624007647</span></li><li><span class='ee-k'>1:</span><span class='ee-v'>-74.05435480901846</span></li></ul></li><li><label class='ee-shut'>2: [-153.23589882145396, -74.015865647643]<input type='checkbox' class='ee-toggle'></label><ul><li><span class='ee-k'>0:</span><span class='ee-v'>-153.23589882145396</span></li><li><span class='ee-k'>1:</span><span class='ee-v'>-74.015865647643</span></li></ul></li><li><label class='ee-shut'>3: [-154.4278710960002, -73.8186549915242]<input type='checkbox' class='ee-toggle'></label><ul><li><span class='ee-k'>0:</span><span class='ee-v'>-154.4278710960002</span></li><li><span class='ee-k'>1:</span><span class='ee-v'>-73.8186549915242</span></li></ul></li><li><label class='ee-shut'>4: [-158.05454054707226, -73.1451322501693]<input type='checkbox' class='ee-toggle'></label><ul><li><span class='ee-k'>0:</span><span class='ee-v'>-158.05454054707226</span></li><li><span class='ee-k'>1:</span><span class='ee-v'>-73.1451322501693</span></li></ul></li><li><label class='ee-shut'>5: [-159.2633375882002, -72.89397649273816]<input type='checkbox' class='ee-toggle'></label><ul><li><span class='ee-k'>0:</span><span class='ee-v'>-159.2633375882002</span></li><li><span class='ee-k'>1:</span><span class='ee-v'>-72.89397649273816</span></li></ul></li><li><label class='ee-shut'>6: [-163.26674129352423, -71.95468064585414]<input type='checkbox' class='ee-toggle'></label><ul><li><span class='ee-k'>0:</span><span class='ee-v'>-163.26674129352423</span></li><li><span class='ee-k'>1:</span><span class='ee-v'>-71.95468064585414</span></li></ul></li><li><label class='ee-shut'>7: [-163.3157552273173, -71.94427399122982]<input type='checkbox' class='ee-toggle'></label><ul><li><span class='ee-k'>0:</span><span class='ee-v'>-163.3157552273173</span></li><li><span class='ee-k'>1:</span><span class='ee-v'>-71.94427399122982</span></li></ul></li><li><label class='ee-shut'>8: [-170.21757342974593, -74.10709260982196]<input type='checkbox' class='ee-toggle'></label><ul><li><span class='ee-k'>0:</span><span class='ee-v'>-170.21757342974593</span></li><li><span class='ee-k'>1:</span><span class='ee-v'>-74.10709260982196</span></li></ul></li><li><label class='ee-shut'>9: [-172.12123351168427, -74.5823920920271]<input type='checkbox' class='ee-toggle'></label><ul><li><span class='ee-k'>0:</span><span class='ee-v'>-172.12123351168427</span></li><li><span class='ee-k'>1:</span><span class='ee-v'>-74.5823920920271</span></li></ul></li><li><label class='ee-shut'>10: [-172.2566601400735, -74.61465677941716]<input type='checkbox' class='ee-toggle'></label><ul><li><span class='ee-k'>0:</span><span class='ee-v'>-172.2566601400735</span></li><li><span class='ee-k'>1:</span><span class='ee-v'>-74.61465677941716</span></li></ul></li><li><label class='ee-shut'>11: [-172.23593228250834, -74.6216946546541]<input type='checkbox' class='ee-toggle'></label><ul><li><span class='ee-k'>0:</span><span class='ee-v'>-172.23593228250834</span></li><li><span class='ee-k'>1:</span><span class='ee-v'>-74.6216946546541</span></li></ul></li><li><label class='ee-shut'>12: [-171.9520108251471, -74.70623987619267]<input type='checkbox' class='ee-toggle'></label><ul><li><span class='ee-k'>0:</span><span class='ee-v'>-171.9520108251471</span></li><li><span class='ee-k'>1:</span><span class='ee-v'>-74.70623987619267</span></li></ul></li><li><label class='ee-shut'>13: [-167.86582921856214, -75.79129307646673]<input type='checkbox' class='ee-toggle'></label><ul><li><span class='ee-k'>0:</span><span class='ee-v'>-167.86582921856214</span></li><li><span class='ee-k'>1:</span><span class='ee-v'>-75.79129307646673</span></li></ul></li><li><label class='ee-shut'>14: [-163.14591556998533, -76.79642699378066]<input type='checkbox' class='ee-toggle'></label><ul><li><span class='ee-k'>0:</span><span class='ee-v'>-163.14591556998533</span></li><li><span class='ee-k'>1:</span><span class='ee-v'>-76.79642699378066</span></li></ul></li><li><label class='ee-shut'>15: [-161.2852505591849, -77.1320638423205]<input type='checkbox' class='ee-toggle'></label><ul><li><span class='ee-k'>0:</span><span class='ee-v'>-161.2852505591849</span></li><li><span class='ee-k'>1:</span><span class='ee-v'>-77.1320638423205</span></li></ul></li><li><label class='ee-shut'>16: [-161.256447874306, -77.12477438553245]<input type='checkbox' class='ee-toggle'></label><ul><li><span class='ee-k'>0:</span><span class='ee-v'>-161.256447874306</span></li><li><span class='ee-k'>1:</span><span class='ee-v'>-77.12477438553245</span></li></ul></li><li><label class='ee-shut'>17: [-153.63621092225344, -74.36765989989881]<input type='checkbox' class='ee-toggle'></label><ul><li><span class='ee-k'>0:</span><span class='ee-v'>-153.63621092225344</span></li><li><span class='ee-k'>1:</span><span class='ee-v'>-74.36765989989881</span></li></ul></li><li><label class='ee-shut'>18: [-152.98618497514187, -74.06470090448522]<input type='checkbox' class='ee-toggle'></label><ul><li><span class='ee-k'>0:</span><span class='ee-v'>-152.98618497514187</span></li><li><span class='ee-k'>1:</span><span class='ee-v'>-74.06470090448522</span></li></ul></li><li><label class='ee-shut'>19: [-152.97506589941761, -74.0582381882431]<input type='checkbox' class='ee-toggle'></label><ul><li><span class='ee-k'>0:</span><span class='ee-v'>-152.97506589941761</span></li><li><span class='ee-k'>1:</span><span class='ee-v'>-74.0582381882431</span></li></ul></li></ul></li></ul></li><li><span class='ee-k'>system:index:</span><span class='ee-v'>S1A_EW_GRDM_1SDH_20200614T081016_20200614T081116_033010_03D2D6_21C0</span></li><li><span class='ee-k'>system:time_end:</span><span class='ee-v'>1592122216000</span></li><li><span class='ee-k'>system:time_start:</span><span class='ee-v'>1592122216000</span></li><li><span class='ee-k'>totalSlices:</span><span class='ee-v'>5</span></li><li><label class='ee-shut'>transmitterReceiverPolarisation: ['HH', 'HV']<input type='checkbox' class='ee-toggle'></label><ul><li><span class='ee-k'>0:</span><span class='ee-v'>HH</span></li><li><span class='ee-k'>1:</span><span class='ee-v'>HV</span></li></ul></li></ul></li></ul></li><li><label class='ee-shut'>2: Image COPERNICUS/S1_GRD/S1A_EW_GRDM_1SDH_20200616T075402_20200616T075502_033039_03D3C3_4754 (2 bands)<input type='checkbox' class='ee-toggle'></label><ul><li><span class='ee-k'>type:</span><span class='ee-v'>Image</span></li><li><span class='ee-k'>id:</span><span class='ee-v'>COPERNICUS/S1_GRD/S1A_EW_GRDM_1SDH_20200616T075402_20200616T075502_033039_03D3C3_4754</span></li><li><span class='ee-k'>version:</span><span class='ee-v'>1720455786986427</span></li><li><label class='ee-shut'>bands: List (2 elements)<input type='checkbox' class='ee-toggle'></label><ul><li><label class='ee-shut'>0: \"HH\", double, EPSG:32704, 16707x15357 px<input type='checkbox' class='ee-toggle'></label><ul><li><span class='ee-k'>id:</span><span class='ee-v'>HH</span></li><li><span class='ee-k'>crs:</span><span class='ee-v'>EPSG:32704</span></li><li><label class='ee-shut'>crs_transform: List (6 elements)<input type='checkbox' class='ee-toggle'></label><ul><li><span class='ee-k'>0:</span><span class='ee-v'>40</span></li><li><span class='ee-k'>1:</span><span class='ee-v'>0</span></li><li><span class='ee-k'>2:</span><span class='ee-v'>101095.25172907254</span></li><li><span class='ee-k'>3:</span><span class='ee-v'>0</span></li><li><span class='ee-k'>4:</span><span class='ee-v'>-40</span></li><li><span class='ee-k'>5:</span><span class='ee-v'>2079834.9634435242</span></li></ul></li><li><label class='ee-shut'>data_type: double<input type='checkbox' class='ee-toggle'></label><ul><li><span class='ee-k'>type:</span><span class='ee-v'>PixelType</span></li><li><span class='ee-k'>precision:</span><span class='ee-v'>double</span></li></ul></li><li><label class='ee-shut'>dimensions: [16707, 15357]<input type='checkbox' class='ee-toggle'></label><ul><li><span class='ee-k'>0:</span><span class='ee-v'>16707</span></li><li><span class='ee-k'>1:</span><span class='ee-v'>15357</span></li></ul></li></ul></li><li><label class='ee-shut'>1: \"angle\", float, EPSG:32704, 21x21 px<input type='checkbox' class='ee-toggle'></label><ul><li><span class='ee-k'>id:</span><span class='ee-v'>angle</span></li><li><span class='ee-k'>crs:</span><span class='ee-v'>EPSG:32704</span></li><li><label class='ee-shut'>crs_transform: List (6 elements)<input type='checkbox' class='ee-toggle'></label><ul><li><span class='ee-k'>0:</span><span class='ee-v'>13410.961812938389</span></li><li><span class='ee-k'>1:</span><span class='ee-v'>-15692.010600651382</span></li><li><span class='ee-k'>2:</span><span class='ee-v'>470212.5458694058</span></li><li><span class='ee-k'>3:</span><span class='ee-v'>16149.46451879479</span></li><li><span class='ee-k'>4:</span><span class='ee-v'>13116.023459492251</span></li><li><span class='ee-k'>5:</span><span class='ee-v'>1492879.798195716</span></li></ul></li><li><label class='ee-shut'>data_type: float<input type='checkbox' class='ee-toggle'></label><ul><li><span class='ee-k'>type:</span><span class='ee-v'>PixelType</span></li><li><span class='ee-k'>precision:</span><span class='ee-v'>float</span></li></ul></li><li><label class='ee-shut'>dimensions: [21, 21]<input type='checkbox' class='ee-toggle'></label><ul><li><span class='ee-k'>0:</span><span class='ee-v'>21</span></li><li><span class='ee-k'>1:</span><span class='ee-v'>21</span></li></ul></li></ul></li></ul></li><li><label class='ee-shut'>properties: Object (56 properties)<input type='checkbox' class='ee-toggle'></label><ul><li><span class='ee-k'>GRD_Post_Processing_facility_country:</span><span class='ee-v'>Germany</span></li><li><span class='ee-k'>GRD_Post_Processing_facility_name:</span><span class='ee-v'>Copernicus S1 Core Ground Segment - DPA</span></li><li><span class='ee-k'>GRD_Post_Processing_facility_org:</span><span class='ee-v'>ESA</span></li><li><span class='ee-k'>GRD_Post_Processing_facility_site:</span><span class='ee-v'>DLR-Oberpfaffenhofen</span></li><li><span class='ee-k'>GRD_Post_Processing_software_name:</span><span class='ee-v'>Sentinel-1 IPF</span></li><li><span class='ee-k'>GRD_Post_Processing_software_version:</span><span class='ee-v'>003.20</span></li><li><span class='ee-k'>GRD_Post_Processing_start:</span><span class='ee-v'>1592303988154</span></li><li><span class='ee-k'>GRD_Post_Processing_stop:</span><span class='ee-v'>1592304467000</span></li><li><span class='ee-k'>S1TBX_Calibration_vers:</span><span class='ee-v'>7.0.2</span></li><li><span class='ee-k'>S1TBX_SAR_Processing_vers:</span><span class='ee-v'>7.0.2</span></li><li><span class='ee-k'>SLC_Processing_facility_country:</span><span class='ee-v'>Germany</span></li><li><span class='ee-k'>SLC_Processing_facility_name:</span><span class='ee-v'>Copernicus S1 Core Ground Segment - DPA</span></li><li><span class='ee-k'>SLC_Processing_facility_org:</span><span class='ee-v'>ESA</span></li><li><span class='ee-k'>SLC_Processing_facility_site:</span><span class='ee-v'>DLR-Oberpfaffenhofen</span></li><li><span class='ee-k'>SLC_Processing_software_name:</span><span class='ee-v'>Sentinel-1 IPF</span></li><li><span class='ee-k'>SLC_Processing_software_version:</span><span class='ee-v'>003.20</span></li><li><span class='ee-k'>SLC_Processing_start:</span><span class='ee-v'>1592304077000</span></li><li><span class='ee-k'>SLC_Processing_stop:</span><span class='ee-v'>1592304357000</span></li><li><span class='ee-k'>SNAP_Graph_Processing_Framework_GPF_vers:</span><span class='ee-v'>7.0.3</span></li><li><span class='ee-k'>contains_aoi:</span><span class='ee-v'>True</span></li><li><span class='ee-k'>cycleNumber:</span><span class='ee-v'>203</span></li><li><span class='ee-k'>familyName:</span><span class='ee-v'>SENTINEL-1</span></li><li><span class='ee-k'>instrument:</span><span class='ee-v'>Synthetic Aperture Radar</span></li><li><span class='ee-k'>instrumentConfigurationID:</span><span class='ee-v'>6</span></li><li><span class='ee-k'>instrumentMode:</span><span class='ee-v'>EW</span></li><li><span class='ee-k'>instrumentSwath:</span><span class='ee-v'>EW</span></li><li><span class='ee-k'>missionDataTakeID:</span><span class='ee-v'>250819</span></li><li><span class='ee-k'>nssdcIdentifier:</span><span class='ee-v'>2014-016A</span></li><li><span class='ee-k'>orbitNumber_start:</span><span class='ee-v'>33039</span></li><li><span class='ee-k'>orbitNumber_stop:</span><span class='ee-v'>33039</span></li><li><span class='ee-k'>orbitProperties_ascendingNodeTime:</span><span class='ee-v'>1592289453978</span></li><li><span class='ee-k'>orbitProperties_pass:</span><span class='ee-v'>ASCENDING</span></li><li><span class='ee-k'>phaseIdentifier:</span><span class='ee-v'>1</span></li><li><span class='ee-k'>platformHeading:</span><span class='ee-v'>-38.60306627787148</span></li><li><span class='ee-k'>platform_number:</span><span class='ee-v'>A</span></li><li><span class='ee-k'>productClass:</span><span class='ee-v'>S</span></li><li><span class='ee-k'>productClassDescription:</span><span class='ee-v'>SAR Standard L1 Product</span></li><li><span class='ee-k'>productComposition:</span><span class='ee-v'>Slice</span></li><li><span class='ee-k'>productTimelinessCategory:</span><span class='ee-v'>Fast-24h</span></li><li><span class='ee-k'>productType:</span><span class='ee-v'>GRD</span></li><li><span class='ee-k'>relativeOrbitNumber_start:</span><span class='ee-v'>67</span></li><li><span class='ee-k'>relativeOrbitNumber_stop:</span><span class='ee-v'>67</span></li><li><span class='ee-k'>resolution:</span><span class='ee-v'>M</span></li><li><span class='ee-k'>resolution_meters:</span><span class='ee-v'>40</span></li><li><span class='ee-k'>segmentStartTime:</span><span class='ee-v'>1592293978238</span></li><li><span class='ee-k'>sliceNumber:</span><span class='ee-v'>2</span></li><li><span class='ee-k'>sliceProductFlag:</span><span class='ee-v'>true</span></li><li><span class='ee-k'>startTimeANX:</span><span class='ee-v'>4588362</span></li><li><span class='ee-k'>stopTimeANX:</span><span class='ee-v'>4648358</span></li><li><span class='ee-k'>system:asset_size:</span><span class='ee-v'>1002365555</span></li><li><label class='ee-shut'>system:footprint: LinearRing (21 vertices)<input type='checkbox' class='ee-toggle'></label><ul><li><span class='ee-k'>type:</span><span class='ee-v'>LinearRing</span></li><li><label class='ee-shut'>coordinates: List (21 elements)<input type='checkbox' class='ee-toggle'></label><ul><li><label class='ee-shut'>0: [-160.03175139620524, -76.60059659713752]<input type='checkbox' class='ee-toggle'></label><ul><li><span class='ee-k'>0:</span><span class='ee-v'>-160.03175139620524</span></li><li><span class='ee-k'>1:</span><span class='ee-v'>-76.60059659713752</span></li></ul></li><li><label class='ee-shut'>1: [-160.0141327634876, -76.60342286737954]<input type='checkbox' class='ee-toggle'></label><ul><li><span class='ee-k'>0:</span><span class='ee-v'>-160.0141327634876</span></li><li><span class='ee-k'>1:</span><span class='ee-v'>-76.60342286737954</span></li></ul></li><li><label class='ee-shut'>2: [-159.9971264805566, -76.59961298275921]<input type='checkbox' class='ee-toggle'></label><ul><li><span class='ee-k'>0:</span><span class='ee-v'>-159.9971264805566</span></li><li><span class='ee-k'>1:</span><span class='ee-v'>-76.59961298275921</span></li></ul></li><li><label class='ee-shut'>3: [-159.85551566892377, -76.56139913855075]<input type='checkbox' class='ee-toggle'></label><ul><li><span class='ee-k'>0:</span><span class='ee-v'>-159.85551566892377</span></li><li><span class='ee-k'>1:</span><span class='ee-v'>-76.56139913855075</span></li></ul></li><li><label class='ee-shut'>4: [-151.43730882745652, -73.62495744180119]<input type='checkbox' class='ee-toggle'></label><ul><li><span class='ee-k'>0:</span><span class='ee-v'>-151.43730882745652</span></li><li><span class='ee-k'>1:</span><span class='ee-v'>-73.62495744180119</span></li></ul></li><li><label class='ee-shut'>5: [-151.46003195127454, -73.61999346422496]<input type='checkbox' class='ee-toggle'></label><ul><li><span class='ee-k'>0:</span><span class='ee-v'>-151.46003195127454</span></li><li><span class='ee-k'>1:</span><span class='ee-v'>-73.61999346422496</span></li></ul></li><li><label class='ee-shut'>6: [-153.80590893129866, -73.17260942676612]<input type='checkbox' class='ee-toggle'></label><ul><li><span class='ee-k'>0:</span><span class='ee-v'>-153.80590893129866</span></li><li><span class='ee-k'>1:</span><span class='ee-v'>-73.17260942676612</span></li></ul></li><li><label class='ee-shut'>7: [-154.22423438547438, -73.08778610758009]<input type='checkbox' class='ee-toggle'></label><ul><li><span class='ee-k'>0:</span><span class='ee-v'>-154.22423438547438</span></li><li><span class='ee-k'>1:</span><span class='ee-v'>-73.08778610758009</span></li></ul></li><li><label class='ee-shut'>8: [-154.99857020994574, -72.92647467156894]<input type='checkbox' class='ee-toggle'></label><ul><li><span class='ee-k'>0:</span><span class='ee-v'>-154.99857020994574</span></li><li><span class='ee-k'>1:</span><span class='ee-v'>-72.92647467156894</span></li></ul></li><li><label class='ee-shut'>9: [-158.78019263238826, -72.05009582604343]<input type='checkbox' class='ee-toggle'></label><ul><li><span class='ee-k'>0:</span><span class='ee-v'>-158.78019263238826</span></li><li><span class='ee-k'>1:</span><span class='ee-v'>-72.05009582604343</span></li></ul></li><li><label class='ee-shut'>10: [-161.21515854874764, -71.39812084755154]<input type='checkbox' class='ee-toggle'></label><ul><li><span class='ee-k'>0:</span><span class='ee-v'>-161.21515854874764</span></li><li><span class='ee-k'>1:</span><span class='ee-v'>-71.39812084755154</span></li></ul></li><li><label class='ee-shut'>11: [-161.22395079677773, -71.39801780735354]<input type='checkbox' class='ee-toggle'></label><ul><li><span class='ee-k'>0:</span><span class='ee-v'>-161.22395079677773</span></li><li><span class='ee-k'>1:</span><span class='ee-v'>-71.39801780735354</span></li></ul></li><li><label class='ee-shut'>12: [-161.27017427356895, -71.41443505635475]<input type='checkbox' class='ee-toggle'></label><ul><li><span class='ee-k'>0:</span><span class='ee-v'>-161.27017427356895</span></li><li><span class='ee-k'>1:</span><span class='ee-v'>-71.41443505635475</span></li></ul></li><li><label class='ee-shut'>13: [-162.5139106638621, -71.84621783868769]<input type='checkbox' class='ee-toggle'></label><ul><li><span class='ee-k'>0:</span><span class='ee-v'>-162.5139106638621</span></li><li><span class='ee-k'>1:</span><span class='ee-v'>-71.84621783868769</span></li></ul></li><li><label class='ee-shut'>14: [-165.56674662610064, -72.79722104009514]<input type='checkbox' class='ee-toggle'></label><ul><li><span class='ee-k'>0:</span><span class='ee-v'>-165.56674662610064</span></li><li><span class='ee-k'>1:</span><span class='ee-v'>-72.79722104009514</span></li></ul></li><li><label class='ee-shut'>15: [-170.13833791346312, -73.97794483593489]<input type='checkbox' class='ee-toggle'></label><ul><li><span class='ee-k'>0:</span><span class='ee-v'>-170.13833791346312</span></li><li><span class='ee-k'>1:</span><span class='ee-v'>-73.97794483593489</span></li></ul></li><li><label class='ee-shut'>16: [-170.14585873315238, -73.98067251296476]<input type='checkbox' class='ee-toggle'></label><ul><li><span class='ee-k'>0:</span><span class='ee-v'>-170.14585873315238</span></li><li><span class='ee-k'>1:</span><span class='ee-v'>-73.98067251296476</span></li></ul></li><li><label class='ee-shut'>17: [-170.02218898834016, -74.02199883704581]<input type='checkbox' class='ee-toggle'></label><ul><li><span class='ee-k'>0:</span><span class='ee-v'>-170.02218898834016</span></li><li><span class='ee-k'>1:</span><span class='ee-v'>-74.02199883704581</span></li></ul></li><li><label class='ee-shut'>18: [-167.5627721115451, -74.78671979788969]<input type='checkbox' class='ee-toggle'></label><ul><li><span class='ee-k'>0:</span><span class='ee-v'>-167.5627721115451</span></li><li><span class='ee-k'>1:</span><span class='ee-v'>-74.78671979788969</span></li></ul></li><li><label class='ee-shut'>19: [-164.03141147316273, -75.72288904798496]<input type='checkbox' class='ee-toggle'></label><ul><li><span class='ee-k'>0:</span><span class='ee-v'>-164.03141147316273</span></li><li><span class='ee-k'>1:</span><span class='ee-v'>-75.72288904798496</span></li></ul></li><li><label class='ee-shut'>20: [-160.03175139620524, -76.60059659713752]<input type='checkbox' class='ee-toggle'></label><ul><li><span class='ee-k'>0:</span><span class='ee-v'>-160.03175139620524</span></li><li><span class='ee-k'>1:</span><span class='ee-v'>-76.60059659713752</span></li></ul></li></ul></li></ul></li><li><span class='ee-k'>system:index:</span><span class='ee-v'>S1A_EW_GRDM_1SDH_20200616T075402_20200616T075502_033039_03D3C3_4754</span></li><li><span class='ee-k'>system:time_end:</span><span class='ee-v'>1592294042000</span></li><li><span class='ee-k'>system:time_start:</span><span class='ee-v'>1592294042000</span></li><li><span class='ee-k'>totalSlices:</span><span class='ee-v'>5</span></li><li><label class='ee-shut'>transmitterReceiverPolarisation: ['HH', 'HV']<input type='checkbox' class='ee-toggle'></label><ul><li><span class='ee-k'>0:</span><span class='ee-v'>HH</span></li><li><span class='ee-k'>1:</span><span class='ee-v'>HV</span></li></ul></li></ul></li></ul></li><li><label class='ee-shut'>3: Image COPERNICUS/S1_GRD/S1A_EW_GRDM_1SDH_20200618T091413_20200618T091517_033069_03D4B8_B7B2 (2 bands)<input type='checkbox' class='ee-toggle'></label><ul><li><span class='ee-k'>type:</span><span class='ee-v'>Image</span></li><li><span class='ee-k'>id:</span><span class='ee-v'>COPERNICUS/S1_GRD/S1A_EW_GRDM_1SDH_20200618T091413_20200618T091517_033069_03D4B8_B7B2</span></li><li><span class='ee-k'>version:</span><span class='ee-v'>1720455786986427</span></li><li><label class='ee-shut'>bands: List (2 elements)<input type='checkbox' class='ee-toggle'></label><ul><li><label class='ee-shut'>0: \"HH\", double, EPSG:32705, 15734x13553 px<input type='checkbox' class='ee-toggle'></label><ul><li><span class='ee-k'>id:</span><span class='ee-v'>HH</span></li><li><span class='ee-k'>crs:</span><span class='ee-v'>EPSG:32705</span></li><li><label class='ee-shut'>crs_transform: List (6 elements)<input type='checkbox' class='ee-toggle'></label><ul><li><span class='ee-k'>0:</span><span class='ee-v'>40</span></li><li><span class='ee-k'>1:</span><span class='ee-v'>0</span></li><li><span class='ee-k'>2:</span><span class='ee-v'>136681.53508738335</span></li><li><span class='ee-k'>3:</span><span class='ee-v'>0</span></li><li><span class='ee-k'>4:</span><span class='ee-v'>-40</span></li><li><span class='ee-k'>5:</span><span class='ee-v'>1640891.9110781606</span></li></ul></li><li><label class='ee-shut'>data_type: double<input type='checkbox' class='ee-toggle'></label><ul><li><span class='ee-k'>type:</span><span class='ee-v'>PixelType</span></li><li><span class='ee-k'>precision:</span><span class='ee-v'>double</span></li></ul></li><li><label class='ee-shut'>dimensions: [15734, 13553]<input type='checkbox' class='ee-toggle'></label><ul><li><span class='ee-k'>0:</span><span class='ee-v'>15734</span></li><li><span class='ee-k'>1:</span><span class='ee-v'>13553</span></li></ul></li></ul></li><li><label class='ee-shut'>1: \"angle\", float, EPSG:32705, 21x23 px<input type='checkbox' class='ee-toggle'></label><ul><li><span class='ee-k'>id:</span><span class='ee-v'>angle</span></li><li><span class='ee-k'>crs:</span><span class='ee-v'>EPSG:32705</span></li><li><label class='ee-shut'>crs_transform: List (6 elements)<input type='checkbox' class='ee-toggle'></label><ul><li><span class='ee-k'>0:</span><span class='ee-v'>5253.967358636088</span></li><li><span class='ee-k'>1:</span><span class='ee-v'>-19850.8395422193</span></li><li><span class='ee-k'>2:</span><span class='ee-v'>646173.553824029</span></li><li><span class='ee-k'>3:</span><span class='ee-v'>20384.05128105916</span></li><li><span class='ee-k'>4:</span><span class='ee-v'>4931.021019294858</span></li><li><span class='ee-k'>5:</span><span class='ee-v'>1117292.3493477795</span></li></ul></li><li><label class='ee-shut'>data_type: float<input type='checkbox' class='ee-toggle'></label><ul><li><span class='ee-k'>type:</span><span class='ee-v'>PixelType</span></li><li><span class='ee-k'>precision:</span><span class='ee-v'>float</span></li></ul></li><li><label class='ee-shut'>dimensions: [21, 23]<input type='checkbox' class='ee-toggle'></label><ul><li><span class='ee-k'>0:</span><span class='ee-v'>21</span></li><li><span class='ee-k'>1:</span><span class='ee-v'>23</span></li></ul></li></ul></li></ul></li><li><label class='ee-shut'>properties: Object (56 properties)<input type='checkbox' class='ee-toggle'></label><ul><li><span class='ee-k'>GRD_Post_Processing_facility_country:</span><span class='ee-v'>Germany</span></li><li><span class='ee-k'>GRD_Post_Processing_facility_name:</span><span class='ee-v'>Copernicus S1 Core Ground Segment - DPA</span></li><li><span class='ee-k'>GRD_Post_Processing_facility_org:</span><span class='ee-v'>ESA</span></li><li><span class='ee-k'>GRD_Post_Processing_facility_site:</span><span class='ee-v'>DLR-Oberpfaffenhofen</span></li><li><span class='ee-k'>GRD_Post_Processing_software_name:</span><span class='ee-v'>Sentinel-1 IPF</span></li><li><span class='ee-k'>GRD_Post_Processing_software_version:</span><span class='ee-v'>003.20</span></li><li><span class='ee-k'>GRD_Post_Processing_start:</span><span class='ee-v'>1592482519478</span></li><li><span class='ee-k'>GRD_Post_Processing_stop:</span><span class='ee-v'>1592483026000</span></li><li><span class='ee-k'>S1TBX_Calibration_vers:</span><span class='ee-v'>7.0.2</span></li><li><span class='ee-k'>S1TBX_SAR_Processing_vers:</span><span class='ee-v'>7.0.2</span></li><li><span class='ee-k'>SLC_Processing_facility_country:</span><span class='ee-v'>Germany</span></li><li><span class='ee-k'>SLC_Processing_facility_name:</span><span class='ee-v'>Copernicus S1 Core Ground Segment - DPA</span></li><li><span class='ee-k'>SLC_Processing_facility_org:</span><span class='ee-v'>ESA</span></li><li><span class='ee-k'>SLC_Processing_facility_site:</span><span class='ee-v'>DLR-Oberpfaffenhofen</span></li><li><span class='ee-k'>SLC_Processing_software_name:</span><span class='ee-v'>Sentinel-1 IPF</span></li><li><span class='ee-k'>SLC_Processing_software_version:</span><span class='ee-v'>003.20</span></li><li><span class='ee-k'>SLC_Processing_start:</span><span class='ee-v'>1592482614000</span></li><li><span class='ee-k'>SLC_Processing_stop:</span><span class='ee-v'>1592482907000</span></li><li><span class='ee-k'>SNAP_Graph_Processing_Framework_GPF_vers:</span><span class='ee-v'>7.0.3</span></li><li><span class='ee-k'>contains_aoi:</span><span class='ee-v'>False</span></li><li><span class='ee-k'>cycleNumber:</span><span class='ee-v'>203</span></li><li><span class='ee-k'>familyName:</span><span class='ee-v'>SENTINEL-1</span></li><li><span class='ee-k'>instrument:</span><span class='ee-v'>Synthetic Aperture Radar</span></li><li><span class='ee-k'>instrumentConfigurationID:</span><span class='ee-v'>6</span></li><li><span class='ee-k'>instrumentMode:</span><span class='ee-v'>EW</span></li><li><span class='ee-k'>instrumentSwath:</span><span class='ee-v'>EW</span></li><li><span class='ee-k'>missionDataTakeID:</span><span class='ee-v'>251064</span></li><li><span class='ee-k'>nssdcIdentifier:</span><span class='ee-v'>2014-016A</span></li><li><span class='ee-k'>orbitNumber_start:</span><span class='ee-v'>33069</span></li><li><span class='ee-k'>orbitNumber_stop:</span><span class='ee-v'>33069</span></li><li><span class='ee-k'>orbitProperties_ascendingNodeTime:</span><span class='ee-v'>1592467191165</span></li><li><span class='ee-k'>orbitProperties_pass:</span><span class='ee-v'>ASCENDING</span></li><li><span class='ee-k'>phaseIdentifier:</span><span class='ee-v'>1</span></li><li><span class='ee-k'>platformHeading:</span><span class='ee-v'>-68.40386821309201</span></li><li><span class='ee-k'>platform_number:</span><span class='ee-v'>A</span></li><li><span class='ee-k'>productClass:</span><span class='ee-v'>S</span></li><li><span class='ee-k'>productClassDescription:</span><span class='ee-v'>SAR Standard L1 Product</span></li><li><span class='ee-k'>productComposition:</span><span class='ee-v'>Slice</span></li><li><span class='ee-k'>productTimelinessCategory:</span><span class='ee-v'>Fast-24h</span></li><li><span class='ee-k'>productType:</span><span class='ee-v'>GRD</span></li><li><span class='ee-k'>relativeOrbitNumber_start:</span><span class='ee-v'>97</span></li><li><span class='ee-k'>relativeOrbitNumber_stop:</span><span class='ee-v'>97</span></li><li><span class='ee-k'>resolution:</span><span class='ee-v'>M</span></li><li><span class='ee-k'>resolution_meters:</span><span class='ee-v'>40</span></li><li><span class='ee-k'>segmentStartTime:</span><span class='ee-v'>1592471653372</span></li><li><span class='ee-k'>sliceNumber:</span><span class='ee-v'>1</span></li><li><span class='ee-k'>sliceProductFlag:</span><span class='ee-v'>true</span></li><li><span class='ee-k'>startTimeANX:</span><span class='ee-v'>4462004</span></li><li><span class='ee-k'>stopTimeANX:</span><span class='ee-v'>4526304</span></li><li><span class='ee-k'>system:asset_size:</span><span class='ee-v'>1046251667</span></li><li><label class='ee-shut'>system:footprint: LinearRing (22 vertices)<input type='checkbox' class='ee-toggle'></label><ul><li><span class='ee-k'>type:</span><span class='ee-v'>LinearRing</span></li><li><label class='ee-shut'>coordinates: List (22 elements)<input type='checkbox' class='ee-toggle'></label><ul><li><label class='ee-shut'>0: [-159.28756911970694, -75.34659945933171]<input type='checkbox' class='ee-toggle'></label><ul><li><span class='ee-k'>0:</span><span class='ee-v'>-159.28756911970694</span></li><li><span class='ee-k'>1:</span><span class='ee-v'>-75.34659945933171</span></li></ul></li><li><label class='ee-shut'>1: [-159.43941622881823, -75.44980917957075]<input type='checkbox' class='ee-toggle'></label><ul><li><span class='ee-k'>0:</span><span class='ee-v'>-159.43941622881823</span></li><li><span class='ee-k'>1:</span><span class='ee-v'>-75.44980917957075</span></li></ul></li><li><label class='ee-shut'>2: [-162.08401971230563, -77.03061455879414]<input type='checkbox' class='ee-toggle'></label><ul><li><span class='ee-k'>0:</span><span class='ee-v'>-162.08401971230563</span></li><li><span class='ee-k'>1:</span><span class='ee-v'>-77.03061455879414</span></li></ul></li><li><label class='ee-shut'>3: [-165.5643523658286, -78.62735089622609]<input type='checkbox' class='ee-toggle'></label><ul><li><span class='ee-k'>0:</span><span class='ee-v'>-165.5643523658286</span></li><li><span class='ee-k'>1:</span><span class='ee-v'>-78.62735089622609</span></li></ul></li><li><label class='ee-shut'>4: [-165.7972301688697, -78.71920065543361]<input type='checkbox' class='ee-toggle'></label><ul><li><span class='ee-k'>0:</span><span class='ee-v'>-165.7972301688697</span></li><li><span class='ee-k'>1:</span><span class='ee-v'>-78.71920065543361</span></li></ul></li><li><label class='ee-shut'>5: [-165.80025567408953, -78.72185748907974]<input type='checkbox' class='ee-toggle'></label><ul><li><span class='ee-k'>0:</span><span class='ee-v'>-165.80025567408953</span></li><li><span class='ee-k'>1:</span><span class='ee-v'>-78.72185748907974</span></li></ul></li><li><label class='ee-shut'>6: [-165.56600826365326, -78.7449773127486]<input type='checkbox' class='ee-toggle'></label><ul><li><span class='ee-k'>0:</span><span class='ee-v'>-165.56600826365326</span></li><li><span class='ee-k'>1:</span><span class='ee-v'>-78.7449773127486</span></li></ul></li><li><label class='ee-shut'>7: [-148.16870217416687, -79.81009414478174]<input type='checkbox' class='ee-toggle'></label><ul><li><span class='ee-k'>0:</span><span class='ee-v'>-148.16870217416687</span></li><li><span class='ee-k'>1:</span><span class='ee-v'>-79.81009414478174</span></li></ul></li><li><label class='ee-shut'>8: [-145.5528931769926, -79.87042722932206]<input type='checkbox' class='ee-toggle'></label><ul><li><span class='ee-k'>0:</span><span class='ee-v'>-145.5528931769926</span></li><li><span class='ee-k'>1:</span><span class='ee-v'>-79.87042722932206</span></li></ul></li><li><label class='ee-shut'>9: [-145.47151918212907, -79.87183632226865]<input type='checkbox' class='ee-toggle'></label><ul><li><span class='ee-k'>0:</span><span class='ee-v'>-145.47151918212907</span></li><li><span class='ee-k'>1:</span><span class='ee-v'>-79.87183632226865</span></li></ul></li><li><label class='ee-shut'>10: [-145.45763725388082, -79.87151838451854]<input type='checkbox' class='ee-toggle'></label><ul><li><span class='ee-k'>0:</span><span class='ee-v'>-145.45763725388082</span></li><li><span class='ee-k'>1:</span><span class='ee-v'>-79.87151838451854</span></li></ul></li><li><label class='ee-shut'>11: [-145.45052765472994, -79.86316296782762]<input type='checkbox' class='ee-toggle'></label><ul><li><span class='ee-k'>0:</span><span class='ee-v'>-145.45052765472994</span></li><li><span class='ee-k'>1:</span><span class='ee-v'>-79.86316296782762</span></li></ul></li><li><label class='ee-shut'>12: [-145.2813975426956, -79.61558804391393]<input type='checkbox' class='ee-toggle'></label><ul><li><span class='ee-k'>0:</span><span class='ee-v'>-145.2813975426956</span></li><li><span class='ee-k'>1:</span><span class='ee-v'>-79.61558804391393</span></li></ul></li><li><label class='ee-shut'>13: [-145.09267447576352, -79.32460971747584]<input type='checkbox' class='ee-toggle'></label><ul><li><span class='ee-k'>0:</span><span class='ee-v'>-145.09267447576352</span></li><li><span class='ee-k'>1:</span><span class='ee-v'>-79.32460971747584</span></li></ul></li><li><label class='ee-shut'>14: [-144.88412604073864, -78.98065314628995]<input type='checkbox' class='ee-toggle'></label><ul><li><span class='ee-k'>0:</span><span class='ee-v'>-144.88412604073864</span></li><li><span class='ee-k'>1:</span><span class='ee-v'>-78.98065314628995</span></li></ul></li><li><label class='ee-shut'>15: [-144.7784511578957, -78.79541402635267]<input type='checkbox' class='ee-toggle'></label><ul><li><span class='ee-k'>0:</span><span class='ee-v'>-144.7784511578957</span></li><li><span class='ee-k'>1:</span><span class='ee-v'>-78.79541402635267</span></li></ul></li><li><label class='ee-shut'>16: [-144.51289821941552, -77.75340244533659]<input type='checkbox' class='ee-toggle'></label><ul><li><span class='ee-k'>0:</span><span class='ee-v'>-144.51289821941552</span></li><li><span class='ee-k'>1:</span><span class='ee-v'>-77.75340244533659</span></li></ul></li><li><label class='ee-shut'>17: [-144.2861104213146, -76.71232732191716]<input type='checkbox' class='ee-toggle'></label><ul><li><span class='ee-k'>0:</span><span class='ee-v'>-144.2861104213146</span></li><li><span class='ee-k'>1:</span><span class='ee-v'>-76.71232732191716</span></li></ul></li><li><label class='ee-shut'>18: [-144.21023700030136, -76.17490602598359]<input type='checkbox' class='ee-toggle'></label><ul><li><span class='ee-k'>0:</span><span class='ee-v'>-144.21023700030136</span></li><li><span class='ee-k'>1:</span><span class='ee-v'>-76.17490602598359</span></li></ul></li><li><label class='ee-shut'>19: [-144.27109848927805, -76.17075146185583]<input type='checkbox' class='ee-toggle'></label><ul><li><span class='ee-k'>0:</span><span class='ee-v'>-144.27109848927805</span></li><li><span class='ee-k'>1:</span><span class='ee-v'>-76.17075146185583</span></li></ul></li><li><label class='ee-shut'>20: [-159.25229519161962, -75.32309356596355]<input type='checkbox' class='ee-toggle'></label><ul><li><span class='ee-k'>0:</span><span class='ee-v'>-159.25229519161962</span></li><li><span class='ee-k'>1:</span><span class='ee-v'>-75.32309356596355</span></li></ul></li><li><label class='ee-shut'>21: [-159.28756911970694, -75.34659945933171]<input type='checkbox' class='ee-toggle'></label><ul><li><span class='ee-k'>0:</span><span class='ee-v'>-159.28756911970694</span></li><li><span class='ee-k'>1:</span><span class='ee-v'>-75.34659945933171</span></li></ul></li></ul></li></ul></li><li><span class='ee-k'>system:index:</span><span class='ee-v'>S1A_EW_GRDM_1SDH_20200618T091413_20200618T091517_033069_03D4B8_B7B2</span></li><li><span class='ee-k'>system:time_end:</span><span class='ee-v'>1592471653000</span></li><li><span class='ee-k'>system:time_start:</span><span class='ee-v'>1592471653000</span></li><li><span class='ee-k'>totalSlices:</span><span class='ee-v'>6</span></li><li><label class='ee-shut'>transmitterReceiverPolarisation: ['HH', 'HV']<input type='checkbox' class='ee-toggle'></label><ul><li><span class='ee-k'>0:</span><span class='ee-v'>HH</span></li><li><span class='ee-k'>1:</span><span class='ee-v'>HV</span></li></ul></li></ul></li></ul></li><li><label class='ee-shut'>4: Image COPERNICUS/S1_GRD/S1A_EW_GRDM_1SDH_20200618T091517_20200618T091617_033069_03D4B8_13BF (2 bands)<input type='checkbox' class='ee-toggle'></label><ul><li><span class='ee-k'>type:</span><span class='ee-v'>Image</span></li><li><span class='ee-k'>id:</span><span class='ee-v'>COPERNICUS/S1_GRD/S1A_EW_GRDM_1SDH_20200618T091517_20200618T091617_033069_03D4B8_13BF</span></li><li><span class='ee-k'>version:</span><span class='ee-v'>1720455786986427</span></li><li><label class='ee-shut'>bands: List (2 elements)<input type='checkbox' class='ee-toggle'></label><ul><li><label class='ee-shut'>0: \"HH\", double, EPSG:32702, 16450x14860 px<input type='checkbox' class='ee-toggle'></label><ul><li><span class='ee-k'>id:</span><span class='ee-v'>HH</span></li><li><span class='ee-k'>crs:</span><span class='ee-v'>EPSG:32702</span></li><li><label class='ee-shut'>crs_transform: List (6 elements)<input type='checkbox' class='ee-toggle'></label><ul><li><span class='ee-k'>0:</span><span class='ee-v'>40</span></li><li><span class='ee-k'>1:</span><span class='ee-v'>0</span></li><li><span class='ee-k'>2:</span><span class='ee-v'>208565.91281824448</span></li><li><span class='ee-k'>3:</span><span class='ee-v'>0</span></li><li><span class='ee-k'>4:</span><span class='ee-v'>-40</span></li><li><span class='ee-k'>5:</span><span class='ee-v'>1823710.7636072626</span></li></ul></li><li><label class='ee-shut'>data_type: double<input type='checkbox' class='ee-toggle'></label><ul><li><span class='ee-k'>type:</span><span class='ee-v'>PixelType</span></li><li><span class='ee-k'>precision:</span><span class='ee-v'>double</span></li></ul></li><li><label class='ee-shut'>dimensions: [16450, 14860]<input type='checkbox' class='ee-toggle'></label><ul><li><span class='ee-k'>0:</span><span class='ee-v'>16450</span></li><li><span class='ee-k'>1:</span><span class='ee-v'>14860</span></li></ul></li></ul></li><li><label class='ee-shut'>1: \"angle\", float, EPSG:32702, 21x21 px<input type='checkbox' class='ee-toggle'></label><ul><li><span class='ee-k'>id:</span><span class='ee-v'>angle</span></li><li><span class='ee-k'>crs:</span><span class='ee-v'>EPSG:32702</span></li><li><label class='ee-shut'>crs_transform: List (6 elements)<input type='checkbox' class='ee-toggle'></label><ul><li><span class='ee-k'>0:</span><span class='ee-v'>11061.255287170876</span></li><li><span class='ee-k'>1:</span><span class='ee-v'>-17376.161553672515</span></li><li><span class='ee-k'>2:</span><span class='ee-v'>609794.3874662025</span></li><li><span class='ee-k'>3:</span><span class='ee-v'>17892.00862756744</span></li><li><span class='ee-k'>4:</span><span class='ee-v'>10786.091903798282</span></li><li><span class='ee-k'>5:</span><span class='ee-v'>1250146.4983408358</span></li></ul></li><li><label class='ee-shut'>data_type: float<input type='checkbox' class='ee-toggle'></label><ul><li><span class='ee-k'>type:</span><span class='ee-v'>PixelType</span></li><li><span class='ee-k'>precision:</span><span class='ee-v'>float</span></li></ul></li><li><label class='ee-shut'>dimensions: [21, 21]<input type='checkbox' class='ee-toggle'></label><ul><li><span class='ee-k'>0:</span><span class='ee-v'>21</span></li><li><span class='ee-k'>1:</span><span class='ee-v'>21</span></li></ul></li></ul></li></ul></li><li><label class='ee-shut'>properties: Object (56 properties)<input type='checkbox' class='ee-toggle'></label><ul><li><span class='ee-k'>GRD_Post_Processing_facility_country:</span><span class='ee-v'>Germany</span></li><li><span class='ee-k'>GRD_Post_Processing_facility_name:</span><span class='ee-v'>Copernicus S1 Core Ground Segment - DPA</span></li><li><span class='ee-k'>GRD_Post_Processing_facility_org:</span><span class='ee-v'>ESA</span></li><li><span class='ee-k'>GRD_Post_Processing_facility_site:</span><span class='ee-v'>DLR-Oberpfaffenhofen</span></li><li><span class='ee-k'>GRD_Post_Processing_software_name:</span><span class='ee-v'>Sentinel-1 IPF</span></li><li><span class='ee-k'>GRD_Post_Processing_software_version:</span><span class='ee-v'>003.20</span></li><li><span class='ee-k'>GRD_Post_Processing_start:</span><span class='ee-v'>1592482532262</span></li><li><span class='ee-k'>GRD_Post_Processing_stop:</span><span class='ee-v'>1592483013000</span></li><li><span class='ee-k'>S1TBX_Calibration_vers:</span><span class='ee-v'>7.0.2</span></li><li><span class='ee-k'>S1TBX_SAR_Processing_vers:</span><span class='ee-v'>7.0.2</span></li><li><span class='ee-k'>SLC_Processing_facility_country:</span><span class='ee-v'>Germany</span></li><li><span class='ee-k'>SLC_Processing_facility_name:</span><span class='ee-v'>Copernicus S1 Core Ground Segment - DPA</span></li><li><span class='ee-k'>SLC_Processing_facility_org:</span><span class='ee-v'>ESA</span></li><li><span class='ee-k'>SLC_Processing_facility_site:</span><span class='ee-v'>DLR-Oberpfaffenhofen</span></li><li><span class='ee-k'>SLC_Processing_software_name:</span><span class='ee-v'>Sentinel-1 IPF</span></li><li><span class='ee-k'>SLC_Processing_software_version:</span><span class='ee-v'>003.20</span></li><li><span class='ee-k'>SLC_Processing_start:</span><span class='ee-v'>1592482622000</span></li><li><span class='ee-k'>SLC_Processing_stop:</span><span class='ee-v'>1592482903000</span></li><li><span class='ee-k'>SNAP_Graph_Processing_Framework_GPF_vers:</span><span class='ee-v'>7.0.3</span></li><li><span class='ee-k'>contains_aoi:</span><span class='ee-v'>False</span></li><li><span class='ee-k'>cycleNumber:</span><span class='ee-v'>203</span></li><li><span class='ee-k'>familyName:</span><span class='ee-v'>SENTINEL-1</span></li><li><span class='ee-k'>instrument:</span><span class='ee-v'>Synthetic Aperture Radar</span></li><li><span class='ee-k'>instrumentConfigurationID:</span><span class='ee-v'>6</span></li><li><span class='ee-k'>instrumentMode:</span><span class='ee-v'>EW</span></li><li><span class='ee-k'>instrumentSwath:</span><span class='ee-v'>EW</span></li><li><span class='ee-k'>missionDataTakeID:</span><span class='ee-v'>251064</span></li><li><span class='ee-k'>nssdcIdentifier:</span><span class='ee-v'>2014-016A</span></li><li><span class='ee-k'>orbitNumber_start:</span><span class='ee-v'>33069</span></li><li><span class='ee-k'>orbitNumber_stop:</span><span class='ee-v'>33069</span></li><li><span class='ee-k'>orbitProperties_ascendingNodeTime:</span><span class='ee-v'>1592467191165</span></li><li><span class='ee-k'>orbitProperties_pass:</span><span class='ee-v'>ASCENDING</span></li><li><span class='ee-k'>phaseIdentifier:</span><span class='ee-v'>1</span></li><li><span class='ee-k'>platformHeading:</span><span class='ee-v'>-50.62756715318927</span></li><li><span class='ee-k'>platform_number:</span><span class='ee-v'>A</span></li><li><span class='ee-k'>productClass:</span><span class='ee-v'>S</span></li><li><span class='ee-k'>productClassDescription:</span><span class='ee-v'>SAR Standard L1 Product</span></li><li><span class='ee-k'>productComposition:</span><span class='ee-v'>Slice</span></li><li><span class='ee-k'>productTimelinessCategory:</span><span class='ee-v'>Fast-24h</span></li><li><span class='ee-k'>productType:</span><span class='ee-v'>GRD</span></li><li><span class='ee-k'>relativeOrbitNumber_start:</span><span class='ee-v'>97</span></li><li><span class='ee-k'>relativeOrbitNumber_stop:</span><span class='ee-v'>97</span></li><li><span class='ee-k'>resolution:</span><span class='ee-v'>M</span></li><li><span class='ee-k'>resolution_meters:</span><span class='ee-v'>40</span></li><li><span class='ee-k'>segmentStartTime:</span><span class='ee-v'>1592471653372</span></li><li><span class='ee-k'>sliceNumber:</span><span class='ee-v'>2</span></li><li><span class='ee-k'>sliceProductFlag:</span><span class='ee-v'>true</span></li><li><span class='ee-k'>startTimeANX:</span><span class='ee-v'>4526310</span></li><li><span class='ee-k'>stopTimeANX:</span><span class='ee-v'>4586302</span></li><li><span class='ee-k'>system:asset_size:</span><span class='ee-v'>998454069</span></li><li><label class='ee-shut'>system:footprint: LinearRing (21 vertices)<input type='checkbox' class='ee-toggle'></label><ul><li><span class='ee-k'>type:</span><span class='ee-v'>LinearRing</span></li><li><label class='ee-shut'>coordinates: List (21 elements)<input type='checkbox' class='ee-toggle'></label><ul><li><label class='ee-shut'>0: [-166.3219987962131, -74.5164144820884]<input type='checkbox' class='ee-toggle'></label><ul><li><span class='ee-k'>0:</span><span class='ee-v'>-166.3219987962131</span></li><li><span class='ee-k'>1:</span><span class='ee-v'>-74.5164144820884</span></li></ul></li><li><label class='ee-shut'>1: [-166.87478669094705, -74.44004808626795]<input type='checkbox' class='ee-toggle'></label><ul><li><span class='ee-k'>0:</span><span class='ee-v'>-166.87478669094705</span></li><li><span class='ee-k'>1:</span><span class='ee-v'>-74.44004808626795</span></li></ul></li><li><label class='ee-shut'>2: [-171.31283687542336, -73.74678955029377]<input type='checkbox' class='ee-toggle'></label><ul><li><span class='ee-k'>0:</span><span class='ee-v'>-171.31283687542336</span></li><li><span class='ee-k'>1:</span><span class='ee-v'>-73.74678955029377</span></li></ul></li><li><label class='ee-shut'>3: [-171.5739912209378, -73.70141510683203]<input type='checkbox' class='ee-toggle'></label><ul><li><span class='ee-k'>0:</span><span class='ee-v'>-171.5739912209378</span></li><li><span class='ee-k'>1:</span><span class='ee-v'>-73.70141510683203</span></li></ul></li><li><label class='ee-shut'>4: [-171.6382682542197, -73.69154968435687]<input type='checkbox' class='ee-toggle'></label><ul><li><span class='ee-k'>0:</span><span class='ee-v'>-171.6382682542197</span></li><li><span class='ee-k'>1:</span><span class='ee-v'>-73.69154968435687</span></li></ul></li><li><label class='ee-shut'>5: [-171.6590011503502, -73.70008277122213]<input type='checkbox' class='ee-toggle'></label><ul><li><span class='ee-k'>0:</span><span class='ee-v'>-171.6590011503502</span></li><li><span class='ee-k'>1:</span><span class='ee-v'>-73.70008277122213</span></li></ul></li><li><label class='ee-shut'>6: [-177.28659928843558, -75.83144241446948]<input type='checkbox' class='ee-toggle'></label><ul><li><span class='ee-k'>0:</span><span class='ee-v'>-177.28659928843558</span></li><li><span class='ee-k'>1:</span><span class='ee-v'>-75.83144241446948</span></li></ul></li><li><label class='ee-shut'>7: [179.82956375702813, -76.68097894965258]<input type='checkbox' class='ee-toggle'></label><ul><li><span class='ee-k'>0:</span><span class='ee-v'>179.82956375702813</span></li><li><span class='ee-k'>1:</span><span class='ee-v'>-76.68097894965258</span></li></ul></li><li><label class='ee-shut'>8: [179.81204851321834, -76.68663644386663]<input type='checkbox' class='ee-toggle'></label><ul><li><span class='ee-k'>0:</span><span class='ee-v'>179.81204851321834</span></li><li><span class='ee-k'>1:</span><span class='ee-v'>-76.68663644386663</span></li></ul></li><li><label class='ee-shut'>9: [-179.87494605021408, -76.74776694404488]<input type='checkbox' class='ee-toggle'></label><ul><li><span class='ee-k'>0:</span><span class='ee-v'>-179.87494605021408</span></li><li><span class='ee-k'>1:</span><span class='ee-v'>-76.74776694404488</span></li></ul></li><li><label class='ee-shut'>10: [-174.3525381633104, -77.68595620361666]<input type='checkbox' class='ee-toggle'></label><ul><li><span class='ee-k'>0:</span><span class='ee-v'>-174.3525381633104</span></li><li><span class='ee-k'>1:</span><span class='ee-v'>-77.68595620361666</span></li></ul></li><li><label class='ee-shut'>11: [-168.24448333839194, -78.4697517199215]<input type='checkbox' class='ee-toggle'></label><ul><li><span class='ee-k'>0:</span><span class='ee-v'>-168.24448333839194</span></li><li><span class='ee-k'>1:</span><span class='ee-v'>-78.4697517199215</span></li></ul></li><li><label class='ee-shut'>12: [-165.79904349674024, -78.72234252100355]<input type='checkbox' class='ee-toggle'></label><ul><li><span class='ee-k'>0:</span><span class='ee-v'>-165.79904349674024</span></li><li><span class='ee-k'>1:</span><span class='ee-v'>-78.72234252100355</span></li></ul></li><li><label class='ee-shut'>13: [-163.92355113961736, -77.93392079890887]<input type='checkbox' class='ee-toggle'></label><ul><li><span class='ee-k'>0:</span><span class='ee-v'>-163.92355113961736</span></li><li><span class='ee-k'>1:</span><span class='ee-v'>-77.93392079890887</span></li></ul></li><li><label class='ee-shut'>14: [-159.56727917178839, -75.53881983749754]<input type='checkbox' class='ee-toggle'></label><ul><li><span class='ee-k'>0:</span><span class='ee-v'>-159.56727917178839</span></li><li><span class='ee-k'>1:</span><span class='ee-v'>-75.53881983749754</span></li></ul></li><li><label class='ee-shut'>15: [-159.250528561098, -75.32425073687476]<input type='checkbox' class='ee-toggle'></label><ul><li><span class='ee-k'>0:</span><span class='ee-v'>-159.250528561098</span></li><li><span class='ee-k'>1:</span><span class='ee-v'>-75.32425073687476</span></li></ul></li><li><label class='ee-shut'>16: [-159.26298492922507, -75.32215056046816]<input type='checkbox' class='ee-toggle'></label><ul><li><span class='ee-k'>0:</span><span class='ee-v'>-159.26298492922507</span></li><li><span class='ee-k'>1:</span><span class='ee-v'>-75.32215056046816</span></li></ul></li><li><label class='ee-shut'>17: [-159.8723843803364, -75.2637970631007]<input type='checkbox' class='ee-toggle'></label><ul><li><span class='ee-k'>0:</span><span class='ee-v'>-159.8723843803364</span></li><li><span class='ee-k'>1:</span><span class='ee-v'>-75.2637970631007</span></li></ul></li><li><label class='ee-shut'>18: [-160.8437771647288, -75.16690359304626]<input type='checkbox' class='ee-toggle'></label><ul><li><span class='ee-k'>0:</span><span class='ee-v'>-160.8437771647288</span></li><li><span class='ee-k'>1:</span><span class='ee-v'>-75.16690359304626</span></li></ul></li><li><label class='ee-shut'>19: [-161.7303554127846, -75.07388657546998]<input type='checkbox' class='ee-toggle'></label><ul><li><span class='ee-k'>0:</span><span class='ee-v'>-161.7303554127846</span></li><li><span class='ee-k'>1:</span><span class='ee-v'>-75.07388657546998</span></li></ul></li><li><label class='ee-shut'>20: [-166.3219987962131, -74.5164144820884]<input type='checkbox' class='ee-toggle'></label><ul><li><span class='ee-k'>0:</span><span class='ee-v'>-166.3219987962131</span></li><li><span class='ee-k'>1:</span><span class='ee-v'>-74.5164144820884</span></li></ul></li></ul></li></ul></li><li><span class='ee-k'>system:index:</span><span class='ee-v'>S1A_EW_GRDM_1SDH_20200618T091517_20200618T091617_033069_03D4B8_13BF</span></li><li><span class='ee-k'>system:time_end:</span><span class='ee-v'>1592471717000</span></li><li><span class='ee-k'>system:time_start:</span><span class='ee-v'>1592471717000</span></li><li><span class='ee-k'>totalSlices:</span><span class='ee-v'>6</span></li><li><label class='ee-shut'>transmitterReceiverPolarisation: ['HH', 'HV']<input type='checkbox' class='ee-toggle'></label><ul><li><span class='ee-k'>0:</span><span class='ee-v'>HH</span></li><li><span class='ee-k'>1:</span><span class='ee-v'>HV</span></li></ul></li></ul></li></ul></li><li><label class='ee-shut'>5: Image COPERNICUS/S1_GRD/S1A_EW_GRDM_1SDH_20200621T080208_20200621T080308_033112_03D603_A1BB (2 bands)<input type='checkbox' class='ee-toggle'></label><ul><li><span class='ee-k'>type:</span><span class='ee-v'>Image</span></li><li><span class='ee-k'>id:</span><span class='ee-v'>COPERNICUS/S1_GRD/S1A_EW_GRDM_1SDH_20200621T080208_20200621T080308_033112_03D603_A1BB</span></li><li><span class='ee-k'>version:</span><span class='ee-v'>1720455786986427</span></li><li><label class='ee-shut'>bands: List (2 elements)<input type='checkbox' class='ee-toggle'></label><ul><li><label class='ee-shut'>0: \"HH\", double, EPSG:32704, 16611x15324 px<input type='checkbox' class='ee-toggle'></label><ul><li><span class='ee-k'>id:</span><span class='ee-v'>HH</span></li><li><span class='ee-k'>crs:</span><span class='ee-v'>EPSG:32704</span></li><li><label class='ee-shut'>crs_transform: List (6 elements)<input type='checkbox' class='ee-toggle'></label><ul><li><span class='ee-k'>0:</span><span class='ee-v'>40</span></li><li><span class='ee-k'>1:</span><span class='ee-v'>0</span></li><li><span class='ee-k'>2:</span><span class='ee-v'>81826.67151365057</span></li><li><span class='ee-k'>3:</span><span class='ee-v'>0</span></li><li><span class='ee-k'>4:</span><span class='ee-v'>-40</span></li><li><span class='ee-k'>5:</span><span class='ee-v'>2042331.5267262524</span></li></ul></li><li><label class='ee-shut'>data_type: double<input type='checkbox' class='ee-toggle'></label><ul><li><span class='ee-k'>type:</span><span class='ee-v'>PixelType</span></li><li><span class='ee-k'>precision:</span><span class='ee-v'>double</span></li></ul></li><li><label class='ee-shut'>dimensions: [16611, 15324]<input type='checkbox' class='ee-toggle'></label><ul><li><span class='ee-k'>0:</span><span class='ee-v'>16611</span></li><li><span class='ee-k'>1:</span><span class='ee-v'>15324</span></li></ul></li></ul></li><li><label class='ee-shut'>1: \"angle\", float, EPSG:32704, 21x21 px<input type='checkbox' class='ee-toggle'></label><ul><li><span class='ee-k'>id:</span><span class='ee-v'>angle</span></li><li><span class='ee-k'>crs:</span><span class='ee-v'>EPSG:32704</span></li><li><label class='ee-shut'>crs_transform: List (6 elements)<input type='checkbox' class='ee-toggle'></label><ul><li><span class='ee-k'>0:</span><span class='ee-v'>12705.840738344123</span></li><li><span class='ee-k'>1:</span><span class='ee-v'>-16133.63977145555</span></li><li><span class='ee-k'>2:</span><span class='ee-v'>464086.5554032711</span></li><li><span class='ee-k'>3:</span><span class='ee-v'>16407.565210008994</span></li><li><span class='ee-k'>4:</span><span class='ee-v'>12570.117242792621</span></li><li><span class='ee-k'>5:</span><span class='ee-v'>1459787.5721421093</span></li></ul></li><li><label class='ee-shut'>data_type: float<input type='checkbox' class='ee-toggle'></label><ul><li><span class='ee-k'>type:</span><span class='ee-v'>PixelType</span></li><li><span class='ee-k'>precision:</span><span class='ee-v'>float</span></li></ul></li><li><label class='ee-shut'>dimensions: [21, 21]<input type='checkbox' class='ee-toggle'></label><ul><li><span class='ee-k'>0:</span><span class='ee-v'>21</span></li><li><span class='ee-k'>1:</span><span class='ee-v'>21</span></li></ul></li></ul></li></ul></li><li><label class='ee-shut'>properties: Object (56 properties)<input type='checkbox' class='ee-toggle'></label><ul><li><span class='ee-k'>GRD_Post_Processing_facility_country:</span><span class='ee-v'>Germany</span></li><li><span class='ee-k'>GRD_Post_Processing_facility_name:</span><span class='ee-v'>Copernicus S1 Core Ground Segment - DPA</span></li><li><span class='ee-k'>GRD_Post_Processing_facility_org:</span><span class='ee-v'>ESA</span></li><li><span class='ee-k'>GRD_Post_Processing_facility_site:</span><span class='ee-v'>DLR-Oberpfaffenhofen</span></li><li><span class='ee-k'>GRD_Post_Processing_software_name:</span><span class='ee-v'>Sentinel-1 IPF</span></li><li><span class='ee-k'>GRD_Post_Processing_software_version:</span><span class='ee-v'>003.20</span></li><li><span class='ee-k'>GRD_Post_Processing_start:</span><span class='ee-v'>1592737235770</span></li><li><span class='ee-k'>GRD_Post_Processing_stop:</span><span class='ee-v'>1592737693000</span></li><li><span class='ee-k'>S1TBX_Calibration_vers:</span><span class='ee-v'>7.0.2</span></li><li><span class='ee-k'>S1TBX_SAR_Processing_vers:</span><span class='ee-v'>7.0.2</span></li><li><span class='ee-k'>SLC_Processing_facility_country:</span><span class='ee-v'>Germany</span></li><li><span class='ee-k'>SLC_Processing_facility_name:</span><span class='ee-v'>Copernicus S1 Core Ground Segment - DPA</span></li><li><span class='ee-k'>SLC_Processing_facility_org:</span><span class='ee-v'>ESA</span></li><li><span class='ee-k'>SLC_Processing_facility_site:</span><span class='ee-v'>DLR-Oberpfaffenhofen</span></li><li><span class='ee-k'>SLC_Processing_software_name:</span><span class='ee-v'>Sentinel-1 IPF</span></li><li><span class='ee-k'>SLC_Processing_software_version:</span><span class='ee-v'>003.20</span></li><li><span class='ee-k'>SLC_Processing_start:</span><span class='ee-v'>1592737315000</span></li><li><span class='ee-k'>SLC_Processing_stop:</span><span class='ee-v'>1592737586000</span></li><li><span class='ee-k'>SNAP_Graph_Processing_Framework_GPF_vers:</span><span class='ee-v'>7.0.3</span></li><li><span class='ee-k'>contains_aoi:</span><span class='ee-v'>True</span></li><li><span class='ee-k'>cycleNumber:</span><span class='ee-v'>203</span></li><li><span class='ee-k'>familyName:</span><span class='ee-v'>SENTINEL-1</span></li><li><span class='ee-k'>instrument:</span><span class='ee-v'>Synthetic Aperture Radar</span></li><li><span class='ee-k'>instrumentConfigurationID:</span><span class='ee-v'>6</span></li><li><span class='ee-k'>instrumentMode:</span><span class='ee-v'>EW</span></li><li><span class='ee-k'>instrumentSwath:</span><span class='ee-v'>EW</span></li><li><span class='ee-k'>missionDataTakeID:</span><span class='ee-v'>251395</span></li><li><span class='ee-k'>nssdcIdentifier:</span><span class='ee-v'>2014-016A</span></li><li><span class='ee-k'>orbitNumber_start:</span><span class='ee-v'>33112</span></li><li><span class='ee-k'>orbitNumber_stop:</span><span class='ee-v'>33112</span></li><li><span class='ee-k'>orbitProperties_ascendingNodeTime:</span><span class='ee-v'>1592721947991</span></li><li><span class='ee-k'>orbitProperties_pass:</span><span class='ee-v'>ASCENDING</span></li><li><span class='ee-k'>phaseIdentifier:</span><span class='ee-v'>1</span></li><li><span class='ee-k'>platformHeading:</span><span class='ee-v'>-39.89466692005145</span></li><li><span class='ee-k'>platform_number:</span><span class='ee-v'>A</span></li><li><span class='ee-k'>productClass:</span><span class='ee-v'>S</span></li><li><span class='ee-k'>productClassDescription:</span><span class='ee-v'>SAR Standard L1 Product</span></li><li><span class='ee-k'>productComposition:</span><span class='ee-v'>Slice</span></li><li><span class='ee-k'>productTimelinessCategory:</span><span class='ee-v'>Fast-24h</span></li><li><span class='ee-k'>productType:</span><span class='ee-v'>GRD</span></li><li><span class='ee-k'>relativeOrbitNumber_start:</span><span class='ee-v'>140</span></li><li><span class='ee-k'>relativeOrbitNumber_stop:</span><span class='ee-v'>140</span></li><li><span class='ee-k'>resolution:</span><span class='ee-v'>M</span></li><li><span class='ee-k'>resolution_meters:</span><span class='ee-v'>40</span></li><li><span class='ee-k'>segmentStartTime:</span><span class='ee-v'>1592726464018</span></li><li><span class='ee-k'>sliceNumber:</span><span class='ee-v'>2</span></li><li><span class='ee-k'>sliceProductFlag:</span><span class='ee-v'>true</span></li><li><span class='ee-k'>startTimeANX:</span><span class='ee-v'>4580128</span></li><li><span class='ee-k'>stopTimeANX:</span><span class='ee-v'>4640122</span></li><li><span class='ee-k'>system:asset_size:</span><span class='ee-v'>1003258001</span></li><li><label class='ee-shut'>system:footprint: LinearRing (21 vertices)<input type='checkbox' class='ee-toggle'></label><ul><li><span class='ee-k'>type:</span><span class='ee-v'>LinearRing</span></li><li><label class='ee-shut'>coordinates: List (21 elements)<input type='checkbox' class='ee-toggle'></label><ul><li><label class='ee-shut'>0: [-155.95507984919985, -73.1546558957069]<input type='checkbox' class='ee-toggle'></label><ul><li><span class='ee-k'>0:</span><span class='ee-v'>-155.95507984919985</span></li><li><span class='ee-k'>1:</span><span class='ee-v'>-73.1546558957069</span></li></ul></li><li><label class='ee-shut'>1: [-156.51361898685096, -73.04049141512829]<input type='checkbox' class='ee-toggle'></label><ul><li><span class='ee-k'>0:</span><span class='ee-v'>-156.51361898685096</span></li><li><span class='ee-k'>1:</span><span class='ee-v'>-73.04049141512829</span></li></ul></li><li><label class='ee-shut'>2: [-156.9041860051427, -72.95903080889005]<input type='checkbox' class='ee-toggle'></label><ul><li><span class='ee-k'>0:</span><span class='ee-v'>-156.9041860051427</span></li><li><span class='ee-k'>1:</span><span class='ee-v'>-72.95903080889005</span></li></ul></li><li><label class='ee-shut'>3: [-160.82369633018754, -72.05410195415915]<input type='checkbox' class='ee-toggle'></label><ul><li><span class='ee-k'>0:</span><span class='ee-v'>-160.82369633018754</span></li><li><span class='ee-k'>1:</span><span class='ee-v'>-72.05410195415915</span></li></ul></li><li><label class='ee-shut'>4: [-161.10879611575547, -71.9815614339162]<input type='checkbox' class='ee-toggle'></label><ul><li><span class='ee-k'>0:</span><span class='ee-v'>-161.10879611575547</span></li><li><span class='ee-k'>1:</span><span class='ee-v'>-71.9815614339162</span></li></ul></li><li><label class='ee-shut'>5: [-162.0756212588725, -71.72959532458297]<input type='checkbox' class='ee-toggle'></label><ul><li><span class='ee-k'>0:</span><span class='ee-v'>-162.0756212588725</span></li><li><span class='ee-k'>1:</span><span class='ee-v'>-71.72959532458297</span></li></ul></li><li><label class='ee-shut'>6: [-166.62960061241694, -73.21946036848104]<input type='checkbox' class='ee-toggle'></label><ul><li><span class='ee-k'>0:</span><span class='ee-v'>-166.62960061241694</span></li><li><span class='ee-k'>1:</span><span class='ee-v'>-73.21946036848104</span></li></ul></li><li><label class='ee-shut'>7: [-170.87092618799178, -74.33082998318503]<input type='checkbox' class='ee-toggle'></label><ul><li><span class='ee-k'>0:</span><span class='ee-v'>-170.87092618799178</span></li><li><span class='ee-k'>1:</span><span class='ee-v'>-74.33082998318503</span></li></ul></li><li><label class='ee-shut'>8: [-171.0168158693091, -74.3651607576675]<input type='checkbox' class='ee-toggle'></label><ul><li><span class='ee-k'>0:</span><span class='ee-v'>-171.0168158693091</span></li><li><span class='ee-k'>1:</span><span class='ee-v'>-74.3651607576675</span></li></ul></li><li><label class='ee-shut'>9: [-169.75329821018693, -74.74828728027379]<input type='checkbox' class='ee-toggle'></label><ul><li><span class='ee-k'>0:</span><span class='ee-v'>-169.75329821018693</span></li><li><span class='ee-k'>1:</span><span class='ee-v'>-74.74828728027379</span></li></ul></li><li><label class='ee-shut'>10: [-167.78587655519334, -75.29508156073953]<input type='checkbox' class='ee-toggle'></label><ul><li><span class='ee-k'>0:</span><span class='ee-v'>-167.78587655519334</span></li><li><span class='ee-k'>1:</span><span class='ee-v'>-75.29508156073953</span></li></ul></li><li><label class='ee-shut'>11: [-165.67235195615274, -75.82439079466391]<input type='checkbox' class='ee-toggle'></label><ul><li><span class='ee-k'>0:</span><span class='ee-v'>-165.67235195615274</span></li><li><span class='ee-k'>1:</span><span class='ee-v'>-75.82439079466391</span></li></ul></li><li><label class='ee-shut'>12: [-160.9617606548145, -76.8216281122669]<input type='checkbox' class='ee-toggle'></label><ul><li><span class='ee-k'>0:</span><span class='ee-v'>-160.9617606548145</span></li><li><span class='ee-k'>1:</span><span class='ee-v'>-76.8216281122669</span></li></ul></li><li><label class='ee-shut'>13: [-160.38222487791202, -76.9246607284783]<input type='checkbox' class='ee-toggle'></label><ul><li><span class='ee-k'>0:</span><span class='ee-v'>-160.38222487791202</span></li><li><span class='ee-k'>1:</span><span class='ee-v'>-76.9246607284783</span></li></ul></li><li><label class='ee-shut'>14: [-160.36355509616845, -76.92062770014036]<input type='checkbox' class='ee-toggle'></label><ul><li><span class='ee-k'>0:</span><span class='ee-v'>-160.36355509616845</span></li><li><span class='ee-k'>1:</span><span class='ee-v'>-76.92062770014036</span></li></ul></li><li><label class='ee-shut'>15: [-160.2669484530776, -76.89374367931836]<input type='checkbox' class='ee-toggle'></label><ul><li><span class='ee-k'>0:</span><span class='ee-v'>-160.2669484530776</span></li><li><span class='ee-k'>1:</span><span class='ee-v'>-76.89374367931836</span></li></ul></li><li><label class='ee-shut'>16: [-157.55078165555432, -76.07088580701863]<input type='checkbox' class='ee-toggle'></label><ul><li><span class='ee-k'>0:</span><span class='ee-v'>-157.55078165555432</span></li><li><span class='ee-k'>1:</span><span class='ee-v'>-76.07088580701863</span></li></ul></li><li><label class='ee-shut'>17: [-152.13752182450793, -73.97318600353637]<input type='checkbox' class='ee-toggle'></label><ul><li><span class='ee-k'>0:</span><span class='ee-v'>-152.13752182450793</span></li><li><span class='ee-k'>1:</span><span class='ee-v'>-73.97318600353637</span></li></ul></li><li><label class='ee-shut'>18: [-151.95603076652094, -73.88957145051303]<input type='checkbox' class='ee-toggle'></label><ul><li><span class='ee-k'>0:</span><span class='ee-v'>-151.95603076652094</span></li><li><span class='ee-k'>1:</span><span class='ee-v'>-73.88957145051303</span></li></ul></li><li><label class='ee-shut'>19: [-152.46504596706538, -73.8033609093571]<input type='checkbox' class='ee-toggle'></label><ul><li><span class='ee-k'>0:</span><span class='ee-v'>-152.46504596706538</span></li><li><span class='ee-k'>1:</span><span class='ee-v'>-73.8033609093571</span></li></ul></li><li><label class='ee-shut'>20: [-155.95507984919985, -73.1546558957069]<input type='checkbox' class='ee-toggle'></label><ul><li><span class='ee-k'>0:</span><span class='ee-v'>-155.95507984919985</span></li><li><span class='ee-k'>1:</span><span class='ee-v'>-73.1546558957069</span></li></ul></li></ul></li></ul></li><li><span class='ee-k'>system:index:</span><span class='ee-v'>S1A_EW_GRDM_1SDH_20200621T080208_20200621T080308_033112_03D603_A1BB</span></li><li><span class='ee-k'>system:time_end:</span><span class='ee-v'>1592726528000</span></li><li><span class='ee-k'>system:time_start:</span><span class='ee-v'>1592726528000</span></li><li><span class='ee-k'>totalSlices:</span><span class='ee-v'>3</span></li><li><label class='ee-shut'>transmitterReceiverPolarisation: ['HH', 'HV']<input type='checkbox' class='ee-toggle'></label><ul><li><span class='ee-k'>0:</span><span class='ee-v'>HH</span></li><li><span class='ee-k'>1:</span><span class='ee-v'>HV</span></li></ul></li></ul></li></ul></li><li><label class='ee-shut'>6: Image COPERNICUS/S1_GRD/S1A_EW_GRDM_1SDH_20200624T082630_20200624T082730_033156_03D74E_3A63 (2 bands)<input type='checkbox' class='ee-toggle'></label><ul><li><span class='ee-k'>type:</span><span class='ee-v'>Image</span></li><li><span class='ee-k'>id:</span><span class='ee-v'>COPERNICUS/S1_GRD/S1A_EW_GRDM_1SDH_20200624T082630_20200624T082730_033156_03D74E_3A63</span></li><li><span class='ee-k'>version:</span><span class='ee-v'>1720455786986427</span></li><li><label class='ee-shut'>bands: List (2 elements)<input type='checkbox' class='ee-toggle'></label><ul><li><label class='ee-shut'>0: \"HH\", double, EPSG:32703, 16593x15020 px<input type='checkbox' class='ee-toggle'></label><ul><li><span class='ee-k'>id:</span><span class='ee-v'>HH</span></li><li><span class='ee-k'>crs:</span><span class='ee-v'>EPSG:32703</span></li><li><label class='ee-shut'>crs_transform: List (6 elements)<input type='checkbox' class='ee-toggle'></label><ul><li><span class='ee-k'>0:</span><span class='ee-v'>40</span></li><li><span class='ee-k'>1:</span><span class='ee-v'>0</span></li><li><span class='ee-k'>2:</span><span class='ee-v'>192012.6282263411</span></li><li><span class='ee-k'>3:</span><span class='ee-v'>0</span></li><li><span class='ee-k'>4:</span><span class='ee-v'>-40</span></li><li><span class='ee-k'>5:</span><span class='ee-v'>1959680.9227565369</span></li></ul></li><li><label class='ee-shut'>data_type: double<input type='checkbox' class='ee-toggle'></label><ul><li><span class='ee-k'>type:</span><span class='ee-v'>PixelType</span></li><li><span class='ee-k'>precision:</span><span class='ee-v'>double</span></li></ul></li><li><label class='ee-shut'>dimensions: [16593, 15020]<input type='checkbox' class='ee-toggle'></label><ul><li><span class='ee-k'>0:</span><span class='ee-v'>16593</span></li><li><span class='ee-k'>1:</span><span class='ee-v'>15020</span></li></ul></li></ul></li><li><label class='ee-shut'>1: \"angle\", float, EPSG:32703, 21x21 px<input type='checkbox' class='ee-toggle'></label><ul><li><span class='ee-k'>id:</span><span class='ee-v'>angle</span></li><li><span class='ee-k'>crs:</span><span class='ee-v'>EPSG:32703</span></li><li><label class='ee-shut'>crs_transform: List (6 elements)<input type='checkbox' class='ee-toggle'></label><ul><li><span class='ee-k'>0:</span><span class='ee-v'>12692.396204248653</span></li><li><span class='ee-k'>1:</span><span class='ee-v'>-16149.558165259543</span></li><li><span class='ee-k'>2:</span><span class='ee-v'>562983.9500022758</span></li><li><span class='ee-k'>3:</span><span class='ee-v'>16419.222827246413</span></li><li><span class='ee-k'>4:</span><span class='ee-v'>12549.206435911357</span></li><li><span class='ee-k'>5:</span><span class='ee-v'>1380368.6141668055</span></li></ul></li><li><label class='ee-shut'>data_type: float<input type='checkbox' class='ee-toggle'></label><ul><li><span class='ee-k'>type:</span><span class='ee-v'>PixelType</span></li><li><span class='ee-k'>precision:</span><span class='ee-v'>float</span></li></ul></li><li><label class='ee-shut'>dimensions: [21, 21]<input type='checkbox' class='ee-toggle'></label><ul><li><span class='ee-k'>0:</span><span class='ee-v'>21</span></li><li><span class='ee-k'>1:</span><span class='ee-v'>21</span></li></ul></li></ul></li></ul></li><li><label class='ee-shut'>properties: Object (56 properties)<input type='checkbox' class='ee-toggle'></label><ul><li><span class='ee-k'>GRD_Post_Processing_facility_country:</span><span class='ee-v'>Germany</span></li><li><span class='ee-k'>GRD_Post_Processing_facility_name:</span><span class='ee-v'>Copernicus S1 Core Ground Segment - DPA</span></li><li><span class='ee-k'>GRD_Post_Processing_facility_org:</span><span class='ee-v'>ESA</span></li><li><span class='ee-k'>GRD_Post_Processing_facility_site:</span><span class='ee-v'>DLR-Oberpfaffenhofen</span></li><li><span class='ee-k'>GRD_Post_Processing_software_name:</span><span class='ee-v'>Sentinel-1 IPF</span></li><li><span class='ee-k'>GRD_Post_Processing_software_version:</span><span class='ee-v'>003.30</span></li><li><span class='ee-k'>GRD_Post_Processing_start:</span><span class='ee-v'>1592994384293</span></li><li><span class='ee-k'>GRD_Post_Processing_stop:</span><span class='ee-v'>1592994845000</span></li><li><span class='ee-k'>S1TBX_Calibration_vers:</span><span class='ee-v'>7.0.2</span></li><li><span class='ee-k'>S1TBX_SAR_Processing_vers:</span><span class='ee-v'>7.0.2</span></li><li><span class='ee-k'>SLC_Processing_facility_country:</span><span class='ee-v'>Germany</span></li><li><span class='ee-k'>SLC_Processing_facility_name:</span><span class='ee-v'>Copernicus S1 Core Ground Segment - DPA</span></li><li><span class='ee-k'>SLC_Processing_facility_org:</span><span class='ee-v'>ESA</span></li><li><span class='ee-k'>SLC_Processing_facility_site:</span><span class='ee-v'>DLR-Oberpfaffenhofen</span></li><li><span class='ee-k'>SLC_Processing_software_name:</span><span class='ee-v'>Sentinel-1 IPF</span></li><li><span class='ee-k'>SLC_Processing_software_version:</span><span class='ee-v'>003.30</span></li><li><span class='ee-k'>SLC_Processing_start:</span><span class='ee-v'>1592994468000</span></li><li><span class='ee-k'>SLC_Processing_stop:</span><span class='ee-v'>1592994738000</span></li><li><span class='ee-k'>SNAP_Graph_Processing_Framework_GPF_vers:</span><span class='ee-v'>7.0.3</span></li><li><span class='ee-k'>contains_aoi:</span><span class='ee-v'>True</span></li><li><span class='ee-k'>cycleNumber:</span><span class='ee-v'>204</span></li><li><span class='ee-k'>familyName:</span><span class='ee-v'>SENTINEL-1</span></li><li><span class='ee-k'>instrument:</span><span class='ee-v'>Synthetic Aperture Radar</span></li><li><span class='ee-k'>instrumentConfigurationID:</span><span class='ee-v'>6</span></li><li><span class='ee-k'>instrumentMode:</span><span class='ee-v'>EW</span></li><li><span class='ee-k'>instrumentSwath:</span><span class='ee-v'>EW</span></li><li><span class='ee-k'>missionDataTakeID:</span><span class='ee-v'>251726</span></li><li><span class='ee-k'>nssdcIdentifier:</span><span class='ee-v'>2014-016A</span></li><li><span class='ee-k'>orbitNumber_start:</span><span class='ee-v'>33156</span></li><li><span class='ee-k'>orbitNumber_stop:</span><span class='ee-v'>33156</span></li><li><span class='ee-k'>orbitProperties_ascendingNodeTime:</span><span class='ee-v'>1592982629290</span></li><li><span class='ee-k'>orbitProperties_pass:</span><span class='ee-v'>ASCENDING</span></li><li><span class='ee-k'>phaseIdentifier:</span><span class='ee-v'>1</span></li><li><span class='ee-k'>platformHeading:</span><span class='ee-v'>-43.21879067045143</span></li><li><span class='ee-k'>platform_number:</span><span class='ee-v'>A</span></li><li><span class='ee-k'>productClass:</span><span class='ee-v'>S</span></li><li><span class='ee-k'>productClassDescription:</span><span class='ee-v'>SAR Standard L1 Product</span></li><li><span class='ee-k'>productComposition:</span><span class='ee-v'>Slice</span></li><li><span class='ee-k'>productTimelinessCategory:</span><span class='ee-v'>Fast-24h</span></li><li><span class='ee-k'>productType:</span><span class='ee-v'>GRD</span></li><li><span class='ee-k'>relativeOrbitNumber_start:</span><span class='ee-v'>9</span></li><li><span class='ee-k'>relativeOrbitNumber_stop:</span><span class='ee-v'>9</span></li><li><span class='ee-k'>resolution:</span><span class='ee-v'>M</span></li><li><span class='ee-k'>resolution_meters:</span><span class='ee-v'>40</span></li><li><span class='ee-k'>segmentStartTime:</span><span class='ee-v'>1592987126192</span></li><li><span class='ee-k'>sliceNumber:</span><span class='ee-v'>2</span></li><li><span class='ee-k'>sliceProductFlag:</span><span class='ee-v'>true</span></li><li><span class='ee-k'>startTimeANX:</span><span class='ee-v'>4561004</span></li><li><span class='ee-k'>stopTimeANX:</span><span class='ee-v'>4620999</span></li><li><span class='ee-k'>system:asset_size:</span><span class='ee-v'>976859541</span></li><li><label class='ee-shut'>system:footprint: LinearRing (22 vertices)<input type='checkbox' class='ee-toggle'></label><ul><li><span class='ee-k'>type:</span><span class='ee-v'>LinearRing</span></li><li><label class='ee-shut'>coordinates: List (22 elements)<input type='checkbox' class='ee-toggle'></label><ul><li><label class='ee-shut'>0: [-165.24413270148202, -72.4796109030028]<input type='checkbox' class='ee-toggle'></label><ul><li><span class='ee-k'>0:</span><span class='ee-v'>-165.24413270148202</span></li><li><span class='ee-k'>1:</span><span class='ee-v'>-72.4796109030028</span></li></ul></li><li><label class='ee-shut'>1: [-165.28766430823399, -72.46968238848977]<input type='checkbox' class='ee-toggle'></label><ul><li><span class='ee-k'>0:</span><span class='ee-v'>-165.28766430823399</span></li><li><span class='ee-k'>1:</span><span class='ee-v'>-72.46968238848977</span></li></ul></li><li><label class='ee-shut'>2: [-165.29973015196356, -72.47328323373615]<input type='checkbox' class='ee-toggle'></label><ul><li><span class='ee-k'>0:</span><span class='ee-v'>-165.29973015196356</span></li><li><span class='ee-k'>1:</span><span class='ee-v'>-72.47328323373615</span></li></ul></li><li><label class='ee-shut'>3: [-165.4181969856339, -72.51921581895384]<input type='checkbox' class='ee-toggle'></label><ul><li><span class='ee-k'>0:</span><span class='ee-v'>-165.4181969856339</span></li><li><span class='ee-k'>1:</span><span class='ee-v'>-72.51921581895384</span></li></ul></li><li><label class='ee-shut'>4: [-170.22335994609537, -74.15506460710625]<input type='checkbox' class='ee-toggle'></label><ul><li><span class='ee-k'>0:</span><span class='ee-v'>-170.22335994609537</span></li><li><span class='ee-k'>1:</span><span class='ee-v'>-74.15506460710625</span></li></ul></li><li><label class='ee-shut'>5: [-174.1862628862963, -75.22632605920936]<input type='checkbox' class='ee-toggle'></label><ul><li><span class='ee-k'>0:</span><span class='ee-v'>-174.1862628862963</span></li><li><span class='ee-k'>1:</span><span class='ee-v'>-75.22632605920936</span></li></ul></li><li><label class='ee-shut'>6: [-174.18786268301423, -75.22893579572265]<input type='checkbox' class='ee-toggle'></label><ul><li><span class='ee-k'>0:</span><span class='ee-v'>-174.18786268301423</span></li><li><span class='ee-k'>1:</span><span class='ee-v'>-75.22893579572265</span></li></ul></li><li><label class='ee-shut'>7: [-171.7556568516172, -75.84397860646712]<input type='checkbox' class='ee-toggle'></label><ul><li><span class='ee-k'>0:</span><span class='ee-v'>-171.7556568516172</span></li><li><span class='ee-k'>1:</span><span class='ee-v'>-75.84397860646712</span></li></ul></li><li><label class='ee-shut'>8: [-162.3625270665433, -77.62853538067803]<input type='checkbox' class='ee-toggle'></label><ul><li><span class='ee-k'>0:</span><span class='ee-v'>-162.3625270665433</span></li><li><span class='ee-k'>1:</span><span class='ee-v'>-77.62853538067803</span></li></ul></li><li><label class='ee-shut'>9: [-162.3388846361306, -77.63159184451077]<input type='checkbox' class='ee-toggle'></label><ul><li><span class='ee-k'>0:</span><span class='ee-v'>-162.3388846361306</span></li><li><span class='ee-k'>1:</span><span class='ee-v'>-77.63159184451077</span></li></ul></li><li><label class='ee-shut'>10: [-162.32082271022446, -77.62735174169016]<input type='checkbox' class='ee-toggle'></label><ul><li><span class='ee-k'>0:</span><span class='ee-v'>-162.32082271022446</span></li><li><span class='ee-k'>1:</span><span class='ee-v'>-77.62735174169016</span></li></ul></li><li><label class='ee-shut'>11: [-162.08601789559012, -77.55525414837288]<input type='checkbox' class='ee-toggle'></label><ul><li><span class='ee-k'>0:</span><span class='ee-v'>-162.08601789559012</span></li><li><span class='ee-k'>1:</span><span class='ee-v'>-77.55525414837288</span></li></ul></li><li><label class='ee-shut'>12: [-155.13234796191432, -74.84185732187133]<input type='checkbox' class='ee-toggle'></label><ul><li><span class='ee-k'>0:</span><span class='ee-v'>-155.13234796191432</span></li><li><span class='ee-k'>1:</span><span class='ee-v'>-74.84185732187133</span></li></ul></li><li><label class='ee-shut'>13: [-154.37704505822973, -74.46156274046851]<input type='checkbox' class='ee-toggle'></label><ul><li><span class='ee-k'>0:</span><span class='ee-v'>-154.37704505822973</span></li><li><span class='ee-k'>1:</span><span class='ee-v'>-74.46156274046851</span></li></ul></li><li><label class='ee-shut'>14: [-154.39548791733657, -74.45813128009411]<input type='checkbox' class='ee-toggle'></label><ul><li><span class='ee-k'>0:</span><span class='ee-v'>-154.39548791733657</span></li><li><span class='ee-k'>1:</span><span class='ee-v'>-74.45813128009411</span></li></ul></li><li><label class='ee-shut'>15: [-154.73364231563426, -74.41046263958127]<input type='checkbox' class='ee-toggle'></label><ul><li><span class='ee-k'>0:</span><span class='ee-v'>-154.73364231563426</span></li><li><span class='ee-k'>1:</span><span class='ee-v'>-74.41046263958127</span></li></ul></li><li><label class='ee-shut'>16: [-158.69684325145477, -73.79278434376964]<input type='checkbox' class='ee-toggle'></label><ul><li><span class='ee-k'>0:</span><span class='ee-v'>-158.69684325145477</span></li><li><span class='ee-k'>1:</span><span class='ee-v'>-73.79278434376964</span></li></ul></li><li><label class='ee-shut'>17: [-162.44550121457007, -73.08949804241645]<input type='checkbox' class='ee-toggle'></label><ul><li><span class='ee-k'>0:</span><span class='ee-v'>-162.44550121457007</span></li><li><span class='ee-k'>1:</span><span class='ee-v'>-73.08949804241645</span></li></ul></li><li><label class='ee-shut'>18: [-162.8678695126051, -73.00223750322607]<input type='checkbox' class='ee-toggle'></label><ul><li><span class='ee-k'>0:</span><span class='ee-v'>-162.8678695126051</span></li><li><span class='ee-k'>1:</span><span class='ee-v'>-73.00223750322607</span></li></ul></li><li><label class='ee-shut'>19: [-163.23999278424924, -72.92398675270829]<input type='checkbox' class='ee-toggle'></label><ul><li><span class='ee-k'>0:</span><span class='ee-v'>-163.23999278424924</span></li><li><span class='ee-k'>1:</span><span class='ee-v'>-72.92398675270829</span></li></ul></li><li><label class='ee-shut'>20: [-165.09431292651416, -72.51416394373477]<input type='checkbox' class='ee-toggle'></label><ul><li><span class='ee-k'>0:</span><span class='ee-v'>-165.09431292651416</span></li><li><span class='ee-k'>1:</span><span class='ee-v'>-72.51416394373477</span></li></ul></li><li><label class='ee-shut'>21: [-165.24413270148202, -72.4796109030028]<input type='checkbox' class='ee-toggle'></label><ul><li><span class='ee-k'>0:</span><span class='ee-v'>-165.24413270148202</span></li><li><span class='ee-k'>1:</span><span class='ee-v'>-72.4796109030028</span></li></ul></li></ul></li></ul></li><li><span class='ee-k'>system:index:</span><span class='ee-v'>S1A_EW_GRDM_1SDH_20200624T082630_20200624T082730_033156_03D74E_3A63</span></li><li><span class='ee-k'>system:time_end:</span><span class='ee-v'>1592987190000</span></li><li><span class='ee-k'>system:time_start:</span><span class='ee-v'>1592987190000</span></li><li><span class='ee-k'>totalSlices:</span><span class='ee-v'>3</span></li><li><label class='ee-shut'>transmitterReceiverPolarisation: ['HH', 'HV']<input type='checkbox' class='ee-toggle'></label><ul><li><span class='ee-k'>0:</span><span class='ee-v'>HH</span></li><li><span class='ee-k'>1:</span><span class='ee-v'>HV</span></li></ul></li></ul></li></ul></li><li><label class='ee-shut'>7: Image COPERNICUS/S1_GRD/S1A_EW_GRDM_1SDH_20200626T081016_20200626T081116_033185_03D828_B65C (2 bands)<input type='checkbox' class='ee-toggle'></label><ul><li><span class='ee-k'>type:</span><span class='ee-v'>Image</span></li><li><span class='ee-k'>id:</span><span class='ee-v'>COPERNICUS/S1_GRD/S1A_EW_GRDM_1SDH_20200626T081016_20200626T081116_033185_03D828_B65C</span></li><li><span class='ee-k'>version:</span><span class='ee-v'>1720455786986427</span></li><li><label class='ee-shut'>bands: List (2 elements)<input type='checkbox' class='ee-toggle'></label><ul><li><label class='ee-shut'>0: \"HH\", double, EPSG:32703, 16715x15387 px<input type='checkbox' class='ee-toggle'></label><ul><li><span class='ee-k'>id:</span><span class='ee-v'>HH</span></li><li><span class='ee-k'>crs:</span><span class='ee-v'>EPSG:32703</span></li><li><label class='ee-shut'>crs_transform: List (6 elements)<input type='checkbox' class='ee-toggle'></label><ul><li><span class='ee-k'>0:</span><span class='ee-v'>40</span></li><li><span class='ee-k'>1:</span><span class='ee-v'>0</span></li><li><span class='ee-k'>2:</span><span class='ee-v'>245638.43588371325</span></li><li><span class='ee-k'>3:</span><span class='ee-v'>0</span></li><li><span class='ee-k'>4:</span><span class='ee-v'>-40</span></li><li><span class='ee-k'>5:</span><span class='ee-v'>2018730.5976759242</span></li></ul></li><li><label class='ee-shut'>data_type: double<input type='checkbox' class='ee-toggle'></label><ul><li><span class='ee-k'>type:</span><span class='ee-v'>PixelType</span></li><li><span class='ee-k'>precision:</span><span class='ee-v'>double</span></li></ul></li><li><label class='ee-shut'>dimensions: [16715, 15387]<input type='checkbox' class='ee-toggle'></label><ul><li><span class='ee-k'>0:</span><span class='ee-v'>16715</span></li><li><span class='ee-k'>1:</span><span class='ee-v'>15387</span></li></ul></li></ul></li><li><label class='ee-shut'>1: \"angle\", float, EPSG:32703, 21x21 px<input type='checkbox' class='ee-toggle'></label><ul><li><span class='ee-k'>id:</span><span class='ee-v'>angle</span></li><li><span class='ee-k'>crs:</span><span class='ee-v'>EPSG:32703</span></li><li><label class='ee-shut'>crs_transform: List (6 elements)<input type='checkbox' class='ee-toggle'></label><ul><li><span class='ee-k'>0:</span><span class='ee-v'>13946.765275575337</span></li><li><span class='ee-k'>1:</span><span class='ee-v'>-15247.738749130163</span></li><li><span class='ee-k'>2:</span><span class='ee-v'>588326.0540055179</span></li><li><span class='ee-k'>3:</span><span class='ee-v'>15691.929626608267</span></li><li><span class='ee-k'>4:</span><span class='ee-v'>13631.060159545392</span></li><li><span class='ee-k'>5:</span><span class='ee-v'>1431024.8645073473</span></li></ul></li><li><label class='ee-shut'>data_type: float<input type='checkbox' class='ee-toggle'></label><ul><li><span class='ee-k'>type:</span><span class='ee-v'>PixelType</span></li><li><span class='ee-k'>precision:</span><span class='ee-v'>float</span></li></ul></li><li><label class='ee-shut'>dimensions: [21, 21]<input type='checkbox' class='ee-toggle'></label><ul><li><span class='ee-k'>0:</span><span class='ee-v'>21</span></li><li><span class='ee-k'>1:</span><span class='ee-v'>21</span></li></ul></li></ul></li></ul></li><li><label class='ee-shut'>properties: Object (56 properties)<input type='checkbox' class='ee-toggle'></label><ul><li><span class='ee-k'>GRD_Post_Processing_facility_country:</span><span class='ee-v'>Germany</span></li><li><span class='ee-k'>GRD_Post_Processing_facility_name:</span><span class='ee-v'>Copernicus S1 Core Ground Segment - DPA</span></li><li><span class='ee-k'>GRD_Post_Processing_facility_org:</span><span class='ee-v'>ESA</span></li><li><span class='ee-k'>GRD_Post_Processing_facility_site:</span><span class='ee-v'>DLR-Oberpfaffenhofen</span></li><li><span class='ee-k'>GRD_Post_Processing_software_name:</span><span class='ee-v'>Sentinel-1 IPF</span></li><li><span class='ee-k'>GRD_Post_Processing_software_version:</span><span class='ee-v'>003.30</span></li><li><span class='ee-k'>GRD_Post_Processing_start:</span><span class='ee-v'>1593169477795</span></li><li><span class='ee-k'>GRD_Post_Processing_stop:</span><span class='ee-v'>1593169962000</span></li><li><span class='ee-k'>S1TBX_Calibration_vers:</span><span class='ee-v'>7.0.2</span></li><li><span class='ee-k'>S1TBX_SAR_Processing_vers:</span><span class='ee-v'>7.0.2</span></li><li><span class='ee-k'>SLC_Processing_facility_country:</span><span class='ee-v'>Germany</span></li><li><span class='ee-k'>SLC_Processing_facility_name:</span><span class='ee-v'>Copernicus S1 Core Ground Segment - DPA</span></li><li><span class='ee-k'>SLC_Processing_facility_org:</span><span class='ee-v'>ESA</span></li><li><span class='ee-k'>SLC_Processing_facility_site:</span><span class='ee-v'>DLR-Oberpfaffenhofen</span></li><li><span class='ee-k'>SLC_Processing_software_name:</span><span class='ee-v'>Sentinel-1 IPF</span></li><li><span class='ee-k'>SLC_Processing_software_version:</span><span class='ee-v'>003.30</span></li><li><span class='ee-k'>SLC_Processing_start:</span><span class='ee-v'>1593169572000</span></li><li><span class='ee-k'>SLC_Processing_stop:</span><span class='ee-v'>1593169854000</span></li><li><span class='ee-k'>SNAP_Graph_Processing_Framework_GPF_vers:</span><span class='ee-v'>7.0.3</span></li><li><span class='ee-k'>contains_aoi:</span><span class='ee-v'>True</span></li><li><span class='ee-k'>cycleNumber:</span><span class='ee-v'>204</span></li><li><span class='ee-k'>familyName:</span><span class='ee-v'>SENTINEL-1</span></li><li><span class='ee-k'>instrument:</span><span class='ee-v'>Synthetic Aperture Radar</span></li><li><span class='ee-k'>instrumentConfigurationID:</span><span class='ee-v'>6</span></li><li><span class='ee-k'>instrumentMode:</span><span class='ee-v'>EW</span></li><li><span class='ee-k'>instrumentSwath:</span><span class='ee-v'>EW</span></li><li><span class='ee-k'>missionDataTakeID:</span><span class='ee-v'>251944</span></li><li><span class='ee-k'>nssdcIdentifier:</span><span class='ee-v'>2014-016A</span></li><li><span class='ee-k'>orbitNumber_start:</span><span class='ee-v'>33185</span></li><li><span class='ee-k'>orbitNumber_stop:</span><span class='ee-v'>33185</span></li><li><span class='ee-k'>orbitProperties_ascendingNodeTime:</span><span class='ee-v'>1593154441946</span></li><li><span class='ee-k'>orbitProperties_pass:</span><span class='ee-v'>ASCENDING</span></li><li><span class='ee-k'>phaseIdentifier:</span><span class='ee-v'>1</span></li><li><span class='ee-k'>platformHeading:</span><span class='ee-v'>-40.7949804360051</span></li><li><span class='ee-k'>platform_number:</span><span class='ee-v'>A</span></li><li><span class='ee-k'>productClass:</span><span class='ee-v'>S</span></li><li><span class='ee-k'>productClassDescription:</span><span class='ee-v'>SAR Standard L1 Product</span></li><li><span class='ee-k'>productComposition:</span><span class='ee-v'>Slice</span></li><li><span class='ee-k'>productTimelinessCategory:</span><span class='ee-v'>Fast-24h</span></li><li><span class='ee-k'>productType:</span><span class='ee-v'>GRD</span></li><li><span class='ee-k'>relativeOrbitNumber_start:</span><span class='ee-v'>38</span></li><li><span class='ee-k'>relativeOrbitNumber_stop:</span><span class='ee-v'>38</span></li><li><span class='ee-k'>resolution:</span><span class='ee-v'>M</span></li><li><span class='ee-k'>resolution_meters:</span><span class='ee-v'>40</span></li><li><span class='ee-k'>segmentStartTime:</span><span class='ee-v'>1593158952526</span></li><li><span class='ee-k'>sliceNumber:</span><span class='ee-v'>2</span></li><li><span class='ee-k'>sliceProductFlag:</span><span class='ee-v'>true</span></li><li><span class='ee-k'>startTimeANX:</span><span class='ee-v'>4574682</span></li><li><span class='ee-k'>stopTimeANX:</span><span class='ee-v'>4634678</span></li><li><span class='ee-k'>system:asset_size:</span><span class='ee-v'>1002186246</span></li><li><label class='ee-shut'>system:footprint: LinearRing (21 vertices)<input type='checkbox' class='ee-toggle'></label><ul><li><span class='ee-k'>type:</span><span class='ee-v'>LinearRing</span></li><li><label class='ee-shut'>coordinates: List (21 elements)<input type='checkbox' class='ee-toggle'></label><ul><li><label class='ee-shut'>0: [-171.75264786661464, -74.49381943169631]<input type='checkbox' class='ee-toggle'></label><ul><li><span class='ee-k'>0:</span><span class='ee-v'>-171.75264786661464</span></li><li><span class='ee-k'>1:</span><span class='ee-v'>-74.49381943169631</span></li></ul></li><li><label class='ee-shut'>1: [-172.25598426675853, -74.61441313242696]<input type='checkbox' class='ee-toggle'></label><ul><li><span class='ee-k'>0:</span><span class='ee-v'>-172.25598426675853</span></li><li><span class='ee-k'>1:</span><span class='ee-v'>-74.61441313242696</span></li></ul></li><li><label class='ee-shut'>2: [-172.2341460118187, -74.62182767039945]<input type='checkbox' class='ee-toggle'></label><ul><li><span class='ee-k'>0:</span><span class='ee-v'>-172.2341460118187</span></li><li><span class='ee-k'>1:</span><span class='ee-v'>-74.62182767039945</span></li></ul></li><li><label class='ee-shut'>3: [-171.91846792151765, -74.71574517896266]<input type='checkbox' class='ee-toggle'></label><ul><li><span class='ee-k'>0:</span><span class='ee-v'>-171.91846792151765</span></li><li><span class='ee-k'>1:</span><span class='ee-v'>-74.71574517896266</span></li></ul></li><li><label class='ee-shut'>4: [-167.84605002897484, -75.79564353042527]<input type='checkbox' class='ee-toggle'></label><ul><li><span class='ee-k'>0:</span><span class='ee-v'>-167.84605002897484</span></li><li><span class='ee-k'>1:</span><span class='ee-v'>-75.79564353042527</span></li></ul></li><li><label class='ee-shut'>5: [-163.1449730386926, -76.79622940458056]<input type='checkbox' class='ee-toggle'></label><ul><li><span class='ee-k'>0:</span><span class='ee-v'>-163.1449730386926</span></li><li><span class='ee-k'>1:</span><span class='ee-v'>-76.79622940458056</span></li></ul></li><li><label class='ee-shut'>6: [-161.2909338696359, -77.13071795445614]<input type='checkbox' class='ee-toggle'></label><ul><li><span class='ee-k'>0:</span><span class='ee-v'>-161.2909338696359</span></li><li><span class='ee-k'>1:</span><span class='ee-v'>-77.13071795445614</span></li></ul></li><li><label class='ee-shut'>7: [-161.2769474101766, -77.1305206261052]<input type='checkbox' class='ee-toggle'></label><ul><li><span class='ee-k'>0:</span><span class='ee-v'>-161.2769474101766</span></li><li><span class='ee-k'>1:</span><span class='ee-v'>-77.1305206261052</span></li></ul></li><li><label class='ee-shut'>8: [-159.5403078889189, -76.60986408585329]<input type='checkbox' class='ee-toggle'></label><ul><li><span class='ee-k'>0:</span><span class='ee-v'>-159.5403078889189</span></li><li><span class='ee-k'>1:</span><span class='ee-v'>-76.60986408585329</span></li></ul></li><li><label class='ee-shut'>9: [-152.98547842650171, -74.06443706300995]<input type='checkbox' class='ee-toggle'></label><ul><li><span class='ee-k'>0:</span><span class='ee-v'>-152.98547842650171</span></li><li><span class='ee-k'>1:</span><span class='ee-v'>-74.06443706300995</span></li></ul></li><li><label class='ee-shut'>10: [-152.97378593720856, -74.05764037889735]<input type='checkbox' class='ee-toggle'></label><ul><li><span class='ee-k'>0:</span><span class='ee-v'>-152.97378593720856</span></li><li><span class='ee-k'>1:</span><span class='ee-v'>-74.05764037889735</span></li></ul></li><li><label class='ee-shut'>11: [-153.26822181607932, -74.01033236972812]<input type='checkbox' class='ee-toggle'></label><ul><li><span class='ee-k'>0:</span><span class='ee-v'>-153.26822181607932</span></li><li><span class='ee-k'>1:</span><span class='ee-v'>-74.01033236972812</span></li></ul></li><li><label class='ee-shut'>12: [-154.46676300421996, -73.81167154122008]<input type='checkbox' class='ee-toggle'></label><ul><li><span class='ee-k'>0:</span><span class='ee-v'>-154.46676300421996</span></li><li><span class='ee-k'>1:</span><span class='ee-v'>-73.81167154122008</span></li></ul></li><li><label class='ee-shut'>13: [-157.94404143194475, -73.1671534224176]<input type='checkbox' class='ee-toggle'></label><ul><li><span class='ee-k'>0:</span><span class='ee-v'>-157.94404143194475</span></li><li><span class='ee-k'>1:</span><span class='ee-v'>-73.1671534224176</span></li></ul></li><li><label class='ee-shut'>14: [-158.88612459256169, -72.97355872952761]<input type='checkbox' class='ee-toggle'></label><ul><li><span class='ee-k'>0:</span><span class='ee-v'>-158.88612459256169</span></li><li><span class='ee-k'>1:</span><span class='ee-v'>-72.97355872952761</span></li></ul></li><li><label class='ee-shut'>15: [-159.25866454609525, -72.89473300846804]<input type='checkbox' class='ee-toggle'></label><ul><li><span class='ee-k'>0:</span><span class='ee-v'>-159.25866454609525</span></li><li><span class='ee-k'>1:</span><span class='ee-v'>-72.89473300846804</span></li></ul></li><li><label class='ee-shut'>16: [-163.05911262033018, -72.00743096088996]<input type='checkbox' class='ee-toggle'></label><ul><li><span class='ee-k'>0:</span><span class='ee-v'>-163.05911262033018</span></li><li><span class='ee-k'>1:</span><span class='ee-v'>-72.00743096088996</span></li></ul></li><li><label class='ee-shut'>17: [-163.26604477427867, -71.9544834600535]<input type='checkbox' class='ee-toggle'></label><ul><li><span class='ee-k'>0:</span><span class='ee-v'>-163.26604477427867</span></li><li><span class='ee-k'>1:</span><span class='ee-v'>-71.9544834600535</span></li></ul></li><li><label class='ee-shut'>18: [-163.31509210757784, -71.9440698470039]<input type='checkbox' class='ee-toggle'></label><ul><li><span class='ee-k'>0:</span><span class='ee-v'>-163.31509210757784</span></li><li><span class='ee-k'>1:</span><span class='ee-v'>-71.9440698470039</span></li></ul></li><li><label class='ee-shut'>19: [-167.48614307572257, -73.34144277498282]<input type='checkbox' class='ee-toggle'></label><ul><li><span class='ee-k'>0:</span><span class='ee-v'>-167.48614307572257</span></li><li><span class='ee-k'>1:</span><span class='ee-v'>-73.34144277498282</span></li></ul></li><li><label class='ee-shut'>20: [-171.75264786661464, -74.49381943169631]<input type='checkbox' class='ee-toggle'></label><ul><li><span class='ee-k'>0:</span><span class='ee-v'>-171.75264786661464</span></li><li><span class='ee-k'>1:</span><span class='ee-v'>-74.49381943169631</span></li></ul></li></ul></li></ul></li><li><span class='ee-k'>system:index:</span><span class='ee-v'>S1A_EW_GRDM_1SDH_20200626T081016_20200626T081116_033185_03D828_B65C</span></li><li><span class='ee-k'>system:time_end:</span><span class='ee-v'>1593159016000</span></li><li><span class='ee-k'>system:time_start:</span><span class='ee-v'>1593159016000</span></li><li><span class='ee-k'>totalSlices:</span><span class='ee-v'>5</span></li><li><label class='ee-shut'>transmitterReceiverPolarisation: ['HH', 'HV']<input type='checkbox' class='ee-toggle'></label><ul><li><span class='ee-k'>0:</span><span class='ee-v'>HH</span></li><li><span class='ee-k'>1:</span><span class='ee-v'>HV</span></li></ul></li></ul></li></ul></li><li><label class='ee-shut'>8: Image COPERNICUS/S1_GRD/S1A_EW_GRDM_1SDH_20200628T075402_20200628T075502_033214_03D914_DDE9 (2 bands)<input type='checkbox' class='ee-toggle'></label><ul><li><span class='ee-k'>type:</span><span class='ee-v'>Image</span></li><li><span class='ee-k'>id:</span><span class='ee-v'>COPERNICUS/S1_GRD/S1A_EW_GRDM_1SDH_20200628T075402_20200628T075502_033214_03D914_DDE9</span></li><li><span class='ee-k'>version:</span><span class='ee-v'>1720455786986427</span></li><li><label class='ee-shut'>bands: List (2 elements)<input type='checkbox' class='ee-toggle'></label><ul><li><label class='ee-shut'>0: \"HH\", double, EPSG:32704, 16707x15357 px<input type='checkbox' class='ee-toggle'></label><ul><li><span class='ee-k'>id:</span><span class='ee-v'>HH</span></li><li><span class='ee-k'>crs:</span><span class='ee-v'>EPSG:32704</span></li><li><label class='ee-shut'>crs_transform: List (6 elements)<input type='checkbox' class='ee-toggle'></label><ul><li><span class='ee-k'>0:</span><span class='ee-v'>40</span></li><li><span class='ee-k'>1:</span><span class='ee-v'>0</span></li><li><span class='ee-k'>2:</span><span class='ee-v'>101179.84350789402</span></li><li><span class='ee-k'>3:</span><span class='ee-v'>0</span></li><li><span class='ee-k'>4:</span><span class='ee-v'>-40</span></li><li><span class='ee-k'>5:</span><span class='ee-v'>2079909.8597316397</span></li></ul></li><li><label class='ee-shut'>data_type: double<input type='checkbox' class='ee-toggle'></label><ul><li><span class='ee-k'>type:</span><span class='ee-v'>PixelType</span></li><li><span class='ee-k'>precision:</span><span class='ee-v'>double</span></li></ul></li><li><label class='ee-shut'>dimensions: [16707, 15357]<input type='checkbox' class='ee-toggle'></label><ul><li><span class='ee-k'>0:</span><span class='ee-v'>16707</span></li><li><span class='ee-k'>1:</span><span class='ee-v'>15357</span></li></ul></li></ul></li><li><label class='ee-shut'>1: \"angle\", float, EPSG:32704, 21x21 px<input type='checkbox' class='ee-toggle'></label><ul><li><span class='ee-k'>id:</span><span class='ee-v'>angle</span></li><li><span class='ee-k'>crs:</span><span class='ee-v'>EPSG:32704</span></li><li><label class='ee-shut'>crs_transform: List (6 elements)<input type='checkbox' class='ee-toggle'></label><ul><li><span class='ee-k'>0:</span><span class='ee-v'>13411.066006384732</span></li><li><span class='ee-k'>1:</span><span class='ee-v'>-15691.969471958815</span></li><li><span class='ee-k'>2:</span><span class='ee-v'>470284.69371615147</span></li><li><span class='ee-k'>3:</span><span class='ee-v'>16149.47758523561</span></li><li><span class='ee-k'>4:</span><span class='ee-v'>13116.211795151234</span></li><li><span class='ee-k'>5:</span><span class='ee-v'>1492957.6657780614</span></li></ul></li><li><label class='ee-shut'>data_type: float<input type='checkbox' class='ee-toggle'></label><ul><li><span class='ee-k'>type:</span><span class='ee-v'>PixelType</span></li><li><span class='ee-k'>precision:</span><span class='ee-v'>float</span></li></ul></li><li><label class='ee-shut'>dimensions: [21, 21]<input type='checkbox' class='ee-toggle'></label><ul><li><span class='ee-k'>0:</span><span class='ee-v'>21</span></li><li><span class='ee-k'>1:</span><span class='ee-v'>21</span></li></ul></li></ul></li></ul></li><li><label class='ee-shut'>properties: Object (56 properties)<input type='checkbox' class='ee-toggle'></label><ul><li><span class='ee-k'>GRD_Post_Processing_facility_country:</span><span class='ee-v'>Germany</span></li><li><span class='ee-k'>GRD_Post_Processing_facility_name:</span><span class='ee-v'>Copernicus S1 Core Ground Segment - DPA</span></li><li><span class='ee-k'>GRD_Post_Processing_facility_org:</span><span class='ee-v'>ESA</span></li><li><span class='ee-k'>GRD_Post_Processing_facility_site:</span><span class='ee-v'>DLR-Oberpfaffenhofen</span></li><li><span class='ee-k'>GRD_Post_Processing_software_name:</span><span class='ee-v'>Sentinel-1 IPF</span></li><li><span class='ee-k'>GRD_Post_Processing_software_version:</span><span class='ee-v'>003.30</span></li><li><span class='ee-k'>GRD_Post_Processing_start:</span><span class='ee-v'>1593340240462</span></li><li><span class='ee-k'>GRD_Post_Processing_stop:</span><span class='ee-v'>1593340719000</span></li><li><span class='ee-k'>S1TBX_Calibration_vers:</span><span class='ee-v'>7.0.2</span></li><li><span class='ee-k'>S1TBX_SAR_Processing_vers:</span><span class='ee-v'>7.0.2</span></li><li><span class='ee-k'>SLC_Processing_facility_country:</span><span class='ee-v'>Germany</span></li><li><span class='ee-k'>SLC_Processing_facility_name:</span><span class='ee-v'>Copernicus S1 Core Ground Segment - DPA</span></li><li><span class='ee-k'>SLC_Processing_facility_org:</span><span class='ee-v'>ESA</span></li><li><span class='ee-k'>SLC_Processing_facility_site:</span><span class='ee-v'>DLR-Oberpfaffenhofen</span></li><li><span class='ee-k'>SLC_Processing_software_name:</span><span class='ee-v'>Sentinel-1 IPF</span></li><li><span class='ee-k'>SLC_Processing_software_version:</span><span class='ee-v'>003.30</span></li><li><span class='ee-k'>SLC_Processing_start:</span><span class='ee-v'>1593340329000</span></li><li><span class='ee-k'>SLC_Processing_stop:</span><span class='ee-v'>1593340609000</span></li><li><span class='ee-k'>SNAP_Graph_Processing_Framework_GPF_vers:</span><span class='ee-v'>7.0.3</span></li><li><span class='ee-k'>contains_aoi:</span><span class='ee-v'>True</span></li><li><span class='ee-k'>cycleNumber:</span><span class='ee-v'>204</span></li><li><span class='ee-k'>familyName:</span><span class='ee-v'>SENTINEL-1</span></li><li><span class='ee-k'>instrument:</span><span class='ee-v'>Synthetic Aperture Radar</span></li><li><span class='ee-k'>instrumentConfigurationID:</span><span class='ee-v'>6</span></li><li><span class='ee-k'>instrumentMode:</span><span class='ee-v'>EW</span></li><li><span class='ee-k'>instrumentSwath:</span><span class='ee-v'>EW</span></li><li><span class='ee-k'>missionDataTakeID:</span><span class='ee-v'>252180</span></li><li><span class='ee-k'>nssdcIdentifier:</span><span class='ee-v'>2014-016A</span></li><li><span class='ee-k'>orbitNumber_start:</span><span class='ee-v'>33214</span></li><li><span class='ee-k'>orbitNumber_stop:</span><span class='ee-v'>33214</span></li><li><span class='ee-k'>orbitProperties_ascendingNodeTime:</span><span class='ee-v'>1593326254579</span></li><li><span class='ee-k'>orbitProperties_pass:</span><span class='ee-v'>ASCENDING</span></li><li><span class='ee-k'>phaseIdentifier:</span><span class='ee-v'>1</span></li><li><span class='ee-k'>platformHeading:</span><span class='ee-v'>-38.60570918942235</span></li><li><span class='ee-k'>platform_number:</span><span class='ee-v'>A</span></li><li><span class='ee-k'>productClass:</span><span class='ee-v'>S</span></li><li><span class='ee-k'>productClassDescription:</span><span class='ee-v'>SAR Standard L1 Product</span></li><li><span class='ee-k'>productComposition:</span><span class='ee-v'>Slice</span></li><li><span class='ee-k'>productTimelinessCategory:</span><span class='ee-v'>Fast-24h</span></li><li><span class='ee-k'>productType:</span><span class='ee-v'>GRD</span></li><li><span class='ee-k'>relativeOrbitNumber_start:</span><span class='ee-v'>67</span></li><li><span class='ee-k'>relativeOrbitNumber_stop:</span><span class='ee-v'>67</span></li><li><span class='ee-k'>resolution:</span><span class='ee-v'>M</span></li><li><span class='ee-k'>resolution_meters:</span><span class='ee-v'>40</span></li><li><span class='ee-k'>segmentStartTime:</span><span class='ee-v'>1593330778837</span></li><li><span class='ee-k'>sliceNumber:</span><span class='ee-v'>2</span></li><li><span class='ee-k'>sliceProductFlag:</span><span class='ee-v'>true</span></li><li><span class='ee-k'>startTimeANX:</span><span class='ee-v'>4588360</span></li><li><span class='ee-k'>stopTimeANX:</span><span class='ee-v'>4648356</span></li><li><span class='ee-k'>system:asset_size:</span><span class='ee-v'>1004167749</span></li><li><label class='ee-shut'>system:footprint: LinearRing (20 vertices)<input type='checkbox' class='ee-toggle'></label><ul><li><span class='ee-k'>type:</span><span class='ee-v'>LinearRing</span></li><li><label class='ee-shut'>coordinates: List (20 elements)<input type='checkbox' class='ee-toggle'></label><ul><li><label class='ee-shut'>0: [-170.14363019953763, -73.97926399581684]<input type='checkbox' class='ee-toggle'></label><ul><li><span class='ee-k'>0:</span><span class='ee-v'>-170.14363019953763</span></li><li><span class='ee-k'>1:</span><span class='ee-v'>-73.97926399581684</span></li></ul></li><li><label class='ee-shut'>1: [-170.13186875256073, -73.9840269182049]<input type='checkbox' class='ee-toggle'></label><ul><li><span class='ee-k'>0:</span><span class='ee-v'>-170.13186875256073</span></li><li><span class='ee-k'>1:</span><span class='ee-v'>-73.9840269182049</span></li></ul></li><li><label class='ee-shut'>2: [-167.51678659646714, -74.79865024003631]<input type='checkbox' class='ee-toggle'></label><ul><li><span class='ee-k'>0:</span><span class='ee-v'>-167.51678659646714</span></li><li><span class='ee-k'>1:</span><span class='ee-v'>-74.79865024003631</span></li></ul></li><li><label class='ee-shut'>3: [-164.00390761692987, -75.72818825112506]<input type='checkbox' class='ee-toggle'></label><ul><li><span class='ee-k'>0:</span><span class='ee-v'>-164.00390761692987</span></li><li><span class='ee-k'>1:</span><span class='ee-v'>-75.72818825112506</span></li></ul></li><li><label class='ee-shut'>4: [-160.01239772356544, -76.60311974737934]<input type='checkbox' class='ee-toggle'></label><ul><li><span class='ee-k'>0:</span><span class='ee-v'>-160.01239772356544</span></li><li><span class='ee-k'>1:</span><span class='ee-v'>-76.60311974737934</span></li></ul></li><li><label class='ee-shut'>5: [-159.99852444292193, -76.60001172214733]<input type='checkbox' class='ee-toggle'></label><ul><li><span class='ee-k'>0:</span><span class='ee-v'>-159.99852444292193</span></li><li><span class='ee-k'>1:</span><span class='ee-v'>-76.60001172214733</span></li></ul></li><li><label class='ee-shut'>6: [-159.8098904422752, -76.54904756216777]<input type='checkbox' class='ee-toggle'></label><ul><li><span class='ee-k'>0:</span><span class='ee-v'>-159.8098904422752</span></li><li><span class='ee-k'>1:</span><span class='ee-v'>-76.54904756216777</span></li></ul></li><li><label class='ee-shut'>7: [-158.62666177175282, -76.21599958626066]<input type='checkbox' class='ee-toggle'></label><ul><li><span class='ee-k'>0:</span><span class='ee-v'>-158.62666177175282</span></li><li><span class='ee-k'>1:</span><span class='ee-v'>-76.21599958626066</span></li></ul></li><li><label class='ee-shut'>8: [-151.43517133662672, -73.62414664719378]<input type='checkbox' class='ee-toggle'></label><ul><li><span class='ee-k'>0:</span><span class='ee-v'>-151.43517133662672</span></li><li><span class='ee-k'>1:</span><span class='ee-v'>-73.62414664719378</span></li></ul></li><li><label class='ee-shut'>9: [-151.45752459044218, -73.6192636880219]<input type='checkbox' class='ee-toggle'></label><ul><li><span class='ee-k'>0:</span><span class='ee-v'>-151.45752459044218</span></li><li><span class='ee-k'>1:</span><span class='ee-v'>-73.6192636880219</span></li></ul></li><li><label class='ee-shut'>10: [-153.45313824269815, -73.24157275251767]<input type='checkbox' class='ee-toggle'></label><ul><li><span class='ee-k'>0:</span><span class='ee-v'>-153.45313824269815</span></li><li><span class='ee-k'>1:</span><span class='ee-v'>-73.24157275251767</span></li></ul></li><li><label class='ee-shut'>11: [-153.87484421239296, -73.15747174535825]<input type='checkbox' class='ee-toggle'></label><ul><li><span class='ee-k'>0:</span><span class='ee-v'>-153.87484421239296</span></li><li><span class='ee-k'>1:</span><span class='ee-v'>-73.15747174535825</span></li></ul></li><li><label class='ee-shut'>12: [-154.70210861162658, -72.98768974151868]<input type='checkbox' class='ee-toggle'></label><ul><li><span class='ee-k'>0:</span><span class='ee-v'>-154.70210861162658</span></li><li><span class='ee-k'>1:</span><span class='ee-v'>-72.98768974151868</span></li></ul></li><li><label class='ee-shut'>13: [-158.8371774705615, -72.03441854160259]<input type='checkbox' class='ee-toggle'></label><ul><li><span class='ee-k'>0:</span><span class='ee-v'>-158.8371774705615</span></li><li><span class='ee-k'>1:</span><span class='ee-v'>-72.03441854160259</span></li></ul></li><li><label class='ee-shut'>14: [-160.9665709131467, -71.46701377063961]<input type='checkbox' class='ee-toggle'></label><ul><li><span class='ee-k'>0:</span><span class='ee-v'>-160.9665709131467</span></li><li><span class='ee-k'>1:</span><span class='ee-v'>-71.46701377063961</span></li></ul></li><li><label class='ee-shut'>15: [-161.21708785529205, -71.39643118878747]<input type='checkbox' class='ee-toggle'></label><ul><li><span class='ee-k'>0:</span><span class='ee-v'>-161.21708785529205</span></li><li><span class='ee-k'>1:</span><span class='ee-v'>-71.39643118878747</span></li></ul></li><li><label class='ee-shut'>16: [-161.23221231015285, -71.40091593338758]<input type='checkbox' class='ee-toggle'></label><ul><li><span class='ee-k'>0:</span><span class='ee-v'>-161.23221231015285</span></li><li><span class='ee-k'>1:</span><span class='ee-v'>-71.40091593338758</span></li></ul></li><li><label class='ee-shut'>17: [-162.7050594798828, -71.91027011052991]<input type='checkbox' class='ee-toggle'></label><ul><li><span class='ee-k'>0:</span><span class='ee-v'>-162.7050594798828</span></li><li><span class='ee-k'>1:</span><span class='ee-v'>-71.91027011052991</span></li></ul></li><li><label class='ee-shut'>18: [-169.82690372105878, -73.90562918661385]<input type='checkbox' class='ee-toggle'></label><ul><li><span class='ee-k'>0:</span><span class='ee-v'>-169.82690372105878</span></li><li><span class='ee-k'>1:</span><span class='ee-v'>-73.90562918661385</span></li></ul></li><li><label class='ee-shut'>19: [-170.14363019953763, -73.97926399581684]<input type='checkbox' class='ee-toggle'></label><ul><li><span class='ee-k'>0:</span><span class='ee-v'>-170.14363019953763</span></li><li><span class='ee-k'>1:</span><span class='ee-v'>-73.97926399581684</span></li></ul></li></ul></li></ul></li><li><span class='ee-k'>system:index:</span><span class='ee-v'>S1A_EW_GRDM_1SDH_20200628T075402_20200628T075502_033214_03D914_DDE9</span></li><li><span class='ee-k'>system:time_end:</span><span class='ee-v'>1593330842000</span></li><li><span class='ee-k'>system:time_start:</span><span class='ee-v'>1593330842000</span></li><li><span class='ee-k'>totalSlices:</span><span class='ee-v'>5</span></li><li><label class='ee-shut'>transmitterReceiverPolarisation: ['HH', 'HV']<input type='checkbox' class='ee-toggle'></label><ul><li><span class='ee-k'>0:</span><span class='ee-v'>HH</span></li><li><span class='ee-k'>1:</span><span class='ee-v'>HV</span></li></ul></li></ul></li></ul></li><li><label class='ee-shut'>9: Image COPERNICUS/S1_GRD/S1A_EW_GRDM_1SDH_20200630T091413_20200630T091518_033244_03DA0A_C61F (2 bands)<input type='checkbox' class='ee-toggle'></label><ul><li><span class='ee-k'>type:</span><span class='ee-v'>Image</span></li><li><span class='ee-k'>id:</span><span class='ee-v'>COPERNICUS/S1_GRD/S1A_EW_GRDM_1SDH_20200630T091413_20200630T091518_033244_03DA0A_C61F</span></li><li><span class='ee-k'>version:</span><span class='ee-v'>1720455786986427</span></li><li><label class='ee-shut'>bands: List (2 elements)<input type='checkbox' class='ee-toggle'></label><ul><li><label class='ee-shut'>0: \"HH\", double, EPSG:32705, 15734x13552 px<input type='checkbox' class='ee-toggle'></label><ul><li><span class='ee-k'>id:</span><span class='ee-v'>HH</span></li><li><span class='ee-k'>crs:</span><span class='ee-v'>EPSG:32705</span></li><li><label class='ee-shut'>crs_transform: List (6 elements)<input type='checkbox' class='ee-toggle'></label><ul><li><span class='ee-k'>0:</span><span class='ee-v'>40</span></li><li><span class='ee-k'>1:</span><span class='ee-v'>0</span></li><li><span class='ee-k'>2:</span><span class='ee-v'>136730.0651554052</span></li><li><span class='ee-k'>3:</span><span class='ee-v'>0</span></li><li><span class='ee-k'>4:</span><span class='ee-v'>-40</span></li><li><span class='ee-k'>5:</span><span class='ee-v'>1640973.649899372</span></li></ul></li><li><label class='ee-shut'>data_type: double<input type='checkbox' class='ee-toggle'></label><ul><li><span class='ee-k'>type:</span><span class='ee-v'>PixelType</span></li><li><span class='ee-k'>precision:</span><span class='ee-v'>double</span></li></ul></li><li><label class='ee-shut'>dimensions: [15734, 13552]<input type='checkbox' class='ee-toggle'></label><ul><li><span class='ee-k'>0:</span><span class='ee-v'>15734</span></li><li><span class='ee-k'>1:</span><span class='ee-v'>13552</span></li></ul></li></ul></li><li><label class='ee-shut'>1: \"angle\", float, EPSG:32705, 21x23 px<input type='checkbox' class='ee-toggle'></label><ul><li><span class='ee-k'>id:</span><span class='ee-v'>angle</span></li><li><span class='ee-k'>crs:</span><span class='ee-v'>EPSG:32705</span></li><li><label class='ee-shut'>crs_transform: List (6 elements)<input type='checkbox' class='ee-toggle'></label><ul><li><span class='ee-k'>0:</span><span class='ee-v'>5254.290026317467</span></li><li><span class='ee-k'>1:</span><span class='ee-v'>-19850.85896004073</span></li><li><span class='ee-k'>2:</span><span class='ee-v'>646207.8292785527</span></li><li><span class='ee-k'>3:</span><span class='ee-v'>20384.072360113263</span></li><li><span class='ee-k'>4:</span><span class='ee-v'>4931.1054317466915</span></li><li><span class='ee-k'>5:</span><span class='ee-v'>1117378.754580982</span></li></ul></li><li><label class='ee-shut'>data_type: float<input type='checkbox' class='ee-toggle'></label><ul><li><span class='ee-k'>type:</span><span class='ee-v'>PixelType</span></li><li><span class='ee-k'>precision:</span><span class='ee-v'>float</span></li></ul></li><li><label class='ee-shut'>dimensions: [21, 23]<input type='checkbox' class='ee-toggle'></label><ul><li><span class='ee-k'>0:</span><span class='ee-v'>21</span></li><li><span class='ee-k'>1:</span><span class='ee-v'>23</span></li></ul></li></ul></li></ul></li><li><label class='ee-shut'>properties: Object (56 properties)<input type='checkbox' class='ee-toggle'></label><ul><li><span class='ee-k'>GRD_Post_Processing_facility_country:</span><span class='ee-v'>Germany</span></li><li><span class='ee-k'>GRD_Post_Processing_facility_name:</span><span class='ee-v'>Copernicus S1 Core Ground Segment - DPA</span></li><li><span class='ee-k'>GRD_Post_Processing_facility_org:</span><span class='ee-v'>ESA</span></li><li><span class='ee-k'>GRD_Post_Processing_facility_site:</span><span class='ee-v'>DLR-Oberpfaffenhofen</span></li><li><span class='ee-k'>GRD_Post_Processing_software_name:</span><span class='ee-v'>Sentinel-1 IPF</span></li><li><span class='ee-k'>GRD_Post_Processing_software_version:</span><span class='ee-v'>003.31</span></li><li><span class='ee-k'>GRD_Post_Processing_start:</span><span class='ee-v'>1593536486906</span></li><li><span class='ee-k'>GRD_Post_Processing_stop:</span><span class='ee-v'>1593536999000</span></li><li><span class='ee-k'>S1TBX_Calibration_vers:</span><span class='ee-v'>7.0.2</span></li><li><span class='ee-k'>S1TBX_SAR_Processing_vers:</span><span class='ee-v'>7.0.2</span></li><li><span class='ee-k'>SLC_Processing_facility_country:</span><span class='ee-v'>Germany</span></li><li><span class='ee-k'>SLC_Processing_facility_name:</span><span class='ee-v'>Copernicus S1 Core Ground Segment - DPA</span></li><li><span class='ee-k'>SLC_Processing_facility_org:</span><span class='ee-v'>ESA</span></li><li><span class='ee-k'>SLC_Processing_facility_site:</span><span class='ee-v'>DLR-Oberpfaffenhofen</span></li><li><span class='ee-k'>SLC_Processing_software_name:</span><span class='ee-v'>Sentinel-1 IPF</span></li><li><span class='ee-k'>SLC_Processing_software_version:</span><span class='ee-v'>003.31</span></li><li><span class='ee-k'>SLC_Processing_start:</span><span class='ee-v'>1593536586000</span></li><li><span class='ee-k'>SLC_Processing_stop:</span><span class='ee-v'>1593536879000</span></li><li><span class='ee-k'>SNAP_Graph_Processing_Framework_GPF_vers:</span><span class='ee-v'>7.0.3</span></li><li><span class='ee-k'>contains_aoi:</span><span class='ee-v'>False</span></li><li><span class='ee-k'>cycleNumber:</span><span class='ee-v'>204</span></li><li><span class='ee-k'>familyName:</span><span class='ee-v'>SENTINEL-1</span></li><li><span class='ee-k'>instrument:</span><span class='ee-v'>Synthetic Aperture Radar</span></li><li><span class='ee-k'>instrumentConfigurationID:</span><span class='ee-v'>6</span></li><li><span class='ee-k'>instrumentMode:</span><span class='ee-v'>EW</span></li><li><span class='ee-k'>instrumentSwath:</span><span class='ee-v'>EW</span></li><li><span class='ee-k'>missionDataTakeID:</span><span class='ee-v'>252426</span></li><li><span class='ee-k'>nssdcIdentifier:</span><span class='ee-v'>2014-016A</span></li><li><span class='ee-k'>orbitNumber_start:</span><span class='ee-v'>33244</span></li><li><span class='ee-k'>orbitNumber_stop:</span><span class='ee-v'>33244</span></li><li><span class='ee-k'>orbitProperties_ascendingNodeTime:</span><span class='ee-v'>1593503991704</span></li><li><span class='ee-k'>orbitProperties_pass:</span><span class='ee-v'>ASCENDING</span></li><li><span class='ee-k'>phaseIdentifier:</span><span class='ee-v'>1</span></li><li><span class='ee-k'>platformHeading:</span><span class='ee-v'>-68.40399023973673</span></li><li><span class='ee-k'>platform_number:</span><span class='ee-v'>A</span></li><li><span class='ee-k'>productClass:</span><span class='ee-v'>S</span></li><li><span class='ee-k'>productClassDescription:</span><span class='ee-v'>SAR Standard L1 Product</span></li><li><span class='ee-k'>productComposition:</span><span class='ee-v'>Slice</span></li><li><span class='ee-k'>productTimelinessCategory:</span><span class='ee-v'>Fast-24h</span></li><li><span class='ee-k'>productType:</span><span class='ee-v'>GRD</span></li><li><span class='ee-k'>relativeOrbitNumber_start:</span><span class='ee-v'>97</span></li><li><span class='ee-k'>relativeOrbitNumber_stop:</span><span class='ee-v'>97</span></li><li><span class='ee-k'>resolution:</span><span class='ee-v'>M</span></li><li><span class='ee-k'>resolution_meters:</span><span class='ee-v'>40</span></li><li><span class='ee-k'>segmentStartTime:</span><span class='ee-v'>1593508453903</span></li><li><span class='ee-k'>sliceNumber:</span><span class='ee-v'>1</span></li><li><span class='ee-k'>sliceProductFlag:</span><span class='ee-v'>true</span></li><li><span class='ee-k'>startTimeANX:</span><span class='ee-v'>4461996</span></li><li><span class='ee-k'>stopTimeANX:</span><span class='ee-v'>4526296</span></li><li><span class='ee-k'>system:asset_size:</span><span class='ee-v'>1046149573</span></li><li><label class='ee-shut'>system:footprint: LinearRing (22 vertices)<input type='checkbox' class='ee-toggle'></label><ul><li><span class='ee-k'>type:</span><span class='ee-v'>LinearRing</span></li><li><label class='ee-shut'>coordinates: List (22 elements)<input type='checkbox' class='ee-toggle'></label><ul><li><label class='ee-shut'>0: [-165.79958698784532, -78.72066739160041]<input type='checkbox' class='ee-toggle'></label><ul><li><span class='ee-k'>0:</span><span class='ee-v'>-165.79958698784532</span></li><li><span class='ee-k'>1:</span><span class='ee-v'>-78.72066739160041</span></li></ul></li><li><label class='ee-shut'>1: [-165.7808943582149, -78.72286340066042]<input type='checkbox' class='ee-toggle'></label><ul><li><span class='ee-k'>0:</span><span class='ee-v'>-165.7808943582149</span></li><li><span class='ee-k'>1:</span><span class='ee-v'>-78.72286340066042</span></li></ul></li><li><label class='ee-shut'>2: [-148.1721453300993, -79.81048881761177]<input type='checkbox' class='ee-toggle'></label><ul><li><span class='ee-k'>0:</span><span class='ee-v'>-148.1721453300993</span></li><li><span class='ee-k'>1:</span><span class='ee-v'>-79.81048881761177</span></li></ul></li><li><label class='ee-shut'>3: [-145.55095493250158, -79.86964593760614]<input type='checkbox' class='ee-toggle'></label><ul><li><span class='ee-k'>0:</span><span class='ee-v'>-145.55095493250158</span></li><li><span class='ee-k'>1:</span><span class='ee-v'>-79.86964593760614</span></li></ul></li><li><label class='ee-shut'>4: [-145.46263634203606, -79.87092795941365]<input type='checkbox' class='ee-toggle'></label><ul><li><span class='ee-k'>0:</span><span class='ee-v'>-145.46263634203606</span></li><li><span class='ee-k'>1:</span><span class='ee-v'>-79.87092795941365</span></li></ul></li><li><label class='ee-shut'>5: [-145.45634756668196, -79.86949011462372]<input type='checkbox' class='ee-toggle'></label><ul><li><span class='ee-k'>0:</span><span class='ee-v'>-145.45634756668196</span></li><li><span class='ee-k'>1:</span><span class='ee-v'>-79.86949011462372</span></li></ul></li><li><label class='ee-shut'>6: [-145.38480412850342, -79.76659831347641]<input type='checkbox' class='ee-toggle'></label><ul><li><span class='ee-k'>0:</span><span class='ee-v'>-145.38480412850342</span></li><li><span class='ee-k'>1:</span><span class='ee-v'>-79.76659831347641</span></li></ul></li><li><label class='ee-shut'>7: [-145.10526642217766, -79.34279743698798]<input type='checkbox' class='ee-toggle'></label><ul><li><span class='ee-k'>0:</span><span class='ee-v'>-145.10526642217766</span></li><li><span class='ee-k'>1:</span><span class='ee-v'>-79.34279743698798</span></li></ul></li><li><label class='ee-shut'>8: [-144.9807782824622, -79.14198632123649]<input type='checkbox' class='ee-toggle'></label><ul><li><span class='ee-k'>0:</span><span class='ee-v'>-144.9807782824622</span></li><li><span class='ee-k'>1:</span><span class='ee-v'>-79.14198632123649</span></li></ul></li><li><label class='ee-shut'>9: [-144.9060865264886, -79.01739867240659]<input type='checkbox' class='ee-toggle'></label><ul><li><span class='ee-k'>0:</span><span class='ee-v'>-144.9060865264886</span></li><li><span class='ee-k'>1:</span><span class='ee-v'>-79.01739867240659</span></li></ul></li><li><label class='ee-shut'>10: [-144.79864817678646, -78.8321562119067]<input type='checkbox' class='ee-toggle'></label><ul><li><span class='ee-k'>0:</span><span class='ee-v'>-144.79864817678646</span></li><li><span class='ee-k'>1:</span><span class='ee-v'>-78.8321562119067</span></li></ul></li><li><label class='ee-shut'>11: [-144.78275987564484, -78.80023106953129]<input type='checkbox' class='ee-toggle'></label><ul><li><span class='ee-k'>0:</span><span class='ee-v'>-144.78275987564484</span></li><li><span class='ee-k'>1:</span><span class='ee-v'>-78.80023106953129</span></li></ul></li><li><label class='ee-shut'>12: [-144.7811605685757, -78.79475192010423]<input type='checkbox' class='ee-toggle'></label><ul><li><span class='ee-k'>0:</span><span class='ee-v'>-144.7811605685757</span></li><li><span class='ee-k'>1:</span><span class='ee-v'>-78.79475192010423</span></li></ul></li><li><label class='ee-shut'>13: [-144.5138750409676, -77.75269303265887]<input type='checkbox' class='ee-toggle'></label><ul><li><span class='ee-k'>0:</span><span class='ee-v'>-144.5138750409676</span></li><li><span class='ee-k'>1:</span><span class='ee-v'>-77.75269303265887</span></li></ul></li><li><label class='ee-shut'>14: [-144.28539991553808, -76.710476111477]<input type='checkbox' class='ee-toggle'></label><ul><li><span class='ee-k'>0:</span><span class='ee-v'>-144.28539991553808</span></li><li><span class='ee-k'>1:</span><span class='ee-v'>-76.710476111477</span></li></ul></li><li><label class='ee-shut'>15: [-144.21189584332564, -76.17551469409212]<input type='checkbox' class='ee-toggle'></label><ul><li><span class='ee-k'>0:</span><span class='ee-v'>-144.21189584332564</span></li><li><span class='ee-k'>1:</span><span class='ee-v'>-76.17551469409212</span></li></ul></li><li><label class='ee-shut'>16: [-144.25754268689272, -76.17077166850213]<input type='checkbox' class='ee-toggle'></label><ul><li><span class='ee-k'>0:</span><span class='ee-v'>-144.25754268689272</span></li><li><span class='ee-k'>1:</span><span class='ee-v'>-76.17077166850213</span></li></ul></li><li><label class='ee-shut'>17: [-159.25139063430973, -75.32230100454215]<input type='checkbox' class='ee-toggle'></label><ul><li><span class='ee-k'>0:</span><span class='ee-v'>-159.25139063430973</span></li><li><span class='ee-k'>1:</span><span class='ee-v'>-75.32230100454215</span></li></ul></li><li><label class='ee-shut'>18: [-159.3697708737597, -75.40310469093995]<input type='checkbox' class='ee-toggle'></label><ul><li><span class='ee-k'>0:</span><span class='ee-v'>-159.3697708737597</span></li><li><span class='ee-k'>1:</span><span class='ee-v'>-75.40310469093995</span></li></ul></li><li><label class='ee-shut'>19: [-159.77655928983322, -75.67409136686784]<input type='checkbox' class='ee-toggle'></label><ul><li><span class='ee-k'>0:</span><span class='ee-v'>-159.77655928983322</span></li><li><span class='ee-k'>1:</span><span class='ee-v'>-75.67409136686784</span></li></ul></li><li><label class='ee-shut'>20: [-165.09722748705678, -78.4385252235065]<input type='checkbox' class='ee-toggle'></label><ul><li><span class='ee-k'>0:</span><span class='ee-v'>-165.09722748705678</span></li><li><span class='ee-k'>1:</span><span class='ee-v'>-78.4385252235065</span></li></ul></li><li><label class='ee-shut'>21: [-165.79958698784532, -78.72066739160041]<input type='checkbox' class='ee-toggle'></label><ul><li><span class='ee-k'>0:</span><span class='ee-v'>-165.79958698784532</span></li><li><span class='ee-k'>1:</span><span class='ee-v'>-78.72066739160041</span></li></ul></li></ul></li></ul></li><li><span class='ee-k'>system:index:</span><span class='ee-v'>S1A_EW_GRDM_1SDH_20200630T091413_20200630T091518_033244_03DA0A_C61F</span></li><li><span class='ee-k'>system:time_end:</span><span class='ee-v'>1593508453000</span></li><li><span class='ee-k'>system:time_start:</span><span class='ee-v'>1593508453000</span></li><li><span class='ee-k'>totalSlices:</span><span class='ee-v'>6</span></li><li><label class='ee-shut'>transmitterReceiverPolarisation: ['HH', 'HV']<input type='checkbox' class='ee-toggle'></label><ul><li><span class='ee-k'>0:</span><span class='ee-v'>HH</span></li><li><span class='ee-k'>1:</span><span class='ee-v'>HV</span></li></ul></li></ul></li></ul></li><li><label class='ee-shut'>10: Image COPERNICUS/S1_GRD/S1A_EW_GRDM_1SDH_20200630T091518_20200630T091617_033244_03DA0A_D887 (2 bands)<input type='checkbox' class='ee-toggle'></label><ul><li><span class='ee-k'>type:</span><span class='ee-v'>Image</span></li><li><span class='ee-k'>id:</span><span class='ee-v'>COPERNICUS/S1_GRD/S1A_EW_GRDM_1SDH_20200630T091518_20200630T091617_033244_03DA0A_D887</span></li><li><span class='ee-k'>version:</span><span class='ee-v'>1720455786986427</span></li><li><label class='ee-shut'>bands: List (2 elements)<input type='checkbox' class='ee-toggle'></label><ul><li><label class='ee-shut'>0: \"HH\", double, EPSG:32702, 16450x14859 px<input type='checkbox' class='ee-toggle'></label><ul><li><span class='ee-k'>id:</span><span class='ee-v'>HH</span></li><li><span class='ee-k'>crs:</span><span class='ee-v'>EPSG:32702</span></li><li><label class='ee-shut'>crs_transform: List (6 elements)<input type='checkbox' class='ee-toggle'></label><ul><li><span class='ee-k'>0:</span><span class='ee-v'>40</span></li><li><span class='ee-k'>1:</span><span class='ee-v'>0</span></li><li><span class='ee-k'>2:</span><span class='ee-v'>208644.31919597782</span></li><li><span class='ee-k'>3:</span><span class='ee-v'>0</span></li><li><span class='ee-k'>4:</span><span class='ee-v'>-40</span></li><li><span class='ee-k'>5:</span><span class='ee-v'>1823748.2001226228</span></li></ul></li><li><label class='ee-shut'>data_type: double<input type='checkbox' class='ee-toggle'></label><ul><li><span class='ee-k'>type:</span><span class='ee-v'>PixelType</span></li><li><span class='ee-k'>precision:</span><span class='ee-v'>double</span></li></ul></li><li><label class='ee-shut'>dimensions: [16450, 14859]<input type='checkbox' class='ee-toggle'></label><ul><li><span class='ee-k'>0:</span><span class='ee-v'>16450</span></li><li><span class='ee-k'>1:</span><span class='ee-v'>14859</span></li></ul></li></ul></li><li><label class='ee-shut'>1: \"angle\", float, EPSG:32702, 21x21 px<input type='checkbox' class='ee-toggle'></label><ul><li><span class='ee-k'>id:</span><span class='ee-v'>angle</span></li><li><span class='ee-k'>crs:</span><span class='ee-v'>EPSG:32702</span></li><li><label class='ee-shut'>crs_transform: List (6 elements)<input type='checkbox' class='ee-toggle'></label><ul><li><span class='ee-k'>0:</span><span class='ee-v'>11061.484238847625</span></li><li><span class='ee-k'>1:</span><span class='ee-v'>-17376.193505929084</span></li><li><span class='ee-k'>2:</span><span class='ee-v'>609853.1174753703</span></li><li><span class='ee-k'>3:</span><span class='ee-v'>17891.832511378452</span></li><li><span class='ee-k'>4:</span><span class='ee-v'>10786.062404256314</span></li><li><span class='ee-k'>5:</span><span class='ee-v'>1250219.9393515475</span></li></ul></li><li><label class='ee-shut'>data_type: float<input type='checkbox' class='ee-toggle'></label><ul><li><span class='ee-k'>type:</span><span class='ee-v'>PixelType</span></li><li><span class='ee-k'>precision:</span><span class='ee-v'>float</span></li></ul></li><li><label class='ee-shut'>dimensions: [21, 21]<input type='checkbox' class='ee-toggle'></label><ul><li><span class='ee-k'>0:</span><span class='ee-v'>21</span></li><li><span class='ee-k'>1:</span><span class='ee-v'>21</span></li></ul></li></ul></li></ul></li><li><label class='ee-shut'>properties: Object (56 properties)<input type='checkbox' class='ee-toggle'></label><ul><li><span class='ee-k'>GRD_Post_Processing_facility_country:</span><span class='ee-v'>Germany</span></li><li><span class='ee-k'>GRD_Post_Processing_facility_name:</span><span class='ee-v'>Copernicus S1 Core Ground Segment - DPA</span></li><li><span class='ee-k'>GRD_Post_Processing_facility_org:</span><span class='ee-v'>ESA</span></li><li><span class='ee-k'>GRD_Post_Processing_facility_site:</span><span class='ee-v'>DLR-Oberpfaffenhofen</span></li><li><span class='ee-k'>GRD_Post_Processing_software_name:</span><span class='ee-v'>Sentinel-1 IPF</span></li><li><span class='ee-k'>GRD_Post_Processing_software_version:</span><span class='ee-v'>003.31</span></li><li><span class='ee-k'>GRD_Post_Processing_start:</span><span class='ee-v'>1593536257681</span></li><li><span class='ee-k'>GRD_Post_Processing_stop:</span><span class='ee-v'>1593536754000</span></li><li><span class='ee-k'>S1TBX_Calibration_vers:</span><span class='ee-v'>7.0.2</span></li><li><span class='ee-k'>S1TBX_SAR_Processing_vers:</span><span class='ee-v'>7.0.2</span></li><li><span class='ee-k'>SLC_Processing_facility_country:</span><span class='ee-v'>Germany</span></li><li><span class='ee-k'>SLC_Processing_facility_name:</span><span class='ee-v'>Copernicus S1 Core Ground Segment - DPA</span></li><li><span class='ee-k'>SLC_Processing_facility_org:</span><span class='ee-v'>ESA</span></li><li><span class='ee-k'>SLC_Processing_facility_site:</span><span class='ee-v'>DLR-Oberpfaffenhofen</span></li><li><span class='ee-k'>SLC_Processing_software_name:</span><span class='ee-v'>Sentinel-1 IPF</span></li><li><span class='ee-k'>SLC_Processing_software_version:</span><span class='ee-v'>003.31</span></li><li><span class='ee-k'>SLC_Processing_start:</span><span class='ee-v'>1593536357000</span></li><li><span class='ee-k'>SLC_Processing_stop:</span><span class='ee-v'>1593536640000</span></li><li><span class='ee-k'>SNAP_Graph_Processing_Framework_GPF_vers:</span><span class='ee-v'>7.0.3</span></li><li><span class='ee-k'>contains_aoi:</span><span class='ee-v'>False</span></li><li><span class='ee-k'>cycleNumber:</span><span class='ee-v'>204</span></li><li><span class='ee-k'>familyName:</span><span class='ee-v'>SENTINEL-1</span></li><li><span class='ee-k'>instrument:</span><span class='ee-v'>Synthetic Aperture Radar</span></li><li><span class='ee-k'>instrumentConfigurationID:</span><span class='ee-v'>6</span></li><li><span class='ee-k'>instrumentMode:</span><span class='ee-v'>EW</span></li><li><span class='ee-k'>instrumentSwath:</span><span class='ee-v'>EW</span></li><li><span class='ee-k'>missionDataTakeID:</span><span class='ee-v'>252426</span></li><li><span class='ee-k'>nssdcIdentifier:</span><span class='ee-v'>2014-016A</span></li><li><span class='ee-k'>orbitNumber_start:</span><span class='ee-v'>33244</span></li><li><span class='ee-k'>orbitNumber_stop:</span><span class='ee-v'>33244</span></li><li><span class='ee-k'>orbitProperties_ascendingNodeTime:</span><span class='ee-v'>1593503991704</span></li><li><span class='ee-k'>orbitProperties_pass:</span><span class='ee-v'>ASCENDING</span></li><li><span class='ee-k'>phaseIdentifier:</span><span class='ee-v'>1</span></li><li><span class='ee-k'>platformHeading:</span><span class='ee-v'>-50.62861833610575</span></li><li><span class='ee-k'>platform_number:</span><span class='ee-v'>A</span></li><li><span class='ee-k'>productClass:</span><span class='ee-v'>S</span></li><li><span class='ee-k'>productClassDescription:</span><span class='ee-v'>SAR Standard L1 Product</span></li><li><span class='ee-k'>productComposition:</span><span class='ee-v'>Slice</span></li><li><span class='ee-k'>productTimelinessCategory:</span><span class='ee-v'>Fast-24h</span></li><li><span class='ee-k'>productType:</span><span class='ee-v'>GRD</span></li><li><span class='ee-k'>relativeOrbitNumber_start:</span><span class='ee-v'>97</span></li><li><span class='ee-k'>relativeOrbitNumber_stop:</span><span class='ee-v'>97</span></li><li><span class='ee-k'>resolution:</span><span class='ee-v'>M</span></li><li><span class='ee-k'>resolution_meters:</span><span class='ee-v'>40</span></li><li><span class='ee-k'>segmentStartTime:</span><span class='ee-v'>1593508453903</span></li><li><span class='ee-k'>sliceNumber:</span><span class='ee-v'>2</span></li><li><span class='ee-k'>sliceProductFlag:</span><span class='ee-v'>true</span></li><li><span class='ee-k'>startTimeANX:</span><span class='ee-v'>4526302</span></li><li><span class='ee-k'>stopTimeANX:</span><span class='ee-v'>4586294</span></li><li><span class='ee-k'>system:asset_size:</span><span class='ee-v'>997350635</span></li><li><label class='ee-shut'>system:footprint: LinearRing (21 vertices)<input type='checkbox' class='ee-toggle'></label><ul><li><span class='ee-k'>type:</span><span class='ee-v'>LinearRing</span></li><li><label class='ee-shut'>coordinates: List (21 elements)<input type='checkbox' class='ee-toggle'></label><ul><li><label class='ee-shut'>0: [-179.58242982611475, -76.5187756704092]<input type='checkbox' class='ee-toggle'></label><ul><li><span class='ee-k'>0:</span><span class='ee-v'>-179.58242982611475</span></li><li><span class='ee-k'>1:</span><span class='ee-v'>-76.5187756704092</span></li></ul></li><li><label class='ee-shut'>1: [179.89017548302579, -76.66466870288978]<input type='checkbox' class='ee-toggle'></label><ul><li><span class='ee-k'>0:</span><span class='ee-v'>179.89017548302579</span></li><li><span class='ee-k'>1:</span><span class='ee-v'>-76.66466870288978</span></li></ul></li><li><label class='ee-shut'>2: [179.8145494395351, -76.68554473969672]<input type='checkbox' class='ee-toggle'></label><ul><li><span class='ee-k'>0:</span><span class='ee-v'>179.8145494395351</span></li><li><span class='ee-k'>1:</span><span class='ee-v'>-76.68554473969672</span></li></ul></li><li><label class='ee-shut'>3: [179.84616391043411, -76.69224453528233]<input type='checkbox' class='ee-toggle'></label><ul><li><span class='ee-k'>0:</span><span class='ee-v'>179.84616391043411</span></li><li><span class='ee-k'>1:</span><span class='ee-v'>-76.69224453528233</span></li></ul></li><li><label class='ee-shut'>4: [-179.7537388078031, -76.77009673205686]<input type='checkbox' class='ee-toggle'></label><ul><li><span class='ee-k'>0:</span><span class='ee-v'>-179.7537388078031</span></li><li><span class='ee-k'>1:</span><span class='ee-v'>-76.77009673205686</span></li></ul></li><li><label class='ee-shut'>5: [-174.39520959058848, -77.67863383753493]<input type='checkbox' class='ee-toggle'></label><ul><li><span class='ee-k'>0:</span><span class='ee-v'>-174.39520959058848</span></li><li><span class='ee-k'>1:</span><span class='ee-v'>-77.67863383753493</span></li></ul></li><li><label class='ee-shut'>6: [-168.25767129441857, -78.46738725251448]<input type='checkbox' class='ee-toggle'></label><ul><li><span class='ee-k'>0:</span><span class='ee-v'>-168.25767129441857</span></li><li><span class='ee-k'>1:</span><span class='ee-v'>-78.46738725251448</span></li></ul></li><li><label class='ee-shut'>7: [-165.7967360184395, -78.72167050661797]<input type='checkbox' class='ee-toggle'></label><ul><li><span class='ee-k'>0:</span><span class='ee-v'>-165.7967360184395</span></li><li><span class='ee-k'>1:</span><span class='ee-v'>-78.72167050661797</span></li></ul></li><li><label class='ee-shut'>8: [-163.1208151824566, -77.55844501275165]<input type='checkbox' class='ee-toggle'></label><ul><li><span class='ee-k'>0:</span><span class='ee-v'>-163.1208151824566</span></li><li><span class='ee-k'>1:</span><span class='ee-v'>-77.55844501275165</span></li></ul></li><li><label class='ee-shut'>9: [-159.24874730859554, -75.32367046908954]<input type='checkbox' class='ee-toggle'></label><ul><li><span class='ee-k'>0:</span><span class='ee-v'>-159.24874730859554</span></li><li><span class='ee-k'>1:</span><span class='ee-v'>-75.32367046908954</span></li></ul></li><li><label class='ee-shut'>10: [-159.26385228292747, -75.32112362106338]<input type='checkbox' class='ee-toggle'></label><ul><li><span class='ee-k'>0:</span><span class='ee-v'>-159.26385228292747</span></li><li><span class='ee-k'>1:</span><span class='ee-v'>-75.32112362106338</span></li></ul></li><li><label class='ee-shut'>11: [-160.48368920021395, -75.20268673538256]<input type='checkbox' class='ee-toggle'></label><ul><li><span class='ee-k'>0:</span><span class='ee-v'>-160.48368920021395</span></li><li><span class='ee-k'>1:</span><span class='ee-v'>-75.20268673538256</span></li></ul></li><li><label class='ee-shut'>12: [-161.41089853354137, -75.10714766134122]<input type='checkbox' class='ee-toggle'></label><ul><li><span class='ee-k'>0:</span><span class='ee-v'>-161.41089853354137</span></li><li><span class='ee-k'>1:</span><span class='ee-v'>-75.10714766134122</span></li></ul></li><li><label class='ee-shut'>13: [-164.1387057378521, -74.79739022078144]<input type='checkbox' class='ee-toggle'></label><ul><li><span class='ee-k'>0:</span><span class='ee-v'>-164.1387057378521</span></li><li><span class='ee-k'>1:</span><span class='ee-v'>-74.79739022078144</span></li></ul></li><li><label class='ee-shut'>14: [-166.75549731080997, -74.45578286281523]<input type='checkbox' class='ee-toggle'></label><ul><li><span class='ee-k'>0:</span><span class='ee-v'>-166.75549731080997</span></li><li><span class='ee-k'>1:</span><span class='ee-v'>-74.45578286281523</span></li></ul></li><li><label class='ee-shut'>15: [-171.12234261927756, -73.77891803284214]<input type='checkbox' class='ee-toggle'></label><ul><li><span class='ee-k'>0:</span><span class='ee-v'>-171.12234261927756</span></li><li><span class='ee-k'>1:</span><span class='ee-v'>-73.77891803284214</span></li></ul></li><li><label class='ee-shut'>16: [-171.5860120952144, -73.69834325059585]<input type='checkbox' class='ee-toggle'></label><ul><li><span class='ee-k'>0:</span><span class='ee-v'>-171.5860120952144</span></li><li><span class='ee-k'>1:</span><span class='ee-v'>-73.69834325059585</span></li></ul></li><li><label class='ee-shut'>17: [-171.6388993005892, -73.69140572338053]<input type='checkbox' class='ee-toggle'></label><ul><li><span class='ee-k'>0:</span><span class='ee-v'>-171.6388993005892</span></li><li><span class='ee-k'>1:</span><span class='ee-v'>-73.69140572338053</span></li></ul></li><li><label class='ee-shut'>18: [-171.84513794090952, -73.78327760353524]<input type='checkbox' class='ee-toggle'></label><ul><li><span class='ee-k'>0:</span><span class='ee-v'>-171.84513794090952</span></li><li><span class='ee-k'>1:</span><span class='ee-v'>-73.78327760353524</span></li></ul></li><li><label class='ee-shut'>19: [-174.657810918789, -74.92546352506555]<input type='checkbox' class='ee-toggle'></label><ul><li><span class='ee-k'>0:</span><span class='ee-v'>-174.657810918789</span></li><li><span class='ee-k'>1:</span><span class='ee-v'>-74.92546352506555</span></li></ul></li><li><label class='ee-shut'>20: [-179.58242982611475, -76.5187756704092]<input type='checkbox' class='ee-toggle'></label><ul><li><span class='ee-k'>0:</span><span class='ee-v'>-179.58242982611475</span></li><li><span class='ee-k'>1:</span><span class='ee-v'>-76.5187756704092</span></li></ul></li></ul></li></ul></li><li><span class='ee-k'>system:index:</span><span class='ee-v'>S1A_EW_GRDM_1SDH_20200630T091518_20200630T091617_033244_03DA0A_D887</span></li><li><span class='ee-k'>system:time_end:</span><span class='ee-v'>1593508518000</span></li><li><span class='ee-k'>system:time_start:</span><span class='ee-v'>1593508518000</span></li><li><span class='ee-k'>totalSlices:</span><span class='ee-v'>6</span></li><li><label class='ee-shut'>transmitterReceiverPolarisation: ['HH', 'HV']<input type='checkbox' class='ee-toggle'></label><ul><li><span class='ee-k'>0:</span><span class='ee-v'>HH</span></li><li><span class='ee-k'>1:</span><span class='ee-v'>HV</span></li></ul></li></ul></li></ul></li><li><label class='ee-shut'>11: Image COPERNICUS/S1_GRD/S1A_EW_GRDM_1SDH_20200703T080208_20200703T080308_033287_03DB54_1945 (2 bands)<input type='checkbox' class='ee-toggle'></label><ul><li><span class='ee-k'>type:</span><span class='ee-v'>Image</span></li><li><span class='ee-k'>id:</span><span class='ee-v'>COPERNICUS/S1_GRD/S1A_EW_GRDM_1SDH_20200703T080208_20200703T080308_033287_03DB54_1945</span></li><li><span class='ee-k'>version:</span><span class='ee-v'>1720455786986427</span></li><li><label class='ee-shut'>bands: List (2 elements)<input type='checkbox' class='ee-toggle'></label><ul><li><label class='ee-shut'>0: \"HH\", double, EPSG:32704, 16611x15324 px<input type='checkbox' class='ee-toggle'></label><ul><li><span class='ee-k'>id:</span><span class='ee-v'>HH</span></li><li><span class='ee-k'>crs:</span><span class='ee-v'>EPSG:32704</span></li><li><label class='ee-shut'>crs_transform: List (6 elements)<input type='checkbox' class='ee-toggle'></label><ul><li><span class='ee-k'>0:</span><span class='ee-v'>40</span></li><li><span class='ee-k'>1:</span><span class='ee-v'>0</span></li><li><span class='ee-k'>2:</span><span class='ee-v'>81849.03982342692</span></li><li><span class='ee-k'>3:</span><span class='ee-v'>0</span></li><li><span class='ee-k'>4:</span><span class='ee-v'>-40</span></li><li><span class='ee-k'>5:</span><span class='ee-v'>2042324.7082527727</span></li></ul></li><li><label class='ee-shut'>data_type: double<input type='checkbox' class='ee-toggle'></label><ul><li><span class='ee-k'>type:</span><span class='ee-v'>PixelType</span></li><li><span class='ee-k'>precision:</span><span class='ee-v'>double</span></li></ul></li><li><label class='ee-shut'>dimensions: [16611, 15324]<input type='checkbox' class='ee-toggle'></label><ul><li><span class='ee-k'>0:</span><span class='ee-v'>16611</span></li><li><span class='ee-k'>1:</span><span class='ee-v'>15324</span></li></ul></li></ul></li><li><label class='ee-shut'>1: \"angle\", float, EPSG:32704, 21x21 px<input type='checkbox' class='ee-toggle'></label><ul><li><span class='ee-k'>id:</span><span class='ee-v'>angle</span></li><li><span class='ee-k'>crs:</span><span class='ee-v'>EPSG:32704</span></li><li><label class='ee-shut'>crs_transform: List (6 elements)<input type='checkbox' class='ee-toggle'></label><ul><li><span class='ee-k'>0:</span><span class='ee-v'>12706.085410835338</span></li><li><span class='ee-k'>1:</span><span class='ee-v'>-16133.529387291346</span></li><li><span class='ee-k'>2:</span><span class='ee-v'>464103.1089749699</span></li><li><span class='ee-k'>3:</span><span class='ee-v'>16407.42510030791</span></li><li><span class='ee-k'>4:</span><span class='ee-v'>12570.294526480138</span></li><li><span class='ee-k'>5:</span><span class='ee-v'>1459783.5077318624</span></li></ul></li><li><label class='ee-shut'>data_type: float<input type='checkbox' class='ee-toggle'></label><ul><li><span class='ee-k'>type:</span><span class='ee-v'>PixelType</span></li><li><span class='ee-k'>precision:</span><span class='ee-v'>float</span></li></ul></li><li><label class='ee-shut'>dimensions: [21, 21]<input type='checkbox' class='ee-toggle'></label><ul><li><span class='ee-k'>0:</span><span class='ee-v'>21</span></li><li><span class='ee-k'>1:</span><span class='ee-v'>21</span></li></ul></li></ul></li></ul></li><li><label class='ee-shut'>properties: Object (56 properties)<input type='checkbox' class='ee-toggle'></label><ul><li><span class='ee-k'>GRD_Post_Processing_facility_country:</span><span class='ee-v'>Germany</span></li><li><span class='ee-k'>GRD_Post_Processing_facility_name:</span><span class='ee-v'>Copernicus S1 Core Ground Segment - DPA</span></li><li><span class='ee-k'>GRD_Post_Processing_facility_org:</span><span class='ee-v'>ESA</span></li><li><span class='ee-k'>GRD_Post_Processing_facility_site:</span><span class='ee-v'>DLR-Oberpfaffenhofen</span></li><li><span class='ee-k'>GRD_Post_Processing_software_name:</span><span class='ee-v'>Sentinel-1 IPF</span></li><li><span class='ee-k'>GRD_Post_Processing_software_version:</span><span class='ee-v'>003.31</span></li><li><span class='ee-k'>GRD_Post_Processing_start:</span><span class='ee-v'>1593770680925</span></li><li><span class='ee-k'>GRD_Post_Processing_stop:</span><span class='ee-v'>1593771141000</span></li><li><span class='ee-k'>S1TBX_Calibration_vers:</span><span class='ee-v'>7.0.2</span></li><li><span class='ee-k'>S1TBX_SAR_Processing_vers:</span><span class='ee-v'>7.0.2</span></li><li><span class='ee-k'>SLC_Processing_facility_country:</span><span class='ee-v'>Germany</span></li><li><span class='ee-k'>SLC_Processing_facility_name:</span><span class='ee-v'>Copernicus S1 Core Ground Segment - DPA</span></li><li><span class='ee-k'>SLC_Processing_facility_org:</span><span class='ee-v'>ESA</span></li><li><span class='ee-k'>SLC_Processing_facility_site:</span><span class='ee-v'>DLR-Oberpfaffenhofen</span></li><li><span class='ee-k'>SLC_Processing_software_name:</span><span class='ee-v'>Sentinel-1 IPF</span></li><li><span class='ee-k'>SLC_Processing_software_version:</span><span class='ee-v'>003.31</span></li><li><span class='ee-k'>SLC_Processing_start:</span><span class='ee-v'>1593770760000</span></li><li><span class='ee-k'>SLC_Processing_stop:</span><span class='ee-v'>1593771033000</span></li><li><span class='ee-k'>SNAP_Graph_Processing_Framework_GPF_vers:</span><span class='ee-v'>7.0.3</span></li><li><span class='ee-k'>contains_aoi:</span><span class='ee-v'>True</span></li><li><span class='ee-k'>cycleNumber:</span><span class='ee-v'>204</span></li><li><span class='ee-k'>familyName:</span><span class='ee-v'>SENTINEL-1</span></li><li><span class='ee-k'>instrument:</span><span class='ee-v'>Synthetic Aperture Radar</span></li><li><span class='ee-k'>instrumentConfigurationID:</span><span class='ee-v'>6</span></li><li><span class='ee-k'>instrumentMode:</span><span class='ee-v'>EW</span></li><li><span class='ee-k'>instrumentSwath:</span><span class='ee-v'>EW</span></li><li><span class='ee-k'>missionDataTakeID:</span><span class='ee-v'>252756</span></li><li><span class='ee-k'>nssdcIdentifier:</span><span class='ee-v'>2014-016A</span></li><li><span class='ee-k'>orbitNumber_start:</span><span class='ee-v'>33287</span></li><li><span class='ee-k'>orbitNumber_stop:</span><span class='ee-v'>33287</span></li><li><span class='ee-k'>orbitProperties_ascendingNodeTime:</span><span class='ee-v'>1593758748479</span></li><li><span class='ee-k'>orbitProperties_pass:</span><span class='ee-v'>ASCENDING</span></li><li><span class='ee-k'>phaseIdentifier:</span><span class='ee-v'>1</span></li><li><span class='ee-k'>platformHeading:</span><span class='ee-v'>-39.89491597501887</span></li><li><span class='ee-k'>platform_number:</span><span class='ee-v'>A</span></li><li><span class='ee-k'>productClass:</span><span class='ee-v'>S</span></li><li><span class='ee-k'>productClassDescription:</span><span class='ee-v'>SAR Standard L1 Product</span></li><li><span class='ee-k'>productComposition:</span><span class='ee-v'>Slice</span></li><li><span class='ee-k'>productTimelinessCategory:</span><span class='ee-v'>Fast-24h</span></li><li><span class='ee-k'>productType:</span><span class='ee-v'>GRD</span></li><li><span class='ee-k'>relativeOrbitNumber_start:</span><span class='ee-v'>140</span></li><li><span class='ee-k'>relativeOrbitNumber_stop:</span><span class='ee-v'>140</span></li><li><span class='ee-k'>resolution:</span><span class='ee-v'>M</span></li><li><span class='ee-k'>resolution_meters:</span><span class='ee-v'>40</span></li><li><span class='ee-k'>segmentStartTime:</span><span class='ee-v'>1593763264503</span></li><li><span class='ee-k'>sliceNumber:</span><span class='ee-v'>2</span></li><li><span class='ee-k'>sliceProductFlag:</span><span class='ee-v'>true</span></li><li><span class='ee-k'>startTimeANX:</span><span class='ee-v'>4580125</span></li><li><span class='ee-k'>stopTimeANX:</span><span class='ee-v'>4640120</span></li><li><span class='ee-k'>system:asset_size:</span><span class='ee-v'>1005761453</span></li><li><label class='ee-shut'>system:footprint: LinearRing (20 vertices)<input type='checkbox' class='ee-toggle'></label><ul><li><span class='ee-k'>type:</span><span class='ee-v'>LinearRing</span></li><li><label class='ee-shut'>coordinates: List (20 elements)<input type='checkbox' class='ee-toggle'></label><ul><li><label class='ee-shut'>0: [-171.00793338663817, -74.36327095523501]<input type='checkbox' class='ee-toggle'></label><ul><li><span class='ee-k'>0:</span><span class='ee-v'>-171.00793338663817</span></li><li><span class='ee-k'>1:</span><span class='ee-v'>-74.36327095523501</span></li></ul></li><li><label class='ee-shut'>1: [-171.01479929855918, -74.3656284076005]<input type='checkbox' class='ee-toggle'></label><ul><li><span class='ee-k'>0:</span><span class='ee-v'>-171.01479929855918</span></li><li><span class='ee-k'>1:</span><span class='ee-v'>-74.3656284076005</span></li></ul></li><li><label class='ee-shut'>2: [-169.73023326264916, -74.7548892278112]<input type='checkbox' class='ee-toggle'></label><ul><li><span class='ee-k'>0:</span><span class='ee-v'>-169.73023326264916</span></li><li><span class='ee-k'>1:</span><span class='ee-v'>-74.7548892278112</span></li></ul></li><li><label class='ee-shut'>3: [-167.74899398035564, -75.3046894446657]<input type='checkbox' class='ee-toggle'></label><ul><li><span class='ee-k'>0:</span><span class='ee-v'>-167.74899398035564</span></li><li><span class='ee-k'>1:</span><span class='ee-v'>-75.3046894446657</span></li></ul></li><li><label class='ee-shut'>4: [-165.64568876161604, -75.83060088774306]<input type='checkbox' class='ee-toggle'></label><ul><li><span class='ee-k'>0:</span><span class='ee-v'>-165.64568876161604</span></li><li><span class='ee-k'>1:</span><span class='ee-v'>-75.83060088774306</span></li></ul></li><li><label class='ee-shut'>5: [-160.96089122281228, -76.82169589577461]<input type='checkbox' class='ee-toggle'></label><ul><li><span class='ee-k'>0:</span><span class='ee-v'>-160.96089122281228</span></li><li><span class='ee-k'>1:</span><span class='ee-v'>-76.82169589577461</span></li></ul></li><li><label class='ee-shut'>6: [-160.38134572981937, -76.92472651848443]<input type='checkbox' class='ee-toggle'></label><ul><li><span class='ee-k'>0:</span><span class='ee-v'>-160.38134572981937</span></li><li><span class='ee-k'>1:</span><span class='ee-v'>-76.92472651848443</span></li></ul></li><li><label class='ee-shut'>7: [-160.3621525966794, -76.92058030075904]<input type='checkbox' class='ee-toggle'></label><ul><li><span class='ee-k'>0:</span><span class='ee-v'>-160.3621525966794</span></li><li><span class='ee-k'>1:</span><span class='ee-v'>-76.92058030075904</span></li></ul></li><li><label class='ee-shut'>8: [-151.97730739184274, -73.89988223492087]<input type='checkbox' class='ee-toggle'></label><ul><li><span class='ee-k'>0:</span><span class='ee-v'>-151.97730739184274</span></li><li><span class='ee-k'>1:</span><span class='ee-v'>-73.89988223492087</span></li></ul></li><li><label class='ee-shut'>9: [-151.95535836105617, -73.88937721399984]<input type='checkbox' class='ee-toggle'></label><ul><li><span class='ee-k'>0:</span><span class='ee-v'>-151.95535836105617</span></li><li><span class='ee-k'>1:</span><span class='ee-v'>-73.88937721399984</span></li></ul></li><li><label class='ee-shut'>10: [-152.07633472655147, -73.86905313869572]<input type='checkbox' class='ee-toggle'></label><ul><li><span class='ee-k'>0:</span><span class='ee-v'>-152.07633472655147</span></li><li><span class='ee-k'>1:</span><span class='ee-v'>-73.86905313869572</span></li></ul></li><li><label class='ee-shut'>11: [-152.6137253889143, -73.77765707654486]<input type='checkbox' class='ee-toggle'></label><ul><li><span class='ee-k'>0:</span><span class='ee-v'>-152.6137253889143</span></li><li><span class='ee-k'>1:</span><span class='ee-v'>-73.77765707654486</span></li></ul></li><li><label class='ee-shut'>12: [-155.75372575990613, -73.19473174216289]<input type='checkbox' class='ee-toggle'></label><ul><li><span class='ee-k'>0:</span><span class='ee-v'>-155.75372575990613</span></li><li><span class='ee-k'>1:</span><span class='ee-v'>-73.19473174216289</span></li></ul></li><li><label class='ee-shut'>13: [-157.03040714775256, -72.93208201789905]<input type='checkbox' class='ee-toggle'></label><ul><li><span class='ee-k'>0:</span><span class='ee-v'>-157.03040714775256</span></li><li><span class='ee-k'>1:</span><span class='ee-v'>-72.93208201789905</span></li></ul></li><li><label class='ee-shut'>14: [-160.9865841763564, -72.01246651697117]<input type='checkbox' class='ee-toggle'></label><ul><li><span class='ee-k'>0:</span><span class='ee-v'>-160.9865841763564</span></li><li><span class='ee-k'>1:</span><span class='ee-v'>-72.01246651697117</span></li></ul></li><li><label class='ee-shut'>15: [-162.00610708852895, -71.74765155543352]<input type='checkbox' class='ee-toggle'></label><ul><li><span class='ee-k'>0:</span><span class='ee-v'>-162.00610708852895</span></li><li><span class='ee-k'>1:</span><span class='ee-v'>-71.74765155543352</span></li></ul></li><li><label class='ee-shut'>16: [-162.0750138245584, -71.72967694601925]<input type='checkbox' class='ee-toggle'></label><ul><li><span class='ee-k'>0:</span><span class='ee-v'>-162.0750138245584</span></li><li><span class='ee-k'>1:</span><span class='ee-v'>-71.72967694601925</span></li></ul></li><li><label class='ee-shut'>17: [-167.7310478481423, -73.53107394597043]<input type='checkbox' class='ee-toggle'></label><ul><li><span class='ee-k'>0:</span><span class='ee-v'>-167.7310478481423</span></li><li><span class='ee-k'>1:</span><span class='ee-v'>-73.53107394597043</span></li></ul></li><li><label class='ee-shut'>18: [-170.86524474026427, -74.32968168401796]<input type='checkbox' class='ee-toggle'></label><ul><li><span class='ee-k'>0:</span><span class='ee-v'>-170.86524474026427</span></li><li><span class='ee-k'>1:</span><span class='ee-v'>-74.32968168401796</span></li></ul></li><li><label class='ee-shut'>19: [-171.00793338663817, -74.36327095523501]<input type='checkbox' class='ee-toggle'></label><ul><li><span class='ee-k'>0:</span><span class='ee-v'>-171.00793338663817</span></li><li><span class='ee-k'>1:</span><span class='ee-v'>-74.36327095523501</span></li></ul></li></ul></li></ul></li><li><span class='ee-k'>system:index:</span><span class='ee-v'>S1A_EW_GRDM_1SDH_20200703T080208_20200703T080308_033287_03DB54_1945</span></li><li><span class='ee-k'>system:time_end:</span><span class='ee-v'>1593763328000</span></li><li><span class='ee-k'>system:time_start:</span><span class='ee-v'>1593763328000</span></li><li><span class='ee-k'>totalSlices:</span><span class='ee-v'>3</span></li><li><label class='ee-shut'>transmitterReceiverPolarisation: ['HH', 'HV']<input type='checkbox' class='ee-toggle'></label><ul><li><span class='ee-k'>0:</span><span class='ee-v'>HH</span></li><li><span class='ee-k'>1:</span><span class='ee-v'>HV</span></li></ul></li></ul></li></ul></li><li><label class='ee-shut'>12: Image COPERNICUS/S1_GRD/S1A_EW_GRDM_1SDH_20200706T082630_20200706T082724_033331_03DC98_919C (2 bands)<input type='checkbox' class='ee-toggle'></label><ul><li><span class='ee-k'>type:</span><span class='ee-v'>Image</span></li><li><span class='ee-k'>id:</span><span class='ee-v'>COPERNICUS/S1_GRD/S1A_EW_GRDM_1SDH_20200706T082630_20200706T082724_033331_03DC98_919C</span></li><li><span class='ee-k'>version:</span><span class='ee-v'>1720455786986427</span></li><li><label class='ee-shut'>bands: List (2 elements)<input type='checkbox' class='ee-toggle'></label><ul><li><label class='ee-shut'>0: \"HH\", double, EPSG:32703, 15520x14368 px<input type='checkbox' class='ee-toggle'></label><ul><li><span class='ee-k'>id:</span><span class='ee-v'>HH</span></li><li><span class='ee-k'>crs:</span><span class='ee-v'>EPSG:32703</span></li><li><label class='ee-shut'>crs_transform: List (6 elements)<input type='checkbox' class='ee-toggle'></label><ul><li><span class='ee-k'>0:</span><span class='ee-v'>40</span></li><li><span class='ee-k'>1:</span><span class='ee-v'>0</span></li><li><span class='ee-k'>2:</span><span class='ee-v'>230374.50005622918</span></li><li><span class='ee-k'>3:</span><span class='ee-v'>0</span></li><li><span class='ee-k'>4:</span><span class='ee-v'>-40</span></li><li><span class='ee-k'>5:</span><span class='ee-v'>1934002.5018493822</span></li></ul></li><li><label class='ee-shut'>data_type: double<input type='checkbox' class='ee-toggle'></label><ul><li><span class='ee-k'>type:</span><span class='ee-v'>PixelType</span></li><li><span class='ee-k'>precision:</span><span class='ee-v'>double</span></li></ul></li><li><label class='ee-shut'>dimensions: [15520, 14368]<input type='checkbox' class='ee-toggle'></label><ul><li><span class='ee-k'>0:</span><span class='ee-v'>15520</span></li><li><span class='ee-k'>1:</span><span class='ee-v'>14368</span></li></ul></li></ul></li><li><label class='ee-shut'>1: \"angle\", float, EPSG:32703, 21x19 px<input type='checkbox' class='ee-toggle'></label><ul><li><span class='ee-k'>id:</span><span class='ee-v'>angle</span></li><li><span class='ee-k'>crs:</span><span class='ee-v'>EPSG:32703</span></li><li><label class='ee-shut'>crs_transform: List (6 elements)<input type='checkbox' class='ee-toggle'></label><ul><li><span class='ee-k'>0:</span><span class='ee-v'>12668.119601720711</span></li><li><span class='ee-k'>1:</span><span class='ee-v'>-16149.666417066706</span></li><li><span class='ee-k'>2:</span><span class='ee-v'>563312.0890662855</span></li><li><span class='ee-k'>3:</span><span class='ee-v'>16387.54602691531</span></li><li><span class='ee-k'>4:</span><span class='ee-v'>12549.314181441441</span></li><li><span class='ee-k'>5:</span><span class='ee-v'>1380778.6744268443</span></li></ul></li><li><label class='ee-shut'>data_type: float<input type='checkbox' class='ee-toggle'></label><ul><li><span class='ee-k'>type:</span><span class='ee-v'>PixelType</span></li><li><span class='ee-k'>precision:</span><span class='ee-v'>float</span></li></ul></li><li><label class='ee-shut'>dimensions: [21, 19]<input type='checkbox' class='ee-toggle'></label><ul><li><span class='ee-k'>0:</span><span class='ee-v'>21</span></li><li><span class='ee-k'>1:</span><span class='ee-v'>19</span></li></ul></li></ul></li></ul></li><li><label class='ee-shut'>properties: Object (56 properties)<input type='checkbox' class='ee-toggle'></label><ul><li><span class='ee-k'>GRD_Post_Processing_facility_country:</span><span class='ee-v'>Germany</span></li><li><span class='ee-k'>GRD_Post_Processing_facility_name:</span><span class='ee-v'>Copernicus S1 Core Ground Segment - DPA</span></li><li><span class='ee-k'>GRD_Post_Processing_facility_org:</span><span class='ee-v'>ESA</span></li><li><span class='ee-k'>GRD_Post_Processing_facility_site:</span><span class='ee-v'>DLR-Oberpfaffenhofen</span></li><li><span class='ee-k'>GRD_Post_Processing_software_name:</span><span class='ee-v'>Sentinel-1 IPF</span></li><li><span class='ee-k'>GRD_Post_Processing_software_version:</span><span class='ee-v'>003.31</span></li><li><span class='ee-k'>GRD_Post_Processing_start:</span><span class='ee-v'>1594050016473</span></li><li><span class='ee-k'>GRD_Post_Processing_stop:</span><span class='ee-v'>1594050415000</span></li><li><span class='ee-k'>S1TBX_Calibration_vers:</span><span class='ee-v'>7.0.2</span></li><li><span class='ee-k'>S1TBX_SAR_Processing_vers:</span><span class='ee-v'>7.0.2</span></li><li><span class='ee-k'>SLC_Processing_facility_country:</span><span class='ee-v'>Germany</span></li><li><span class='ee-k'>SLC_Processing_facility_name:</span><span class='ee-v'>Copernicus S1 Core Ground Segment - DPA</span></li><li><span class='ee-k'>SLC_Processing_facility_org:</span><span class='ee-v'>ESA</span></li><li><span class='ee-k'>SLC_Processing_facility_site:</span><span class='ee-v'>DLR-Oberpfaffenhofen</span></li><li><span class='ee-k'>SLC_Processing_software_name:</span><span class='ee-v'>Sentinel-1 IPF</span></li><li><span class='ee-k'>SLC_Processing_software_version:</span><span class='ee-v'>003.31</span></li><li><span class='ee-k'>SLC_Processing_start:</span><span class='ee-v'>1594050086000</span></li><li><span class='ee-k'>SLC_Processing_stop:</span><span class='ee-v'>1594050320000</span></li><li><span class='ee-k'>SNAP_Graph_Processing_Framework_GPF_vers:</span><span class='ee-v'>7.0.3</span></li><li><span class='ee-k'>contains_aoi:</span><span class='ee-v'>True</span></li><li><span class='ee-k'>cycleNumber:</span><span class='ee-v'>205</span></li><li><span class='ee-k'>familyName:</span><span class='ee-v'>SENTINEL-1</span></li><li><span class='ee-k'>instrument:</span><span class='ee-v'>Synthetic Aperture Radar</span></li><li><span class='ee-k'>instrumentConfigurationID:</span><span class='ee-v'>6</span></li><li><span class='ee-k'>instrumentMode:</span><span class='ee-v'>EW</span></li><li><span class='ee-k'>instrumentSwath:</span><span class='ee-v'>EW</span></li><li><span class='ee-k'>missionDataTakeID:</span><span class='ee-v'>253080</span></li><li><span class='ee-k'>nssdcIdentifier:</span><span class='ee-v'>2014-016A</span></li><li><span class='ee-k'>orbitNumber_start:</span><span class='ee-v'>33331</span></li><li><span class='ee-k'>orbitNumber_stop:</span><span class='ee-v'>33331</span></li><li><span class='ee-k'>orbitProperties_ascendingNodeTime:</span><span class='ee-v'>1594019429864</span></li><li><span class='ee-k'>orbitProperties_pass:</span><span class='ee-v'>ASCENDING</span></li><li><span class='ee-k'>phaseIdentifier:</span><span class='ee-v'>1</span></li><li><span class='ee-k'>platformHeading:</span><span class='ee-v'>-44.08392363487739</span></li><li><span class='ee-k'>platform_number:</span><span class='ee-v'>A</span></li><li><span class='ee-k'>productClass:</span><span class='ee-v'>S</span></li><li><span class='ee-k'>productClassDescription:</span><span class='ee-v'>SAR Standard L1 Product</span></li><li><span class='ee-k'>productComposition:</span><span class='ee-v'>Slice</span></li><li><span class='ee-k'>productTimelinessCategory:</span><span class='ee-v'>Fast-24h</span></li><li><span class='ee-k'>productType:</span><span class='ee-v'>GRD</span></li><li><span class='ee-k'>relativeOrbitNumber_start:</span><span class='ee-v'>9</span></li><li><span class='ee-k'>relativeOrbitNumber_stop:</span><span class='ee-v'>9</span></li><li><span class='ee-k'>resolution:</span><span class='ee-v'>M</span></li><li><span class='ee-k'>resolution_meters:</span><span class='ee-v'>40</span></li><li><span class='ee-k'>segmentStartTime:</span><span class='ee-v'>1594023926771</span></li><li><span class='ee-k'>sliceNumber:</span><span class='ee-v'>2</span></li><li><span class='ee-k'>sliceProductFlag:</span><span class='ee-v'>true</span></li><li><span class='ee-k'>startTimeANX:</span><span class='ee-v'>4561008</span></li><li><span class='ee-k'>stopTimeANX:</span><span class='ee-v'>4614848</span></li><li><span class='ee-k'>system:asset_size:</span><span class='ee-v'>874947363</span></li><li><label class='ee-shut'>system:footprint: LinearRing (22 vertices)<input type='checkbox' class='ee-toggle'></label><ul><li><span class='ee-k'>type:</span><span class='ee-v'>LinearRing</span></li><li><label class='ee-shut'>coordinates: List (22 elements)<input type='checkbox' class='ee-toggle'></label><ul><li><label class='ee-shut'>0: [-162.35909274042632, -77.62953555772664]<input type='checkbox' class='ee-toggle'></label><ul><li><span class='ee-k'>0:</span><span class='ee-v'>-162.35909274042632</span></li><li><span class='ee-k'>1:</span><span class='ee-v'>-77.62953555772664</span></li></ul></li><li><label class='ee-shut'>1: [-162.3368270657341, -77.63241351151595]<input type='checkbox' class='ee-toggle'></label><ul><li><span class='ee-k'>0:</span><span class='ee-v'>-162.3368270657341</span></li><li><span class='ee-k'>1:</span><span class='ee-v'>-77.63241351151595</span></li></ul></li><li><label class='ee-shut'>2: [-160.96560515114663, -77.19648715311185]<input type='checkbox' class='ee-toggle'></label><ul><li><span class='ee-k'>0:</span><span class='ee-v'>-160.96560515114663</span></li><li><span class='ee-k'>1:</span><span class='ee-v'>-77.19648715311185</span></li></ul></li><li><label class='ee-shut'>3: [-154.37704926149485, -74.4618435503015]<input type='checkbox' class='ee-toggle'></label><ul><li><span class='ee-k'>0:</span><span class='ee-v'>-154.37704926149485</span></li><li><span class='ee-k'>1:</span><span class='ee-v'>-74.4618435503015</span></li></ul></li><li><label class='ee-shut'>4: [-154.39517696271918, -74.45847079118006]<input type='checkbox' class='ee-toggle'></label><ul><li><span class='ee-k'>0:</span><span class='ee-v'>-154.39517696271918</span></li><li><span class='ee-k'>1:</span><span class='ee-v'>-74.45847079118006</span></li></ul></li><li><label class='ee-shut'>5: [-158.45714498354354, -73.83420449768487]<input type='checkbox' class='ee-toggle'></label><ul><li><span class='ee-k'>0:</span><span class='ee-v'>-158.45714498354354</span></li><li><span class='ee-k'>1:</span><span class='ee-v'>-73.83420449768487</span></li></ul></li><li><label class='ee-shut'>6: [-162.22221042819447, -73.13553501823681]<input type='checkbox' class='ee-toggle'></label><ul><li><span class='ee-k'>0:</span><span class='ee-v'>-162.22221042819447</span></li><li><span class='ee-k'>1:</span><span class='ee-v'>-73.13553501823681</span></li></ul></li><li><label class='ee-shut'>7: [-163.09117148054435, -72.95599668271483]<input type='checkbox' class='ee-toggle'></label><ul><li><span class='ee-k'>0:</span><span class='ee-v'>-163.09117148054435</span></li><li><span class='ee-k'>1:</span><span class='ee-v'>-72.95599668271483</span></li></ul></li><li><label class='ee-shut'>8: [-164.15512420937642, -72.72755709610769]<input type='checkbox' class='ee-toggle'></label><ul><li><span class='ee-k'>0:</span><span class='ee-v'>-164.15512420937642</span></li><li><span class='ee-k'>1:</span><span class='ee-v'>-72.72755709610769</span></li></ul></li><li><label class='ee-shut'>9: [-164.2753053086582, -72.70117974632454]<input type='checkbox' class='ee-toggle'></label><ul><li><span class='ee-k'>0:</span><span class='ee-v'>-164.2753053086582</span></li><li><span class='ee-k'>1:</span><span class='ee-v'>-72.70117974632454</span></li></ul></li><li><label class='ee-shut'>10: [-164.284035835913, -72.69991961387554]<input type='checkbox' class='ee-toggle'></label><ul><li><span class='ee-k'>0:</span><span class='ee-v'>-164.284035835913</span></li><li><span class='ee-k'>1:</span><span class='ee-v'>-72.69991961387554</span></li></ul></li><li><label class='ee-shut'>11: [-164.3167332605957, -72.7120936203255]<input type='checkbox' class='ee-toggle'></label><ul><li><span class='ee-k'>0:</span><span class='ee-v'>-164.3167332605957</span></li><li><span class='ee-k'>1:</span><span class='ee-v'>-72.7120936203255</span></li></ul></li><li><label class='ee-shut'>12: [-164.4024502295688, -72.7457199589374]<input type='checkbox' class='ee-toggle'></label><ul><li><span class='ee-k'>0:</span><span class='ee-v'>-164.4024502295688</span></li><li><span class='ee-k'>1:</span><span class='ee-v'>-72.7457199589374</span></li></ul></li><li><label class='ee-shut'>13: [-164.7703171031873, -72.88954810837657]<input type='checkbox' class='ee-toggle'></label><ul><li><span class='ee-k'>0:</span><span class='ee-v'>-164.7703171031873</span></li><li><span class='ee-k'>1:</span><span class='ee-v'>-72.88954810837657</span></li></ul></li><li><label class='ee-shut'>14: [-165.2256641041055, -73.06382138788022]<input type='checkbox' class='ee-toggle'></label><ul><li><span class='ee-k'>0:</span><span class='ee-v'>-165.2256641041055</span></li><li><span class='ee-k'>1:</span><span class='ee-v'>-73.06382138788022</span></li></ul></li><li><label class='ee-shut'>15: [-165.37077877593754, -73.11847993517333]<input type='checkbox' class='ee-toggle'></label><ul><li><span class='ee-k'>0:</span><span class='ee-v'>-165.37077877593754</span></li><li><span class='ee-k'>1:</span><span class='ee-v'>-73.11847993517333</span></li></ul></li><li><label class='ee-shut'>16: [-168.75665742784108, -74.39111369883129]<input type='checkbox' class='ee-toggle'></label><ul><li><span class='ee-k'>0:</span><span class='ee-v'>-168.75665742784108</span></li><li><span class='ee-k'>1:</span><span class='ee-v'>-74.39111369883129</span></li></ul></li><li><label class='ee-shut'>17: [-170.65636535838902, -75.00531152112906]<input type='checkbox' class='ee-toggle'></label><ul><li><span class='ee-k'>0:</span><span class='ee-v'>-170.65636535838902</span></li><li><span class='ee-k'>1:</span><span class='ee-v'>-75.00531152112906</span></li></ul></li><li><label class='ee-shut'>18: [-172.72148390063552, -75.60466774325872]<input type='checkbox' class='ee-toggle'></label><ul><li><span class='ee-k'>0:</span><span class='ee-v'>-172.72148390063552</span></li><li><span class='ee-k'>1:</span><span class='ee-v'>-75.60466774325872</span></li></ul></li><li><label class='ee-shut'>19: [-172.7032721504427, -75.61056380436244]<input type='checkbox' class='ee-toggle'></label><ul><li><span class='ee-k'>0:</span><span class='ee-v'>-172.7032721504427</span></li><li><span class='ee-k'>1:</span><span class='ee-v'>-75.61056380436244</span></li></ul></li><li><label class='ee-shut'>20: [-171.80904323028005, -75.82870409523281]<input type='checkbox' class='ee-toggle'></label><ul><li><span class='ee-k'>0:</span><span class='ee-v'>-171.80904323028005</span></li><li><span class='ee-k'>1:</span><span class='ee-v'>-75.82870409523281</span></li></ul></li><li><label class='ee-shut'>21: [-162.35909274042632, -77.62953555772664]<input type='checkbox' class='ee-toggle'></label><ul><li><span class='ee-k'>0:</span><span class='ee-v'>-162.35909274042632</span></li><li><span class='ee-k'>1:</span><span class='ee-v'>-77.62953555772664</span></li></ul></li></ul></li></ul></li><li><span class='ee-k'>system:index:</span><span class='ee-v'>S1A_EW_GRDM_1SDH_20200706T082630_20200706T082724_033331_03DC98_919C</span></li><li><span class='ee-k'>system:time_end:</span><span class='ee-v'>1594023990000</span></li><li><span class='ee-k'>system:time_start:</span><span class='ee-v'>1594023990000</span></li><li><span class='ee-k'>totalSlices:</span><span class='ee-v'>2</span></li><li><label class='ee-shut'>transmitterReceiverPolarisation: ['HH', 'HV']<input type='checkbox' class='ee-toggle'></label><ul><li><span class='ee-k'>0:</span><span class='ee-v'>HH</span></li><li><span class='ee-k'>1:</span><span class='ee-v'>HV</span></li></ul></li></ul></li></ul></li><li><label class='ee-shut'>13: Image COPERNICUS/S1_GRD/S1A_EW_GRDM_1SDH_20200708T081017_20200708T081117_033360_03DD7A_C6FE (2 bands)<input type='checkbox' class='ee-toggle'></label><ul><li><span class='ee-k'>type:</span><span class='ee-v'>Image</span></li><li><span class='ee-k'>id:</span><span class='ee-v'>COPERNICUS/S1_GRD/S1A_EW_GRDM_1SDH_20200708T081017_20200708T081117_033360_03DD7A_C6FE</span></li><li><span class='ee-k'>version:</span><span class='ee-v'>1720455786986427</span></li><li><label class='ee-shut'>bands: List (2 elements)<input type='checkbox' class='ee-toggle'></label><ul><li><label class='ee-shut'>0: \"HH\", double, EPSG:32703, 16716x15387 px<input type='checkbox' class='ee-toggle'></label><ul><li><span class='ee-k'>id:</span><span class='ee-v'>HH</span></li><li><span class='ee-k'>crs:</span><span class='ee-v'>EPSG:32703</span></li><li><label class='ee-shut'>crs_transform: List (6 elements)<input type='checkbox' class='ee-toggle'></label><ul><li><span class='ee-k'>0:</span><span class='ee-v'>40</span></li><li><span class='ee-k'>1:</span><span class='ee-v'>0</span></li><li><span class='ee-k'>2:</span><span class='ee-v'>245587.7533162589</span></li><li><span class='ee-k'>3:</span><span class='ee-v'>0</span></li><li><span class='ee-k'>4:</span><span class='ee-v'>-40</span></li><li><span class='ee-k'>5:</span><span class='ee-v'>2018668.4513444342</span></li></ul></li><li><label class='ee-shut'>data_type: double<input type='checkbox' class='ee-toggle'></label><ul><li><span class='ee-k'>type:</span><span class='ee-v'>PixelType</span></li><li><span class='ee-k'>precision:</span><span class='ee-v'>double</span></li></ul></li><li><label class='ee-shut'>dimensions: [16716, 15387]<input type='checkbox' class='ee-toggle'></label><ul><li><span class='ee-k'>0:</span><span class='ee-v'>16716</span></li><li><span class='ee-k'>1:</span><span class='ee-v'>15387</span></li></ul></li></ul></li><li><label class='ee-shut'>1: \"angle\", float, EPSG:32703, 21x21 px<input type='checkbox' class='ee-toggle'></label><ul><li><span class='ee-k'>id:</span><span class='ee-v'>angle</span></li><li><span class='ee-k'>crs:</span><span class='ee-v'>EPSG:32703</span></li><li><label class='ee-shut'>crs_transform: List (6 elements)<input type='checkbox' class='ee-toggle'></label><ul><li><span class='ee-k'>0:</span><span class='ee-v'>13946.885771040921</span></li><li><span class='ee-k'>1:</span><span class='ee-v'>-15247.654984980938</span></li><li><span class='ee-k'>2:</span><span class='ee-v'>588281.0384068206</span></li><li><span class='ee-k'>3:</span><span class='ee-v'>15691.832584891468</span></li><li><span class='ee-k'>4:</span><span class='ee-v'>13631.16106112115</span></li><li><span class='ee-k'>5:</span><span class='ee-v'>1430964.3151044287</span></li></ul></li><li><label class='ee-shut'>data_type: float<input type='checkbox' class='ee-toggle'></label><ul><li><span class='ee-k'>type:</span><span class='ee-v'>PixelType</span></li><li><span class='ee-k'>precision:</span><span class='ee-v'>float</span></li></ul></li><li><label class='ee-shut'>dimensions: [21, 21]<input type='checkbox' class='ee-toggle'></label><ul><li><span class='ee-k'>0:</span><span class='ee-v'>21</span></li><li><span class='ee-k'>1:</span><span class='ee-v'>21</span></li></ul></li></ul></li></ul></li><li><label class='ee-shut'>properties: Object (56 properties)<input type='checkbox' class='ee-toggle'></label><ul><li><span class='ee-k'>GRD_Post_Processing_facility_country:</span><span class='ee-v'>Germany</span></li><li><span class='ee-k'>GRD_Post_Processing_facility_name:</span><span class='ee-v'>Copernicus S1 Core Ground Segment - DPA</span></li><li><span class='ee-k'>GRD_Post_Processing_facility_org:</span><span class='ee-v'>ESA</span></li><li><span class='ee-k'>GRD_Post_Processing_facility_site:</span><span class='ee-v'>DLR-Oberpfaffenhofen</span></li><li><span class='ee-k'>GRD_Post_Processing_software_name:</span><span class='ee-v'>Sentinel-1 IPF</span></li><li><span class='ee-k'>GRD_Post_Processing_software_version:</span><span class='ee-v'>003.31</span></li><li><span class='ee-k'>GRD_Post_Processing_start:</span><span class='ee-v'>1594205095381</span></li><li><span class='ee-k'>GRD_Post_Processing_stop:</span><span class='ee-v'>1594205574000</span></li><li><span class='ee-k'>S1TBX_Calibration_vers:</span><span class='ee-v'>7.0.2</span></li><li><span class='ee-k'>S1TBX_SAR_Processing_vers:</span><span class='ee-v'>7.0.2</span></li><li><span class='ee-k'>SLC_Processing_facility_country:</span><span class='ee-v'>Germany</span></li><li><span class='ee-k'>SLC_Processing_facility_name:</span><span class='ee-v'>Copernicus S1 Core Ground Segment - DPA</span></li><li><span class='ee-k'>SLC_Processing_facility_org:</span><span class='ee-v'>ESA</span></li><li><span class='ee-k'>SLC_Processing_facility_site:</span><span class='ee-v'>DLR-Oberpfaffenhofen</span></li><li><span class='ee-k'>SLC_Processing_software_name:</span><span class='ee-v'>Sentinel-1 IPF</span></li><li><span class='ee-k'>SLC_Processing_software_version:</span><span class='ee-v'>003.31</span></li><li><span class='ee-k'>SLC_Processing_start:</span><span class='ee-v'>1594205180000</span></li><li><span class='ee-k'>SLC_Processing_stop:</span><span class='ee-v'>1594205462000</span></li><li><span class='ee-k'>SNAP_Graph_Processing_Framework_GPF_vers:</span><span class='ee-v'>7.0.3</span></li><li><span class='ee-k'>contains_aoi:</span><span class='ee-v'>True</span></li><li><span class='ee-k'>cycleNumber:</span><span class='ee-v'>205</span></li><li><span class='ee-k'>familyName:</span><span class='ee-v'>SENTINEL-1</span></li><li><span class='ee-k'>instrument:</span><span class='ee-v'>Synthetic Aperture Radar</span></li><li><span class='ee-k'>instrumentConfigurationID:</span><span class='ee-v'>6</span></li><li><span class='ee-k'>instrumentMode:</span><span class='ee-v'>EW</span></li><li><span class='ee-k'>instrumentSwath:</span><span class='ee-v'>EW</span></li><li><span class='ee-k'>missionDataTakeID:</span><span class='ee-v'>253306</span></li><li><span class='ee-k'>nssdcIdentifier:</span><span class='ee-v'>2014-016A</span></li><li><span class='ee-k'>orbitNumber_start:</span><span class='ee-v'>33360</span></li><li><span class='ee-k'>orbitNumber_stop:</span><span class='ee-v'>33360</span></li><li><span class='ee-k'>orbitProperties_ascendingNodeTime:</span><span class='ee-v'>1594191242579</span></li><li><span class='ee-k'>orbitProperties_pass:</span><span class='ee-v'>ASCENDING</span></li><li><span class='ee-k'>phaseIdentifier:</span><span class='ee-v'>1</span></li><li><span class='ee-k'>platformHeading:</span><span class='ee-v'>-40.79253974618907</span></li><li><span class='ee-k'>platform_number:</span><span class='ee-v'>A</span></li><li><span class='ee-k'>productClass:</span><span class='ee-v'>S</span></li><li><span class='ee-k'>productClassDescription:</span><span class='ee-v'>SAR Standard L1 Product</span></li><li><span class='ee-k'>productComposition:</span><span class='ee-v'>Slice</span></li><li><span class='ee-k'>productTimelinessCategory:</span><span class='ee-v'>Fast-24h</span></li><li><span class='ee-k'>productType:</span><span class='ee-v'>GRD</span></li><li><span class='ee-k'>relativeOrbitNumber_start:</span><span class='ee-v'>38</span></li><li><span class='ee-k'>relativeOrbitNumber_stop:</span><span class='ee-v'>38</span></li><li><span class='ee-k'>resolution:</span><span class='ee-v'>M</span></li><li><span class='ee-k'>resolution_meters:</span><span class='ee-v'>40</span></li><li><span class='ee-k'>segmentStartTime:</span><span class='ee-v'>1594195753158</span></li><li><span class='ee-k'>sliceNumber:</span><span class='ee-v'>2</span></li><li><span class='ee-k'>sliceProductFlag:</span><span class='ee-v'>true</span></li><li><span class='ee-k'>startTimeANX:</span><span class='ee-v'>4574682</span></li><li><span class='ee-k'>stopTimeANX:</span><span class='ee-v'>4634678</span></li><li><span class='ee-k'>system:asset_size:</span><span class='ee-v'>1001946646</span></li><li><label class='ee-shut'>system:footprint: LinearRing (23 vertices)<input type='checkbox' class='ee-toggle'></label><ul><li><span class='ee-k'>type:</span><span class='ee-v'>LinearRing</span></li><li><label class='ee-shut'>coordinates: List (23 elements)<input type='checkbox' class='ee-toggle'></label><ul><li><label class='ee-shut'>0: [-161.25799842746684, -77.12530993639211]<input type='checkbox' class='ee-toggle'></label><ul><li><span class='ee-k'>0:</span><span class='ee-v'>-161.25799842746684</span></li><li><span class='ee-k'>1:</span><span class='ee-v'>-77.12530993639211</span></li></ul></li><li><label class='ee-shut'>1: [-160.62337457921106, -76.94084866467765]<input type='checkbox' class='ee-toggle'></label><ul><li><span class='ee-k'>0:</span><span class='ee-v'>-160.62337457921106</span></li><li><span class='ee-k'>1:</span><span class='ee-v'>-76.94084866467765</span></li></ul></li><li><label class='ee-shut'>2: [-153.31217543823425, -74.21853232980497]<input type='checkbox' class='ee-toggle'></label><ul><li><span class='ee-k'>0:</span><span class='ee-v'>-153.31217543823425</span></li><li><span class='ee-k'>1:</span><span class='ee-v'>-74.21853232980497</span></li></ul></li><li><label class='ee-shut'>3: [-152.9826162183855, -74.06321010877609]<input type='checkbox' class='ee-toggle'></label><ul><li><span class='ee-k'>0:</span><span class='ee-v'>-152.9826162183855</span></li><li><span class='ee-k'>1:</span><span class='ee-v'>-74.06321010877609</span></li></ul></li><li><label class='ee-shut'>4: [-152.9758110568117, -74.05860969521214]<input type='checkbox' class='ee-toggle'></label><ul><li><span class='ee-k'>0:</span><span class='ee-v'>-152.9758110568117</span></li><li><span class='ee-k'>1:</span><span class='ee-v'>-74.05860969521214</span></li></ul></li><li><label class='ee-shut'>5: [-153.00005198240788, -74.05421057083963]<input type='checkbox' class='ee-toggle'></label><ul><li><span class='ee-k'>0:</span><span class='ee-v'>-153.00005198240788</span></li><li><span class='ee-k'>1:</span><span class='ee-v'>-74.05421057083963</span></li></ul></li><li><label class='ee-shut'>6: [-153.40470324016178, -73.9889700593524]<input type='checkbox' class='ee-toggle'></label><ul><li><span class='ee-k'>0:</span><span class='ee-v'>-153.40470324016178</span></li><li><span class='ee-k'>1:</span><span class='ee-v'>-73.9889700593524</span></li></ul></li><li><label class='ee-shut'>7: [-154.55148422909022, -73.79789207181052]<input type='checkbox' class='ee-toggle'></label><ul><li><span class='ee-k'>0:</span><span class='ee-v'>-154.55148422909022</span></li><li><span class='ee-k'>1:</span><span class='ee-v'>-73.79789207181052</span></li></ul></li><li><label class='ee-shut'>8: [-158.1282475367348, -73.13066527531191]<input type='checkbox' class='ee-toggle'></label><ul><li><span class='ee-k'>0:</span><span class='ee-v'>-158.1282475367348</span></li><li><span class='ee-k'>1:</span><span class='ee-v'>-73.13066527531191</span></li></ul></li><li><label class='ee-shut'>9: [-158.70312357653353, -73.01254052476544]<input type='checkbox' class='ee-toggle'></label><ul><li><span class='ee-k'>0:</span><span class='ee-v'>-158.70312357653353</span></li><li><span class='ee-k'>1:</span><span class='ee-v'>-73.01254052476544</span></li></ul></li><li><label class='ee-shut'>10: [-159.26400599169204, -72.89436315402368]<input type='checkbox' class='ee-toggle'></label><ul><li><span class='ee-k'>0:</span><span class='ee-v'>-159.26400599169204</span></li><li><span class='ee-k'>1:</span><span class='ee-v'>-72.89436315402368</span></li></ul></li><li><label class='ee-shut'>11: [-163.1137828295386, -71.99424005039562]<input type='checkbox' class='ee-toggle'></label><ul><li><span class='ee-k'>0:</span><span class='ee-v'>-163.1137828295386</span></li><li><span class='ee-k'>1:</span><span class='ee-v'>-71.99424005039562</span></li></ul></li><li><label class='ee-shut'>12: [-163.2710358000291, -71.95400683080436]<input type='checkbox' class='ee-toggle'></label><ul><li><span class='ee-k'>0:</span><span class='ee-v'>-163.2710358000291</span></li><li><span class='ee-k'>1:</span><span class='ee-v'>-71.95400683080436</span></li></ul></li><li><label class='ee-shut'>13: [-163.31645948280988, -71.94473077549621]<input type='checkbox' class='ee-toggle'></label><ul><li><span class='ee-k'>0:</span><span class='ee-v'>-163.31645948280988</span></li><li><span class='ee-k'>1:</span><span class='ee-v'>-71.94473077549621</span></li></ul></li><li><label class='ee-shut'>14: [-165.55178439720783, -72.73125550827739]<input type='checkbox' class='ee-toggle'></label><ul><li><span class='ee-k'>0:</span><span class='ee-v'>-165.55178439720783</span></li><li><span class='ee-k'>1:</span><span class='ee-v'>-72.73125550827739</span></li></ul></li><li><label class='ee-shut'>15: [-168.99906427821236, -73.77858909201174]<input type='checkbox' class='ee-toggle'></label><ul><li><span class='ee-k'>0:</span><span class='ee-v'>-168.99906427821236</span></li><li><span class='ee-k'>1:</span><span class='ee-v'>-73.77858909201174</span></li></ul></li><li><label class='ee-shut'>16: [-172.12159371045934, -74.58256684445335]<input type='checkbox' class='ee-toggle'></label><ul><li><span class='ee-k'>0:</span><span class='ee-v'>-172.12159371045934</span></li><li><span class='ee-k'>1:</span><span class='ee-v'>-74.58256684445335</span></li></ul></li><li><label class='ee-shut'>17: [-172.2588581515806, -74.61526709010319]<input type='checkbox' class='ee-toggle'></label><ul><li><span class='ee-k'>0:</span><span class='ee-v'>-172.2588581515806</span></li><li><span class='ee-k'>1:</span><span class='ee-v'>-74.61526709010319</span></li></ul></li><li><label class='ee-shut'>18: [-172.08693173979063, -74.6668574973143]<input type='checkbox' class='ee-toggle'></label><ul><li><span class='ee-k'>0:</span><span class='ee-v'>-172.08693173979063</span></li><li><span class='ee-k'>1:</span><span class='ee-v'>-74.6668574973143</span></li></ul></li><li><label class='ee-shut'>19: [-167.90449437197486, -75.78258253439616]<input type='checkbox' class='ee-toggle'></label><ul><li><span class='ee-k'>0:</span><span class='ee-v'>-167.90449437197486</span></li><li><span class='ee-k'>1:</span><span class='ee-v'>-75.78258253439616</span></li></ul></li><li><label class='ee-shut'>20: [-163.14688303219623, -76.79680027266329]<input type='checkbox' class='ee-toggle'></label><ul><li><span class='ee-k'>0:</span><span class='ee-v'>-163.14688303219623</span></li><li><span class='ee-k'>1:</span><span class='ee-v'>-76.79680027266329</span></li></ul></li><li><label class='ee-shut'>21: [-161.2860896437827, -77.13241875233969]<input type='checkbox' class='ee-toggle'></label><ul><li><span class='ee-k'>0:</span><span class='ee-v'>-161.2860896437827</span></li><li><span class='ee-k'>1:</span><span class='ee-v'>-77.13241875233969</span></li></ul></li><li><label class='ee-shut'>22: [-161.25799842746684, -77.12530993639211]<input type='checkbox' class='ee-toggle'></label><ul><li><span class='ee-k'>0:</span><span class='ee-v'>-161.25799842746684</span></li><li><span class='ee-k'>1:</span><span class='ee-v'>-77.12530993639211</span></li></ul></li></ul></li></ul></li><li><span class='ee-k'>system:index:</span><span class='ee-v'>S1A_EW_GRDM_1SDH_20200708T081017_20200708T081117_033360_03DD7A_C6FE</span></li><li><span class='ee-k'>system:time_end:</span><span class='ee-v'>1594195817000</span></li><li><span class='ee-k'>system:time_start:</span><span class='ee-v'>1594195817000</span></li><li><span class='ee-k'>totalSlices:</span><span class='ee-v'>5</span></li><li><label class='ee-shut'>transmitterReceiverPolarisation: ['HH', 'HV']<input type='checkbox' class='ee-toggle'></label><ul><li><span class='ee-k'>0:</span><span class='ee-v'>HH</span></li><li><span class='ee-k'>1:</span><span class='ee-v'>HV</span></li></ul></li></ul></li></ul></li><li><label class='ee-shut'>14: Image COPERNICUS/S1_GRD/S1A_EW_GRDM_1SDH_20200710T075403_20200710T075503_033389_03DE62_7EFB (2 bands)<input type='checkbox' class='ee-toggle'></label><ul><li><span class='ee-k'>type:</span><span class='ee-v'>Image</span></li><li><span class='ee-k'>id:</span><span class='ee-v'>COPERNICUS/S1_GRD/S1A_EW_GRDM_1SDH_20200710T075403_20200710T075503_033389_03DE62_7EFB</span></li><li><span class='ee-k'>version:</span><span class='ee-v'>1720455786986427</span></li><li><label class='ee-shut'>bands: List (2 elements)<input type='checkbox' class='ee-toggle'></label><ul><li><label class='ee-shut'>0: \"HH\", double, EPSG:32704, 16707x15357 px<input type='checkbox' class='ee-toggle'></label><ul><li><span class='ee-k'>id:</span><span class='ee-v'>HH</span></li><li><span class='ee-k'>crs:</span><span class='ee-v'>EPSG:32704</span></li><li><label class='ee-shut'>crs_transform: List (6 elements)<input type='checkbox' class='ee-toggle'></label><ul><li><span class='ee-k'>0:</span><span class='ee-v'>40</span></li><li><span class='ee-k'>1:</span><span class='ee-v'>0</span></li><li><span class='ee-k'>2:</span><span class='ee-v'>101141.98352879647</span></li><li><span class='ee-k'>3:</span><span class='ee-v'>0</span></li><li><span class='ee-k'>4:</span><span class='ee-v'>-40</span></li><li><span class='ee-k'>5:</span><span class='ee-v'>2079871.5609419858</span></li></ul></li><li><label class='ee-shut'>data_type: double<input type='checkbox' class='ee-toggle'></label><ul><li><span class='ee-k'>type:</span><span class='ee-v'>PixelType</span></li><li><span class='ee-k'>precision:</span><span class='ee-v'>double</span></li></ul></li><li><label class='ee-shut'>dimensions: [16707, 15357]<input type='checkbox' class='ee-toggle'></label><ul><li><span class='ee-k'>0:</span><span class='ee-v'>16707</span></li><li><span class='ee-k'>1:</span><span class='ee-v'>15357</span></li></ul></li></ul></li><li><label class='ee-shut'>1: \"angle\", float, EPSG:32704, 21x21 px<input type='checkbox' class='ee-toggle'></label><ul><li><span class='ee-k'>id:</span><span class='ee-v'>angle</span></li><li><span class='ee-k'>crs:</span><span class='ee-v'>EPSG:32704</span></li><li><label class='ee-shut'>crs_transform: List (6 elements)<input type='checkbox' class='ee-toggle'></label><ul><li><span class='ee-k'>0:</span><span class='ee-v'>13411.144244592579</span></li><li><span class='ee-k'>1:</span><span class='ee-v'>-15691.917467335647</span></li><li><span class='ee-k'>2:</span><span class='ee-v'>470250.99446056626</span></li><li><span class='ee-k'>3:</span><span class='ee-v'>16149.228006808087</span></li><li><span class='ee-k'>4:</span><span class='ee-v'>13116.199459215626</span></li><li><span class='ee-k'>5:</span><span class='ee-v'>1492918.6115416065</span></li></ul></li><li><label class='ee-shut'>data_type: float<input type='checkbox' class='ee-toggle'></label><ul><li><span class='ee-k'>type:</span><span class='ee-v'>PixelType</span></li><li><span class='ee-k'>precision:</span><span class='ee-v'>float</span></li></ul></li><li><label class='ee-shut'>dimensions: [21, 21]<input type='checkbox' class='ee-toggle'></label><ul><li><span class='ee-k'>0:</span><span class='ee-v'>21</span></li><li><span class='ee-k'>1:</span><span class='ee-v'>21</span></li></ul></li></ul></li></ul></li><li><label class='ee-shut'>properties: Object (56 properties)<input type='checkbox' class='ee-toggle'></label><ul><li><span class='ee-k'>GRD_Post_Processing_facility_country:</span><span class='ee-v'>Germany</span></li><li><span class='ee-k'>GRD_Post_Processing_facility_name:</span><span class='ee-v'>Copernicus S1 Core Ground Segment - DPA</span></li><li><span class='ee-k'>GRD_Post_Processing_facility_org:</span><span class='ee-v'>ESA</span></li><li><span class='ee-k'>GRD_Post_Processing_facility_site:</span><span class='ee-v'>DLR-Oberpfaffenhofen</span></li><li><span class='ee-k'>GRD_Post_Processing_software_name:</span><span class='ee-v'>Sentinel-1 IPF</span></li><li><span class='ee-k'>GRD_Post_Processing_software_version:</span><span class='ee-v'>003.31</span></li><li><span class='ee-k'>GRD_Post_Processing_start:</span><span class='ee-v'>1594377309912</span></li><li><span class='ee-k'>GRD_Post_Processing_stop:</span><span class='ee-v'>1594377783000</span></li><li><span class='ee-k'>S1TBX_Calibration_vers:</span><span class='ee-v'>7.0.2</span></li><li><span class='ee-k'>S1TBX_SAR_Processing_vers:</span><span class='ee-v'>7.0.2</span></li><li><span class='ee-k'>SLC_Processing_facility_country:</span><span class='ee-v'>Germany</span></li><li><span class='ee-k'>SLC_Processing_facility_name:</span><span class='ee-v'>Copernicus S1 Core Ground Segment - DPA</span></li><li><span class='ee-k'>SLC_Processing_facility_org:</span><span class='ee-v'>ESA</span></li><li><span class='ee-k'>SLC_Processing_facility_site:</span><span class='ee-v'>DLR-Oberpfaffenhofen</span></li><li><span class='ee-k'>SLC_Processing_software_name:</span><span class='ee-v'>Sentinel-1 IPF</span></li><li><span class='ee-k'>SLC_Processing_software_version:</span><span class='ee-v'>003.31</span></li><li><span class='ee-k'>SLC_Processing_start:</span><span class='ee-v'>1594377394000</span></li><li><span class='ee-k'>SLC_Processing_stop:</span><span class='ee-v'>1594377674000</span></li><li><span class='ee-k'>SNAP_Graph_Processing_Framework_GPF_vers:</span><span class='ee-v'>7.0.3</span></li><li><span class='ee-k'>contains_aoi:</span><span class='ee-v'>True</span></li><li><span class='ee-k'>cycleNumber:</span><span class='ee-v'>205</span></li><li><span class='ee-k'>familyName:</span><span class='ee-v'>SENTINEL-1</span></li><li><span class='ee-k'>instrument:</span><span class='ee-v'>Synthetic Aperture Radar</span></li><li><span class='ee-k'>instrumentConfigurationID:</span><span class='ee-v'>6</span></li><li><span class='ee-k'>instrumentMode:</span><span class='ee-v'>EW</span></li><li><span class='ee-k'>instrumentSwath:</span><span class='ee-v'>EW</span></li><li><span class='ee-k'>missionDataTakeID:</span><span class='ee-v'>253538</span></li><li><span class='ee-k'>nssdcIdentifier:</span><span class='ee-v'>2014-016A</span></li><li><span class='ee-k'>orbitNumber_start:</span><span class='ee-v'>33389</span></li><li><span class='ee-k'>orbitNumber_stop:</span><span class='ee-v'>33389</span></li><li><span class='ee-k'>orbitProperties_ascendingNodeTime:</span><span class='ee-v'>1594363055267</span></li><li><span class='ee-k'>orbitProperties_pass:</span><span class='ee-v'>ASCENDING</span></li><li><span class='ee-k'>phaseIdentifier:</span><span class='ee-v'>1</span></li><li><span class='ee-k'>platformHeading:</span><span class='ee-v'>-38.60450196480569</span></li><li><span class='ee-k'>platform_number:</span><span class='ee-v'>A</span></li><li><span class='ee-k'>productClass:</span><span class='ee-v'>S</span></li><li><span class='ee-k'>productClassDescription:</span><span class='ee-v'>SAR Standard L1 Product</span></li><li><span class='ee-k'>productComposition:</span><span class='ee-v'>Slice</span></li><li><span class='ee-k'>productTimelinessCategory:</span><span class='ee-v'>Fast-24h</span></li><li><span class='ee-k'>productType:</span><span class='ee-v'>GRD</span></li><li><span class='ee-k'>relativeOrbitNumber_start:</span><span class='ee-v'>67</span></li><li><span class='ee-k'>relativeOrbitNumber_stop:</span><span class='ee-v'>67</span></li><li><span class='ee-k'>resolution:</span><span class='ee-v'>M</span></li><li><span class='ee-k'>resolution_meters:</span><span class='ee-v'>40</span></li><li><span class='ee-k'>segmentStartTime:</span><span class='ee-v'>1594367579524</span></li><li><span class='ee-k'>sliceNumber:</span><span class='ee-v'>2</span></li><li><span class='ee-k'>sliceProductFlag:</span><span class='ee-v'>true</span></li><li><span class='ee-k'>startTimeANX:</span><span class='ee-v'>4588360</span></li><li><span class='ee-k'>stopTimeANX:</span><span class='ee-v'>4648356</span></li><li><span class='ee-k'>system:asset_size:</span><span class='ee-v'>1004196798</span></li><li><label class='ee-shut'>system:footprint: LinearRing (20 vertices)<input type='checkbox' class='ee-toggle'></label><ul><li><span class='ee-k'>type:</span><span class='ee-v'>LinearRing</span></li><li><label class='ee-shut'>coordinates: List (20 elements)<input type='checkbox' class='ee-toggle'></label><ul><li><label class='ee-shut'>0: [-161.2138098760685, -71.39780835162324]<input type='checkbox' class='ee-toggle'></label><ul><li><span class='ee-k'>0:</span><span class='ee-v'>-161.2138098760685</span></li><li><span class='ee-k'>1:</span><span class='ee-v'>-71.39780835162324</span></li></ul></li><li><label class='ee-shut'>1: [-161.2226013681371, -71.39770530968018]<input type='checkbox' class='ee-toggle'></label><ul><li><span class='ee-k'>0:</span><span class='ee-v'>-161.2226013681371</span></li><li><span class='ee-k'>1:</span><span class='ee-v'>-71.39770530968018</span></li></ul></li><li><label class='ee-shut'>2: [-161.28674682888487, -71.4204787949188]<input type='checkbox' class='ee-toggle'></label><ul><li><span class='ee-k'>0:</span><span class='ee-v'>-161.28674682888487</span></li><li><span class='ee-k'>1:</span><span class='ee-v'>-71.4204787949188</span></li></ul></li><li><label class='ee-shut'>3: [-165.4342139778701, -72.75897551340077]<input type='checkbox' class='ee-toggle'></label><ul><li><span class='ee-k'>0:</span><span class='ee-v'>-165.4342139778701</span></li><li><span class='ee-k'>1:</span><span class='ee-v'>-72.75897551340077</span></li></ul></li><li><label class='ee-shut'>4: [-170.14606734068823, -73.97978539487916]<input type='checkbox' class='ee-toggle'></label><ul><li><span class='ee-k'>0:</span><span class='ee-v'>-170.14606734068823</span></li><li><span class='ee-k'>1:</span><span class='ee-v'>-73.97978539487916</span></li></ul></li><li><label class='ee-shut'>5: [-170.0010575203255, -74.0282179931373]<input type='checkbox' class='ee-toggle'></label><ul><li><span class='ee-k'>0:</span><span class='ee-v'>-170.0010575203255</span></li><li><span class='ee-k'>1:</span><span class='ee-v'>-74.0282179931373</span></li></ul></li><li><label class='ee-shut'>6: [-167.53964248254715, -74.79269937799867]<input type='checkbox' class='ee-toggle'></label><ul><li><span class='ee-k'>0:</span><span class='ee-v'>-167.53964248254715</span></li><li><span class='ee-k'>1:</span><span class='ee-v'>-74.79269937799867</span></li></ul></li><li><label class='ee-shut'>7: [-164.01750392808682, -75.72554997113494]<input type='checkbox' class='ee-toggle'></label><ul><li><span class='ee-k'>0:</span><span class='ee-v'>-164.01750392808682</span></li><li><span class='ee-k'>1:</span><span class='ee-v'>-75.72554997113494</span></li></ul></li><li><label class='ee-shut'>8: [-160.01388711855162, -76.60345710214834]<input type='checkbox' class='ee-toggle'></label><ul><li><span class='ee-k'>0:</span><span class='ee-v'>-160.01388711855162</span></li><li><span class='ee-k'>1:</span><span class='ee-v'>-76.60345710214834</span></li></ul></li><li><label class='ee-shut'>9: [-159.9946846937793, -76.59915504655336]<input type='checkbox' class='ee-toggle'></label><ul><li><span class='ee-k'>0:</span><span class='ee-v'>-159.9946846937793</span></li><li><span class='ee-k'>1:</span><span class='ee-v'>-76.59915504655336</span></li></ul></li><li><label class='ee-shut'>10: [-152.35766004546903, -74.02247333644235]<input type='checkbox' class='ee-toggle'></label><ul><li><span class='ee-k'>0:</span><span class='ee-v'>-152.35766004546903</span></li><li><span class='ee-k'>1:</span><span class='ee-v'>-74.02247333644235</span></li></ul></li><li><label class='ee-shut'>11: [-151.43610055313644, -73.62455375347484]<input type='checkbox' class='ee-toggle'></label><ul><li><span class='ee-k'>0:</span><span class='ee-v'>-151.43610055313644</span></li><li><span class='ee-k'>1:</span><span class='ee-v'>-73.62455375347484</span></li></ul></li><li><label class='ee-shut'>12: [-151.45870635380456, -73.61961556743108]<input type='checkbox' class='ee-toggle'></label><ul><li><span class='ee-k'>0:</span><span class='ee-v'>-151.45870635380456</span></li><li><span class='ee-k'>1:</span><span class='ee-v'>-73.61961556743108</span></li></ul></li><li><label class='ee-shut'>13: [-153.49469900297578, -73.23390508701473]<input type='checkbox' class='ee-toggle'></label><ul><li><span class='ee-k'>0:</span><span class='ee-v'>-153.49469900297578</span></li><li><span class='ee-k'>1:</span><span class='ee-v'>-73.23390508701473</span></li></ul></li><li><label class='ee-shut'>14: [-154.01823605176676, -73.12896119051625]<input type='checkbox' class='ee-toggle'></label><ul><li><span class='ee-k'>0:</span><span class='ee-v'>-154.01823605176676</span></li><li><span class='ee-k'>1:</span><span class='ee-v'>-73.12896119051625</span></li></ul></li><li><label class='ee-shut'>15: [-154.43448188431324, -73.04370486941806]<input type='checkbox' class='ee-toggle'></label><ul><li><span class='ee-k'>0:</span><span class='ee-v'>-154.43448188431324</span></li><li><span class='ee-k'>1:</span><span class='ee-v'>-73.04370486941806</span></li></ul></li><li><label class='ee-shut'>16: [-154.84276187879507, -72.95860163169799]<input type='checkbox' class='ee-toggle'></label><ul><li><span class='ee-k'>0:</span><span class='ee-v'>-154.84276187879507</span></li><li><span class='ee-k'>1:</span><span class='ee-v'>-72.95860163169799</span></li></ul></li><li><label class='ee-shut'>17: [-158.92202201277541, -72.01329766654328]<input type='checkbox' class='ee-toggle'></label><ul><li><span class='ee-k'>0:</span><span class='ee-v'>-158.92202201277541</span></li><li><span class='ee-k'>1:</span><span class='ee-v'>-72.01329766654328</span></li></ul></li><li><label class='ee-shut'>18: [-161.04651447543017, -71.44498381159782]<input type='checkbox' class='ee-toggle'></label><ul><li><span class='ee-k'>0:</span><span class='ee-v'>-161.04651447543017</span></li><li><span class='ee-k'>1:</span><span class='ee-v'>-71.44498381159782</span></li></ul></li><li><label class='ee-shut'>19: [-161.2138098760685, -71.39780835162324]<input type='checkbox' class='ee-toggle'></label><ul><li><span class='ee-k'>0:</span><span class='ee-v'>-161.2138098760685</span></li><li><span class='ee-k'>1:</span><span class='ee-v'>-71.39780835162324</span></li></ul></li></ul></li></ul></li><li><span class='ee-k'>system:index:</span><span class='ee-v'>S1A_EW_GRDM_1SDH_20200710T075403_20200710T075503_033389_03DE62_7EFB</span></li><li><span class='ee-k'>system:time_end:</span><span class='ee-v'>1594367643000</span></li><li><span class='ee-k'>system:time_start:</span><span class='ee-v'>1594367643000</span></li><li><span class='ee-k'>totalSlices:</span><span class='ee-v'>5</span></li><li><label class='ee-shut'>transmitterReceiverPolarisation: ['HH', 'HV']<input type='checkbox' class='ee-toggle'></label><ul><li><span class='ee-k'>0:</span><span class='ee-v'>HH</span></li><li><span class='ee-k'>1:</span><span class='ee-v'>HV</span></li></ul></li></ul></li></ul></li></ul></li></ul></div><script>function toggleHeader() {\n",
       "    const parent = this.parentElement;\n",
       "    parent.className = parent.className === \"ee-open\" ? \"ee-shut\" : \"ee-open\";\n",
       "}\n",
       "\n",
       "for (let c of document.getElementsByClassName(\"ee-toggle\")) {\n",
       "    c.onclick = toggleHeader;\n",
       "}</script></div>"
      ],
      "text/plain": [
       "<ee.ee_list.List at 0x253794e3e80>"
      ]
     },
     "execution_count": 121,
     "metadata": {},
     "output_type": "execute_result"
    }
   ],
   "source": [
    "img_filtered.toList(15)"
   ]
  },
  {
   "cell_type": "code",
   "execution_count": 108,
   "metadata": {},
   "outputs": [
    {
     "data": {
      "text/html": [
       "\n",
       "            <style>\n",
       "                .geemap-dark {\n",
       "                    --jp-widgets-color: white;\n",
       "                    --jp-widgets-label-color: white;\n",
       "                    --jp-ui-font-color1: white;\n",
       "                    --jp-layout-color2: #454545;\n",
       "                    background-color: #383838;\n",
       "                }\n",
       "\n",
       "                .geemap-dark .jupyter-button {\n",
       "                    --jp-layout-color3: #383838;\n",
       "                }\n",
       "\n",
       "                .geemap-colab {\n",
       "                    background-color: var(--colab-primary-surface-color, white);\n",
       "                }\n",
       "\n",
       "                .geemap-colab .jupyter-button {\n",
       "                    --jp-layout-color3: var(--colab-primary-surface-color, white);\n",
       "                }\n",
       "            </style>\n",
       "            "
      ],
      "text/plain": [
       "<IPython.core.display.HTML object>"
      ]
     },
     "metadata": {},
     "output_type": "display_data"
    },
    {
     "data": {
      "application/vnd.jupyter.widget-view+json": {
       "model_id": "d66e49fc3f8b4ceaa02e2b6deecb6faa",
       "version_major": 2,
       "version_minor": 0
      },
      "text/plain": [
       "Map(center=[-75.90079447472479, -160.04981387376606], controls=(WidgetControl(options=['position', 'transparen…"
      ]
     },
     "metadata": {},
     "output_type": "display_data"
    }
   ],
   "source": [
    "Map = geemap.Map(center= [centroid[1], centroid[0]], zoom = 10)\n",
    "visParams1 = {\"bands\": ['HH'], \"min\": -30, \"max\": 0}\n",
    "Map.addLayer(img_filtered , visParams1, 'S1')\n",
    "Map.addLayer(aoi2, {'color': 'blue'}, 'centro2')\n",
    "Map"
   ]
  },
  {
   "cell_type": "code",
   "execution_count": 23,
   "metadata": {},
   "outputs": [
    {
     "data": {
      "text/html": [
       "\n",
       "            <style>\n",
       "                .geemap-dark {\n",
       "                    --jp-widgets-color: white;\n",
       "                    --jp-widgets-label-color: white;\n",
       "                    --jp-ui-font-color1: white;\n",
       "                    --jp-layout-color2: #454545;\n",
       "                    background-color: #383838;\n",
       "                }\n",
       "\n",
       "                .geemap-dark .jupyter-button {\n",
       "                    --jp-layout-color3: #383838;\n",
       "                }\n",
       "\n",
       "                .geemap-colab {\n",
       "                    background-color: var(--colab-primary-surface-color, white);\n",
       "                }\n",
       "\n",
       "                .geemap-colab .jupyter-button {\n",
       "                    --jp-layout-color3: var(--colab-primary-surface-color, white);\n",
       "                }\n",
       "            </style>\n",
       "            "
      ],
      "text/plain": [
       "<IPython.core.display.HTML object>"
      ]
     },
     "metadata": {},
     "output_type": "display_data"
    },
    {
     "data": {
      "text/plain": [
       "[-159.47547412219848, -76.01837958019227]"
      ]
     },
     "execution_count": 23,
     "metadata": {},
     "output_type": "execute_result"
    }
   ],
   "source": [
    "centroid"
   ]
  },
  {
   "cell_type": "code",
   "execution_count": 24,
   "metadata": {},
   "outputs": [
    {
     "data": {
      "text/html": [
       "\n",
       "            <style>\n",
       "                .geemap-dark {\n",
       "                    --jp-widgets-color: white;\n",
       "                    --jp-widgets-label-color: white;\n",
       "                    --jp-ui-font-color1: white;\n",
       "                    --jp-layout-color2: #454545;\n",
       "                    background-color: #383838;\n",
       "                }\n",
       "\n",
       "                .geemap-dark .jupyter-button {\n",
       "                    --jp-layout-color3: #383838;\n",
       "                }\n",
       "\n",
       "                .geemap-colab {\n",
       "                    background-color: var(--colab-primary-surface-color, white);\n",
       "                }\n",
       "\n",
       "                .geemap-colab .jupyter-button {\n",
       "                    --jp-layout-color3: var(--colab-primary-surface-color, white);\n",
       "                }\n",
       "            </style>\n",
       "            "
      ],
      "text/plain": [
       "<IPython.core.display.HTML object>"
      ]
     },
     "metadata": {},
     "output_type": "display_data"
    },
    {
     "data": {
      "application/vnd.jupyter.widget-view+json": {
       "model_id": "6402c02501404e4ab967150e543f3c0e",
       "version_major": 2,
       "version_minor": 0
      },
      "text/plain": [
       "Map(center=[-76.01826718657878, -159.47522377565502], controls=(WidgetControl(options=['position', 'transparen…"
      ]
     },
     "metadata": {},
     "output_type": "display_data"
    }
   ],
   "source": [
    "fecha_inicio = '2020-06-09'\n",
    "fecha_fin = '2020-06-11'\n",
    "\n",
    "center = [-160.049, -75.902]\n",
    "buf_dist = 40000\n",
    "aoi = ee.Geometry.Point(center).buffer(buf_dist)\n",
    "\n",
    "S1A = ee.ImageCollection(\"COPERNICUS/S1_GRD\")\\\n",
    ".filterDate(fecha_inicio, fecha_fin)\\\n",
    ".filterBounds(aoi)\\\n",
    ".filter(ee.Filter.listContains('transmitterReceiverPolarisation', \"HH\"))\n",
    "\n",
    "band = [\"HH\", \"angle\"]\n",
    "\n",
    "img = S1A.select(band).mean().clip(aoi)\n",
    "\n",
    "Map = geemap.Map(center= [centroid[1], centroid[0]], zoom = 10)\n",
    "visParams1 = {\"bands\": ['HH'], \"min\": -30, \"max\": 0}\n",
    "Map.addLayer(img, visParams1, 'S1')\n",
    "Map.addLayer(aoi, {'color': 'blue'}, 'centro')\n",
    "Map\n"
   ]
  },
  {
   "cell_type": "code",
   "execution_count": 21,
   "metadata": {},
   "outputs": [
    {
     "data": {
      "text/html": [
       "\n",
       "            <style>\n",
       "                .geemap-dark {\n",
       "                    --jp-widgets-color: white;\n",
       "                    --jp-widgets-label-color: white;\n",
       "                    --jp-ui-font-color1: white;\n",
       "                    --jp-layout-color2: #454545;\n",
       "                    background-color: #383838;\n",
       "                }\n",
       "\n",
       "                .geemap-dark .jupyter-button {\n",
       "                    --jp-layout-color3: #383838;\n",
       "                }\n",
       "\n",
       "                .geemap-colab {\n",
       "                    background-color: var(--colab-primary-surface-color, white);\n",
       "                }\n",
       "\n",
       "                .geemap-colab .jupyter-button {\n",
       "                    --jp-layout-color3: var(--colab-primary-surface-color, white);\n",
       "                }\n",
       "            </style>\n",
       "            "
      ],
      "text/plain": [
       "<IPython.core.display.HTML object>"
      ]
     },
     "metadata": {},
     "output_type": "display_data"
    },
    {
     "data": {
      "application/vnd.jupyter.widget-view+json": {
       "model_id": "c5599ba579a5412a8eec50d1e887500d",
       "version_major": 2,
       "version_minor": 0
      },
      "text/plain": [
       "Map(center=[-76.01826718657878, -159.47522377565502], controls=(WidgetControl(options=['position', 'transparen…"
      ]
     },
     "metadata": {},
     "output_type": "display_data"
    }
   ],
   "source": [
    "fecha_inicio = '2020-06-06'\n",
    "fecha_fin = '2020-06-08'\n",
    "\n",
    "center = [-159.47547412219848, -76.01837958019227]\n",
    "buf_dist = 50000\n",
    "aoi = ee.Geometry.Point(center).buffer(buf_dist)\n",
    "\n",
    "S1A = ee.ImageCollection(\"COPERNICUS/S1_GRD\")\\\n",
    ".filterDate(fecha_inicio, fecha_fin)\\\n",
    ".filterBounds(aoi)\\\n",
    ".filter(ee.Filter.listContains('transmitterReceiverPolarisation', \"HH\"))\n",
    "\n",
    "band = [\"HH\", \"angle\"]\n",
    "\n",
    "def contains_aoi_wrapper(image):\n",
    "    return contains_aoi(image, aoi)\n",
    "\n",
    "img = S1A.select(band)\n",
    "img_filtered = img.map(contains_aoi_wrapper)\n",
    "img_filtered = img_filtered.filter(ee.Filter.eq('contains_aoi', True))\n",
    "\n",
    "imageA = img_filtered.mean()\n",
    "\n",
    "Map = geemap.Map(center= [centroid[1], centroid[0]], zoom = 10)\n",
    "visParams1 = {\"bands\": ['HH'], \"min\": -30, \"max\": 0}\n",
    "Map.addLayer(imageA, visParams1, 'S1')\n",
    "Map.addLayer(aoi, {'color': 'blue'}, 'centro')\n",
    "Map"
   ]
  },
  {
   "cell_type": "code",
   "execution_count": 52,
   "metadata": {},
   "outputs": [
    {
     "data": {
      "text/html": [
       "\n",
       "            <style>\n",
       "                .geemap-dark {\n",
       "                    --jp-widgets-color: white;\n",
       "                    --jp-widgets-label-color: white;\n",
       "                    --jp-ui-font-color1: white;\n",
       "                    --jp-layout-color2: #454545;\n",
       "                    background-color: #383838;\n",
       "                }\n",
       "\n",
       "                .geemap-dark .jupyter-button {\n",
       "                    --jp-layout-color3: #383838;\n",
       "                }\n",
       "\n",
       "                .geemap-colab {\n",
       "                    background-color: var(--colab-primary-surface-color, white);\n",
       "                }\n",
       "\n",
       "                .geemap-colab .jupyter-button {\n",
       "                    --jp-layout-color3: var(--colab-primary-surface-color, white);\n",
       "                }\n",
       "            </style>\n",
       "            "
      ],
      "text/plain": [
       "<IPython.core.display.HTML object>"
      ]
     },
     "metadata": {},
     "output_type": "display_data"
    },
    {
     "data": {
      "text/html": [
       "<div><style>:root {\n",
       "  --font-color-primary: var(--jp-content-font-color0, rgba(0, 0, 0, 1));\n",
       "  --font-color-secondary: var(--jp-content-font-color2, rgba(0, 0, 0, 0.6));\n",
       "  --font-color-accent: rgba(123, 31, 162, 1);\n",
       "  --border-color: var(--jp-border-color2, #e0e0e0);\n",
       "  --background-color: var(--jp-layout-color0, white);\n",
       "  --background-color-row-even: var(--jp-layout-color1, white);\n",
       "  --background-color-row-odd: var(--jp-layout-color2, #eeeeee);\n",
       "}\n",
       "\n",
       "html[theme=\"dark\"],\n",
       "body[data-theme=\"dark\"],\n",
       "body.vscode-dark {\n",
       "  --font-color-primary: rgba(255, 255, 255, 1);\n",
       "  --font-color-secondary: rgba(255, 255, 255, 0.6);\n",
       "  --font-color-accent: rgb(173, 132, 190);\n",
       "  --border-color: #2e2e2e;\n",
       "  --background-color: #111111;\n",
       "  --background-color-row-even: #111111;\n",
       "  --background-color-row-odd: #313131;\n",
       "}\n",
       "\n",
       ".ee {\n",
       "  padding: 1em;\n",
       "  line-height: 1.5em;\n",
       "  min-width: 300px;\n",
       "  max-width: 1200px;\n",
       "  overflow-y: scroll;\n",
       "  max-height: 600px;\n",
       "  border: 1px solid var(--border-color);\n",
       "  font-family: monospace;\n",
       "}\n",
       "\n",
       ".ee li {\n",
       "  list-style-type: none;\n",
       "}\n",
       "\n",
       ".ee ul {\n",
       "  padding-left: 1.5em !important;\n",
       "  margin: 0;\n",
       "}\n",
       "\n",
       ".ee > ul {\n",
       "  padding-left: 0 !important;\n",
       "}\n",
       "\n",
       ".ee-open,\n",
       ".ee-shut {\n",
       "  color: var(--font-color-secondary);\n",
       "  cursor: pointer;\n",
       "  margin: 0;\n",
       "}\n",
       "\n",
       ".ee-open:hover,\n",
       ".ee-shut:hover {\n",
       "  color: var(--font-color-primary);\n",
       "}\n",
       "\n",
       ".ee-k {\n",
       "  color: var(--font-color-accent);\n",
       "  margin-right: 6px;\n",
       "}\n",
       "\n",
       ".ee-v {\n",
       "  color: var(--font-color-primary);\n",
       "}\n",
       "\n",
       ".ee-toggle {\n",
       "  display: none;\n",
       "}\n",
       "\n",
       ".ee-shut + ul {\n",
       "  display: none;\n",
       "}\n",
       "\n",
       ".ee-open + ul {\n",
       "  display: block;\n",
       "}\n",
       "\n",
       ".ee-shut::before {\n",
       "  display: inline-block;\n",
       "  content: \"▼\";\n",
       "  margin-right: 6px;\n",
       "  transform: rotate(-90deg);\n",
       "  transition: transform 0.2s;\n",
       "}\n",
       "\n",
       ".ee-open::before {\n",
       "  transform: rotate(0deg);\n",
       "  display: inline-block;\n",
       "  content: \"▼\";\n",
       "  margin-right: 6px;\n",
       "  transition: transform 0.2s;\n",
       "}\n",
       "</style><div class='ee'><ul><li><label class='ee-shut'>Image (2 bands)<input type='checkbox' class='ee-toggle'></label><ul><li><span class='ee-k'>type:</span><span class='ee-v'>Image</span></li><li><label class='ee-shut'>bands: List (2 elements)<input type='checkbox' class='ee-toggle'></label><ul><li><label class='ee-shut'>0: \"HH\", double, EPSG:4326, 3x2 px<input type='checkbox' class='ee-toggle'></label><ul><li><span class='ee-k'>id:</span><span class='ee-v'>HH</span></li><li><span class='ee-k'>crs:</span><span class='ee-v'>EPSG:4326</span></li><li><label class='ee-shut'>crs_transform: [1, 0, 0, 0, 1, 0]<input type='checkbox' class='ee-toggle'></label><ul><li><span class='ee-k'>0:</span><span class='ee-v'>1</span></li><li><span class='ee-k'>1:</span><span class='ee-v'>0</span></li><li><span class='ee-k'>2:</span><span class='ee-v'>0</span></li><li><span class='ee-k'>3:</span><span class='ee-v'>0</span></li><li><span class='ee-k'>4:</span><span class='ee-v'>1</span></li><li><span class='ee-k'>5:</span><span class='ee-v'>0</span></li></ul></li><li><label class='ee-shut'>data_type: double<input type='checkbox' class='ee-toggle'></label><ul><li><span class='ee-k'>type:</span><span class='ee-v'>PixelType</span></li><li><span class='ee-k'>precision:</span><span class='ee-v'>double</span></li></ul></li><li><label class='ee-shut'>dimensions: [3, 2]<input type='checkbox' class='ee-toggle'></label><ul><li><span class='ee-k'>0:</span><span class='ee-v'>3</span></li><li><span class='ee-k'>1:</span><span class='ee-v'>2</span></li></ul></li><li><label class='ee-shut'>origin: [-161, -77]<input type='checkbox' class='ee-toggle'></label><ul><li><span class='ee-k'>0:</span><span class='ee-v'>-161</span></li><li><span class='ee-k'>1:</span><span class='ee-v'>-77</span></li></ul></li></ul></li><li><label class='ee-shut'>1: \"angle\", float, EPSG:4326, 3x2 px<input type='checkbox' class='ee-toggle'></label><ul><li><span class='ee-k'>id:</span><span class='ee-v'>angle</span></li><li><span class='ee-k'>crs:</span><span class='ee-v'>EPSG:4326</span></li><li><label class='ee-shut'>crs_transform: [1, 0, 0, 0, 1, 0]<input type='checkbox' class='ee-toggle'></label><ul><li><span class='ee-k'>0:</span><span class='ee-v'>1</span></li><li><span class='ee-k'>1:</span><span class='ee-v'>0</span></li><li><span class='ee-k'>2:</span><span class='ee-v'>0</span></li><li><span class='ee-k'>3:</span><span class='ee-v'>0</span></li><li><span class='ee-k'>4:</span><span class='ee-v'>1</span></li><li><span class='ee-k'>5:</span><span class='ee-v'>0</span></li></ul></li><li><label class='ee-shut'>data_type: float<input type='checkbox' class='ee-toggle'></label><ul><li><span class='ee-k'>type:</span><span class='ee-v'>PixelType</span></li><li><span class='ee-k'>precision:</span><span class='ee-v'>float</span></li></ul></li><li><label class='ee-shut'>dimensions: [3, 2]<input type='checkbox' class='ee-toggle'></label><ul><li><span class='ee-k'>0:</span><span class='ee-v'>3</span></li><li><span class='ee-k'>1:</span><span class='ee-v'>2</span></li></ul></li><li><label class='ee-shut'>origin: [-161, -77]<input type='checkbox' class='ee-toggle'></label><ul><li><span class='ee-k'>0:</span><span class='ee-v'>-161</span></li><li><span class='ee-k'>1:</span><span class='ee-v'>-77</span></li></ul></li></ul></li></ul></li><li><label class='ee-shut'>properties: Object (1 property)<input type='checkbox' class='ee-toggle'></label><ul><li><label class='ee-shut'>system:footprint: Polygon (24 vertices)<input type='checkbox' class='ee-toggle'></label><ul><li><span class='ee-k'>type:</span><span class='ee-v'>Polygon</span></li><li><label class='ee-shut'>coordinates: List (1 element)<input type='checkbox' class='ee-toggle'></label><ul><li><label class='ee-shut'>0: List (24 elements)<input type='checkbox' class='ee-toggle'></label><ul><li><label class='ee-shut'>0: [-159.47547412219848, -75.83840226116264]<input type='checkbox' class='ee-toggle'></label><ul><li><span class='ee-k'>0:</span><span class='ee-v'>-159.47547412219848</span></li><li><span class='ee-k'>1:</span><span class='ee-v'>-75.83840226116264</span></li></ul></li><li><label class='ee-shut'>1: [-159.6810459907939, -75.84547786993953]<input type='checkbox' class='ee-toggle'></label><ul><li><span class='ee-k'>0:</span><span class='ee-v'>-159.6810459907939</span></li><li><span class='ee-k'>1:</span><span class='ee-v'>-75.84547786993953</span></li></ul></li><li><label class='ee-shut'>2: [-159.87082255725306, -75.86616134070778]<input type='checkbox' class='ee-toggle'></label><ul><li><span class='ee-k'>0:</span><span class='ee-v'>-159.87082255725306</span></li><li><span class='ee-k'>1:</span><span class='ee-v'>-75.86616134070778</span></li></ul></li><li><label class='ee-shut'>3: [-160.0300948235321, -75.89885991743121]<input type='checkbox' class='ee-toggle'></label><ul><li><span class='ee-k'>0:</span><span class='ee-v'>-160.0300948235321</span></li><li><span class='ee-k'>1:</span><span class='ee-v'>-75.89885991743121</span></li></ul></li><li><label class='ee-shut'>4: [-160.14628914347676, -75.94104209091195]<input type='checkbox' class='ee-toggle'></label><ul><li><span class='ee-k'>0:</span><span class='ee-v'>-160.14628914347676</span></li><li><span class='ee-k'>1:</span><span class='ee-v'>-75.94104209091195</span></li></ul></li><li><label class='ee-shut'>5: [-160.20993202709857, -75.98941741215776]<input type='checkbox' class='ee-toggle'></label><ul><li><span class='ee-k'>0:</span><span class='ee-v'>-160.20993202709857</span></li><li><span class='ee-k'>1:</span><span class='ee-v'>-75.98941741215776</span></li></ul></li><li><label class='ee-shut'>6: [-160.21546735467976, -76.04017755664356]<input type='checkbox' class='ee-toggle'></label><ul><li><span class='ee-k'>0:</span><span class='ee-v'>-160.21546735467976</span></li><li><span class='ee-k'>1:</span><span class='ee-v'>-76.04017755664356</span></li></ul></li><li><label class='ee-shut'>7: [-160.16184582073373, -76.08928586073817]<input type='checkbox' class='ee-toggle'></label><ul><li><span class='ee-k'>0:</span><span class='ee-v'>-160.16184582073373</span></li><li><span class='ee-k'>1:</span><span class='ee-v'>-76.08928586073817</span></li></ul></li><li><label class='ee-shut'>8: [-160.05279773769232, -76.13279678155133]<input type='checkbox' class='ee-toggle'></label><ul><li><span class='ee-k'>0:</span><span class='ee-v'>-160.05279773769232</span></li><li><span class='ee-k'>1:</span><span class='ee-v'>-76.13279678155133</span></li></ul></li><li><label class='ee-shut'>9: [-159.8967090473178, -76.16718087710915]<input type='checkbox' class='ee-toggle'></label><ul><li><span class='ee-k'>0:</span><span class='ee-v'>-159.8967090473178</span></li><li><span class='ee-k'>1:</span><span class='ee-v'>-76.16718087710915</span></li></ul></li><li><label class='ee-shut'>10: [-159.70605309491614, -76.18962637116347]<input type='checkbox' class='ee-toggle'></label><ul><li><span class='ee-k'>0:</span><span class='ee-v'>-159.70605309491614</span></li><li><span class='ee-k'>1:</span><span class='ee-v'>-76.18962637116347</span></li></ul></li><li><label class='ee-shut'>11: [-159.49638724686116, -76.19828685158141]<input type='checkbox' class='ee-toggle'></label><ul><li><span class='ee-k'>0:</span><span class='ee-v'>-159.49638724686116</span></li><li><span class='ee-k'>1:</span><span class='ee-v'>-76.19828685158141</span></li></ul></li><li><label class='ee-shut'>12: [-159.28499413351952, -76.19244756570609]<input type='checkbox' class='ee-toggle'></label><ul><li><span class='ee-k'>0:</span><span class='ee-v'>-159.28499413351952</span></li><li><span class='ee-k'>1:</span><span class='ee-v'>-76.19244756570609</span></li></ul></li><li><label class='ee-shut'>13: [-159.0893141772286, -76.17259057448578]<input type='checkbox' class='ee-toggle'></label><ul><li><span class='ee-k'>0:</span><span class='ee-v'>-159.0893141772286</span></li><li><span class='ee-k'>1:</span><span class='ee-v'>-76.17259057448578</span></li></ul></li><li><label class='ee-shut'>14: [-158.92535868079594, -76.14035076165788]<input type='checkbox' class='ee-toggle'></label><ul><li><span class='ee-k'>0:</span><span class='ee-v'>-158.92535868079594</span></li><li><span class='ee-k'>1:</span><span class='ee-v'>-76.14035076165788</span></li></ul></li><li><label class='ee-shut'>15: [-158.80629683833556, -76.09836811854309]<input type='checkbox' class='ee-toggle'></label><ul><li><span class='ee-k'>0:</span><span class='ee-v'>-158.80629683833556</span></li><li><span class='ee-k'>1:</span><span class='ee-v'>-76.09836811854309</span></li></ul></li><li><label class='ee-shut'>16: [-158.74137417556236, -76.05005399916722]<input type='checkbox' class='ee-toggle'></label><ul><li><span class='ee-k'>0:</span><span class='ee-v'>-158.74137417556236</span></li><li><span class='ee-k'>1:</span><span class='ee-v'>-76.05005399916722</span></li></ul></li><li><label class='ee-shut'>17: [-158.7352562605118, -75.99929773077056]<input type='checkbox' class='ee-toggle'></label><ul><li><span class='ee-k'>0:</span><span class='ee-v'>-158.7352562605118</span></li><li><span class='ee-k'>1:</span><span class='ee-v'>-75.99929773077056</span></li></ul></li><li><label class='ee-shut'>18: [-158.78781996775118, -75.95014384052088]<input type='checkbox' class='ee-toggle'></label><ul><li><span class='ee-k'>0:</span><span class='ee-v'>-158.78781996775118</span></li><li><span class='ee-k'>1:</span><span class='ee-v'>-75.95014384052088</span></li></ul></li><li><label class='ee-shut'>19: [-158.89435420883328, -75.90646942119518]<input type='checkbox' class='ee-toggle'></label><ul><li><span class='ee-k'>0:</span><span class='ee-v'>-158.89435420883328</span></li><li><span class='ee-k'>1:</span><span class='ee-v'>-75.90646942119518</span></li></ul></li><li><label class='ee-shut'>20: [-159.04609437971934, -75.871687082828]<input type='checkbox' class='ee-toggle'></label><ul><li><span class='ee-k'>0:</span><span class='ee-v'>-159.04609437971934</span></li><li><span class='ee-k'>1:</span><span class='ee-v'>-75.871687082828</span></li></ul></li><li><label class='ee-shut'>21: [-159.23100172196783, -75.84849321597414]<input type='checkbox' class='ee-toggle'></label><ul><li><span class='ee-k'>0:</span><span class='ee-v'>-159.23100172196783</span></li><li><span class='ee-k'>1:</span><span class='ee-v'>-75.84849321597414</span></li></ul></li><li><label class='ee-shut'>22: [-159.43470477602992, -75.83867542083831]<input type='checkbox' class='ee-toggle'></label><ul><li><span class='ee-k'>0:</span><span class='ee-v'>-159.43470477602992</span></li><li><span class='ee-k'>1:</span><span class='ee-v'>-75.83867542083831</span></li></ul></li><li><label class='ee-shut'>23: [-159.47547412219848, -75.83840226116264]<input type='checkbox' class='ee-toggle'></label><ul><li><span class='ee-k'>0:</span><span class='ee-v'>-159.47547412219848</span></li><li><span class='ee-k'>1:</span><span class='ee-v'>-75.83840226116264</span></li></ul></li></ul></li></ul></li></ul></li></ul></li></ul></li></ul></div><script>function toggleHeader() {\n",
       "    const parent = this.parentElement;\n",
       "    parent.className = parent.className === \"ee-open\" ? \"ee-shut\" : \"ee-open\";\n",
       "}\n",
       "\n",
       "for (let c of document.getElementsByClassName(\"ee-toggle\")) {\n",
       "    c.onclick = toggleHeader;\n",
       "}</script></div>"
      ],
      "text/plain": [
       "<ee.image.Image at 0x1f6a85353a0>"
      ]
     },
     "execution_count": 52,
     "metadata": {},
     "output_type": "execute_result"
    }
   ],
   "source": [
    "img"
   ]
  },
  {
   "cell_type": "code",
   "execution_count": 53,
   "metadata": {},
   "outputs": [
    {
     "data": {
      "text/html": [
       "\n",
       "            <style>\n",
       "                .geemap-dark {\n",
       "                    --jp-widgets-color: white;\n",
       "                    --jp-widgets-label-color: white;\n",
       "                    --jp-ui-font-color1: white;\n",
       "                    --jp-layout-color2: #454545;\n",
       "                    background-color: #383838;\n",
       "                }\n",
       "\n",
       "                .geemap-dark .jupyter-button {\n",
       "                    --jp-layout-color3: #383838;\n",
       "                }\n",
       "\n",
       "                .geemap-colab {\n",
       "                    background-color: var(--colab-primary-surface-color, white);\n",
       "                }\n",
       "\n",
       "                .geemap-colab .jupyter-button {\n",
       "                    --jp-layout-color3: var(--colab-primary-surface-color, white);\n",
       "                }\n",
       "            </style>\n",
       "            "
      ],
      "text/plain": [
       "<IPython.core.display.HTML object>"
      ]
     },
     "metadata": {},
     "output_type": "display_data"
    },
    {
     "data": {
      "text/html": [
       "<div><style>:root {\n",
       "  --font-color-primary: var(--jp-content-font-color0, rgba(0, 0, 0, 1));\n",
       "  --font-color-secondary: var(--jp-content-font-color2, rgba(0, 0, 0, 0.6));\n",
       "  --font-color-accent: rgba(123, 31, 162, 1);\n",
       "  --border-color: var(--jp-border-color2, #e0e0e0);\n",
       "  --background-color: var(--jp-layout-color0, white);\n",
       "  --background-color-row-even: var(--jp-layout-color1, white);\n",
       "  --background-color-row-odd: var(--jp-layout-color2, #eeeeee);\n",
       "}\n",
       "\n",
       "html[theme=\"dark\"],\n",
       "body[data-theme=\"dark\"],\n",
       "body.vscode-dark {\n",
       "  --font-color-primary: rgba(255, 255, 255, 1);\n",
       "  --font-color-secondary: rgba(255, 255, 255, 0.6);\n",
       "  --font-color-accent: rgb(173, 132, 190);\n",
       "  --border-color: #2e2e2e;\n",
       "  --background-color: #111111;\n",
       "  --background-color-row-even: #111111;\n",
       "  --background-color-row-odd: #313131;\n",
       "}\n",
       "\n",
       ".ee {\n",
       "  padding: 1em;\n",
       "  line-height: 1.5em;\n",
       "  min-width: 300px;\n",
       "  max-width: 1200px;\n",
       "  overflow-y: scroll;\n",
       "  max-height: 600px;\n",
       "  border: 1px solid var(--border-color);\n",
       "  font-family: monospace;\n",
       "}\n",
       "\n",
       ".ee li {\n",
       "  list-style-type: none;\n",
       "}\n",
       "\n",
       ".ee ul {\n",
       "  padding-left: 1.5em !important;\n",
       "  margin: 0;\n",
       "}\n",
       "\n",
       ".ee > ul {\n",
       "  padding-left: 0 !important;\n",
       "}\n",
       "\n",
       ".ee-open,\n",
       ".ee-shut {\n",
       "  color: var(--font-color-secondary);\n",
       "  cursor: pointer;\n",
       "  margin: 0;\n",
       "}\n",
       "\n",
       ".ee-open:hover,\n",
       ".ee-shut:hover {\n",
       "  color: var(--font-color-primary);\n",
       "}\n",
       "\n",
       ".ee-k {\n",
       "  color: var(--font-color-accent);\n",
       "  margin-right: 6px;\n",
       "}\n",
       "\n",
       ".ee-v {\n",
       "  color: var(--font-color-primary);\n",
       "}\n",
       "\n",
       ".ee-toggle {\n",
       "  display: none;\n",
       "}\n",
       "\n",
       ".ee-shut + ul {\n",
       "  display: none;\n",
       "}\n",
       "\n",
       ".ee-open + ul {\n",
       "  display: block;\n",
       "}\n",
       "\n",
       ".ee-shut::before {\n",
       "  display: inline-block;\n",
       "  content: \"▼\";\n",
       "  margin-right: 6px;\n",
       "  transform: rotate(-90deg);\n",
       "  transition: transform 0.2s;\n",
       "}\n",
       "\n",
       ".ee-open::before {\n",
       "  transform: rotate(0deg);\n",
       "  display: inline-block;\n",
       "  content: \"▼\";\n",
       "  margin-right: 6px;\n",
       "  transition: transform 0.2s;\n",
       "}\n",
       "</style><div class='ee'><ul><li><label class='ee-shut'>Image (2 bands)<input type='checkbox' class='ee-toggle'></label><ul><li><span class='ee-k'>type:</span><span class='ee-v'>Image</span></li><li><label class='ee-shut'>bands: List (2 elements)<input type='checkbox' class='ee-toggle'></label><ul><li><label class='ee-shut'>0: \"HH\", double, EPSG:4326, 3x2 px<input type='checkbox' class='ee-toggle'></label><ul><li><span class='ee-k'>id:</span><span class='ee-v'>HH</span></li><li><span class='ee-k'>crs:</span><span class='ee-v'>EPSG:4326</span></li><li><label class='ee-shut'>crs_transform: [1, 0, 0, 0, 1, 0]<input type='checkbox' class='ee-toggle'></label><ul><li><span class='ee-k'>0:</span><span class='ee-v'>1</span></li><li><span class='ee-k'>1:</span><span class='ee-v'>0</span></li><li><span class='ee-k'>2:</span><span class='ee-v'>0</span></li><li><span class='ee-k'>3:</span><span class='ee-v'>0</span></li><li><span class='ee-k'>4:</span><span class='ee-v'>1</span></li><li><span class='ee-k'>5:</span><span class='ee-v'>0</span></li></ul></li><li><label class='ee-shut'>data_type: double<input type='checkbox' class='ee-toggle'></label><ul><li><span class='ee-k'>type:</span><span class='ee-v'>PixelType</span></li><li><span class='ee-k'>precision:</span><span class='ee-v'>double</span></li></ul></li><li><label class='ee-shut'>dimensions: [3, 2]<input type='checkbox' class='ee-toggle'></label><ul><li><span class='ee-k'>0:</span><span class='ee-v'>3</span></li><li><span class='ee-k'>1:</span><span class='ee-v'>2</span></li></ul></li><li><label class='ee-shut'>origin: [-161, -77]<input type='checkbox' class='ee-toggle'></label><ul><li><span class='ee-k'>0:</span><span class='ee-v'>-161</span></li><li><span class='ee-k'>1:</span><span class='ee-v'>-77</span></li></ul></li></ul></li><li><label class='ee-shut'>1: \"angle\", float, EPSG:4326, 3x2 px<input type='checkbox' class='ee-toggle'></label><ul><li><span class='ee-k'>id:</span><span class='ee-v'>angle</span></li><li><span class='ee-k'>crs:</span><span class='ee-v'>EPSG:4326</span></li><li><label class='ee-shut'>crs_transform: [1, 0, 0, 0, 1, 0]<input type='checkbox' class='ee-toggle'></label><ul><li><span class='ee-k'>0:</span><span class='ee-v'>1</span></li><li><span class='ee-k'>1:</span><span class='ee-v'>0</span></li><li><span class='ee-k'>2:</span><span class='ee-v'>0</span></li><li><span class='ee-k'>3:</span><span class='ee-v'>0</span></li><li><span class='ee-k'>4:</span><span class='ee-v'>1</span></li><li><span class='ee-k'>5:</span><span class='ee-v'>0</span></li></ul></li><li><label class='ee-shut'>data_type: float<input type='checkbox' class='ee-toggle'></label><ul><li><span class='ee-k'>type:</span><span class='ee-v'>PixelType</span></li><li><span class='ee-k'>precision:</span><span class='ee-v'>float</span></li></ul></li><li><label class='ee-shut'>dimensions: [3, 2]<input type='checkbox' class='ee-toggle'></label><ul><li><span class='ee-k'>0:</span><span class='ee-v'>3</span></li><li><span class='ee-k'>1:</span><span class='ee-v'>2</span></li></ul></li><li><label class='ee-shut'>origin: [-161, -77]<input type='checkbox' class='ee-toggle'></label><ul><li><span class='ee-k'>0:</span><span class='ee-v'>-161</span></li><li><span class='ee-k'>1:</span><span class='ee-v'>-77</span></li></ul></li></ul></li></ul></li><li><label class='ee-shut'>properties: Object (1 property)<input type='checkbox' class='ee-toggle'></label><ul><li><label class='ee-shut'>system:footprint: Polygon (24 vertices)<input type='checkbox' class='ee-toggle'></label><ul><li><span class='ee-k'>type:</span><span class='ee-v'>Polygon</span></li><li><label class='ee-shut'>coordinates: List (1 element)<input type='checkbox' class='ee-toggle'></label><ul><li><label class='ee-shut'>0: List (24 elements)<input type='checkbox' class='ee-toggle'></label><ul><li><label class='ee-shut'>0: [-159.47547412219848, -75.83840226116264]<input type='checkbox' class='ee-toggle'></label><ul><li><span class='ee-k'>0:</span><span class='ee-v'>-159.47547412219848</span></li><li><span class='ee-k'>1:</span><span class='ee-v'>-75.83840226116264</span></li></ul></li><li><label class='ee-shut'>1: [-159.6810459907939, -75.84547786993953]<input type='checkbox' class='ee-toggle'></label><ul><li><span class='ee-k'>0:</span><span class='ee-v'>-159.6810459907939</span></li><li><span class='ee-k'>1:</span><span class='ee-v'>-75.84547786993953</span></li></ul></li><li><label class='ee-shut'>2: [-159.87082255725306, -75.86616134070778]<input type='checkbox' class='ee-toggle'></label><ul><li><span class='ee-k'>0:</span><span class='ee-v'>-159.87082255725306</span></li><li><span class='ee-k'>1:</span><span class='ee-v'>-75.86616134070778</span></li></ul></li><li><label class='ee-shut'>3: [-160.0300948235321, -75.89885991743121]<input type='checkbox' class='ee-toggle'></label><ul><li><span class='ee-k'>0:</span><span class='ee-v'>-160.0300948235321</span></li><li><span class='ee-k'>1:</span><span class='ee-v'>-75.89885991743121</span></li></ul></li><li><label class='ee-shut'>4: [-160.14628914347676, -75.94104209091195]<input type='checkbox' class='ee-toggle'></label><ul><li><span class='ee-k'>0:</span><span class='ee-v'>-160.14628914347676</span></li><li><span class='ee-k'>1:</span><span class='ee-v'>-75.94104209091195</span></li></ul></li><li><label class='ee-shut'>5: [-160.20993202709857, -75.98941741215776]<input type='checkbox' class='ee-toggle'></label><ul><li><span class='ee-k'>0:</span><span class='ee-v'>-160.20993202709857</span></li><li><span class='ee-k'>1:</span><span class='ee-v'>-75.98941741215776</span></li></ul></li><li><label class='ee-shut'>6: [-160.21546735467976, -76.04017755664356]<input type='checkbox' class='ee-toggle'></label><ul><li><span class='ee-k'>0:</span><span class='ee-v'>-160.21546735467976</span></li><li><span class='ee-k'>1:</span><span class='ee-v'>-76.04017755664356</span></li></ul></li><li><label class='ee-shut'>7: [-160.16184582073373, -76.08928586073817]<input type='checkbox' class='ee-toggle'></label><ul><li><span class='ee-k'>0:</span><span class='ee-v'>-160.16184582073373</span></li><li><span class='ee-k'>1:</span><span class='ee-v'>-76.08928586073817</span></li></ul></li><li><label class='ee-shut'>8: [-160.05279773769232, -76.13279678155133]<input type='checkbox' class='ee-toggle'></label><ul><li><span class='ee-k'>0:</span><span class='ee-v'>-160.05279773769232</span></li><li><span class='ee-k'>1:</span><span class='ee-v'>-76.13279678155133</span></li></ul></li><li><label class='ee-shut'>9: [-159.8967090473178, -76.16718087710915]<input type='checkbox' class='ee-toggle'></label><ul><li><span class='ee-k'>0:</span><span class='ee-v'>-159.8967090473178</span></li><li><span class='ee-k'>1:</span><span class='ee-v'>-76.16718087710915</span></li></ul></li><li><label class='ee-shut'>10: [-159.70605309491614, -76.18962637116347]<input type='checkbox' class='ee-toggle'></label><ul><li><span class='ee-k'>0:</span><span class='ee-v'>-159.70605309491614</span></li><li><span class='ee-k'>1:</span><span class='ee-v'>-76.18962637116347</span></li></ul></li><li><label class='ee-shut'>11: [-159.49638724686116, -76.19828685158141]<input type='checkbox' class='ee-toggle'></label><ul><li><span class='ee-k'>0:</span><span class='ee-v'>-159.49638724686116</span></li><li><span class='ee-k'>1:</span><span class='ee-v'>-76.19828685158141</span></li></ul></li><li><label class='ee-shut'>12: [-159.28499413351952, -76.19244756570609]<input type='checkbox' class='ee-toggle'></label><ul><li><span class='ee-k'>0:</span><span class='ee-v'>-159.28499413351952</span></li><li><span class='ee-k'>1:</span><span class='ee-v'>-76.19244756570609</span></li></ul></li><li><label class='ee-shut'>13: [-159.0893141772286, -76.17259057448578]<input type='checkbox' class='ee-toggle'></label><ul><li><span class='ee-k'>0:</span><span class='ee-v'>-159.0893141772286</span></li><li><span class='ee-k'>1:</span><span class='ee-v'>-76.17259057448578</span></li></ul></li><li><label class='ee-shut'>14: [-158.92535868079594, -76.14035076165788]<input type='checkbox' class='ee-toggle'></label><ul><li><span class='ee-k'>0:</span><span class='ee-v'>-158.92535868079594</span></li><li><span class='ee-k'>1:</span><span class='ee-v'>-76.14035076165788</span></li></ul></li><li><label class='ee-shut'>15: [-158.80629683833556, -76.09836811854309]<input type='checkbox' class='ee-toggle'></label><ul><li><span class='ee-k'>0:</span><span class='ee-v'>-158.80629683833556</span></li><li><span class='ee-k'>1:</span><span class='ee-v'>-76.09836811854309</span></li></ul></li><li><label class='ee-shut'>16: [-158.74137417556236, -76.05005399916722]<input type='checkbox' class='ee-toggle'></label><ul><li><span class='ee-k'>0:</span><span class='ee-v'>-158.74137417556236</span></li><li><span class='ee-k'>1:</span><span class='ee-v'>-76.05005399916722</span></li></ul></li><li><label class='ee-shut'>17: [-158.7352562605118, -75.99929773077056]<input type='checkbox' class='ee-toggle'></label><ul><li><span class='ee-k'>0:</span><span class='ee-v'>-158.7352562605118</span></li><li><span class='ee-k'>1:</span><span class='ee-v'>-75.99929773077056</span></li></ul></li><li><label class='ee-shut'>18: [-158.78781996775118, -75.95014384052088]<input type='checkbox' class='ee-toggle'></label><ul><li><span class='ee-k'>0:</span><span class='ee-v'>-158.78781996775118</span></li><li><span class='ee-k'>1:</span><span class='ee-v'>-75.95014384052088</span></li></ul></li><li><label class='ee-shut'>19: [-158.89435420883328, -75.90646942119518]<input type='checkbox' class='ee-toggle'></label><ul><li><span class='ee-k'>0:</span><span class='ee-v'>-158.89435420883328</span></li><li><span class='ee-k'>1:</span><span class='ee-v'>-75.90646942119518</span></li></ul></li><li><label class='ee-shut'>20: [-159.04609437971934, -75.871687082828]<input type='checkbox' class='ee-toggle'></label><ul><li><span class='ee-k'>0:</span><span class='ee-v'>-159.04609437971934</span></li><li><span class='ee-k'>1:</span><span class='ee-v'>-75.871687082828</span></li></ul></li><li><label class='ee-shut'>21: [-159.23100172196783, -75.84849321597414]<input type='checkbox' class='ee-toggle'></label><ul><li><span class='ee-k'>0:</span><span class='ee-v'>-159.23100172196783</span></li><li><span class='ee-k'>1:</span><span class='ee-v'>-75.84849321597414</span></li></ul></li><li><label class='ee-shut'>22: [-159.43470477602992, -75.83867542083831]<input type='checkbox' class='ee-toggle'></label><ul><li><span class='ee-k'>0:</span><span class='ee-v'>-159.43470477602992</span></li><li><span class='ee-k'>1:</span><span class='ee-v'>-75.83867542083831</span></li></ul></li><li><label class='ee-shut'>23: [-159.47547412219848, -75.83840226116264]<input type='checkbox' class='ee-toggle'></label><ul><li><span class='ee-k'>0:</span><span class='ee-v'>-159.47547412219848</span></li><li><span class='ee-k'>1:</span><span class='ee-v'>-75.83840226116264</span></li></ul></li></ul></li></ul></li></ul></li></ul></li></ul></li></ul></div><script>function toggleHeader() {\n",
       "    const parent = this.parentElement;\n",
       "    parent.className = parent.className === \"ee-open\" ? \"ee-shut\" : \"ee-open\";\n",
       "}\n",
       "\n",
       "for (let c of document.getElementsByClassName(\"ee-toggle\")) {\n",
       "    c.onclick = toggleHeader;\n",
       "}</script></div>"
      ],
      "text/plain": [
       "<ee.image.Image at 0x1f6a8581370>"
      ]
     },
     "execution_count": 53,
     "metadata": {},
     "output_type": "execute_result"
    }
   ],
   "source": [
    "imageA"
   ]
  },
  {
   "cell_type": "code",
   "execution_count": 41,
   "metadata": {},
   "outputs": [
    {
     "data": {
      "text/html": [
       "\n",
       "            <style>\n",
       "                .geemap-dark {\n",
       "                    --jp-widgets-color: white;\n",
       "                    --jp-widgets-label-color: white;\n",
       "                    --jp-ui-font-color1: white;\n",
       "                    --jp-layout-color2: #454545;\n",
       "                    background-color: #383838;\n",
       "                }\n",
       "\n",
       "                .geemap-dark .jupyter-button {\n",
       "                    --jp-layout-color3: #383838;\n",
       "                }\n",
       "\n",
       "                .geemap-colab {\n",
       "                    background-color: var(--colab-primary-surface-color, white);\n",
       "                }\n",
       "\n",
       "                .geemap-colab .jupyter-button {\n",
       "                    --jp-layout-color3: var(--colab-primary-surface-color, white);\n",
       "                }\n",
       "            </style>\n",
       "            "
      ],
      "text/plain": [
       "<IPython.core.display.HTML object>"
      ]
     },
     "metadata": {},
     "output_type": "display_data"
    }
   ],
   "source": [
    "kernel = ee.Kernel.gaussian(3)\n",
    "img1 = imageA.convolve(kernel)\n",
    "img = img1.select(['HH', 'angle'], ['HH', 'angle'])"
   ]
  },
  {
   "cell_type": "code",
   "execution_count": 106,
   "metadata": {},
   "outputs": [
    {
     "data": {
      "text/html": [
       "\n",
       "            <style>\n",
       "                .geemap-dark {\n",
       "                    --jp-widgets-color: white;\n",
       "                    --jp-widgets-label-color: white;\n",
       "                    --jp-ui-font-color1: white;\n",
       "                    --jp-layout-color2: #454545;\n",
       "                    background-color: #383838;\n",
       "                }\n",
       "\n",
       "                .geemap-dark .jupyter-button {\n",
       "                    --jp-layout-color3: #383838;\n",
       "                }\n",
       "\n",
       "                .geemap-colab {\n",
       "                    background-color: var(--colab-primary-surface-color, white);\n",
       "                }\n",
       "\n",
       "                .geemap-colab .jupyter-button {\n",
       "                    --jp-layout-color3: var(--colab-primary-surface-color, white);\n",
       "                }\n",
       "            </style>\n",
       "            "
      ],
      "text/plain": [
       "<IPython.core.display.HTML object>"
      ]
     },
     "metadata": {},
     "output_type": "display_data"
    },
    {
     "data": {
      "application/vnd.jupyter.widget-view+json": {
       "model_id": "4f55a814b6f0486588f41a31ab324560",
       "version_major": 2,
       "version_minor": 0
      },
      "text/plain": [
       "Map(center=[-76.01826718657878, -159.47522377565502], controls=(WidgetControl(options=['position', 'transparen…"
      ]
     },
     "metadata": {},
     "output_type": "display_data"
    }
   ],
   "source": [
    "fecha_inicio = '2020-06-06'\n",
    "fecha_fin = '2020-06-10'\n",
    "\n",
    "center = [-159.47547412219848, -76.01837958019227]\n",
    "buf_dist = 50000\n",
    "aoi = ee.Geometry.Point(center).buffer(buf_dist)\n",
    "\n",
    "S1A = ee.ImageCollection(\"COPERNICUS/S1_GRD\")\\\n",
    ".filterDate(fecha_inicio, fecha_fin)\\\n",
    ".filter(ee.Filter.listContains('transmitterReceiverPolarisation', \"HH\"))\n",
    "\n",
    "band = [\"HH\", \"angle\"]\n",
    "\n",
    "img = S1A.select(band).mean()\n",
    "\n",
    "Map = geemap.Map(center= [centroid[1], centroid[0]], zoom = 10)\n",
    "visParams1 = {\"bands\": ['HH'], \"min\": -30, \"max\": 0}\n",
    "Map.addLayer(img, visParams1, 'S1')\n",
    "Map.addLayer(aoi, {'color': 'blue'}, 'centro')\n",
    "Map"
   ]
  },
  {
   "cell_type": "code",
   "execution_count": null,
   "metadata": {},
   "outputs": [],
   "source": []
  },
  {
   "cell_type": "code",
   "execution_count": null,
   "metadata": {},
   "outputs": [],
   "source": []
  },
  {
   "cell_type": "code",
   "execution_count": null,
   "metadata": {},
   "outputs": [],
   "source": []
  },
  {
   "cell_type": "code",
   "execution_count": null,
   "metadata": {},
   "outputs": [],
   "source": []
  },
  {
   "cell_type": "code",
   "execution_count": null,
   "metadata": {},
   "outputs": [],
   "source": []
  },
  {
   "cell_type": "code",
   "execution_count": null,
   "metadata": {},
   "outputs": [],
   "source": []
  },
  {
   "cell_type": "code",
   "execution_count": null,
   "metadata": {},
   "outputs": [],
   "source": []
  },
  {
   "cell_type": "markdown",
   "metadata": {},
   "source": [
    "-2021-09-16\t"
   ]
  },
  {
   "cell_type": "code",
   "execution_count": 71,
   "metadata": {},
   "outputs": [
    {
     "data": {
      "text/html": [
       "\n",
       "            <style>\n",
       "                .geemap-dark {\n",
       "                    --jp-widgets-color: white;\n",
       "                    --jp-widgets-label-color: white;\n",
       "                    --jp-ui-font-color1: white;\n",
       "                    --jp-layout-color2: #454545;\n",
       "                    background-color: #383838;\n",
       "                }\n",
       "\n",
       "                .geemap-dark .jupyter-button {\n",
       "                    --jp-layout-color3: #383838;\n",
       "                }\n",
       "\n",
       "                .geemap-colab {\n",
       "                    background-color: var(--colab-primary-surface-color, white);\n",
       "                }\n",
       "\n",
       "                .geemap-colab .jupyter-button {\n",
       "                    --jp-layout-color3: var(--colab-primary-surface-color, white);\n",
       "                }\n",
       "            </style>\n",
       "            "
      ],
      "text/plain": [
       "<IPython.core.display.HTML object>"
      ]
     },
     "metadata": {},
     "output_type": "display_data"
    },
    {
     "data": {
      "text/html": [
       "<div>\n",
       "<style scoped>\n",
       "    .dataframe tbody tr th:only-of-type {\n",
       "        vertical-align: middle;\n",
       "    }\n",
       "\n",
       "    .dataframe tbody tr th {\n",
       "        vertical-align: top;\n",
       "    }\n",
       "\n",
       "    .dataframe thead th {\n",
       "        text-align: right;\n",
       "    }\n",
       "</style>\n",
       "<table border=\"1\" class=\"dataframe\">\n",
       "  <thead>\n",
       "    <tr style=\"text-align: right;\">\n",
       "      <th></th>\n",
       "      <th>fecha</th>\n",
       "      <th>similaridad</th>\n",
       "      <th>area</th>\n",
       "      <th>centroide</th>\n",
       "      <th>poligono</th>\n",
       "      <th>source</th>\n",
       "      <th>covers</th>\n",
       "    </tr>\n",
       "  </thead>\n",
       "  <tbody>\n",
       "    <tr>\n",
       "      <th>0</th>\n",
       "      <td>2020-06-01</td>\n",
       "      <td>0.853959</td>\n",
       "      <td>1.011406e+08</td>\n",
       "      <td>[-105.85692458022025, -74.4847173305595]</td>\n",
       "      <td>ee.FeatureCollection({\\n  \"functionInvocationV...</td>\n",
       "      <td>ee.Image({\\n  \"functionInvocationValue\": {\\n  ...</td>\n",
       "      <td>ee.Image({\\n  \"functionInvocationValue\": {\\n  ...</td>\n",
       "    </tr>\n",
       "    <tr>\n",
       "      <th>1</th>\n",
       "      <td>2020-06-06</td>\n",
       "      <td>0.890917</td>\n",
       "      <td>1.049709e+08</td>\n",
       "      <td>[-105.9198679208885, -74.44201168227734]</td>\n",
       "      <td>ee.FeatureCollection({\\n  \"functionInvocationV...</td>\n",
       "      <td>ee.Image({\\n  \"functionInvocationValue\": {\\n  ...</td>\n",
       "      <td>ee.Image({\\n  \"functionInvocationValue\": {\\n  ...</td>\n",
       "    </tr>\n",
       "    <tr>\n",
       "      <th>2</th>\n",
       "      <td>2020-06-11</td>\n",
       "      <td>0.914884</td>\n",
       "      <td>1.001686e+08</td>\n",
       "      <td>[-106.17683309386793, -74.34499706400955]</td>\n",
       "      <td>ee.FeatureCollection({\\n  \"functionInvocationV...</td>\n",
       "      <td>ee.Image({\\n  \"functionInvocationValue\": {\\n  ...</td>\n",
       "      <td>ee.Image({\\n  \"functionInvocationValue\": {\\n  ...</td>\n",
       "    </tr>\n",
       "    <tr>\n",
       "      <th>3</th>\n",
       "      <td>2020-06-16</td>\n",
       "      <td>0.952962</td>\n",
       "      <td>9.852995e+07</td>\n",
       "      <td>[-105.33165233951375, -74.40811010064519]</td>\n",
       "      <td>ee.FeatureCollection({\\n  \"functionInvocationV...</td>\n",
       "      <td>ee.Image({\\n  \"functionInvocationValue\": {\\n  ...</td>\n",
       "      <td>ee.Image({\\n  \"functionInvocationValue\": {\\n  ...</td>\n",
       "    </tr>\n",
       "    <tr>\n",
       "      <th>4</th>\n",
       "      <td>2020-06-16</td>\n",
       "      <td>0.952962</td>\n",
       "      <td>9.852995e+07</td>\n",
       "      <td>[-105.33165233951375, -74.40811010064519]</td>\n",
       "      <td>ee.FeatureCollection({\\n  \"functionInvocationV...</td>\n",
       "      <td>ee.Image({\\n  \"functionInvocationValue\": {\\n  ...</td>\n",
       "      <td>ee.Image({\\n  \"functionInvocationValue\": {\\n  ...</td>\n",
       "    </tr>\n",
       "    <tr>\n",
       "      <th>...</th>\n",
       "      <td>...</td>\n",
       "      <td>...</td>\n",
       "      <td>...</td>\n",
       "      <td>...</td>\n",
       "      <td>...</td>\n",
       "      <td>...</td>\n",
       "      <td>...</td>\n",
       "    </tr>\n",
       "    <tr>\n",
       "      <th>59</th>\n",
       "      <td>2021-05-02</td>\n",
       "      <td>0.782506</td>\n",
       "      <td>9.477398e+07</td>\n",
       "      <td>[-113.00345675402097, -72.33341727049034]</td>\n",
       "      <td>ee.FeatureCollection({\\n  \"functionInvocationV...</td>\n",
       "      <td>ee.Image({\\n  \"functionInvocationValue\": {\\n  ...</td>\n",
       "      <td>ee.Image({\\n  \"functionInvocationValue\": {\\n  ...</td>\n",
       "    </tr>\n",
       "    <tr>\n",
       "      <th>60</th>\n",
       "      <td>2021-05-07</td>\n",
       "      <td>0.829768</td>\n",
       "      <td>9.558847e+07</td>\n",
       "      <td>[-113.17839911855751, -72.33378301757487]</td>\n",
       "      <td>ee.FeatureCollection({\\n  \"functionInvocationV...</td>\n",
       "      <td>ee.Image({\\n  \"functionInvocationValue\": {\\n  ...</td>\n",
       "      <td>ee.Image({\\n  \"functionInvocationValue\": {\\n  ...</td>\n",
       "    </tr>\n",
       "    <tr>\n",
       "      <th>61</th>\n",
       "      <td>2021-05-12</td>\n",
       "      <td>0.801658</td>\n",
       "      <td>9.220334e+07</td>\n",
       "      <td>[-113.1720956079102, -72.24707758654496]</td>\n",
       "      <td>ee.FeatureCollection({\\n  \"functionInvocationV...</td>\n",
       "      <td>ee.Image({\\n  \"functionInvocationValue\": {\\n  ...</td>\n",
       "      <td>ee.Image({\\n  \"functionInvocationValue\": {\\n  ...</td>\n",
       "    </tr>\n",
       "    <tr>\n",
       "      <th>62</th>\n",
       "      <td>2021-05-12</td>\n",
       "      <td>0.801658</td>\n",
       "      <td>9.220334e+07</td>\n",
       "      <td>[-113.1720956079102, -72.24707758654496]</td>\n",
       "      <td>ee.FeatureCollection({\\n  \"functionInvocationV...</td>\n",
       "      <td>ee.Image({\\n  \"functionInvocationValue\": {\\n  ...</td>\n",
       "      <td>ee.Image({\\n  \"functionInvocationValue\": {\\n  ...</td>\n",
       "    </tr>\n",
       "    <tr>\n",
       "      <th>63</th>\n",
       "      <td>2021-05-12</td>\n",
       "      <td>0.801658</td>\n",
       "      <td>9.220334e+07</td>\n",
       "      <td>[-113.1720956079102, -72.24707758654496]</td>\n",
       "      <td>ee.FeatureCollection({\\n  \"functionInvocationV...</td>\n",
       "      <td>ee.Image({\\n  \"functionInvocationValue\": {\\n  ...</td>\n",
       "      <td>ee.Image({\\n  \"functionInvocationValue\": {\\n  ...</td>\n",
       "    </tr>\n",
       "  </tbody>\n",
       "</table>\n",
       "<p>64 rows × 7 columns</p>\n",
       "</div>"
      ],
      "text/plain": [
       "         fecha  similaridad          area  \\\n",
       "0   2020-06-01     0.853959  1.011406e+08   \n",
       "1   2020-06-06     0.890917  1.049709e+08   \n",
       "2   2020-06-11     0.914884  1.001686e+08   \n",
       "3   2020-06-16     0.952962  9.852995e+07   \n",
       "4   2020-06-16     0.952962  9.852995e+07   \n",
       "..         ...          ...           ...   \n",
       "59  2021-05-02     0.782506  9.477398e+07   \n",
       "60  2021-05-07     0.829768  9.558847e+07   \n",
       "61  2021-05-12     0.801658  9.220334e+07   \n",
       "62  2021-05-12     0.801658  9.220334e+07   \n",
       "63  2021-05-12     0.801658  9.220334e+07   \n",
       "\n",
       "                                    centroide  \\\n",
       "0    [-105.85692458022025, -74.4847173305595]   \n",
       "1    [-105.9198679208885, -74.44201168227734]   \n",
       "2   [-106.17683309386793, -74.34499706400955]   \n",
       "3   [-105.33165233951375, -74.40811010064519]   \n",
       "4   [-105.33165233951375, -74.40811010064519]   \n",
       "..                                        ...   \n",
       "59  [-113.00345675402097, -72.33341727049034]   \n",
       "60  [-113.17839911855751, -72.33378301757487]   \n",
       "61   [-113.1720956079102, -72.24707758654496]   \n",
       "62   [-113.1720956079102, -72.24707758654496]   \n",
       "63   [-113.1720956079102, -72.24707758654496]   \n",
       "\n",
       "                                             poligono  \\\n",
       "0   ee.FeatureCollection({\\n  \"functionInvocationV...   \n",
       "1   ee.FeatureCollection({\\n  \"functionInvocationV...   \n",
       "2   ee.FeatureCollection({\\n  \"functionInvocationV...   \n",
       "3   ee.FeatureCollection({\\n  \"functionInvocationV...   \n",
       "4   ee.FeatureCollection({\\n  \"functionInvocationV...   \n",
       "..                                                ...   \n",
       "59  ee.FeatureCollection({\\n  \"functionInvocationV...   \n",
       "60  ee.FeatureCollection({\\n  \"functionInvocationV...   \n",
       "61  ee.FeatureCollection({\\n  \"functionInvocationV...   \n",
       "62  ee.FeatureCollection({\\n  \"functionInvocationV...   \n",
       "63  ee.FeatureCollection({\\n  \"functionInvocationV...   \n",
       "\n",
       "                                               source  \\\n",
       "0   ee.Image({\\n  \"functionInvocationValue\": {\\n  ...   \n",
       "1   ee.Image({\\n  \"functionInvocationValue\": {\\n  ...   \n",
       "2   ee.Image({\\n  \"functionInvocationValue\": {\\n  ...   \n",
       "3   ee.Image({\\n  \"functionInvocationValue\": {\\n  ...   \n",
       "4   ee.Image({\\n  \"functionInvocationValue\": {\\n  ...   \n",
       "..                                                ...   \n",
       "59  ee.Image({\\n  \"functionInvocationValue\": {\\n  ...   \n",
       "60  ee.Image({\\n  \"functionInvocationValue\": {\\n  ...   \n",
       "61  ee.Image({\\n  \"functionInvocationValue\": {\\n  ...   \n",
       "62  ee.Image({\\n  \"functionInvocationValue\": {\\n  ...   \n",
       "63  ee.Image({\\n  \"functionInvocationValue\": {\\n  ...   \n",
       "\n",
       "                                               covers  \n",
       "0   ee.Image({\\n  \"functionInvocationValue\": {\\n  ...  \n",
       "1   ee.Image({\\n  \"functionInvocationValue\": {\\n  ...  \n",
       "2   ee.Image({\\n  \"functionInvocationValue\": {\\n  ...  \n",
       "3   ee.Image({\\n  \"functionInvocationValue\": {\\n  ...  \n",
       "4   ee.Image({\\n  \"functionInvocationValue\": {\\n  ...  \n",
       "..                                                ...  \n",
       "59  ee.Image({\\n  \"functionInvocationValue\": {\\n  ...  \n",
       "60  ee.Image({\\n  \"functionInvocationValue\": {\\n  ...  \n",
       "61  ee.Image({\\n  \"functionInvocationValue\": {\\n  ...  \n",
       "62  ee.Image({\\n  \"functionInvocationValue\": {\\n  ...  \n",
       "63  ee.Image({\\n  \"functionInvocationValue\": {\\n  ...  \n",
       "\n",
       "[64 rows x 7 columns]"
      ]
     },
     "execution_count": 71,
     "metadata": {},
     "output_type": "execute_result"
    }
   ],
   "source": [
    "df_iceberg"
   ]
  },
  {
   "cell_type": "code",
   "execution_count": 72,
   "metadata": {},
   "outputs": [
    {
     "data": {
      "text/html": [
       "\n",
       "            <style>\n",
       "                .geemap-dark {\n",
       "                    --jp-widgets-color: white;\n",
       "                    --jp-widgets-label-color: white;\n",
       "                    --jp-ui-font-color1: white;\n",
       "                    --jp-layout-color2: #454545;\n",
       "                    background-color: #383838;\n",
       "                }\n",
       "\n",
       "                .geemap-dark .jupyter-button {\n",
       "                    --jp-layout-color3: #383838;\n",
       "                }\n",
       "\n",
       "                .geemap-colab {\n",
       "                    background-color: var(--colab-primary-surface-color, white);\n",
       "                }\n",
       "\n",
       "                .geemap-colab .jupyter-button {\n",
       "                    --jp-layout-color3: var(--colab-primary-surface-color, white);\n",
       "                }\n",
       "            </style>\n",
       "            "
      ],
      "text/plain": [
       "<IPython.core.display.HTML object>"
      ]
     },
     "metadata": {},
     "output_type": "display_data"
    }
   ],
   "source": [
    "df_iceberg.to_csv('0004_06_01__05_12.csv', index=False, sep='&')"
   ]
  },
  {
   "cell_type": "code",
   "execution_count": 67,
   "metadata": {},
   "outputs": [
    {
     "data": {
      "text/html": [
       "\n",
       "            <style>\n",
       "                .geemap-dark {\n",
       "                    --jp-widgets-color: white;\n",
       "                    --jp-widgets-label-color: white;\n",
       "                    --jp-ui-font-color1: white;\n",
       "                    --jp-layout-color2: #454545;\n",
       "                    background-color: #383838;\n",
       "                }\n",
       "\n",
       "                .geemap-dark .jupyter-button {\n",
       "                    --jp-layout-color3: #383838;\n",
       "                }\n",
       "\n",
       "                .geemap-colab {\n",
       "                    background-color: var(--colab-primary-surface-color, white);\n",
       "                }\n",
       "\n",
       "                .geemap-colab .jupyter-button {\n",
       "                    --jp-layout-color3: var(--colab-primary-surface-color, white);\n",
       "                }\n",
       "            </style>\n",
       "            "
      ],
      "text/plain": [
       "<IPython.core.display.HTML object>"
      ]
     },
     "metadata": {},
     "output_type": "display_data"
    }
   ],
   "source": [
    "S1A = ee.ImageCollection(\"COPERNICUS/S1_GRD\")\\\n",
    ".filterDate(\"2021-05-12\", \"2021-05-13\")\\\n",
    ".filter(ee.Filter.listContains('transmitterReceiverPolarisation', \"HH\"))\n",
    "\n",
    "band = [\"HH\", \"angle\"]\n",
    "\n",
    "img = S1A.select(band).mean()"
   ]
  },
  {
   "cell_type": "code",
   "execution_count": 68,
   "metadata": {},
   "outputs": [
    {
     "data": {
      "text/html": [
       "\n",
       "            <style>\n",
       "                .geemap-dark {\n",
       "                    --jp-widgets-color: white;\n",
       "                    --jp-widgets-label-color: white;\n",
       "                    --jp-ui-font-color1: white;\n",
       "                    --jp-layout-color2: #454545;\n",
       "                    background-color: #383838;\n",
       "                }\n",
       "\n",
       "                .geemap-dark .jupyter-button {\n",
       "                    --jp-layout-color3: #383838;\n",
       "                }\n",
       "\n",
       "                .geemap-colab {\n",
       "                    background-color: var(--colab-primary-surface-color, white);\n",
       "                }\n",
       "\n",
       "                .geemap-colab .jupyter-button {\n",
       "                    --jp-layout-color3: var(--colab-primary-surface-color, white);\n",
       "                }\n",
       "            </style>\n",
       "            "
      ],
      "text/plain": [
       "<IPython.core.display.HTML object>"
      ]
     },
     "metadata": {},
     "output_type": "display_data"
    },
    {
     "data": {
      "application/vnd.jupyter.widget-view+json": {
       "model_id": "fa32e2fc938f4937afcdac6ce931504f",
       "version_major": 2,
       "version_minor": 0
      },
      "text/plain": [
       "Map(center=[-72.24707758654496, -113.1720956079102], controls=(WidgetControl(options=['position', 'transparent…"
      ]
     },
     "execution_count": 68,
     "metadata": {},
     "output_type": "execute_result"
    }
   ],
   "source": [
    "Map = geemap.Map(center= [centroid[1], centroid[0]], zoom = 10)\n",
    "vis_seg = {'bands': [\"HH\"], 'min': -30, 'max': 0}\n",
    "Map.addLayer(img, vis_seg, 'sat')\n",
    "\n",
    "polygon_style = {'color': 'red', 'fillColor': 'red', 'fillOpacity': 0.5}\n",
    "point_style = {'color': 'blue', 'pointSize': 5}\n",
    "for i, row in df_iceberg.iterrows():\n",
    "    variable = row.poligono\n",
    "    Map.addLayer(variable, polygon_style, f'ice{i}')\n",
    "    centroide_ee = ee.Geometry.Point(row['centroide'])\n",
    "    Map.addLayer(centroide_ee, point_style, f'cent-ice{i}')\n",
    "\n",
    "Map.addLayerControl()\n",
    "Map"
   ]
  },
  {
   "cell_type": "code",
   "execution_count": 155,
   "metadata": {},
   "outputs": [
    {
     "data": {
      "text/html": [
       "\n",
       "            <style>\n",
       "                .geemap-dark {\n",
       "                    --jp-widgets-color: white;\n",
       "                    --jp-widgets-label-color: white;\n",
       "                    --jp-ui-font-color1: white;\n",
       "                    --jp-layout-color2: #454545;\n",
       "                    background-color: #383838;\n",
       "                }\n",
       "\n",
       "                .geemap-dark .jupyter-button {\n",
       "                    --jp-layout-color3: #383838;\n",
       "                }\n",
       "\n",
       "                .geemap-colab {\n",
       "                    background-color: var(--colab-primary-surface-color, white);\n",
       "                }\n",
       "\n",
       "                .geemap-colab .jupyter-button {\n",
       "                    --jp-layout-color3: var(--colab-primary-surface-color, white);\n",
       "                }\n",
       "            </style>\n",
       "            "
      ],
      "text/plain": [
       "<IPython.core.display.HTML object>"
      ]
     },
     "metadata": {},
     "output_type": "display_data"
    }
   ],
   "source": [
    "img = df_iceberg.iloc[20].source"
   ]
  },
  {
   "cell_type": "code",
   "execution_count": 139,
   "metadata": {},
   "outputs": [
    {
     "data": {
      "text/html": [
       "\n",
       "            <style>\n",
       "                .geemap-dark {\n",
       "                    --jp-widgets-color: white;\n",
       "                    --jp-widgets-label-color: white;\n",
       "                    --jp-ui-font-color1: white;\n",
       "                    --jp-layout-color2: #454545;\n",
       "                    background-color: #383838;\n",
       "                }\n",
       "\n",
       "                .geemap-dark .jupyter-button {\n",
       "                    --jp-layout-color3: #383838;\n",
       "                }\n",
       "\n",
       "                .geemap-colab {\n",
       "                    background-color: var(--colab-primary-surface-color, white);\n",
       "                }\n",
       "\n",
       "                .geemap-colab .jupyter-button {\n",
       "                    --jp-layout-color3: var(--colab-primary-surface-color, white);\n",
       "                }\n",
       "            </style>\n",
       "            "
      ],
      "text/plain": [
       "<IPython.core.display.HTML object>"
      ]
     },
     "metadata": {},
     "output_type": "display_data"
    }
   ],
   "source": [
    "import math\n",
    "def calcular_distancia(lat1, lon1, lat2, lon2):\n",
    "    # Convertir grados a radianes\n",
    "    lat1_rad = math.radians(lat1)\n",
    "    lon1_rad = math.radians(lon1)\n",
    "    lat2_rad = math.radians(lat2)\n",
    "    lon2_rad = math.radians(lon2)\n",
    "    \n",
    "    # Radio de la Tierra en metros\n",
    "    R = 6371000\n",
    "    \n",
    "    # Diferencias de coordenadas\n",
    "    delta_lat = lat2_rad - lat1_rad\n",
    "    delta_lon = lon2_rad - lon1_rad\n",
    "    \n",
    "    # Fórmula de Haversine\n",
    "    a = math.sin(delta_lat / 2)**2 + math.cos(lat1_rad) * math.cos(lat2_rad) * math.sin(delta_lon / 2)**2\n",
    "    c = 2 * math.atan2(math.sqrt(a), math.sqrt(1 - a))\n",
    "    \n",
    "    # Distancia\n",
    "    distancia = R * c\n",
    "    \n",
    "    return distancia"
   ]
  },
  {
   "cell_type": "code",
   "execution_count": 140,
   "metadata": {},
   "outputs": [
    {
     "data": {
      "text/html": [
       "\n",
       "            <style>\n",
       "                .geemap-dark {\n",
       "                    --jp-widgets-color: white;\n",
       "                    --jp-widgets-label-color: white;\n",
       "                    --jp-ui-font-color1: white;\n",
       "                    --jp-layout-color2: #454545;\n",
       "                    background-color: #383838;\n",
       "                }\n",
       "\n",
       "                .geemap-dark .jupyter-button {\n",
       "                    --jp-layout-color3: #383838;\n",
       "                }\n",
       "\n",
       "                .geemap-colab {\n",
       "                    background-color: var(--colab-primary-surface-color, white);\n",
       "                }\n",
       "\n",
       "                .geemap-colab .jupyter-button {\n",
       "                    --jp-layout-color3: var(--colab-primary-surface-color, white);\n",
       "                }\n",
       "            </style>\n",
       "            "
      ],
      "text/plain": [
       "<IPython.core.display.HTML object>"
      ]
     },
     "metadata": {},
     "output_type": "display_data"
    },
    {
     "name": "stdout",
     "output_type": "stream",
     "text": [
      "La distancia entre Madrid y Barcelona es de 19889.83 metros.\n"
     ]
    }
   ],
   "source": [
    "latitud1 = coords1[0]  # Madrid\n",
    "longitud1 = coords1[1]  # Madrid\n",
    "latitud2 = coords2[0]  # Barcelona\n",
    "longitud2 = coords2[1] # Barcelona\n",
    "\n",
    "distancia_metros = calcular_distancia(latitud1, longitud1, latitud2, longitud2)\n",
    "print(f\"La distancia entre Madrid y Barcelona es de {distancia_metros:.2f} metros.\")"
   ]
  }
 ],
 "metadata": {
  "kernelspec": {
   "display_name": "test",
   "language": "python",
   "name": "python3"
  },
  "language_info": {
   "codemirror_mode": {
    "name": "ipython",
    "version": 3
   },
   "file_extension": ".py",
   "mimetype": "text/x-python",
   "name": "python",
   "nbconvert_exporter": "python",
   "pygments_lexer": "ipython3",
   "version": "3.9.19"
  }
 },
 "nbformat": 4,
 "nbformat_minor": 2
}
