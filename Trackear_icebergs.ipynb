{
 "cells": [
  {
   "cell_type": "markdown",
   "metadata": {},
   "source": [
    "## Tracking de Icebergs"
   ]
  },
  {
   "cell_type": "code",
   "execution_count": 21,
   "metadata": {},
   "outputs": [
    {
     "data": {
      "text/html": [
       "\n",
       "            <style>\n",
       "                .geemap-dark {\n",
       "                    --jp-widgets-color: white;\n",
       "                    --jp-widgets-label-color: white;\n",
       "                    --jp-ui-font-color1: white;\n",
       "                    --jp-layout-color2: #454545;\n",
       "                    background-color: #383838;\n",
       "                }\n",
       "\n",
       "                .geemap-dark .jupyter-button {\n",
       "                    --jp-layout-color3: #383838;\n",
       "                }\n",
       "\n",
       "                .geemap-colab {\n",
       "                    background-color: var(--colab-primary-surface-color, white);\n",
       "                }\n",
       "\n",
       "                .geemap-colab .jupyter-button {\n",
       "                    --jp-layout-color3: var(--colab-primary-surface-color, white);\n",
       "                }\n",
       "            </style>\n",
       "            "
      ],
      "text/plain": [
       "<IPython.core.display.HTML object>"
      ]
     },
     "metadata": {},
     "output_type": "display_data"
    }
   ],
   "source": [
    "import warnings\n",
    "warnings.filterwarnings('ignore')\n",
    "import numpy as np\n",
    "import pandas as pd\n",
    "import datetime as dt\n",
    "import matplotlib.pyplot as plt\n",
    "import geopandas as gpd\n",
    "from shapely.geometry import shape, mapping\n",
    "import json\n",
    "import geemap,ee\n",
    "import folium\n",
    "ee.Authenticate()\n",
    "ee.Initialize()"
   ]
  },
  {
   "cell_type": "markdown",
   "metadata": {},
   "source": [
    "- Primero definimos nuestro icebergs de interes\n",
    "\n",
    "Para este proceso, directamente en Google engine seleccionamos manualmente el icebreg de interes. Usando el siguiente codigo."
   ]
  },
  {
   "cell_type": "code",
   "execution_count": null,
   "metadata": {},
   "outputs": [],
   "source": [
    "# var roi = ee.Geometry.Polygon([\n",
    "#   [[-112, -72.7], [-112, -73.7], [-108.5, -73.7], [-108.5, -72.7], [-112, -72.7]]\n",
    "# ]);\n",
    "\n",
    "# var startdate = '2017-04-19' \n",
    "# var enddate = '2017-04-20' \n",
    "\n",
    "# var S1 = sentinel1\n",
    "#   // Filter to get images with VV and VH dual polarization.\n",
    "#   //.filter(ee.Filter.listContains('transmitterReceiverPolarisation', 'HH'))\n",
    "#   // Filter to get images collected in interferometric wide swath mode.\n",
    "#   .filterDate(startdate, enddate) \n",
    "#   // .filter(ee.Filter.lt('CLOUDY_PIXEL_PERCENTAGE', 50))\n",
    "#   .filterBounds(roi);\n",
    "  \n",
    "# print(S1)\n",
    "# var img = S1.select(\"HH\")\n",
    "\n",
    "# var visParams1 = {band: ['HH'], min: -30, max: 0};\n",
    "# // var visParams2 = {band: ['B4'], max: 10000, min: 0};\n",
    "\n",
    "# Map.addLayer(img, visParams1, 'S1');\n",
    "\n",
    "# Definimos \"geometry\" manualmente\n",
    "# var geometry = ee.FeatureCollection(geometry)\n",
    "# Export.table.toDrive(geometry, 'iceberg_' + startdate, 'users/kooala317/Iceberg_tracking')"
   ]
  },
  {
   "cell_type": "code",
   "execution_count": 195,
   "metadata": {},
   "outputs": [
    {
     "data": {
      "text/html": [
       "\n",
       "            <style>\n",
       "                .geemap-dark {\n",
       "                    --jp-widgets-color: white;\n",
       "                    --jp-widgets-label-color: white;\n",
       "                    --jp-ui-font-color1: white;\n",
       "                    --jp-layout-color2: #454545;\n",
       "                    background-color: #383838;\n",
       "                }\n",
       "\n",
       "                .geemap-dark .jupyter-button {\n",
       "                    --jp-layout-color3: #383838;\n",
       "                }\n",
       "\n",
       "                .geemap-colab {\n",
       "                    background-color: var(--colab-primary-surface-color, white);\n",
       "                }\n",
       "\n",
       "                .geemap-colab .jupyter-button {\n",
       "                    --jp-layout-color3: var(--colab-primary-surface-color, white);\n",
       "                }\n",
       "            </style>\n",
       "            "
      ],
      "text/plain": [
       "<IPython.core.display.HTML object>"
      ]
     },
     "metadata": {},
     "output_type": "display_data"
    }
   ],
   "source": [
    "df = pd.read_csv(\"Icebergs\\iceberg_0001_2020-08-29.csv\")\n",
    "df['geometry'] = df['.geo'].apply(lambda x: shape(json.loads(x)))\n",
    "\n",
    "gdf = gpd.GeoDataFrame(df, geometry='geometry').set_crs('epsg:4326', inplace=True)"
   ]
  },
  {
   "cell_type": "code",
   "execution_count": 196,
   "metadata": {},
   "outputs": [
    {
     "data": {
      "text/html": [
       "\n",
       "            <style>\n",
       "                .geemap-dark {\n",
       "                    --jp-widgets-color: white;\n",
       "                    --jp-widgets-label-color: white;\n",
       "                    --jp-ui-font-color1: white;\n",
       "                    --jp-layout-color2: #454545;\n",
       "                    background-color: #383838;\n",
       "                }\n",
       "\n",
       "                .geemap-dark .jupyter-button {\n",
       "                    --jp-layout-color3: #383838;\n",
       "                }\n",
       "\n",
       "                .geemap-colab {\n",
       "                    background-color: var(--colab-primary-surface-color, white);\n",
       "                }\n",
       "\n",
       "                .geemap-colab .jupyter-button {\n",
       "                    --jp-layout-color3: var(--colab-primary-surface-color, white);\n",
       "                }\n",
       "            </style>\n",
       "            "
      ],
      "text/plain": [
       "<IPython.core.display.HTML object>"
      ]
     },
     "metadata": {},
     "output_type": "display_data"
    },
    {
     "data": {
      "text/plain": [
       "<Axes: >"
      ]
     },
     "execution_count": 196,
     "metadata": {},
     "output_type": "execute_result"
    },
    {
     "data": {
      "image/png": "[encoded data removed]",
      "text/plain": [
       "<Figure size 640x480 with 1 Axes>"
      ]
     },
     "metadata": {},
     "output_type": "display_data"
    }
   ],
   "source": [
    "gdf[\"geometry\"].plot()"
   ]
  },
  {
   "cell_type": "markdown",
   "metadata": {},
   "source": [
    "- Luego, haciendo comparativas de similitud, localizamos el mismo iceberg en una imagen posterior. (Con un cierto margen de error)"
   ]
  },
  {
   "cell_type": "markdown",
   "metadata": {},
   "source": [
    "#### 1. Pasamos nuestro archivo local a una Feature collection"
   ]
  },
  {
   "cell_type": "code",
   "execution_count": 197,
   "metadata": {},
   "outputs": [
    {
     "data": {
      "text/html": [
       "\n",
       "            <style>\n",
       "                .geemap-dark {\n",
       "                    --jp-widgets-color: white;\n",
       "                    --jp-widgets-label-color: white;\n",
       "                    --jp-ui-font-color1: white;\n",
       "                    --jp-layout-color2: #454545;\n",
       "                    background-color: #383838;\n",
       "                }\n",
       "\n",
       "                .geemap-dark .jupyter-button {\n",
       "                    --jp-layout-color3: #383838;\n",
       "                }\n",
       "\n",
       "                .geemap-colab {\n",
       "                    background-color: var(--colab-primary-surface-color, white);\n",
       "                }\n",
       "\n",
       "                .geemap-colab .jupyter-button {\n",
       "                    --jp-layout-color3: var(--colab-primary-surface-color, white);\n",
       "                }\n",
       "            </style>\n",
       "            "
      ],
      "text/plain": [
       "<IPython.core.display.HTML object>"
      ]
     },
     "metadata": {},
     "output_type": "display_data"
    }
   ],
   "source": [
    "gdf.columns = [col.replace('.', '_') for col in gdf.columns]\n",
    "\n",
    "# Verificamos que todas las columnas son strings\n",
    "for col in gdf.columns:\n",
    "    if col != 'geometry':\n",
    "        gdf[col] = gdf[col].astype(str)\n",
    "\n",
    "# Convertimos el GeoDataFrame a una lista de Features\n",
    "features = []\n",
    "for _, row in gdf.iterrows():\n",
    "    geom = ee.Geometry(mapping(row['geometry']))\n",
    "    feature = ee.Feature(geom, row.drop('geometry').to_dict())\n",
    "    features.append(feature)\n",
    "\n",
    "\n",
    "iceberg = ee.FeatureCollection(features)\n"
   ]
  },
  {
   "cell_type": "markdown",
   "metadata": {},
   "source": [
    "#### 2. Una vez obtenida la feature collection del iceberg, obtenemos las imagenes satelitales de esté.\n",
    "\n",
    "https://developers.google.com/earth-engine/datasets/catalog/COPERNICUS_S1_GRD"
   ]
  },
  {
   "cell_type": "code",
   "execution_count": 216,
   "metadata": {},
   "outputs": [
    {
     "data": {
      "text/html": [
       "\n",
       "            <style>\n",
       "                .geemap-dark {\n",
       "                    --jp-widgets-color: white;\n",
       "                    --jp-widgets-label-color: white;\n",
       "                    --jp-ui-font-color1: white;\n",
       "                    --jp-layout-color2: #454545;\n",
       "                    background-color: #383838;\n",
       "                }\n",
       "\n",
       "                .geemap-dark .jupyter-button {\n",
       "                    --jp-layout-color3: #383838;\n",
       "                }\n",
       "\n",
       "                .geemap-colab {\n",
       "                    background-color: var(--colab-primary-surface-color, white);\n",
       "                }\n",
       "\n",
       "                .geemap-colab .jupyter-button {\n",
       "                    --jp-layout-color3: var(--colab-primary-surface-color, white);\n",
       "                }\n",
       "            </style>\n",
       "            "
      ],
      "text/plain": [
       "<IPython.core.display.HTML object>"
      ]
     },
     "metadata": {},
     "output_type": "display_data"
    }
   ],
   "source": [
    "fecha_inicio = '2020-08-29'\n",
    "fecha_fin = '2020-08-30'"
   ]
  },
  {
   "cell_type": "code",
   "execution_count": 217,
   "metadata": {},
   "outputs": [
    {
     "data": {
      "text/html": [
       "\n",
       "            <style>\n",
       "                .geemap-dark {\n",
       "                    --jp-widgets-color: white;\n",
       "                    --jp-widgets-label-color: white;\n",
       "                    --jp-ui-font-color1: white;\n",
       "                    --jp-layout-color2: #454545;\n",
       "                    background-color: #383838;\n",
       "                }\n",
       "\n",
       "                .geemap-dark .jupyter-button {\n",
       "                    --jp-layout-color3: #383838;\n",
       "                }\n",
       "\n",
       "                .geemap-colab {\n",
       "                    background-color: var(--colab-primary-surface-color, white);\n",
       "                }\n",
       "\n",
       "                .geemap-colab .jupyter-button {\n",
       "                    --jp-layout-color3: var(--colab-primary-surface-color, white);\n",
       "                }\n",
       "            </style>\n",
       "            "
      ],
      "text/plain": [
       "<IPython.core.display.HTML object>"
      ]
     },
     "metadata": {},
     "output_type": "display_data"
    }
   ],
   "source": [
    "S1A = ee.ImageCollection(\"COPERNICUS/S1_GRD\")\\\n",
    ".filterDate(fecha_inicio, fecha_fin)\\\n",
    ".filterBounds(iceberg)\\\n",
    ".filter(ee.Filter.listContains('transmitterReceiverPolarisation', \"HH\"))\n",
    "\n",
    "band = [\"HH\", \"angle\"]\n",
    "\n",
    "img = S1A.select(band).mean().clip(iceberg) "
   ]
  },
  {
   "cell_type": "markdown",
   "metadata": {},
   "source": [
    "#### 3. Planteamos una forma de identificar el iceberg. Esta forma requiere calcular cómo varía la distancia desde el centroide hacia los bordes del iceberg. Para ello:"
   ]
  },
  {
   "cell_type": "markdown",
   "metadata": {},
   "source": [
    "- Definimos una capa de cobertura del iceberg, la cual vale 1 siempre que se abarca el iceberg."
   ]
  },
  {
   "cell_type": "code",
   "execution_count": 218,
   "metadata": {},
   "outputs": [
    {
     "data": {
      "text/html": [
       "\n",
       "            <style>\n",
       "                .geemap-dark {\n",
       "                    --jp-widgets-color: white;\n",
       "                    --jp-widgets-label-color: white;\n",
       "                    --jp-ui-font-color1: white;\n",
       "                    --jp-layout-color2: #454545;\n",
       "                    background-color: #383838;\n",
       "                }\n",
       "\n",
       "                .geemap-dark .jupyter-button {\n",
       "                    --jp-layout-color3: #383838;\n",
       "                }\n",
       "\n",
       "                .geemap-colab {\n",
       "                    background-color: var(--colab-primary-surface-color, white);\n",
       "                }\n",
       "\n",
       "                .geemap-colab .jupyter-button {\n",
       "                    --jp-layout-color3: var(--colab-primary-surface-color, white);\n",
       "                }\n",
       "            </style>\n",
       "            "
      ],
      "text/plain": [
       "<IPython.core.display.HTML object>"
      ]
     },
     "metadata": {},
     "output_type": "display_data"
    }
   ],
   "source": [
    "cover = img.select('HH').clip(iceberg).multiply(0).add(1)\n",
    "cover = cover.addBands(ee.Image.pixelLonLat())"
   ]
  },
  {
   "cell_type": "markdown",
   "metadata": {},
   "source": [
    "- Definimos una Imagen que vale 1 en el centroide del Iceberg."
   ]
  },
  {
   "cell_type": "code",
   "execution_count": 219,
   "metadata": {},
   "outputs": [
    {
     "data": {
      "text/html": [
       "\n",
       "            <style>\n",
       "                .geemap-dark {\n",
       "                    --jp-widgets-color: white;\n",
       "                    --jp-widgets-label-color: white;\n",
       "                    --jp-ui-font-color1: white;\n",
       "                    --jp-layout-color2: #454545;\n",
       "                    background-color: #383838;\n",
       "                }\n",
       "\n",
       "                .geemap-dark .jupyter-button {\n",
       "                    --jp-layout-color3: #383838;\n",
       "                }\n",
       "\n",
       "                .geemap-colab {\n",
       "                    background-color: var(--colab-primary-surface-color, white);\n",
       "                }\n",
       "\n",
       "                .geemap-colab .jupyter-button {\n",
       "                    --jp-layout-color3: var(--colab-primary-surface-color, white);\n",
       "                }\n",
       "            </style>\n",
       "            "
      ],
      "text/plain": [
       "<IPython.core.display.HTML object>"
      ]
     },
     "metadata": {},
     "output_type": "display_data"
    }
   ],
   "source": [
    "centroid = iceberg.geometry().centroid(10).getInfo()['coordinates']\n",
    "\n",
    "sources = ee.Image().toByte().paint(ee.Geometry.Point(centroid), 1)"
   ]
  },
  {
   "cell_type": "markdown",
   "metadata": {},
   "source": [
    "- Calculamos el costo acumulativo para recorrer la imagen desde el centroide del iceberg hasta los bordes del iceberg."
   ]
  },
  {
   "cell_type": "code",
   "execution_count": 220,
   "metadata": {},
   "outputs": [
    {
     "data": {
      "text/html": [
       "\n",
       "            <style>\n",
       "                .geemap-dark {\n",
       "                    --jp-widgets-color: white;\n",
       "                    --jp-widgets-label-color: white;\n",
       "                    --jp-ui-font-color1: white;\n",
       "                    --jp-layout-color2: #454545;\n",
       "                    background-color: #383838;\n",
       "                }\n",
       "\n",
       "                .geemap-dark .jupyter-button {\n",
       "                    --jp-layout-color3: #383838;\n",
       "                }\n",
       "\n",
       "                .geemap-colab {\n",
       "                    background-color: var(--colab-primary-surface-color, white);\n",
       "                }\n",
       "\n",
       "                .geemap-colab .jupyter-button {\n",
       "                    --jp-layout-color3: var(--colab-primary-surface-color, white);\n",
       "                }\n",
       "            </style>\n",
       "            "
      ],
      "text/plain": [
       "<IPython.core.display.HTML object>"
      ]
     },
     "metadata": {},
     "output_type": "display_data"
    }
   ],
   "source": [
    "cumulativeCost = cover.select('HH').cumulativeCost(\n",
    "    source = sources,\n",
    "    maxDistance = 30000,\n",
    "    geodeticDistance = True\n",
    ").clip(iceberg)\n",
    "\n",
    "result = cumulativeCost.reduceRegion(ee.Reducer.toList(), iceberg, scale=200, maxPixels=1e20)\n",
    "A = result.getInfo()['cumulative_cost'] "
   ]
  },
  {
   "cell_type": "markdown",
   "metadata": {},
   "source": [
    "- Calculamos un histograma de la distribucion de las distancias centroide-borde"
   ]
  },
  {
   "cell_type": "code",
   "execution_count": 221,
   "metadata": {},
   "outputs": [
    {
     "data": {
      "text/html": [
       "\n",
       "            <style>\n",
       "                .geemap-dark {\n",
       "                    --jp-widgets-color: white;\n",
       "                    --jp-widgets-label-color: white;\n",
       "                    --jp-ui-font-color1: white;\n",
       "                    --jp-layout-color2: #454545;\n",
       "                    background-color: #383838;\n",
       "                }\n",
       "\n",
       "                .geemap-dark .jupyter-button {\n",
       "                    --jp-layout-color3: #383838;\n",
       "                }\n",
       "\n",
       "                .geemap-colab {\n",
       "                    background-color: var(--colab-primary-surface-color, white);\n",
       "                }\n",
       "\n",
       "                .geemap-colab .jupyter-button {\n",
       "                    --jp-layout-color3: var(--colab-primary-surface-color, white);\n",
       "                }\n",
       "            </style>\n",
       "            "
      ],
      "text/plain": [
       "<IPython.core.display.HTML object>"
      ]
     },
     "metadata": {},
     "output_type": "display_data"
    },
    {
     "data": {
      "text/plain": [
       "Text(0, 0.5, 'N')"
      ]
     },
     "execution_count": 221,
     "metadata": {},
     "output_type": "execute_result"
    },
    {
     "data": {
      "image/png": "[encoded data removed]",
      "text/plain": [
       "<Figure size 600x200 with 1 Axes>"
      ]
     },
     "metadata": {},
     "output_type": "display_data"
    }
   ],
   "source": [
    "hist1 = {}\n",
    "\n",
    "scale = 200\n",
    "max_pix = 20000\n",
    "\n",
    "fig = plt.subplots(figsize = (6, 2), dpi = 100)\n",
    "hist1['reference'] = np.histogram(A, int(max_pix/scale), [0, max_pix])\n",
    "\n",
    "plt.plot(hist1['reference'][1][:-1], hist1['reference'][0], color = \"k\", linewidth = 2)\n",
    "plt.xlabel(\"Distance from the centroid (m)\", fontsize = 12)\n",
    "plt.ylabel(\"N\", fontsize = 12)"
   ]
  },
  {
   "cell_type": "markdown",
   "metadata": {},
   "source": [
    "- Obtenemos el area real del iceberg"
   ]
  },
  {
   "cell_type": "code",
   "execution_count": 222,
   "metadata": {},
   "outputs": [
    {
     "data": {
      "text/html": [
       "\n",
       "            <style>\n",
       "                .geemap-dark {\n",
       "                    --jp-widgets-color: white;\n",
       "                    --jp-widgets-label-color: white;\n",
       "                    --jp-ui-font-color1: white;\n",
       "                    --jp-layout-color2: #454545;\n",
       "                    background-color: #383838;\n",
       "                }\n",
       "\n",
       "                .geemap-dark .jupyter-button {\n",
       "                    --jp-layout-color3: #383838;\n",
       "                }\n",
       "\n",
       "                .geemap-colab {\n",
       "                    background-color: var(--colab-primary-surface-color, white);\n",
       "                }\n",
       "\n",
       "                .geemap-colab .jupyter-button {\n",
       "                    --jp-layout-color3: var(--colab-primary-surface-color, white);\n",
       "                }\n",
       "            </style>\n",
       "            "
      ],
      "text/plain": [
       "<IPython.core.display.HTML object>"
      ]
     },
     "metadata": {},
     "output_type": "display_data"
    },
    {
     "name": "stdout",
     "output_type": "stream",
     "text": [
      "10811089.37443775\n"
     ]
    }
   ],
   "source": [
    "area0 = iceberg.geometry().area(10).getInfo()\n",
    "print(area0)"
   ]
  },
  {
   "cell_type": "code",
   "execution_count": null,
   "metadata": {},
   "outputs": [
    {
     "data": {
      "text/html": [
       "\n",
       "            <style>\n",
       "                .geemap-dark {\n",
       "                    --jp-widgets-color: white;\n",
       "                    --jp-widgets-label-color: white;\n",
       "                    --jp-ui-font-color1: white;\n",
       "                    --jp-layout-color2: #454545;\n",
       "                    background-color: #383838;\n",
       "                }\n",
       "\n",
       "                .geemap-dark .jupyter-button {\n",
       "                    --jp-layout-color3: #383838;\n",
       "                }\n",
       "\n",
       "                .geemap-colab {\n",
       "                    background-color: var(--colab-primary-surface-color, white);\n",
       "                }\n",
       "\n",
       "                .geemap-colab .jupyter-button {\n",
       "                    --jp-layout-color3: var(--colab-primary-surface-color, white);\n",
       "                }\n",
       "            </style>\n",
       "            "
      ],
      "text/plain": [
       "<IPython.core.display.HTML object>"
      ]
     },
     "metadata": {},
     "output_type": "display_data"
    },
    {
     "data": {
      "application/vnd.jupyter.widget-view+json": {
       "model_id": "3909fb4200154ac4978cc99e3abbe270",
       "version_major": 2,
       "version_minor": 0
      },
      "text/plain": [
       "Map(center=[-74.3826133051304, -106.53108885292386], controls=(WidgetControl(options=['position', 'transparent…"
      ]
     },
     "metadata": {},
     "output_type": "display_data"
    }
   ],
   "source": [
    "Map = geemap.Map(center= [centroid[1], centroid[0]], zoom = 10)\n",
    "visParams1 = {\"bands\": ['HH'], \"min\": -30, \"max\": 0}\n",
    "Map.addLayer(img, visParams1, 'S1')\n",
    "Map"
   ]
  },
  {
   "cell_type": "markdown",
   "metadata": {},
   "source": [
    "4. Ahora queremos Trackear nuestro iceberg en un lapso de tiempo usando lo anterior."
   ]
  },
  {
   "cell_type": "markdown",
   "metadata": {},
   "source": [
    "En cada iteración segmentaremos la zona objetivo usando snic eh identificaremos el iceberg de estudio usando lo anterior."
   ]
  },
  {
   "cell_type": "code",
   "execution_count": null,
   "metadata": {},
   "outputs": [],
   "source": [
    "ice_area = {}\n",
    "ice_centroid = {}\n",
    "mapid_seg = {}\n",
    "mapid_target = {}\n",
    "\n",
    "startdate = fecha_inicio; enddate = fecha_fin\n",
    "center = centroid\n",
    "\n",
    "buf_dist = 25000 # distancia desde el centroide para buscar icebergs\n",
    "\n",
    "# Map initialization (note: if you run this code, map is entirely initialized!)\n",
    "map1 = folium.Map(location=[center[1], center[0]], zoom_start=7, height=550,width=700)\n",
    "\n",
    "# color codes to visualize the iceberg geometry by time\n",
    "color_codes = ['red', 'chocolate', 'orange', 'yellow', 'olive', 'lime',\n",
    "               'green', 'teal', 'cyan', 'blue', 'navy', 'purple']\n",
    "\n",
    "# First buffer area in Ross Sea\n",
    "ross_sea = ee.Geometry.Point(center).buffer(buf_dist)"
   ]
  },
  {
   "cell_type": "markdown",
   "metadata": {},
   "source": [
    "Dias de estudio"
   ]
  },
  {
   "cell_type": "code",
   "execution_count": null,
   "metadata": {},
   "outputs": [],
   "source": [
    "# Cuantos dias queremos estudiar\n",
    "day_range = range(0, 6)"
   ]
  },
  {
   "cell_type": "markdown",
   "metadata": {},
   "source": [
    "Calculo Area de cada iceberg"
   ]
  },
  {
   "cell_type": "code",
   "execution_count": null,
   "metadata": {},
   "outputs": [],
   "source": [
    "#decidir si mantener o no el parametro maxError=10\n",
    "def addArea(feature):\n",
    "    return feature.set({\"area\": feature.geometry().area(10), \"centroid\": feature.geometry().centroid(10)})"
   ]
  },
  {
   "cell_type": "code",
   "execution_count": null,
   "metadata": {},
   "outputs": [
    {
     "data": {
      "text/html": [
       "\n",
       "            <style>\n",
       "                .geemap-dark {\n",
       "                    --jp-widgets-color: white;\n",
       "                    --jp-widgets-label-color: white;\n",
       "                    --jp-ui-font-color1: white;\n",
       "                    --jp-layout-color2: #454545;\n",
       "                    background-color: #383838;\n",
       "                }\n",
       "\n",
       "                .geemap-dark .jupyter-button {\n",
       "                    --jp-layout-color3: #383838;\n",
       "                }\n",
       "\n",
       "                .geemap-colab {\n",
       "                    background-color: var(--colab-primary-surface-color, white);\n",
       "                }\n",
       "\n",
       "                .geemap-colab .jupyter-button {\n",
       "                    --jp-layout-color3: var(--colab-primary-surface-color, white);\n",
       "                }\n",
       "            </style>\n",
       "            "
      ],
      "text/plain": [
       "<IPython.core.display.HTML object>"
      ]
     },
     "metadata": {},
     "output_type": "display_data"
    },
    {
     "name": "stdout",
     "output_type": "stream",
     "text": [
      "2020-05-01 ============================================\n",
      "Feature 0 >>> area: 11.61 km^2, centroid: [-105.773, -74.417], similarity: 0.971\n",
      "... exporting task for 2020-05-01\n"
     ]
    },
    {
     "ename": "KeyboardInterrupt",
     "evalue": "",
     "output_type": "error",
     "traceback": [
      "\u001b[1;31m---------------------------------------------------------------------------\u001b[0m",
      "\u001b[1;31mKeyboardInterrupt\u001b[0m                         Traceback (most recent call last)",
      "Cell \u001b[1;32mIn[88], line 93\u001b[0m\n\u001b[0;32m     90\u001b[0m \u001b[38;5;66;03m# Add area and centroid information to the iceberg vectors\u001b[39;00m\n\u001b[0;32m     91\u001b[0m target \u001b[38;5;241m=\u001b[39m areaAdded\u001b[38;5;241m.\u001b[39mfilter(ee\u001b[38;5;241m.\u001b[39mFilter\u001b[38;5;241m.\u001b[39mgt(\u001b[38;5;124m'\u001b[39m\u001b[38;5;124marea\u001b[39m\u001b[38;5;124m'\u001b[39m, area_min))\u001b[38;5;241m.\u001b[39mfilter(ee\u001b[38;5;241m.\u001b[39mFilter\u001b[38;5;241m.\u001b[39mlt(\u001b[38;5;124m'\u001b[39m\u001b[38;5;124marea\u001b[39m\u001b[38;5;124m'\u001b[39m, area_max))\n\u001b[1;32m---> 93\u001b[0m num \u001b[38;5;241m=\u001b[39m \u001b[43mtarget\u001b[49m\u001b[38;5;241;43m.\u001b[39;49m\u001b[43msize\u001b[49m\u001b[43m(\u001b[49m\u001b[43m)\u001b[49m\u001b[38;5;241;43m.\u001b[39;49m\u001b[43mgetInfo\u001b[49m\u001b[43m(\u001b[49m\u001b[43m)\u001b[49m\n\u001b[0;32m     94\u001b[0m features \u001b[38;5;241m=\u001b[39m target\u001b[38;5;241m.\u001b[39mgetInfo()[\u001b[38;5;124m'\u001b[39m\u001b[38;5;124mfeatures\u001b[39m\u001b[38;5;124m'\u001b[39m]\n\u001b[0;32m     96\u001b[0m \u001b[38;5;28mprint\u001b[39m(startdate \u001b[38;5;241m+\u001b[39m \u001b[38;5;124m\"\u001b[39m\u001b[38;5;124m ============================================\u001b[39m\u001b[38;5;124m\"\u001b[39m)\n",
      "File \u001b[1;32mc:\\Users\\q0gam\\anaconda3\\envs\\geoespacial\\lib\\site-packages\\ee\\computedobject.py:107\u001b[0m, in \u001b[0;36mComputedObject.getInfo\u001b[1;34m(self)\u001b[0m\n\u001b[0;32m    101\u001b[0m \u001b[38;5;28;01mdef\u001b[39;00m \u001b[38;5;21mgetInfo\u001b[39m(\u001b[38;5;28mself\u001b[39m) \u001b[38;5;241m-\u001b[39m\u001b[38;5;241m>\u001b[39m Optional[Any]:\n\u001b[0;32m    102\u001b[0m \u001b[38;5;250m  \u001b[39m\u001b[38;5;124;03m\"\"\"Fetch and return information about this object.\u001b[39;00m\n\u001b[0;32m    103\u001b[0m \n\u001b[0;32m    104\u001b[0m \u001b[38;5;124;03m  Returns:\u001b[39;00m\n\u001b[0;32m    105\u001b[0m \u001b[38;5;124;03m    The object can evaluate to anything.\u001b[39;00m\n\u001b[0;32m    106\u001b[0m \u001b[38;5;124;03m  \"\"\"\u001b[39;00m\n\u001b[1;32m--> 107\u001b[0m   \u001b[38;5;28;01mreturn\u001b[39;00m \u001b[43mdata\u001b[49m\u001b[38;5;241;43m.\u001b[39;49m\u001b[43mcomputeValue\u001b[49m\u001b[43m(\u001b[49m\u001b[38;5;28;43mself\u001b[39;49m\u001b[43m)\u001b[49m\n",
      "File \u001b[1;32mc:\\Users\\q0gam\\anaconda3\\envs\\geoespacial\\lib\\site-packages\\ee\\data.py:1107\u001b[0m, in \u001b[0;36mcomputeValue\u001b[1;34m(obj)\u001b[0m\n\u001b[0;32m   1104\u001b[0m body \u001b[38;5;241m=\u001b[39m {\u001b[38;5;124m'\u001b[39m\u001b[38;5;124mexpression\u001b[39m\u001b[38;5;124m'\u001b[39m: serializer\u001b[38;5;241m.\u001b[39mencode(obj, for_cloud_api\u001b[38;5;241m=\u001b[39m\u001b[38;5;28;01mTrue\u001b[39;00m)}\n\u001b[0;32m   1105\u001b[0m _maybe_populate_workload_tag(body)\n\u001b[1;32m-> 1107\u001b[0m \u001b[38;5;28;01mreturn\u001b[39;00m \u001b[43m_execute_cloud_call\u001b[49m\u001b[43m(\u001b[49m\n\u001b[0;32m   1108\u001b[0m \u001b[43m    \u001b[49m\u001b[43m_get_cloud_projects\u001b[49m\u001b[43m(\u001b[49m\u001b[43m)\u001b[49m\n\u001b[0;32m   1109\u001b[0m \u001b[43m    \u001b[49m\u001b[38;5;241;43m.\u001b[39;49m\u001b[43mvalue\u001b[49m\u001b[43m(\u001b[49m\u001b[43m)\u001b[49m\n\u001b[0;32m   1110\u001b[0m \u001b[43m    \u001b[49m\u001b[38;5;241;43m.\u001b[39;49m\u001b[43mcompute\u001b[49m\u001b[43m(\u001b[49m\u001b[43mbody\u001b[49m\u001b[38;5;241;43m=\u001b[39;49m\u001b[43mbody\u001b[49m\u001b[43m,\u001b[49m\u001b[43m \u001b[49m\u001b[43mproject\u001b[49m\u001b[38;5;241;43m=\u001b[39;49m\u001b[43m_get_projects_path\u001b[49m\u001b[43m(\u001b[49m\u001b[43m)\u001b[49m\u001b[43m,\u001b[49m\u001b[43m \u001b[49m\u001b[43mprettyPrint\u001b[49m\u001b[38;5;241;43m=\u001b[39;49m\u001b[38;5;28;43;01mFalse\u001b[39;49;00m\u001b[43m)\u001b[49m\n\u001b[0;32m   1111\u001b[0m \u001b[43m\u001b[49m\u001b[43m)\u001b[49m[\u001b[38;5;124m'\u001b[39m\u001b[38;5;124mresult\u001b[39m\u001b[38;5;124m'\u001b[39m]\n",
      "File \u001b[1;32mc:\\Users\\q0gam\\anaconda3\\envs\\geoespacial\\lib\\site-packages\\ee\\data.py:402\u001b[0m, in \u001b[0;36m_execute_cloud_call\u001b[1;34m(call, num_retries)\u001b[0m\n\u001b[0;32m    388\u001b[0m \u001b[38;5;250m\u001b[39m\u001b[38;5;124;03m\"\"\"Executes a Cloud API call and translates errors to EEExceptions.\u001b[39;00m\n\u001b[0;32m    389\u001b[0m \n\u001b[0;32m    390\u001b[0m \u001b[38;5;124;03mArgs:\u001b[39;00m\n\u001b[1;32m   (...)\u001b[0m\n\u001b[0;32m    399\u001b[0m \u001b[38;5;124;03m  EEException if the call fails.\u001b[39;00m\n\u001b[0;32m    400\u001b[0m \u001b[38;5;124;03m\"\"\"\u001b[39;00m\n\u001b[0;32m    401\u001b[0m \u001b[38;5;28;01mtry\u001b[39;00m:\n\u001b[1;32m--> 402\u001b[0m   \u001b[38;5;28;01mreturn\u001b[39;00m \u001b[43mcall\u001b[49m\u001b[38;5;241;43m.\u001b[39;49m\u001b[43mexecute\u001b[49m\u001b[43m(\u001b[49m\u001b[43mnum_retries\u001b[49m\u001b[38;5;241;43m=\u001b[39;49m\u001b[43mnum_retries\u001b[49m\u001b[43m)\u001b[49m\n\u001b[0;32m    403\u001b[0m \u001b[38;5;28;01mexcept\u001b[39;00m googleapiclient\u001b[38;5;241m.\u001b[39merrors\u001b[38;5;241m.\u001b[39mHttpError \u001b[38;5;28;01mas\u001b[39;00m e:\n\u001b[0;32m    404\u001b[0m   \u001b[38;5;28;01mraise\u001b[39;00m _translate_cloud_exception(e)\n",
      "File \u001b[1;32mc:\\Users\\q0gam\\anaconda3\\envs\\geoespacial\\lib\\site-packages\\googleapiclient\\_helpers.py:130\u001b[0m, in \u001b[0;36mpositional.<locals>.positional_decorator.<locals>.positional_wrapper\u001b[1;34m(*args, **kwargs)\u001b[0m\n\u001b[0;32m    128\u001b[0m     \u001b[38;5;28;01melif\u001b[39;00m positional_parameters_enforcement \u001b[38;5;241m==\u001b[39m POSITIONAL_WARNING:\n\u001b[0;32m    129\u001b[0m         logger\u001b[38;5;241m.\u001b[39mwarning(message)\n\u001b[1;32m--> 130\u001b[0m \u001b[38;5;28;01mreturn\u001b[39;00m wrapped(\u001b[38;5;241m*\u001b[39margs, \u001b[38;5;241m*\u001b[39m\u001b[38;5;241m*\u001b[39mkwargs)\n",
      "File \u001b[1;32mc:\\Users\\q0gam\\anaconda3\\envs\\geoespacial\\lib\\site-packages\\googleapiclient\\http.py:923\u001b[0m, in \u001b[0;36mHttpRequest.execute\u001b[1;34m(self, http, num_retries)\u001b[0m\n\u001b[0;32m    920\u001b[0m     \u001b[38;5;28mself\u001b[39m\u001b[38;5;241m.\u001b[39mheaders[\u001b[38;5;124m\"\u001b[39m\u001b[38;5;124mcontent-length\u001b[39m\u001b[38;5;124m\"\u001b[39m] \u001b[38;5;241m=\u001b[39m \u001b[38;5;28mstr\u001b[39m(\u001b[38;5;28mlen\u001b[39m(\u001b[38;5;28mself\u001b[39m\u001b[38;5;241m.\u001b[39mbody))\n\u001b[0;32m    922\u001b[0m \u001b[38;5;66;03m# Handle retries for server-side errors.\u001b[39;00m\n\u001b[1;32m--> 923\u001b[0m resp, content \u001b[38;5;241m=\u001b[39m \u001b[43m_retry_request\u001b[49m\u001b[43m(\u001b[49m\n\u001b[0;32m    924\u001b[0m \u001b[43m    \u001b[49m\u001b[43mhttp\u001b[49m\u001b[43m,\u001b[49m\n\u001b[0;32m    925\u001b[0m \u001b[43m    \u001b[49m\u001b[43mnum_retries\u001b[49m\u001b[43m,\u001b[49m\n\u001b[0;32m    926\u001b[0m \u001b[43m    \u001b[49m\u001b[38;5;124;43m\"\u001b[39;49m\u001b[38;5;124;43mrequest\u001b[39;49m\u001b[38;5;124;43m\"\u001b[39;49m\u001b[43m,\u001b[49m\n\u001b[0;32m    927\u001b[0m \u001b[43m    \u001b[49m\u001b[38;5;28;43mself\u001b[39;49m\u001b[38;5;241;43m.\u001b[39;49m\u001b[43m_sleep\u001b[49m\u001b[43m,\u001b[49m\n\u001b[0;32m    928\u001b[0m \u001b[43m    \u001b[49m\u001b[38;5;28;43mself\u001b[39;49m\u001b[38;5;241;43m.\u001b[39;49m\u001b[43m_rand\u001b[49m\u001b[43m,\u001b[49m\n\u001b[0;32m    929\u001b[0m \u001b[43m    \u001b[49m\u001b[38;5;28;43mstr\u001b[39;49m\u001b[43m(\u001b[49m\u001b[38;5;28;43mself\u001b[39;49m\u001b[38;5;241;43m.\u001b[39;49m\u001b[43muri\u001b[49m\u001b[43m)\u001b[49m\u001b[43m,\u001b[49m\n\u001b[0;32m    930\u001b[0m \u001b[43m    \u001b[49m\u001b[43mmethod\u001b[49m\u001b[38;5;241;43m=\u001b[39;49m\u001b[38;5;28;43mstr\u001b[39;49m\u001b[43m(\u001b[49m\u001b[38;5;28;43mself\u001b[39;49m\u001b[38;5;241;43m.\u001b[39;49m\u001b[43mmethod\u001b[49m\u001b[43m)\u001b[49m\u001b[43m,\u001b[49m\n\u001b[0;32m    931\u001b[0m \u001b[43m    \u001b[49m\u001b[43mbody\u001b[49m\u001b[38;5;241;43m=\u001b[39;49m\u001b[38;5;28;43mself\u001b[39;49m\u001b[38;5;241;43m.\u001b[39;49m\u001b[43mbody\u001b[49m\u001b[43m,\u001b[49m\n\u001b[0;32m    932\u001b[0m \u001b[43m    \u001b[49m\u001b[43mheaders\u001b[49m\u001b[38;5;241;43m=\u001b[39;49m\u001b[38;5;28;43mself\u001b[39;49m\u001b[38;5;241;43m.\u001b[39;49m\u001b[43mheaders\u001b[49m\u001b[43m,\u001b[49m\n\u001b[0;32m    933\u001b[0m \u001b[43m\u001b[49m\u001b[43m)\u001b[49m\n\u001b[0;32m    935\u001b[0m \u001b[38;5;28;01mfor\u001b[39;00m callback \u001b[38;5;129;01min\u001b[39;00m \u001b[38;5;28mself\u001b[39m\u001b[38;5;241m.\u001b[39mresponse_callbacks:\n\u001b[0;32m    936\u001b[0m     callback(resp)\n",
      "File \u001b[1;32mc:\\Users\\q0gam\\anaconda3\\envs\\geoespacial\\lib\\site-packages\\googleapiclient\\http.py:191\u001b[0m, in \u001b[0;36m_retry_request\u001b[1;34m(http, num_retries, req_type, sleep, rand, uri, method, *args, **kwargs)\u001b[0m\n\u001b[0;32m    189\u001b[0m \u001b[38;5;28;01mtry\u001b[39;00m:\n\u001b[0;32m    190\u001b[0m     exception \u001b[38;5;241m=\u001b[39m \u001b[38;5;28;01mNone\u001b[39;00m\n\u001b[1;32m--> 191\u001b[0m     resp, content \u001b[38;5;241m=\u001b[39m http\u001b[38;5;241m.\u001b[39mrequest(uri, method, \u001b[38;5;241m*\u001b[39margs, \u001b[38;5;241m*\u001b[39m\u001b[38;5;241m*\u001b[39mkwargs)\n\u001b[0;32m    192\u001b[0m \u001b[38;5;66;03m# Retry on SSL errors and socket timeout errors.\u001b[39;00m\n\u001b[0;32m    193\u001b[0m \u001b[38;5;28;01mexcept\u001b[39;00m _ssl_SSLError \u001b[38;5;28;01mas\u001b[39;00m ssl_error:\n",
      "File \u001b[1;32mc:\\Users\\q0gam\\anaconda3\\envs\\geoespacial\\lib\\site-packages\\google_auth_httplib2.py:218\u001b[0m, in \u001b[0;36mAuthorizedHttp.request\u001b[1;34m(self, uri, method, body, headers, redirections, connection_type, **kwargs)\u001b[0m\n\u001b[0;32m    215\u001b[0m     body_stream_position \u001b[38;5;241m=\u001b[39m body\u001b[38;5;241m.\u001b[39mtell()\n\u001b[0;32m    217\u001b[0m \u001b[38;5;66;03m# Make the request.\u001b[39;00m\n\u001b[1;32m--> 218\u001b[0m response, content \u001b[38;5;241m=\u001b[39m \u001b[38;5;28mself\u001b[39m\u001b[38;5;241m.\u001b[39mhttp\u001b[38;5;241m.\u001b[39mrequest(\n\u001b[0;32m    219\u001b[0m     uri,\n\u001b[0;32m    220\u001b[0m     method,\n\u001b[0;32m    221\u001b[0m     body\u001b[38;5;241m=\u001b[39mbody,\n\u001b[0;32m    222\u001b[0m     headers\u001b[38;5;241m=\u001b[39mrequest_headers,\n\u001b[0;32m    223\u001b[0m     redirections\u001b[38;5;241m=\u001b[39mredirections,\n\u001b[0;32m    224\u001b[0m     connection_type\u001b[38;5;241m=\u001b[39mconnection_type,\n\u001b[0;32m    225\u001b[0m     \u001b[38;5;241m*\u001b[39m\u001b[38;5;241m*\u001b[39mkwargs\n\u001b[0;32m    226\u001b[0m )\n\u001b[0;32m    228\u001b[0m \u001b[38;5;66;03m# If the response indicated that the credentials needed to be\u001b[39;00m\n\u001b[0;32m    229\u001b[0m \u001b[38;5;66;03m# refreshed, then refresh the credentials and re-attempt the\u001b[39;00m\n\u001b[0;32m    230\u001b[0m \u001b[38;5;66;03m# request.\u001b[39;00m\n\u001b[0;32m    231\u001b[0m \u001b[38;5;66;03m# A stored token may expire between the time it is retrieved and\u001b[39;00m\n\u001b[0;32m    232\u001b[0m \u001b[38;5;66;03m# the time the request is made, so we may need to try twice.\u001b[39;00m\n\u001b[0;32m    233\u001b[0m \u001b[38;5;28;01mif\u001b[39;00m (\n\u001b[0;32m    234\u001b[0m     response\u001b[38;5;241m.\u001b[39mstatus \u001b[38;5;129;01min\u001b[39;00m \u001b[38;5;28mself\u001b[39m\u001b[38;5;241m.\u001b[39m_refresh_status_codes\n\u001b[0;32m    235\u001b[0m     \u001b[38;5;129;01mand\u001b[39;00m _credential_refresh_attempt \u001b[38;5;241m<\u001b[39m \u001b[38;5;28mself\u001b[39m\u001b[38;5;241m.\u001b[39m_max_refresh_attempts\n\u001b[0;32m    236\u001b[0m ):\n",
      "File \u001b[1;32mc:\\Users\\q0gam\\anaconda3\\envs\\geoespacial\\lib\\site-packages\\ee\\_cloud_api_utils.py:70\u001b[0m, in \u001b[0;36m_Http.request\u001b[1;34m(***failed resolving arguments***)\u001b[0m\n\u001b[0;32m     63\u001b[0m \u001b[38;5;28;01mdel\u001b[39;00m redirections  \u001b[38;5;66;03m# Ignored\u001b[39;00m\n\u001b[0;32m     65\u001b[0m \u001b[38;5;28;01mtry\u001b[39;00m:\n\u001b[0;32m     66\u001b[0m   \u001b[38;5;66;03m# googleapiclient is expecting an httplib2 object, and doesn't include\u001b[39;00m\n\u001b[0;32m     67\u001b[0m   \u001b[38;5;66;03m# requests error in the list of transient errors. Therefore, transient\u001b[39;00m\n\u001b[0;32m     68\u001b[0m   \u001b[38;5;66;03m# requests errors should be converted to kinds that googleapiclient\u001b[39;00m\n\u001b[0;32m     69\u001b[0m   \u001b[38;5;66;03m# consider transient.\u001b[39;00m\n\u001b[1;32m---> 70\u001b[0m   response \u001b[38;5;241m=\u001b[39m \u001b[38;5;28;43mself\u001b[39;49m\u001b[38;5;241;43m.\u001b[39;49m\u001b[43m_session\u001b[49m\u001b[38;5;241;43m.\u001b[39;49m\u001b[43mrequest\u001b[49m\u001b[43m(\u001b[49m\n\u001b[0;32m     71\u001b[0m \u001b[43m      \u001b[49m\u001b[43mmethod\u001b[49m\u001b[43m,\u001b[49m\u001b[43m \u001b[49m\u001b[43muri\u001b[49m\u001b[43m,\u001b[49m\u001b[43m \u001b[49m\u001b[43mdata\u001b[49m\u001b[38;5;241;43m=\u001b[39;49m\u001b[43mbody\u001b[49m\u001b[43m,\u001b[49m\u001b[43m \u001b[49m\u001b[43mheaders\u001b[49m\u001b[38;5;241;43m=\u001b[39;49m\u001b[43mheaders\u001b[49m\u001b[43m,\u001b[49m\u001b[43m \u001b[49m\u001b[43mtimeout\u001b[49m\u001b[38;5;241;43m=\u001b[39;49m\u001b[38;5;28;43mself\u001b[39;49m\u001b[38;5;241;43m.\u001b[39;49m\u001b[43m_timeout\u001b[49m\n\u001b[0;32m     72\u001b[0m \u001b[43m  \u001b[49m\u001b[43m)\u001b[49m\n\u001b[0;32m     73\u001b[0m \u001b[38;5;28;01mexcept\u001b[39;00m requests\u001b[38;5;241m.\u001b[39mexceptions\u001b[38;5;241m.\u001b[39mConnectionError \u001b[38;5;28;01mas\u001b[39;00m connection_error:\n\u001b[0;32m     74\u001b[0m   \u001b[38;5;28;01mraise\u001b[39;00m \u001b[38;5;167;01mConnectionError\u001b[39;00m(connection_error) \u001b[38;5;28;01mfrom\u001b[39;00m \u001b[38;5;21;01mconnection_error\u001b[39;00m\n",
      "File \u001b[1;32mc:\\Users\\q0gam\\anaconda3\\envs\\geoespacial\\lib\\site-packages\\requests\\sessions.py:589\u001b[0m, in \u001b[0;36mSession.request\u001b[1;34m(self, method, url, params, data, headers, cookies, files, auth, timeout, allow_redirects, proxies, hooks, stream, verify, cert, json)\u001b[0m\n\u001b[0;32m    584\u001b[0m send_kwargs \u001b[38;5;241m=\u001b[39m {\n\u001b[0;32m    585\u001b[0m     \u001b[38;5;124m\"\u001b[39m\u001b[38;5;124mtimeout\u001b[39m\u001b[38;5;124m\"\u001b[39m: timeout,\n\u001b[0;32m    586\u001b[0m     \u001b[38;5;124m\"\u001b[39m\u001b[38;5;124mallow_redirects\u001b[39m\u001b[38;5;124m\"\u001b[39m: allow_redirects,\n\u001b[0;32m    587\u001b[0m }\n\u001b[0;32m    588\u001b[0m send_kwargs\u001b[38;5;241m.\u001b[39mupdate(settings)\n\u001b[1;32m--> 589\u001b[0m resp \u001b[38;5;241m=\u001b[39m \u001b[38;5;28mself\u001b[39m\u001b[38;5;241m.\u001b[39msend(prep, \u001b[38;5;241m*\u001b[39m\u001b[38;5;241m*\u001b[39msend_kwargs)\n\u001b[0;32m    591\u001b[0m \u001b[38;5;28;01mreturn\u001b[39;00m resp\n",
      "File \u001b[1;32mc:\\Users\\q0gam\\anaconda3\\envs\\geoespacial\\lib\\site-packages\\requests\\sessions.py:703\u001b[0m, in \u001b[0;36mSession.send\u001b[1;34m(self, request, **kwargs)\u001b[0m\n\u001b[0;32m    700\u001b[0m start \u001b[38;5;241m=\u001b[39m preferred_clock()\n\u001b[0;32m    702\u001b[0m \u001b[38;5;66;03m# Send the request\u001b[39;00m\n\u001b[1;32m--> 703\u001b[0m r \u001b[38;5;241m=\u001b[39m adapter\u001b[38;5;241m.\u001b[39msend(request, \u001b[38;5;241m*\u001b[39m\u001b[38;5;241m*\u001b[39mkwargs)\n\u001b[0;32m    705\u001b[0m \u001b[38;5;66;03m# Total elapsed time of the request (approximately)\u001b[39;00m\n\u001b[0;32m    706\u001b[0m elapsed \u001b[38;5;241m=\u001b[39m preferred_clock() \u001b[38;5;241m-\u001b[39m start\n",
      "File \u001b[1;32mc:\\Users\\q0gam\\anaconda3\\envs\\geoespacial\\lib\\site-packages\\requests\\adapters.py:486\u001b[0m, in \u001b[0;36mHTTPAdapter.send\u001b[1;34m(self, request, stream, timeout, verify, cert, proxies)\u001b[0m\n\u001b[0;32m    483\u001b[0m     timeout \u001b[38;5;241m=\u001b[39m TimeoutSauce(connect\u001b[38;5;241m=\u001b[39mtimeout, read\u001b[38;5;241m=\u001b[39mtimeout)\n\u001b[0;32m    485\u001b[0m \u001b[38;5;28;01mtry\u001b[39;00m:\n\u001b[1;32m--> 486\u001b[0m     resp \u001b[38;5;241m=\u001b[39m \u001b[43mconn\u001b[49m\u001b[38;5;241;43m.\u001b[39;49m\u001b[43murlopen\u001b[49m\u001b[43m(\u001b[49m\n\u001b[0;32m    487\u001b[0m \u001b[43m        \u001b[49m\u001b[43mmethod\u001b[49m\u001b[38;5;241;43m=\u001b[39;49m\u001b[43mrequest\u001b[49m\u001b[38;5;241;43m.\u001b[39;49m\u001b[43mmethod\u001b[49m\u001b[43m,\u001b[49m\n\u001b[0;32m    488\u001b[0m \u001b[43m        \u001b[49m\u001b[43murl\u001b[49m\u001b[38;5;241;43m=\u001b[39;49m\u001b[43murl\u001b[49m\u001b[43m,\u001b[49m\n\u001b[0;32m    489\u001b[0m \u001b[43m        \u001b[49m\u001b[43mbody\u001b[49m\u001b[38;5;241;43m=\u001b[39;49m\u001b[43mrequest\u001b[49m\u001b[38;5;241;43m.\u001b[39;49m\u001b[43mbody\u001b[49m\u001b[43m,\u001b[49m\n\u001b[0;32m    490\u001b[0m \u001b[43m        \u001b[49m\u001b[43mheaders\u001b[49m\u001b[38;5;241;43m=\u001b[39;49m\u001b[43mrequest\u001b[49m\u001b[38;5;241;43m.\u001b[39;49m\u001b[43mheaders\u001b[49m\u001b[43m,\u001b[49m\n\u001b[0;32m    491\u001b[0m \u001b[43m        \u001b[49m\u001b[43mredirect\u001b[49m\u001b[38;5;241;43m=\u001b[39;49m\u001b[38;5;28;43;01mFalse\u001b[39;49;00m\u001b[43m,\u001b[49m\n\u001b[0;32m    492\u001b[0m \u001b[43m        \u001b[49m\u001b[43massert_same_host\u001b[49m\u001b[38;5;241;43m=\u001b[39;49m\u001b[38;5;28;43;01mFalse\u001b[39;49;00m\u001b[43m,\u001b[49m\n\u001b[0;32m    493\u001b[0m \u001b[43m        \u001b[49m\u001b[43mpreload_content\u001b[49m\u001b[38;5;241;43m=\u001b[39;49m\u001b[38;5;28;43;01mFalse\u001b[39;49;00m\u001b[43m,\u001b[49m\n\u001b[0;32m    494\u001b[0m \u001b[43m        \u001b[49m\u001b[43mdecode_content\u001b[49m\u001b[38;5;241;43m=\u001b[39;49m\u001b[38;5;28;43;01mFalse\u001b[39;49;00m\u001b[43m,\u001b[49m\n\u001b[0;32m    495\u001b[0m \u001b[43m        \u001b[49m\u001b[43mretries\u001b[49m\u001b[38;5;241;43m=\u001b[39;49m\u001b[38;5;28;43mself\u001b[39;49m\u001b[38;5;241;43m.\u001b[39;49m\u001b[43mmax_retries\u001b[49m\u001b[43m,\u001b[49m\n\u001b[0;32m    496\u001b[0m \u001b[43m        \u001b[49m\u001b[43mtimeout\u001b[49m\u001b[38;5;241;43m=\u001b[39;49m\u001b[43mtimeout\u001b[49m\u001b[43m,\u001b[49m\n\u001b[0;32m    497\u001b[0m \u001b[43m        \u001b[49m\u001b[43mchunked\u001b[49m\u001b[38;5;241;43m=\u001b[39;49m\u001b[43mchunked\u001b[49m\u001b[43m,\u001b[49m\n\u001b[0;32m    498\u001b[0m \u001b[43m    \u001b[49m\u001b[43m)\u001b[49m\n\u001b[0;32m    500\u001b[0m \u001b[38;5;28;01mexcept\u001b[39;00m (ProtocolError, \u001b[38;5;167;01mOSError\u001b[39;00m) \u001b[38;5;28;01mas\u001b[39;00m err:\n\u001b[0;32m    501\u001b[0m     \u001b[38;5;28;01mraise\u001b[39;00m \u001b[38;5;167;01mConnectionError\u001b[39;00m(err, request\u001b[38;5;241m=\u001b[39mrequest)\n",
      "File \u001b[1;32mc:\\Users\\q0gam\\anaconda3\\envs\\geoespacial\\lib\\site-packages\\urllib3\\connectionpool.py:715\u001b[0m, in \u001b[0;36mHTTPConnectionPool.urlopen\u001b[1;34m(self, method, url, body, headers, retries, redirect, assert_same_host, timeout, pool_timeout, release_conn, chunked, body_pos, **response_kw)\u001b[0m\n\u001b[0;32m    712\u001b[0m     \u001b[38;5;28mself\u001b[39m\u001b[38;5;241m.\u001b[39m_prepare_proxy(conn)\n\u001b[0;32m    714\u001b[0m \u001b[38;5;66;03m# Make the request on the httplib connection object.\u001b[39;00m\n\u001b[1;32m--> 715\u001b[0m httplib_response \u001b[38;5;241m=\u001b[39m \u001b[38;5;28;43mself\u001b[39;49m\u001b[38;5;241;43m.\u001b[39;49m\u001b[43m_make_request\u001b[49m\u001b[43m(\u001b[49m\n\u001b[0;32m    716\u001b[0m \u001b[43m    \u001b[49m\u001b[43mconn\u001b[49m\u001b[43m,\u001b[49m\n\u001b[0;32m    717\u001b[0m \u001b[43m    \u001b[49m\u001b[43mmethod\u001b[49m\u001b[43m,\u001b[49m\n\u001b[0;32m    718\u001b[0m \u001b[43m    \u001b[49m\u001b[43murl\u001b[49m\u001b[43m,\u001b[49m\n\u001b[0;32m    719\u001b[0m \u001b[43m    \u001b[49m\u001b[43mtimeout\u001b[49m\u001b[38;5;241;43m=\u001b[39;49m\u001b[43mtimeout_obj\u001b[49m\u001b[43m,\u001b[49m\n\u001b[0;32m    720\u001b[0m \u001b[43m    \u001b[49m\u001b[43mbody\u001b[49m\u001b[38;5;241;43m=\u001b[39;49m\u001b[43mbody\u001b[49m\u001b[43m,\u001b[49m\n\u001b[0;32m    721\u001b[0m \u001b[43m    \u001b[49m\u001b[43mheaders\u001b[49m\u001b[38;5;241;43m=\u001b[39;49m\u001b[43mheaders\u001b[49m\u001b[43m,\u001b[49m\n\u001b[0;32m    722\u001b[0m \u001b[43m    \u001b[49m\u001b[43mchunked\u001b[49m\u001b[38;5;241;43m=\u001b[39;49m\u001b[43mchunked\u001b[49m\u001b[43m,\u001b[49m\n\u001b[0;32m    723\u001b[0m \u001b[43m\u001b[49m\u001b[43m)\u001b[49m\n\u001b[0;32m    725\u001b[0m \u001b[38;5;66;03m# If we're going to release the connection in ``finally:``, then\u001b[39;00m\n\u001b[0;32m    726\u001b[0m \u001b[38;5;66;03m# the response doesn't need to know about the connection. Otherwise\u001b[39;00m\n\u001b[0;32m    727\u001b[0m \u001b[38;5;66;03m# it will also try to release it and we'll have a double-release\u001b[39;00m\n\u001b[0;32m    728\u001b[0m \u001b[38;5;66;03m# mess.\u001b[39;00m\n\u001b[0;32m    729\u001b[0m response_conn \u001b[38;5;241m=\u001b[39m conn \u001b[38;5;28;01mif\u001b[39;00m \u001b[38;5;129;01mnot\u001b[39;00m release_conn \u001b[38;5;28;01melse\u001b[39;00m \u001b[38;5;28;01mNone\u001b[39;00m\n",
      "File \u001b[1;32mc:\\Users\\q0gam\\anaconda3\\envs\\geoespacial\\lib\\site-packages\\urllib3\\connectionpool.py:467\u001b[0m, in \u001b[0;36mHTTPConnectionPool._make_request\u001b[1;34m(self, conn, method, url, timeout, chunked, **httplib_request_kw)\u001b[0m\n\u001b[0;32m    462\u001b[0m             httplib_response \u001b[38;5;241m=\u001b[39m conn\u001b[38;5;241m.\u001b[39mgetresponse()\n\u001b[0;32m    463\u001b[0m         \u001b[38;5;28;01mexcept\u001b[39;00m \u001b[38;5;167;01mBaseException\u001b[39;00m \u001b[38;5;28;01mas\u001b[39;00m e:\n\u001b[0;32m    464\u001b[0m             \u001b[38;5;66;03m# Remove the TypeError from the exception chain in\u001b[39;00m\n\u001b[0;32m    465\u001b[0m             \u001b[38;5;66;03m# Python 3 (including for exceptions like SystemExit).\u001b[39;00m\n\u001b[0;32m    466\u001b[0m             \u001b[38;5;66;03m# Otherwise it looks like a bug in the code.\u001b[39;00m\n\u001b[1;32m--> 467\u001b[0m             \u001b[43msix\u001b[49m\u001b[38;5;241;43m.\u001b[39;49m\u001b[43mraise_from\u001b[49m\u001b[43m(\u001b[49m\u001b[43me\u001b[49m\u001b[43m,\u001b[49m\u001b[43m \u001b[49m\u001b[38;5;28;43;01mNone\u001b[39;49;00m\u001b[43m)\u001b[49m\n\u001b[0;32m    468\u001b[0m \u001b[38;5;28;01mexcept\u001b[39;00m (SocketTimeout, BaseSSLError, SocketError) \u001b[38;5;28;01mas\u001b[39;00m e:\n\u001b[0;32m    469\u001b[0m     \u001b[38;5;28mself\u001b[39m\u001b[38;5;241m.\u001b[39m_raise_timeout(err\u001b[38;5;241m=\u001b[39me, url\u001b[38;5;241m=\u001b[39murl, timeout_value\u001b[38;5;241m=\u001b[39mread_timeout)\n",
      "File \u001b[1;32m<string>:3\u001b[0m, in \u001b[0;36mraise_from\u001b[1;34m(value, from_value)\u001b[0m\n",
      "File \u001b[1;32mc:\\Users\\q0gam\\anaconda3\\envs\\geoespacial\\lib\\site-packages\\urllib3\\connectionpool.py:462\u001b[0m, in \u001b[0;36mHTTPConnectionPool._make_request\u001b[1;34m(self, conn, method, url, timeout, chunked, **httplib_request_kw)\u001b[0m\n\u001b[0;32m    459\u001b[0m \u001b[38;5;28;01mexcept\u001b[39;00m \u001b[38;5;167;01mTypeError\u001b[39;00m:\n\u001b[0;32m    460\u001b[0m     \u001b[38;5;66;03m# Python 3\u001b[39;00m\n\u001b[0;32m    461\u001b[0m     \u001b[38;5;28;01mtry\u001b[39;00m:\n\u001b[1;32m--> 462\u001b[0m         httplib_response \u001b[38;5;241m=\u001b[39m \u001b[43mconn\u001b[49m\u001b[38;5;241;43m.\u001b[39;49m\u001b[43mgetresponse\u001b[49m\u001b[43m(\u001b[49m\u001b[43m)\u001b[49m\n\u001b[0;32m    463\u001b[0m     \u001b[38;5;28;01mexcept\u001b[39;00m \u001b[38;5;167;01mBaseException\u001b[39;00m \u001b[38;5;28;01mas\u001b[39;00m e:\n\u001b[0;32m    464\u001b[0m         \u001b[38;5;66;03m# Remove the TypeError from the exception chain in\u001b[39;00m\n\u001b[0;32m    465\u001b[0m         \u001b[38;5;66;03m# Python 3 (including for exceptions like SystemExit).\u001b[39;00m\n\u001b[0;32m    466\u001b[0m         \u001b[38;5;66;03m# Otherwise it looks like a bug in the code.\u001b[39;00m\n\u001b[0;32m    467\u001b[0m         six\u001b[38;5;241m.\u001b[39mraise_from(e, \u001b[38;5;28;01mNone\u001b[39;00m)\n",
      "File \u001b[1;32mc:\\Users\\q0gam\\anaconda3\\envs\\geoespacial\\lib\\http\\client.py:1377\u001b[0m, in \u001b[0;36mHTTPConnection.getresponse\u001b[1;34m(self)\u001b[0m\n\u001b[0;32m   1375\u001b[0m \u001b[38;5;28;01mtry\u001b[39;00m:\n\u001b[0;32m   1376\u001b[0m     \u001b[38;5;28;01mtry\u001b[39;00m:\n\u001b[1;32m-> 1377\u001b[0m         \u001b[43mresponse\u001b[49m\u001b[38;5;241;43m.\u001b[39;49m\u001b[43mbegin\u001b[49m\u001b[43m(\u001b[49m\u001b[43m)\u001b[49m\n\u001b[0;32m   1378\u001b[0m     \u001b[38;5;28;01mexcept\u001b[39;00m \u001b[38;5;167;01mConnectionError\u001b[39;00m:\n\u001b[0;32m   1379\u001b[0m         \u001b[38;5;28mself\u001b[39m\u001b[38;5;241m.\u001b[39mclose()\n",
      "File \u001b[1;32mc:\\Users\\q0gam\\anaconda3\\envs\\geoespacial\\lib\\http\\client.py:320\u001b[0m, in \u001b[0;36mHTTPResponse.begin\u001b[1;34m(self)\u001b[0m\n\u001b[0;32m    318\u001b[0m \u001b[38;5;66;03m# read until we get a non-100 response\u001b[39;00m\n\u001b[0;32m    319\u001b[0m \u001b[38;5;28;01mwhile\u001b[39;00m \u001b[38;5;28;01mTrue\u001b[39;00m:\n\u001b[1;32m--> 320\u001b[0m     version, status, reason \u001b[38;5;241m=\u001b[39m \u001b[38;5;28;43mself\u001b[39;49m\u001b[38;5;241;43m.\u001b[39;49m\u001b[43m_read_status\u001b[49m\u001b[43m(\u001b[49m\u001b[43m)\u001b[49m\n\u001b[0;32m    321\u001b[0m     \u001b[38;5;28;01mif\u001b[39;00m status \u001b[38;5;241m!=\u001b[39m CONTINUE:\n\u001b[0;32m    322\u001b[0m         \u001b[38;5;28;01mbreak\u001b[39;00m\n",
      "File \u001b[1;32mc:\\Users\\q0gam\\anaconda3\\envs\\geoespacial\\lib\\http\\client.py:281\u001b[0m, in \u001b[0;36mHTTPResponse._read_status\u001b[1;34m(self)\u001b[0m\n\u001b[0;32m    280\u001b[0m \u001b[38;5;28;01mdef\u001b[39;00m \u001b[38;5;21m_read_status\u001b[39m(\u001b[38;5;28mself\u001b[39m):\n\u001b[1;32m--> 281\u001b[0m     line \u001b[38;5;241m=\u001b[39m \u001b[38;5;28mstr\u001b[39m(\u001b[38;5;28;43mself\u001b[39;49m\u001b[38;5;241;43m.\u001b[39;49m\u001b[43mfp\u001b[49m\u001b[38;5;241;43m.\u001b[39;49m\u001b[43mreadline\u001b[49m\u001b[43m(\u001b[49m\u001b[43m_MAXLINE\u001b[49m\u001b[43m \u001b[49m\u001b[38;5;241;43m+\u001b[39;49m\u001b[43m \u001b[49m\u001b[38;5;241;43m1\u001b[39;49m\u001b[43m)\u001b[49m, \u001b[38;5;124m\"\u001b[39m\u001b[38;5;124miso-8859-1\u001b[39m\u001b[38;5;124m\"\u001b[39m)\n\u001b[0;32m    282\u001b[0m     \u001b[38;5;28;01mif\u001b[39;00m \u001b[38;5;28mlen\u001b[39m(line) \u001b[38;5;241m>\u001b[39m _MAXLINE:\n\u001b[0;32m    283\u001b[0m         \u001b[38;5;28;01mraise\u001b[39;00m LineTooLong(\u001b[38;5;124m\"\u001b[39m\u001b[38;5;124mstatus line\u001b[39m\u001b[38;5;124m\"\u001b[39m)\n",
      "File \u001b[1;32mc:\\Users\\q0gam\\anaconda3\\envs\\geoespacial\\lib\\socket.py:704\u001b[0m, in \u001b[0;36mSocketIO.readinto\u001b[1;34m(self, b)\u001b[0m\n\u001b[0;32m    702\u001b[0m \u001b[38;5;28;01mwhile\u001b[39;00m \u001b[38;5;28;01mTrue\u001b[39;00m:\n\u001b[0;32m    703\u001b[0m     \u001b[38;5;28;01mtry\u001b[39;00m:\n\u001b[1;32m--> 704\u001b[0m         \u001b[38;5;28;01mreturn\u001b[39;00m \u001b[38;5;28;43mself\u001b[39;49m\u001b[38;5;241;43m.\u001b[39;49m\u001b[43m_sock\u001b[49m\u001b[38;5;241;43m.\u001b[39;49m\u001b[43mrecv_into\u001b[49m\u001b[43m(\u001b[49m\u001b[43mb\u001b[49m\u001b[43m)\u001b[49m\n\u001b[0;32m    705\u001b[0m     \u001b[38;5;28;01mexcept\u001b[39;00m timeout:\n\u001b[0;32m    706\u001b[0m         \u001b[38;5;28mself\u001b[39m\u001b[38;5;241m.\u001b[39m_timeout_occurred \u001b[38;5;241m=\u001b[39m \u001b[38;5;28;01mTrue\u001b[39;00m\n",
      "File \u001b[1;32mc:\\Users\\q0gam\\anaconda3\\envs\\geoespacial\\lib\\ssl.py:1275\u001b[0m, in \u001b[0;36mSSLSocket.recv_into\u001b[1;34m(self, buffer, nbytes, flags)\u001b[0m\n\u001b[0;32m   1271\u001b[0m     \u001b[38;5;28;01mif\u001b[39;00m flags \u001b[38;5;241m!=\u001b[39m \u001b[38;5;241m0\u001b[39m:\n\u001b[0;32m   1272\u001b[0m         \u001b[38;5;28;01mraise\u001b[39;00m \u001b[38;5;167;01mValueError\u001b[39;00m(\n\u001b[0;32m   1273\u001b[0m           \u001b[38;5;124m\"\u001b[39m\u001b[38;5;124mnon-zero flags not allowed in calls to recv_into() on \u001b[39m\u001b[38;5;132;01m%s\u001b[39;00m\u001b[38;5;124m\"\u001b[39m \u001b[38;5;241m%\u001b[39m\n\u001b[0;32m   1274\u001b[0m           \u001b[38;5;28mself\u001b[39m\u001b[38;5;241m.\u001b[39m\u001b[38;5;18m__class__\u001b[39m)\n\u001b[1;32m-> 1275\u001b[0m     \u001b[38;5;28;01mreturn\u001b[39;00m \u001b[38;5;28;43mself\u001b[39;49m\u001b[38;5;241;43m.\u001b[39;49m\u001b[43mread\u001b[49m\u001b[43m(\u001b[49m\u001b[43mnbytes\u001b[49m\u001b[43m,\u001b[49m\u001b[43m \u001b[49m\u001b[43mbuffer\u001b[49m\u001b[43m)\u001b[49m\n\u001b[0;32m   1276\u001b[0m \u001b[38;5;28;01melse\u001b[39;00m:\n\u001b[0;32m   1277\u001b[0m     \u001b[38;5;28;01mreturn\u001b[39;00m \u001b[38;5;28msuper\u001b[39m()\u001b[38;5;241m.\u001b[39mrecv_into(buffer, nbytes, flags)\n",
      "File \u001b[1;32mc:\\Users\\q0gam\\anaconda3\\envs\\geoespacial\\lib\\ssl.py:1133\u001b[0m, in \u001b[0;36mSSLSocket.read\u001b[1;34m(self, len, buffer)\u001b[0m\n\u001b[0;32m   1131\u001b[0m \u001b[38;5;28;01mtry\u001b[39;00m:\n\u001b[0;32m   1132\u001b[0m     \u001b[38;5;28;01mif\u001b[39;00m buffer \u001b[38;5;129;01mis\u001b[39;00m \u001b[38;5;129;01mnot\u001b[39;00m \u001b[38;5;28;01mNone\u001b[39;00m:\n\u001b[1;32m-> 1133\u001b[0m         \u001b[38;5;28;01mreturn\u001b[39;00m \u001b[38;5;28;43mself\u001b[39;49m\u001b[38;5;241;43m.\u001b[39;49m\u001b[43m_sslobj\u001b[49m\u001b[38;5;241;43m.\u001b[39;49m\u001b[43mread\u001b[49m\u001b[43m(\u001b[49m\u001b[38;5;28;43mlen\u001b[39;49m\u001b[43m,\u001b[49m\u001b[43m \u001b[49m\u001b[43mbuffer\u001b[49m\u001b[43m)\u001b[49m\n\u001b[0;32m   1134\u001b[0m     \u001b[38;5;28;01melse\u001b[39;00m:\n\u001b[0;32m   1135\u001b[0m         \u001b[38;5;28;01mreturn\u001b[39;00m \u001b[38;5;28mself\u001b[39m\u001b[38;5;241m.\u001b[39m_sslobj\u001b[38;5;241m.\u001b[39mread(\u001b[38;5;28mlen\u001b[39m)\n",
      "\u001b[1;31mKeyboardInterrupt\u001b[0m: "
     ]
    },
    {
     "data": {
      "image/png": "[encoded data removed]",
      "text/plain": [
       "<Figure size 1000x500 with 1 Axes>"
      ]
     },
     "metadata": {},
     "output_type": "display_data"
    }
   ],
   "source": [
    "vectorscale = 40\n",
    "\n",
    "fig = plt.subplots(figsize = (10, 5))\n",
    "plt.plot(hist1['reference'][1][:-1], hist1['reference'][0], label = \"reference\", color = \"k\", linestyle = \"--\")\n",
    "\n",
    "for day in day_range:\n",
    "    \n",
    "    month = dt.datetime.strptime(startdate, \"%Y-%m-%d\").month\n",
    "    band = [\"HH\", \"angle\"]  # intersted band\n",
    "    \n",
    "    aoi = ee.Geometry.Point(center).buffer(buf_dist)\n",
    "\n",
    "    # Utilizamos las imagenes HH de Sentinel-1\n",
    "    S1A = ee.ImageCollection(\"COPERNICUS/S1_GRD\")\\\n",
    "    .filterDate(startdate, enddate)\\\n",
    "    .filterBounds(aoi)\\\n",
    "    .filter(ee.Filter.listContains('transmitterReceiverPolarisation', \"HH\"))\n",
    "    \n",
    "    if S1A.size().getInfo() > 0:\n",
    "        imageA = S1A.select(band).mean().clip(aoi) # clip image into ROI\n",
    "\n",
    "        seeds = ee.Algorithms.Image.Segmentation.seedGrid(80);\n",
    "        \n",
    "        # Gaussian kernel to softening the image (remove some salt and pepper noise)\n",
    "        kernel = ee.Kernel.gaussian(3)\n",
    "        img1 = imageA.convolve(kernel)\n",
    "        img = img1.select(['HH', 'angle'], ['HH', 'angle'])\n",
    "        \n",
    "        \n",
    "        \n",
    "        # segmentamos la imagen con SNIC\n",
    "        # size = 20, compactness= 5, connectivity= 8, neighborhoodSize = 256\n",
    "        snic = ee.Algorithms.Image.Segmentation.SNIC(img, 20, 5, 8, 256, seeds)\\\n",
    "        .select([\"HH_mean\", \"angle_mean\", \"clusters\"], [\"HH\", \"angle\", \"clusters\"])\n",
    "        \n",
    "        segments = snic.select(\"clusters\").reduceToVectors(\n",
    "            geometry = snic.geometry(),\n",
    "            scale = vectorscale,\n",
    "            geometryType = 'polygon',            \n",
    "            maxPixels = 1e20\n",
    "        )     \n",
    "        \n",
    "        segimageA = segments.reduceToImage(\n",
    "            properties = ['label'],\n",
    "            reducer = ee.Reducer.first()\n",
    "        ).rename('id')       \n",
    "\n",
    "        # dividimos los valores HH por los valores de la banda angle para mejorar el contraste entre los icebergs y el mar abierto o el hielo circundante.\n",
    "        ratio = snic.select(\"HH\").divide(snic.select(\"angle\"))\n",
    "        # mantenemos solo los valores mayores que -0.2 (icebergs)\n",
    "        icebergs = ratio.gt(-0.2).selfMask()     \n",
    "        \n",
    "        # convertimos los iceberg raster a vectores\n",
    "        vectors = icebergs.reduceToVectors(\n",
    "            geometry = icebergs.geometry(),\n",
    "            scale = vectorscale,\n",
    "            geometryType = 'polygon',            \n",
    "            maxPixels = 1e20)\n",
    "\n",
    "        # permitimos un margen de error del 20% en el area de los icebergs respecto al iceberg objetivo\n",
    "        area_max = area0 * 1.2\n",
    "        area_min = area0 * 0.8\n",
    "        # obtenemos el area y el centroide de los icebergs\n",
    "        areaAdded = vectors.map(addArea)\n",
    "        # filtramos los icebergs que tienen un area entre el 80% y el 120% del area objetivo\n",
    "        target = areaAdded.filter(ee.Filter.gt('area', area_min)).filter(ee.Filter.lt('area', area_max))\n",
    "        \n",
    "        num = target.size().getInfo()\n",
    "        features = target.getInfo()['features']\n",
    "        \n",
    "        print(startdate + \" ============================================\")\n",
    "        threshold = 0.70\n",
    "        \n",
    "        for k in range(0, num):\n",
    "            \n",
    "            area = features[k]['properties']['area']\n",
    "            centroid = features[k]['properties']['centroid']['coordinates']\n",
    "            polygon = ee.FeatureCollection(ee.Geometry.Polygon(features[k]['geometry']['coordinates'][0]))\n",
    "            sources = ee.Image().toByte().paint(ee.Geometry.Point(centroid), 1);\n",
    "            covers = snic.select('HH').multiply(0).add(1)\n",
    "            \n",
    "            cumCost = covers.cumulativeCost(\n",
    "                source = sources,\n",
    "                maxDistance = 30000,\n",
    "                geodeticDistance = True\n",
    "            ).clip(polygon)\n",
    "\n",
    "            result = cumCost.reduceRegion(ee.Reducer.toList(), polygon, scale = 200)\n",
    "            cumdist = result.getInfo()['cumulative_cost']\n",
    "            B = np.histogram(cumdist, int(max_pix/scale), [0, max_pix])  \n",
    "            \n",
    "            diff = abs(hist1['reference'][0] - B[0])\n",
    "            similarity = 1-np.sum(diff)/np.sum(hist1['reference'][0])          \n",
    "            \n",
    "            print(\"Feature {0} >>> area: {1} km^2, centroid: [{2}, {3}], similarity: {4}\".format(\n",
    "                k, round(area/1e6,2), round(centroid[0],3), round(centroid[1], 3), round(similarity, 3)\n",
    "            ))                       \n",
    "            \n",
    "            if similarity >= threshold:\n",
    "                \n",
    "                ice_area[startdate] = area\n",
    "                ice_centroid[startdate] = centroid\n",
    "                hist1[startdate] = B \n",
    "                plt.plot(B[1][:-1], B[0], label = startdate + \"_\" + str(k))\n",
    "                  \n",
    "                threshold = similarity\n",
    "                \n",
    "                def add_columns(feature):\n",
    "                    return feature.set({\"area\": feature.geometry().area(10),\n",
    "                                        \"centroid\": feature.geometry().centroid(10),\n",
    "                                        \"similarity\": similarity,\n",
    "                                        \"refdate\": '2017-05-01'});\n",
    "                \n",
    "                polygon2 = polygon.map(add_columns)\n",
    "                \n",
    "                task = ee.batch.Export.table.toDrive(\n",
    "                    collection = polygon2,\n",
    "                    folder = 'Iceberg_tracking_auto',\n",
    "                    description = \"Iceberg_{0}\".format(startdate),\n",
    "                    fileFormat = 'KML'\n",
    "                )\n",
    "                \n",
    "                # task.start()\n",
    "                \n",
    "                print(\"... exporting task for {0}\".format(startdate))\n",
    "                \n",
    "                ## Mapping images ==========================================\n",
    "                # Original image -----------------------------------\n",
    "                vis_seg = {'bands': [\"HH\"], 'min': -30, 'max': 0, 'region': aoi}\n",
    "                mapid_seg[startdate] = img.getMapId(vis_seg)\n",
    "\n",
    "                folium.TileLayer(\n",
    "                  tiles=mapid_seg[startdate]['tile_fetcher'].url_format,\n",
    "                  attr='Map Data &copy; <a href=\"https://earthengine.google.com/\">Google Earth Engine</a>',\n",
    "                  overlay=True,\n",
    "                  name='S1_{0}'.format(startdate),\n",
    "                ).add_to(map1)\n",
    "                \n",
    "                # Segmentation result -----------------------------------\n",
    "                vis_seg = {'color': 'red'}\n",
    "                seg_tile = segments.getMapId(vis_seg)\n",
    "\n",
    "                folium.TileLayer(\n",
    "                  tiles=seg_tile['tile_fetcher'].url_format,\n",
    "                  attr='Map Data &copy; <a href=\"https://earthengine.google.com/\">Google Earth Engine</a>',\n",
    "                  overlay=True,\n",
    "                  name=\"seg_\" + startdate,\n",
    "                ).add_to(map1)\n",
    "        \n",
    "                vis_target = {'color': color_codes[month-1]}\n",
    "                mapid_target = polygon.getMapId(vis_target) \n",
    "\n",
    "                # Map of iceberg vectors ---------------------------------\n",
    "                folium.TileLayer(\n",
    "                    tiles=mapid_target['tile_fetcher'].url_format,\n",
    "                    attr='Map Data &copy; <a href=\"https://earthengine.google.com/\">Google Earth Engine</a>',\n",
    "                    overlay=True,\n",
    "                    name=startdate + \"_\" + str(k),\n",
    "                ).add_to(map1) \n",
    "                ## ===========================================================\n",
    "                \n",
    "                center = centroid\n",
    "                buf_dist = 0\n",
    "            \n",
    "            \n",
    "    if (buf_dist > 250000) or (startdate == \"2020-07-01\"): # If the buffer distance become so large, break the loop\n",
    "        print(\"!!! STOP !!! buffer {0} km ( {1} )\".format(buf_dist, startdate))\n",
    "        break\n",
    "    \n",
    "    buf_dist += 25000 # add 25 km buffer for everyday searching process\n",
    "    startdate = enddate\n",
    "    enddate = (dt.datetime.strptime(enddate, \"%Y-%m-%d\") + dt.timedelta(days=1)).strftime(\"%Y-%m-%d\")\n",
    "\n",
    "plt.legend()\n",
    "map1.add_child(folium.LayerControl())\n",
    "map1"
   ]
  },
  {
   "cell_type": "code",
   "execution_count": null,
   "metadata": {},
   "outputs": [],
   "source": [
    "ice_area = {}\n",
    "ice_centroid = {}\n",
    "mapid_seg = {}\n",
    "mapid_target = {}"
   ]
  },
  {
   "cell_type": "code",
   "execution_count": 36,
   "metadata": {},
   "outputs": [
    {
     "data": {
      "text/html": [
       "\n",
       "            <style>\n",
       "                .geemap-dark {\n",
       "                    --jp-widgets-color: white;\n",
       "                    --jp-widgets-label-color: white;\n",
       "                    --jp-ui-font-color1: white;\n",
       "                    --jp-layout-color2: #454545;\n",
       "                    background-color: #383838;\n",
       "                }\n",
       "\n",
       "                .geemap-dark .jupyter-button {\n",
       "                    --jp-layout-color3: #383838;\n",
       "                }\n",
       "\n",
       "                .geemap-colab {\n",
       "                    background-color: var(--colab-primary-surface-color, white);\n",
       "                }\n",
       "\n",
       "                .geemap-colab .jupyter-button {\n",
       "                    --jp-layout-color3: var(--colab-primary-surface-color, white);\n",
       "                }\n",
       "            </style>\n",
       "            "
      ],
      "text/plain": [
       "<IPython.core.display.HTML object>"
      ]
     },
     "metadata": {},
     "output_type": "display_data"
    },
    {
     "data": {
      "text/plain": [
       "{'2020-05-01': 11613177.217557186,\n",
       " '2020-05-02': 11128562.119543703,\n",
       " '2020-05-03': 10686749.738468338,\n",
       " '2020-05-05': 11319674.827258816,\n",
       " '2020-05-06': 11162628.975842219}"
      ]
     },
     "execution_count": 36,
     "metadata": {},
     "output_type": "execute_result"
    }
   ],
   "source": [
    "ice_area"
   ]
  },
  {
   "cell_type": "code",
   "execution_count": 224,
   "metadata": {},
   "outputs": [
    {
     "data": {
      "text/html": [
       "\n",
       "            <style>\n",
       "                .geemap-dark {\n",
       "                    --jp-widgets-color: white;\n",
       "                    --jp-widgets-label-color: white;\n",
       "                    --jp-ui-font-color1: white;\n",
       "                    --jp-layout-color2: #454545;\n",
       "                    background-color: #383838;\n",
       "                }\n",
       "\n",
       "                .geemap-dark .jupyter-button {\n",
       "                    --jp-layout-color3: #383838;\n",
       "                }\n",
       "\n",
       "                .geemap-colab {\n",
       "                    background-color: var(--colab-primary-surface-color, white);\n",
       "                }\n",
       "\n",
       "                .geemap-colab .jupyter-button {\n",
       "                    --jp-layout-color3: var(--colab-primary-surface-color, white);\n",
       "                }\n",
       "            </style>\n",
       "            "
      ],
      "text/plain": [
       "<IPython.core.display.HTML object>"
      ]
     },
     "metadata": {},
     "output_type": "display_data"
    }
   ],
   "source": [
    "df_iceberg = pd.DataFrame(columns=['fecha', 'similaridad', 'area', 'centroide', 'poligono', 'source', 'covers'])"
   ]
  },
  {
   "cell_type": "code",
   "execution_count": 225,
   "metadata": {},
   "outputs": [
    {
     "data": {
      "text/html": [
       "\n",
       "            <style>\n",
       "                .geemap-dark {\n",
       "                    --jp-widgets-color: white;\n",
       "                    --jp-widgets-label-color: white;\n",
       "                    --jp-ui-font-color1: white;\n",
       "                    --jp-layout-color2: #454545;\n",
       "                    background-color: #383838;\n",
       "                }\n",
       "\n",
       "                .geemap-dark .jupyter-button {\n",
       "                    --jp-layout-color3: #383838;\n",
       "                }\n",
       "\n",
       "                .geemap-colab {\n",
       "                    background-color: var(--colab-primary-surface-color, white);\n",
       "                }\n",
       "\n",
       "                .geemap-colab .jupyter-button {\n",
       "                    --jp-layout-color3: var(--colab-primary-surface-color, white);\n",
       "                }\n",
       "            </style>\n",
       "            "
      ],
      "text/plain": [
       "<IPython.core.display.HTML object>"
      ]
     },
     "metadata": {},
     "output_type": "display_data"
    },
    {
     "name": "stdout",
     "output_type": "stream",
     "text": [
      "2020-08-29 ============================================\n",
      "Feature 0 >>> area: 12.41 km^2, centroid: [-106.533, -74.384], similarity: 0.852\n",
      "Se aumento la distancia de busqueda a 35000\n",
      "2020-09-02 ============================================\n",
      "Feature 0 >>> area: 10.84 km^2, centroid: [-106.549, -74.39], similarity: 0.957\n",
      "Se aumento la distancia de busqueda a 35000\n",
      "Se aumento la distancia de busqueda a 45000\n",
      "2020-09-10 ============================================\n",
      "Feature 0 >>> area: 9.04 km^2, centroid: [-105.441, -74.633], similarity: 0.639\n",
      "Feature 1 >>> area: 8.7 km^2, centroid: [-105.553, -74.661], similarity: 0.723\n",
      "Feature 2 >>> area: 9.63 km^2, centroid: [-106.528, -74.326], similarity: 0.844\n",
      "Feature 3 >>> area: 11.49 km^2, centroid: [-107.039, -74.306], similarity: 0.425\n",
      "Feature 4 >>> area: 9.72 km^2, centroid: [-107.455, -74.203], similarity: 0.632\n",
      "Feature 5 >>> area: 10.75 km^2, centroid: [-107.851, -74.549], similarity: 0.635\n",
      "Se aumento la distancia de busqueda a 35000\n",
      "2020-09-14 ============================================\n",
      "Feature 0 >>> area: 10.19 km^2, centroid: [-106.74, -74.078], similarity: 0.917\n",
      "Feature 1 >>> area: 11.0 km^2, centroid: [-107.158, -74.461], similarity: 0.494\n",
      "Se aumento la distancia de busqueda a 35000\n",
      "Se aumento la distancia de busqueda a 45000\n",
      "2020-09-22 ============================================\n",
      "Se aumento la distancia de busqueda a 55000\n",
      "2020-09-26 ============================================\n",
      "Feature 0 >>> area: 12.96 km^2, centroid: [-105.255, -74.07], similarity: 0.448\n",
      "Feature 1 >>> area: 11.79 km^2, centroid: [-107.467, -74.288], similarity: 0.522\n",
      "Feature 2 >>> area: 12.81 km^2, centroid: [-107.467, -73.717], similarity: 0.833\n",
      "Feature 3 >>> area: 11.63 km^2, centroid: [-108.009, -73.828], similarity: 0.655\n",
      "Se aumento la distancia de busqueda a 35000\n",
      "Se aumento la distancia de busqueda a 45000\n",
      "2020-10-04 ============================================\n",
      "Feature 0 >>> area: 10.51 km^2, centroid: [-106.826, -73.488], similarity: 0.812\n",
      "Feature 1 >>> area: 10.75 km^2, centroid: [-107.537, -73.674], similarity: 0.929\n",
      "Se aumento la distancia de busqueda a 35000\n",
      "2020-10-08 ============================================\n",
      "Feature 0 >>> area: 10.36 km^2, centroid: [-107.495, -73.656], similarity: 0.89\n",
      "Feature 1 >>> area: 12.49 km^2, centroid: [-108.024, -73.812], similarity: 0.561\n",
      "Se aumento la distancia de busqueda a 35000\n",
      "Se aumento la distancia de busqueda a 45000\n",
      "2020-10-16 ============================================\n",
      "Se aumento la distancia de busqueda a 55000\n",
      "2020-10-20 ============================================\n",
      "Feature 0 >>> area: 9.64 km^2, centroid: [-107.143, -73.613], similarity: 0.772\n",
      "Feature 1 >>> area: 12.54 km^2, centroid: [-107.787, -73.789], similarity: 0.627\n",
      "Se aumento la distancia de busqueda a 35000\n",
      "Se aumento la distancia de busqueda a 45000\n",
      "2020-10-28 ============================================\n",
      "Feature 0 >>> area: 11.89 km^2, centroid: [-107.878, -73.808], similarity: 0.561\n",
      "Se aumento la distancia de busqueda a 55000\n",
      "2020-11-01 ============================================\n",
      "Feature 0 >>> area: 8.75 km^2, centroid: [-106.453, -73.295], similarity: 0.714\n",
      "Feature 1 >>> area: 11.34 km^2, centroid: [-107.153, -73.683], similarity: 0.922\n",
      "Feature 2 >>> area: 12.06 km^2, centroid: [-107.835, -73.792], similarity: 0.603\n",
      "Se aumento la distancia de busqueda a 35000\n",
      "Se aumento la distancia de busqueda a 45000\n",
      "2020-11-09 ============================================\n",
      "Feature 0 >>> area: 12.18 km^2, centroid: [-107.565, -73.893], similarity: 0.517\n",
      "Se aumento la distancia de busqueda a 55000\n",
      "2020-11-13 ============================================\n",
      "Feature 0 >>> area: 10.75 km^2, centroid: [-107.026, -74.136], similarity: 0.667\n",
      "Feature 1 >>> area: 10.72 km^2, centroid: [-107.44, -73.381], similarity: 0.883\n",
      "Feature 2 >>> area: 11.55 km^2, centroid: [-107.987, -73.546], similarity: 0.71\n",
      "Se aumento la distancia de busqueda a 35000\n",
      "Se aumento la distancia de busqueda a 45000\n",
      "2020-11-21 ============================================\n",
      "Feature 0 >>> area: 10.79 km^2, centroid: [-107.776, -73.175], similarity: 0.858\n",
      "Feature 1 >>> area: 11.83 km^2, centroid: [-108.152, -73.398], similarity: 0.72\n",
      "Se aumento la distancia de busqueda a 35000\n",
      "2020-11-25 ============================================\n",
      "Feature 0 >>> area: 11.12 km^2, centroid: [-107.923, -73.135], similarity: 0.888\n",
      "Feature 1 >>> area: 11.76 km^2, centroid: [-108.147, -73.383], similarity: 0.709\n",
      "Se aumento la distancia de busqueda a 35000\n",
      "Se aumento la distancia de busqueda a 45000\n",
      "2020-12-03 ============================================\n",
      "Feature 0 >>> area: 9.36 km^2, centroid: [-107.725, -73.375], similarity: 0.657\n",
      "Feature 1 >>> area: 8.81 km^2, centroid: [-109.028, -73.038], similarity: 0.409\n",
      "Se aumento la distancia de busqueda a 55000\n",
      "2020-12-07 ============================================\n",
      "Feature 0 >>> area: 11.45 km^2, centroid: [-107.577, -73.606], similarity: 0.576\n",
      "Feature 1 >>> area: 11.09 km^2, centroid: [-108.151, -72.871], similarity: 0.921\n",
      "Feature 2 >>> area: 10.5 km^2, centroid: [-108.167, -73.187], similarity: 0.727\n",
      "Feature 3 >>> area: 10.68 km^2, centroid: [-108.167, -73.545], similarity: 0.498\n",
      "Feature 4 >>> area: 8.72 km^2, centroid: [-108.938, -73.085], similarity: 0.505\n",
      "Se aumento la distancia de busqueda a 35000\n",
      "Se aumento la distancia de busqueda a 45000\n",
      "2020-12-15 ============================================\n",
      "Feature 0 >>> area: 9.89 km^2, centroid: [-108.14, -72.893], similarity: 0.585\n",
      "Feature 1 >>> area: 10.25 km^2, centroid: [-108.905, -73.092], similarity: 0.555\n",
      "Se aumento la distancia de busqueda a 55000\n",
      "2020-12-19 ============================================\n",
      "Feature 0 >>> area: 11.79 km^2, centroid: [-108.234, -72.978], similarity: 0.674\n",
      "Feature 1 >>> area: 11.02 km^2, centroid: [-108.758, -72.847], similarity: 0.845\n",
      "Se aumento la distancia de busqueda a 35000\n",
      "Se aumento la distancia de busqueda a 45000\n"
     ]
    },
    {
     "data": {
      "image/png": "[encoded data removed]",
      "text/plain": [
       "<Figure size 1000x500 with 1 Axes>"
      ]
     },
     "metadata": {},
     "output_type": "display_data"
    }
   ],
   "source": [
    "ice_area = {}\n",
    "ice_centroid = {}\n",
    "mapid_seg = {}\n",
    "mapid_target = {}\n",
    "\n",
    "startdate = fecha_inicio; enddate = fecha_fin\n",
    "center = centroid\n",
    "\n",
    "buf_dist = 25000 # buffer distance to find from the center to find icebergs\n",
    "\n",
    "# Map initialization (note: if you run this code, map is entirely initialized!)\n",
    "map1 = folium.Map(location=[center[1], center[0]], zoom_start=7, height=550,width=700)\n",
    "\n",
    "# color codes to visualize the iceberg geometry by time\n",
    "color_codes = ['red', 'chocolate', 'orange', 'yellow', 'olive', 'lime',\n",
    "               'green', 'teal', 'cyan', 'blue', 'navy', 'purple']\n",
    "\n",
    "# First buffer area in Ross Sea\n",
    "ross_sea = ee.Geometry.Point(center).buffer(buf_dist);\n",
    "\n",
    "# How many days are you testing?\n",
    "day_range = range(0, 30) # for about year (2019-2018)\n",
    "\n",
    "vectorscale = 40\n",
    "\n",
    "fig = plt.subplots(figsize = (10, 5))\n",
    "plt.plot(hist1['reference'][1][:-1], hist1['reference'][0], label = \"reference\", color = \"k\", linestyle = \"--\")\n",
    "\n",
    "for day in day_range:\n",
    "    \n",
    "    month = dt.datetime.strptime(startdate, \"%Y-%m-%d\").month\n",
    "    band = [\"HH\", \"angle\"]  # intersted band\n",
    "    \n",
    "    # Ross Sea region\n",
    "    # ross_sea = ee.Geometry.Rectangle([-172.23, -73.76, -169.32, -72.80]) # rectangle\n",
    "    ross_sea = ee.Geometry.Point(center).buffer(buf_dist)\n",
    "\n",
    "    # Load Sentinel-1 images (image collection)\n",
    "    S1A = ee.ImageCollection(\"COPERNICUS/S1_GRD\")\\\n",
    "    .filterDate(startdate, enddate)\\\n",
    "    .filterBounds(ross_sea)\\\n",
    "    .filter(ee.Filter.listContains('transmitterReceiverPolarisation', \"HH\"))\n",
    "    \n",
    "    if S1A.size().getInfo() > 0:\n",
    "        imageA = S1A.select(band).mean().clip(ross_sea) # clip image into ROI\n",
    "\n",
    "        seeds = ee.Algorithms.Image.Segmentation.seedGrid(80);\n",
    "        \n",
    "        kernel = ee.Kernel.gaussian(3)\n",
    "        img1 = imageA.convolve(kernel)\n",
    "        img = img1.select(['HH', 'angle'], ['HH', 'angle'])\n",
    "        \n",
    "        \n",
    "        snic = ee.Algorithms.Image.Segmentation.SNIC(img, 20, 5, 8, 256, seeds)\\\n",
    "        .select([\"HH_mean\", \"angle_mean\", \"clusters\"], [\"HH\", \"angle\", \"clusters\"])\n",
    "        \n",
    "        segments = snic.select(\"clusters\").reduceToVectors(\n",
    "            geometry = snic.geometry(),\n",
    "            scale = vectorscale,\n",
    "            geometryType = 'polygon',            \n",
    "            maxPixels = 1e20\n",
    "        )     \n",
    "        \n",
    "        segimageA = segments.reduceToImage(\n",
    "            properties = ['label'],\n",
    "            reducer = ee.Reducer.first()\n",
    "        ).rename('id')       \n",
    "\n",
    "        ratio = snic.select(\"HH\").divide(snic.select(\"angle\"))\n",
    "        icebergs = ratio.gt(-0.2).selfMask()     \n",
    "        \n",
    "        # Convert iceberg raster to vector\n",
    "        vectors = icebergs.reduceToVectors(\n",
    "            geometry = icebergs.geometry(),\n",
    "            scale = vectorscale,\n",
    "            geometryType = 'polygon',            \n",
    "            maxPixels = 1e20)\n",
    "\n",
    "        def addArea(feature):\n",
    "            return feature.set({\"area\": feature.geometry().area(10), \"centroid\": feature.geometry().centroid(10)});\n",
    "\n",
    "        area_max = area0 * 1.2\n",
    "        area_min = area0 * 0.8\n",
    "        areaAdded = vectors.map(addArea)\n",
    "        # Add area and centroid information to the iceberg vectors\n",
    "        target = areaAdded.filter(ee.Filter.gt('area', area_min)).filter(ee.Filter.lt('area', area_max))\n",
    "        \n",
    "        num = target.size().getInfo()\n",
    "        features = target.getInfo()['features']\n",
    "        \n",
    "        print(startdate + \" ============================================\")\n",
    "        threshold = 0.7\n",
    "        \n",
    "        for k in range(0, num): # if there is a valid iceberg\n",
    "            \n",
    "            area = features[k]['properties']['area']\n",
    "            centroid = features[k]['properties']['centroid']['coordinates']\n",
    "            polygon = ee.FeatureCollection(ee.Geometry.Polygon(features[k]['geometry']['coordinates'][0]))\n",
    "            sources = ee.Image().toByte().paint(ee.Geometry.Point(centroid), 1);\n",
    "            covers = snic.select('HH').multiply(0).add(1)\n",
    "\n",
    "            cumCost = covers.cumulativeCost(\n",
    "                source = sources,\n",
    "                maxDistance = 30000,\n",
    "                geodeticDistance = True\n",
    "            ).clip(polygon)\n",
    "\n",
    "            result = cumCost.reduceRegion(ee.Reducer.toList(), polygon, scale = 200)\n",
    "            cumdist = result.getInfo()['cumulative_cost']\n",
    "            B = np.histogram(cumdist, int(max_pix/scale), [0, max_pix])  \n",
    "            \n",
    "            diff = abs(hist1['reference'][0] - B[0])\n",
    "            similarity = 1-np.sum(diff)/np.sum(hist1['reference'][0])          \n",
    "            \n",
    "            print(\"Feature {0} >>> area: {1} km^2, centroid: [{2}, {3}], similarity: {4}\".format(\n",
    "                k, round(area/1e6,2), round(centroid[0],3), round(centroid[1], 3), round(similarity, 3)\n",
    "            ))                       \n",
    "            \n",
    "            if similarity >= threshold: \n",
    "\n",
    "                df_iceberg.loc[len(df_iceberg.index)] = [startdate, similarity, area, centroid, polygon, sources, covers]\n",
    "\n",
    "                ice_area[startdate] = area\n",
    "                ice_centroid[startdate] = centroid\n",
    "                hist1[startdate] = B \n",
    "                plt.plot(B[1][:-1], B[0], label = startdate + \"_\" + str(k))\n",
    "                  \n",
    "                threshold = similarity\n",
    "                \n",
    "                center = centroid\n",
    "                buf_dist = 25000\n",
    "            \n",
    "            \n",
    "            \n",
    "    if (buf_dist > 250000) or (startdate == \"2020-07-01\"): # If the buffer distance become so large, break the loop\n",
    "        print(\"!!! STOP !!! buffer {0} km ( {1} )\".format(buf_dist, startdate))\n",
    "        break\n",
    "    \n",
    "    buf_dist += 10000 # add 25 km buffer for everyday searching process\n",
    "    if buf_dist >= 35000:\n",
    "        print(f'Se aumento la distancia de busqueda a {buf_dist}')\n",
    "    startdate = (dt.datetime.strptime(enddate, \"%Y-%m-%d\") + dt.timedelta(days=3)).strftime(\"%Y-%m-%d\")\n",
    "    enddate = (dt.datetime.strptime(enddate, \"%Y-%m-%d\") + dt.timedelta(days=4)).strftime(\"%Y-%m-%d\")"
   ]
  },
  {
   "cell_type": "code",
   "execution_count": 226,
   "metadata": {},
   "outputs": [
    {
     "data": {
      "text/html": [
       "\n",
       "            <style>\n",
       "                .geemap-dark {\n",
       "                    --jp-widgets-color: white;\n",
       "                    --jp-widgets-label-color: white;\n",
       "                    --jp-ui-font-color1: white;\n",
       "                    --jp-layout-color2: #454545;\n",
       "                    background-color: #383838;\n",
       "                }\n",
       "\n",
       "                .geemap-dark .jupyter-button {\n",
       "                    --jp-layout-color3: #383838;\n",
       "                }\n",
       "\n",
       "                .geemap-colab {\n",
       "                    background-color: var(--colab-primary-surface-color, white);\n",
       "                }\n",
       "\n",
       "                .geemap-colab .jupyter-button {\n",
       "                    --jp-layout-color3: var(--colab-primary-surface-color, white);\n",
       "                }\n",
       "            </style>\n",
       "            "
      ],
      "text/plain": [
       "<IPython.core.display.HTML object>"
      ]
     },
     "metadata": {},
     "output_type": "display_data"
    },
    {
     "data": {
      "text/html": [
       "<div>\n",
       "<style scoped>\n",
       "    .dataframe tbody tr th:only-of-type {\n",
       "        vertical-align: middle;\n",
       "    }\n",
       "\n",
       "    .dataframe tbody tr th {\n",
       "        vertical-align: top;\n",
       "    }\n",
       "\n",
       "    .dataframe thead th {\n",
       "        text-align: right;\n",
       "    }\n",
       "</style>\n",
       "<table border=\"1\" class=\"dataframe\">\n",
       "  <thead>\n",
       "    <tr style=\"text-align: right;\">\n",
       "      <th></th>\n",
       "      <th>fecha</th>\n",
       "      <th>similaridad</th>\n",
       "      <th>area</th>\n",
       "      <th>centroide</th>\n",
       "      <th>poligono</th>\n",
       "      <th>source</th>\n",
       "      <th>covers</th>\n",
       "    </tr>\n",
       "  </thead>\n",
       "  <tbody>\n",
       "    <tr>\n",
       "      <th>0</th>\n",
       "      <td>2020-08-29</td>\n",
       "      <td>0.852036</td>\n",
       "      <td>1.241343e+07</td>\n",
       "      <td>[-106.53304465102542, -74.38402534369158]</td>\n",
       "      <td>ee.FeatureCollection({\\n  \"functionInvocationV...</td>\n",
       "      <td>ee.Image({\\n  \"functionInvocationValue\": {\\n  ...</td>\n",
       "      <td>ee.Image({\\n  \"functionInvocationValue\": {\\n  ...</td>\n",
       "    </tr>\n",
       "    <tr>\n",
       "      <th>1</th>\n",
       "      <td>2020-09-02</td>\n",
       "      <td>0.957299</td>\n",
       "      <td>1.084332e+07</td>\n",
       "      <td>[-106.54851754571136, -74.3895035628275]</td>\n",
       "      <td>ee.FeatureCollection({\\n  \"functionInvocationV...</td>\n",
       "      <td>ee.Image({\\n  \"functionInvocationValue\": {\\n  ...</td>\n",
       "      <td>ee.Image({\\n  \"functionInvocationValue\": {\\n  ...</td>\n",
       "    </tr>\n",
       "    <tr>\n",
       "      <th>2</th>\n",
       "      <td>2020-09-10</td>\n",
       "      <td>0.722939</td>\n",
       "      <td>8.701004e+06</td>\n",
       "      <td>[-105.5533849012749, -74.6611759199871]</td>\n",
       "      <td>ee.FeatureCollection({\\n  \"functionInvocationV...</td>\n",
       "      <td>ee.Image({\\n  \"functionInvocationValue\": {\\n  ...</td>\n",
       "      <td>ee.Image({\\n  \"functionInvocationValue\": {\\n  ...</td>\n",
       "    </tr>\n",
       "    <tr>\n",
       "      <th>3</th>\n",
       "      <td>2020-09-10</td>\n",
       "      <td>0.844091</td>\n",
       "      <td>9.634485e+06</td>\n",
       "      <td>[-106.52772152473743, -74.32565449562895]</td>\n",
       "      <td>ee.FeatureCollection({\\n  \"functionInvocationV...</td>\n",
       "      <td>ee.Image({\\n  \"functionInvocationValue\": {\\n  ...</td>\n",
       "      <td>ee.Image({\\n  \"functionInvocationValue\": {\\n  ...</td>\n",
       "    </tr>\n",
       "    <tr>\n",
       "      <th>4</th>\n",
       "      <td>2020-09-14</td>\n",
       "      <td>0.916584</td>\n",
       "      <td>1.019169e+07</td>\n",
       "      <td>[-106.74007728539537, -74.07754381034971]</td>\n",
       "      <td>ee.FeatureCollection({\\n  \"functionInvocationV...</td>\n",
       "      <td>ee.Image({\\n  \"functionInvocationValue\": {\\n  ...</td>\n",
       "      <td>ee.Image({\\n  \"functionInvocationValue\": {\\n  ...</td>\n",
       "    </tr>\n",
       "    <tr>\n",
       "      <th>5</th>\n",
       "      <td>2020-09-26</td>\n",
       "      <td>0.833168</td>\n",
       "      <td>1.280681e+07</td>\n",
       "      <td>[-107.4669973486122, -73.71721579015549]</td>\n",
       "      <td>ee.FeatureCollection({\\n  \"functionInvocationV...</td>\n",
       "      <td>ee.Image({\\n  \"functionInvocationValue\": {\\n  ...</td>\n",
       "      <td>ee.Image({\\n  \"functionInvocationValue\": {\\n  ...</td>\n",
       "    </tr>\n",
       "    <tr>\n",
       "      <th>6</th>\n",
       "      <td>2020-10-04</td>\n",
       "      <td>0.812314</td>\n",
       "      <td>1.051108e+07</td>\n",
       "      <td>[-106.82645310110324, -73.48802452493209]</td>\n",
       "      <td>ee.FeatureCollection({\\n  \"functionInvocationV...</td>\n",
       "      <td>ee.Image({\\n  \"functionInvocationValue\": {\\n  ...</td>\n",
       "      <td>ee.Image({\\n  \"functionInvocationValue\": {\\n  ...</td>\n",
       "    </tr>\n",
       "    <tr>\n",
       "      <th>7</th>\n",
       "      <td>2020-10-04</td>\n",
       "      <td>0.929494</td>\n",
       "      <td>1.075146e+07</td>\n",
       "      <td>[-107.5373261612001, -73.6738313453528]</td>\n",
       "      <td>ee.FeatureCollection({\\n  \"functionInvocationV...</td>\n",
       "      <td>ee.Image({\\n  \"functionInvocationValue\": {\\n  ...</td>\n",
       "      <td>ee.Image({\\n  \"functionInvocationValue\": {\\n  ...</td>\n",
       "    </tr>\n",
       "    <tr>\n",
       "      <th>8</th>\n",
       "      <td>2020-10-08</td>\n",
       "      <td>0.889772</td>\n",
       "      <td>1.035975e+07</td>\n",
       "      <td>[-107.49473605691601, -73.65554508296285]</td>\n",
       "      <td>ee.FeatureCollection({\\n  \"functionInvocationV...</td>\n",
       "      <td>ee.Image({\\n  \"functionInvocationValue\": {\\n  ...</td>\n",
       "      <td>ee.Image({\\n  \"functionInvocationValue\": {\\n  ...</td>\n",
       "    </tr>\n",
       "    <tr>\n",
       "      <th>9</th>\n",
       "      <td>2020-10-20</td>\n",
       "      <td>0.771599</td>\n",
       "      <td>9.641647e+06</td>\n",
       "      <td>[-107.14339522119039, -73.61349831071006]</td>\n",
       "      <td>ee.FeatureCollection({\\n  \"functionInvocationV...</td>\n",
       "      <td>ee.Image({\\n  \"functionInvocationValue\": {\\n  ...</td>\n",
       "      <td>ee.Image({\\n  \"functionInvocationValue\": {\\n  ...</td>\n",
       "    </tr>\n",
       "    <tr>\n",
       "      <th>10</th>\n",
       "      <td>2020-11-01</td>\n",
       "      <td>0.714002</td>\n",
       "      <td>8.747432e+06</td>\n",
       "      <td>[-106.4525646581359, -73.29458337397708]</td>\n",
       "      <td>ee.FeatureCollection({\\n  \"functionInvocationV...</td>\n",
       "      <td>ee.Image({\\n  \"functionInvocationValue\": {\\n  ...</td>\n",
       "      <td>ee.Image({\\n  \"functionInvocationValue\": {\\n  ...</td>\n",
       "    </tr>\n",
       "    <tr>\n",
       "      <th>11</th>\n",
       "      <td>2020-11-01</td>\n",
       "      <td>0.921549</td>\n",
       "      <td>1.133700e+07</td>\n",
       "      <td>[-107.15261496423727, -73.68326222343418]</td>\n",
       "      <td>ee.FeatureCollection({\\n  \"functionInvocationV...</td>\n",
       "      <td>ee.Image({\\n  \"functionInvocationValue\": {\\n  ...</td>\n",
       "      <td>ee.Image({\\n  \"functionInvocationValue\": {\\n  ...</td>\n",
       "    </tr>\n",
       "    <tr>\n",
       "      <th>12</th>\n",
       "      <td>2020-11-13</td>\n",
       "      <td>0.882820</td>\n",
       "      <td>1.072135e+07</td>\n",
       "      <td>[-107.43988604604057, -73.38136127347211]</td>\n",
       "      <td>ee.FeatureCollection({\\n  \"functionInvocationV...</td>\n",
       "      <td>ee.Image({\\n  \"functionInvocationValue\": {\\n  ...</td>\n",
       "      <td>ee.Image({\\n  \"functionInvocationValue\": {\\n  ...</td>\n",
       "    </tr>\n",
       "    <tr>\n",
       "      <th>13</th>\n",
       "      <td>2020-11-21</td>\n",
       "      <td>0.857994</td>\n",
       "      <td>1.078667e+07</td>\n",
       "      <td>[-107.77575157185326, -73.17462868947646]</td>\n",
       "      <td>ee.FeatureCollection({\\n  \"functionInvocationV...</td>\n",
       "      <td>ee.Image({\\n  \"functionInvocationValue\": {\\n  ...</td>\n",
       "      <td>ee.Image({\\n  \"functionInvocationValue\": {\\n  ...</td>\n",
       "    </tr>\n",
       "    <tr>\n",
       "      <th>14</th>\n",
       "      <td>2020-11-25</td>\n",
       "      <td>0.887786</td>\n",
       "      <td>1.111963e+07</td>\n",
       "      <td>[-107.9226199577896, -73.13454562941865]</td>\n",
       "      <td>ee.FeatureCollection({\\n  \"functionInvocationV...</td>\n",
       "      <td>ee.Image({\\n  \"functionInvocationValue\": {\\n  ...</td>\n",
       "      <td>ee.Image({\\n  \"functionInvocationValue\": {\\n  ...</td>\n",
       "    </tr>\n",
       "    <tr>\n",
       "      <th>15</th>\n",
       "      <td>2020-12-07</td>\n",
       "      <td>0.920556</td>\n",
       "      <td>1.108577e+07</td>\n",
       "      <td>[-108.1511721379642, -72.87143872282493]</td>\n",
       "      <td>ee.FeatureCollection({\\n  \"functionInvocationV...</td>\n",
       "      <td>ee.Image({\\n  \"functionInvocationValue\": {\\n  ...</td>\n",
       "      <td>ee.Image({\\n  \"functionInvocationValue\": {\\n  ...</td>\n",
       "    </tr>\n",
       "    <tr>\n",
       "      <th>16</th>\n",
       "      <td>2020-12-19</td>\n",
       "      <td>0.845084</td>\n",
       "      <td>1.102453e+07</td>\n",
       "      <td>[-108.75815196316574, -72.84669840132555]</td>\n",
       "      <td>ee.FeatureCollection({\\n  \"functionInvocationV...</td>\n",
       "      <td>ee.Image({\\n  \"functionInvocationValue\": {\\n  ...</td>\n",
       "      <td>ee.Image({\\n  \"functionInvocationValue\": {\\n  ...</td>\n",
       "    </tr>\n",
       "  </tbody>\n",
       "</table>\n",
       "</div>"
      ],
      "text/plain": [
       "         fecha  similaridad          area  \\\n",
       "0   2020-08-29     0.852036  1.241343e+07   \n",
       "1   2020-09-02     0.957299  1.084332e+07   \n",
       "2   2020-09-10     0.722939  8.701004e+06   \n",
       "3   2020-09-10     0.844091  9.634485e+06   \n",
       "4   2020-09-14     0.916584  1.019169e+07   \n",
       "5   2020-09-26     0.833168  1.280681e+07   \n",
       "6   2020-10-04     0.812314  1.051108e+07   \n",
       "7   2020-10-04     0.929494  1.075146e+07   \n",
       "8   2020-10-08     0.889772  1.035975e+07   \n",
       "9   2020-10-20     0.771599  9.641647e+06   \n",
       "10  2020-11-01     0.714002  8.747432e+06   \n",
       "11  2020-11-01     0.921549  1.133700e+07   \n",
       "12  2020-11-13     0.882820  1.072135e+07   \n",
       "13  2020-11-21     0.857994  1.078667e+07   \n",
       "14  2020-11-25     0.887786  1.111963e+07   \n",
       "15  2020-12-07     0.920556  1.108577e+07   \n",
       "16  2020-12-19     0.845084  1.102453e+07   \n",
       "\n",
       "                                    centroide  \\\n",
       "0   [-106.53304465102542, -74.38402534369158]   \n",
       "1    [-106.54851754571136, -74.3895035628275]   \n",
       "2     [-105.5533849012749, -74.6611759199871]   \n",
       "3   [-106.52772152473743, -74.32565449562895]   \n",
       "4   [-106.74007728539537, -74.07754381034971]   \n",
       "5    [-107.4669973486122, -73.71721579015549]   \n",
       "6   [-106.82645310110324, -73.48802452493209]   \n",
       "7     [-107.5373261612001, -73.6738313453528]   \n",
       "8   [-107.49473605691601, -73.65554508296285]   \n",
       "9   [-107.14339522119039, -73.61349831071006]   \n",
       "10   [-106.4525646581359, -73.29458337397708]   \n",
       "11  [-107.15261496423727, -73.68326222343418]   \n",
       "12  [-107.43988604604057, -73.38136127347211]   \n",
       "13  [-107.77575157185326, -73.17462868947646]   \n",
       "14   [-107.9226199577896, -73.13454562941865]   \n",
       "15   [-108.1511721379642, -72.87143872282493]   \n",
       "16  [-108.75815196316574, -72.84669840132555]   \n",
       "\n",
       "                                             poligono  \\\n",
       "0   ee.FeatureCollection({\\n  \"functionInvocationV...   \n",
       "1   ee.FeatureCollection({\\n  \"functionInvocationV...   \n",
       "2   ee.FeatureCollection({\\n  \"functionInvocationV...   \n",
       "3   ee.FeatureCollection({\\n  \"functionInvocationV...   \n",
       "4   ee.FeatureCollection({\\n  \"functionInvocationV...   \n",
       "5   ee.FeatureCollection({\\n  \"functionInvocationV...   \n",
       "6   ee.FeatureCollection({\\n  \"functionInvocationV...   \n",
       "7   ee.FeatureCollection({\\n  \"functionInvocationV...   \n",
       "8   ee.FeatureCollection({\\n  \"functionInvocationV...   \n",
       "9   ee.FeatureCollection({\\n  \"functionInvocationV...   \n",
       "10  ee.FeatureCollection({\\n  \"functionInvocationV...   \n",
       "11  ee.FeatureCollection({\\n  \"functionInvocationV...   \n",
       "12  ee.FeatureCollection({\\n  \"functionInvocationV...   \n",
       "13  ee.FeatureCollection({\\n  \"functionInvocationV...   \n",
       "14  ee.FeatureCollection({\\n  \"functionInvocationV...   \n",
       "15  ee.FeatureCollection({\\n  \"functionInvocationV...   \n",
       "16  ee.FeatureCollection({\\n  \"functionInvocationV...   \n",
       "\n",
       "                                               source  \\\n",
       "0   ee.Image({\\n  \"functionInvocationValue\": {\\n  ...   \n",
       "1   ee.Image({\\n  \"functionInvocationValue\": {\\n  ...   \n",
       "2   ee.Image({\\n  \"functionInvocationValue\": {\\n  ...   \n",
       "3   ee.Image({\\n  \"functionInvocationValue\": {\\n  ...   \n",
       "4   ee.Image({\\n  \"functionInvocationValue\": {\\n  ...   \n",
       "5   ee.Image({\\n  \"functionInvocationValue\": {\\n  ...   \n",
       "6   ee.Image({\\n  \"functionInvocationValue\": {\\n  ...   \n",
       "7   ee.Image({\\n  \"functionInvocationValue\": {\\n  ...   \n",
       "8   ee.Image({\\n  \"functionInvocationValue\": {\\n  ...   \n",
       "9   ee.Image({\\n  \"functionInvocationValue\": {\\n  ...   \n",
       "10  ee.Image({\\n  \"functionInvocationValue\": {\\n  ...   \n",
       "11  ee.Image({\\n  \"functionInvocationValue\": {\\n  ...   \n",
       "12  ee.Image({\\n  \"functionInvocationValue\": {\\n  ...   \n",
       "13  ee.Image({\\n  \"functionInvocationValue\": {\\n  ...   \n",
       "14  ee.Image({\\n  \"functionInvocationValue\": {\\n  ...   \n",
       "15  ee.Image({\\n  \"functionInvocationValue\": {\\n  ...   \n",
       "16  ee.Image({\\n  \"functionInvocationValue\": {\\n  ...   \n",
       "\n",
       "                                               covers  \n",
       "0   ee.Image({\\n  \"functionInvocationValue\": {\\n  ...  \n",
       "1   ee.Image({\\n  \"functionInvocationValue\": {\\n  ...  \n",
       "2   ee.Image({\\n  \"functionInvocationValue\": {\\n  ...  \n",
       "3   ee.Image({\\n  \"functionInvocationValue\": {\\n  ...  \n",
       "4   ee.Image({\\n  \"functionInvocationValue\": {\\n  ...  \n",
       "5   ee.Image({\\n  \"functionInvocationValue\": {\\n  ...  \n",
       "6   ee.Image({\\n  \"functionInvocationValue\": {\\n  ...  \n",
       "7   ee.Image({\\n  \"functionInvocationValue\": {\\n  ...  \n",
       "8   ee.Image({\\n  \"functionInvocationValue\": {\\n  ...  \n",
       "9   ee.Image({\\n  \"functionInvocationValue\": {\\n  ...  \n",
       "10  ee.Image({\\n  \"functionInvocationValue\": {\\n  ...  \n",
       "11  ee.Image({\\n  \"functionInvocationValue\": {\\n  ...  \n",
       "12  ee.Image({\\n  \"functionInvocationValue\": {\\n  ...  \n",
       "13  ee.Image({\\n  \"functionInvocationValue\": {\\n  ...  \n",
       "14  ee.Image({\\n  \"functionInvocationValue\": {\\n  ...  \n",
       "15  ee.Image({\\n  \"functionInvocationValue\": {\\n  ...  \n",
       "16  ee.Image({\\n  \"functionInvocationValue\": {\\n  ...  "
      ]
     },
     "execution_count": 226,
     "metadata": {},
     "output_type": "execute_result"
    }
   ],
   "source": [
    "df_iceberg"
   ]
  },
  {
   "cell_type": "code",
   "execution_count": 227,
   "metadata": {},
   "outputs": [
    {
     "data": {
      "text/html": [
       "\n",
       "            <style>\n",
       "                .geemap-dark {\n",
       "                    --jp-widgets-color: white;\n",
       "                    --jp-widgets-label-color: white;\n",
       "                    --jp-ui-font-color1: white;\n",
       "                    --jp-layout-color2: #454545;\n",
       "                    background-color: #383838;\n",
       "                }\n",
       "\n",
       "                .geemap-dark .jupyter-button {\n",
       "                    --jp-layout-color3: #383838;\n",
       "                }\n",
       "\n",
       "                .geemap-colab {\n",
       "                    background-color: var(--colab-primary-surface-color, white);\n",
       "                }\n",
       "\n",
       "                .geemap-colab .jupyter-button {\n",
       "                    --jp-layout-color3: var(--colab-primary-surface-color, white);\n",
       "                }\n",
       "            </style>\n",
       "            "
      ],
      "text/plain": [
       "<IPython.core.display.HTML object>"
      ]
     },
     "metadata": {},
     "output_type": "display_data"
    }
   ],
   "source": [
    "\n",
    "S1A = ee.ImageCollection(\"COPERNICUS/S1_GRD\")\\\n",
    ".filterDate(fecha_inicio, fecha_fin)\\\n",
    ".filter(ee.Filter.listContains('transmitterReceiverPolarisation', \"HH\"))\n",
    "\n",
    "band = [\"HH\", \"angle\"]\n",
    "\n",
    "img = S1A.select(band).mean()"
   ]
  },
  {
   "cell_type": "code",
   "execution_count": 228,
   "metadata": {},
   "outputs": [
    {
     "data": {
      "text/html": [
       "\n",
       "            <style>\n",
       "                .geemap-dark {\n",
       "                    --jp-widgets-color: white;\n",
       "                    --jp-widgets-label-color: white;\n",
       "                    --jp-ui-font-color1: white;\n",
       "                    --jp-layout-color2: #454545;\n",
       "                    background-color: #383838;\n",
       "                }\n",
       "\n",
       "                .geemap-dark .jupyter-button {\n",
       "                    --jp-layout-color3: #383838;\n",
       "                }\n",
       "\n",
       "                .geemap-colab {\n",
       "                    background-color: var(--colab-primary-surface-color, white);\n",
       "                }\n",
       "\n",
       "                .geemap-colab .jupyter-button {\n",
       "                    --jp-layout-color3: var(--colab-primary-surface-color, white);\n",
       "                }\n",
       "            </style>\n",
       "            "
      ],
      "text/plain": [
       "<IPython.core.display.HTML object>"
      ]
     },
     "metadata": {},
     "output_type": "display_data"
    },
    {
     "data": {
      "application/vnd.jupyter.widget-view+json": {
       "model_id": "84460b236b9a43b9b72e8ffd084d8475",
       "version_major": 2,
       "version_minor": 0
      },
      "text/plain": [
       "Map(center=[-72.84669840132555, -108.75815196316574], controls=(WidgetControl(options=['position', 'transparen…"
      ]
     },
     "metadata": {},
     "output_type": "display_data"
    }
   ],
   "source": [
    "Map = geemap.Map(center= [centroid[1], centroid[0]], zoom = 10)\n",
    "vis_seg = {'bands': [\"HH\"], 'min': -30, 'max': 0}\n",
    "Map.addLayer(img, vis_seg, 'sat')\n",
    "\n",
    "polygon_style = {'color': 'red', 'fillColor': 'red', 'fillOpacity': 0.5}\n",
    "point_style = {'color': 'blue', 'pointSize': 5}\n",
    "for i, row in df_iceberg.iterrows():\n",
    "    variable = row.poligono\n",
    "    Map.addLayer(variable, polygon_style, f'ice{i}')\n",
    "    centroide_ee = ee.Geometry.Point(row['centroide'])\n",
    "    Map.addLayer(centroide_ee, point_style, f'cent-ice{i}')\n",
    "\n",
    "Map.addLayerControl()\n",
    "Map"
   ]
  },
  {
   "cell_type": "code",
   "execution_count": 155,
   "metadata": {},
   "outputs": [
    {
     "data": {
      "text/html": [
       "\n",
       "            <style>\n",
       "                .geemap-dark {\n",
       "                    --jp-widgets-color: white;\n",
       "                    --jp-widgets-label-color: white;\n",
       "                    --jp-ui-font-color1: white;\n",
       "                    --jp-layout-color2: #454545;\n",
       "                    background-color: #383838;\n",
       "                }\n",
       "\n",
       "                .geemap-dark .jupyter-button {\n",
       "                    --jp-layout-color3: #383838;\n",
       "                }\n",
       "\n",
       "                .geemap-colab {\n",
       "                    background-color: var(--colab-primary-surface-color, white);\n",
       "                }\n",
       "\n",
       "                .geemap-colab .jupyter-button {\n",
       "                    --jp-layout-color3: var(--colab-primary-surface-color, white);\n",
       "                }\n",
       "            </style>\n",
       "            "
      ],
      "text/plain": [
       "<IPython.core.display.HTML object>"
      ]
     },
     "metadata": {},
     "output_type": "display_data"
    }
   ],
   "source": [
    "img = df_iceberg.iloc[20].source"
   ]
  },
  {
   "cell_type": "code",
   "execution_count": 229,
   "metadata": {},
   "outputs": [
    {
     "data": {
      "text/html": [
       "\n",
       "            <style>\n",
       "                .geemap-dark {\n",
       "                    --jp-widgets-color: white;\n",
       "                    --jp-widgets-label-color: white;\n",
       "                    --jp-ui-font-color1: white;\n",
       "                    --jp-layout-color2: #454545;\n",
       "                    background-color: #383838;\n",
       "                }\n",
       "\n",
       "                .geemap-dark .jupyter-button {\n",
       "                    --jp-layout-color3: #383838;\n",
       "                }\n",
       "\n",
       "                .geemap-colab {\n",
       "                    background-color: var(--colab-primary-surface-color, white);\n",
       "                }\n",
       "\n",
       "                .geemap-colab .jupyter-button {\n",
       "                    --jp-layout-color3: var(--colab-primary-surface-color, white);\n",
       "                }\n",
       "            </style>\n",
       "            "
      ],
      "text/plain": [
       "<IPython.core.display.HTML object>"
      ]
     },
     "metadata": {},
     "output_type": "display_data"
    }
   ],
   "source": [
    "\n",
    "S1A = ee.ImageCollection(\"COPERNICUS/S1_GRD\")\\\n",
    ".filterDate('2020-12-19', '2020-12-20')\\\n",
    ".filter(ee.Filter.listContains('transmitterReceiverPolarisation', \"HH\"))\n",
    "\n",
    "band = [\"HH\", \"angle\"]\n",
    "\n",
    "img = S1A.select(band).mean()"
   ]
  },
  {
   "cell_type": "code",
   "execution_count": 230,
   "metadata": {},
   "outputs": [
    {
     "data": {
      "text/html": [
       "\n",
       "            <style>\n",
       "                .geemap-dark {\n",
       "                    --jp-widgets-color: white;\n",
       "                    --jp-widgets-label-color: white;\n",
       "                    --jp-ui-font-color1: white;\n",
       "                    --jp-layout-color2: #454545;\n",
       "                    background-color: #383838;\n",
       "                }\n",
       "\n",
       "                .geemap-dark .jupyter-button {\n",
       "                    --jp-layout-color3: #383838;\n",
       "                }\n",
       "\n",
       "                .geemap-colab {\n",
       "                    background-color: var(--colab-primary-surface-color, white);\n",
       "                }\n",
       "\n",
       "                .geemap-colab .jupyter-button {\n",
       "                    --jp-layout-color3: var(--colab-primary-surface-color, white);\n",
       "                }\n",
       "            </style>\n",
       "            "
      ],
      "text/plain": [
       "<IPython.core.display.HTML object>"
      ]
     },
     "metadata": {},
     "output_type": "display_data"
    },
    {
     "data": {
      "application/vnd.jupyter.widget-view+json": {
       "model_id": "76c745ef31f145428fcdf3d188756478",
       "version_major": 2,
       "version_minor": 0
      },
      "text/plain": [
       "Map(center=[-72.84669840132555, -108.75815196316574], controls=(WidgetControl(options=['position', 'transparen…"
      ]
     },
     "metadata": {},
     "output_type": "display_data"
    }
   ],
   "source": [
    "Map = geemap.Map(center= [centroid[1], centroid[0]], zoom = 10)\n",
    "vis_seg = {'bands': [\"HH\"], 'min': -30, 'max': 0}\n",
    "Map.addLayer(img, vis_seg, 'sat')\n",
    "\n",
    "polygon_style = {'color': 'red', 'fillColor': 'red', 'fillOpacity': 0.5}\n",
    "point_style = {'color': 'blue', 'pointSize': 5}\n",
    "for i, row in df_iceberg.iterrows():\n",
    "    variable = row.poligono\n",
    "    Map.addLayer(variable, polygon_style, f'ice{i}')\n",
    "    centroide_ee = ee.Geometry.Point(row['centroide'])\n",
    "    Map.addLayer(centroide_ee, point_style, f'cent-ice{i}')\n",
    "\n",
    "Map.addLayerControl()\n",
    "Map"
   ]
  },
  {
   "cell_type": "code",
   "execution_count": 211,
   "metadata": {},
   "outputs": [
    {
     "data": {
      "text/html": [
       "\n",
       "            <style>\n",
       "                .geemap-dark {\n",
       "                    --jp-widgets-color: white;\n",
       "                    --jp-widgets-label-color: white;\n",
       "                    --jp-ui-font-color1: white;\n",
       "                    --jp-layout-color2: #454545;\n",
       "                    background-color: #383838;\n",
       "                }\n",
       "\n",
       "                .geemap-dark .jupyter-button {\n",
       "                    --jp-layout-color3: #383838;\n",
       "                }\n",
       "\n",
       "                .geemap-colab {\n",
       "                    background-color: var(--colab-primary-surface-color, white);\n",
       "                }\n",
       "\n",
       "                .geemap-colab .jupyter-button {\n",
       "                    --jp-layout-color3: var(--colab-primary-surface-color, white);\n",
       "                }\n",
       "            </style>\n",
       "            "
      ],
      "text/plain": [
       "<IPython.core.display.HTML object>"
      ]
     },
     "metadata": {},
     "output_type": "display_data"
    }
   ],
   "source": [
    "S1A = ee.ImageCollection(\"COPERNICUS/S1_GRD\")\\\n",
    ".filterDate('2020-09-14', '2020-09-15')\\\n",
    ".filter(ee.Filter.listContains('transmitterReceiverPolarisation', \"HH\"))\n",
    "\n",
    "band = [\"HH\", \"angle\"]\n",
    "\n",
    "img = S1A.select(band).mean()"
   ]
  },
  {
   "cell_type": "code",
   "execution_count": 212,
   "metadata": {},
   "outputs": [
    {
     "data": {
      "text/html": [
       "\n",
       "            <style>\n",
       "                .geemap-dark {\n",
       "                    --jp-widgets-color: white;\n",
       "                    --jp-widgets-label-color: white;\n",
       "                    --jp-ui-font-color1: white;\n",
       "                    --jp-layout-color2: #454545;\n",
       "                    background-color: #383838;\n",
       "                }\n",
       "\n",
       "                .geemap-dark .jupyter-button {\n",
       "                    --jp-layout-color3: #383838;\n",
       "                }\n",
       "\n",
       "                .geemap-colab {\n",
       "                    background-color: var(--colab-primary-surface-color, white);\n",
       "                }\n",
       "\n",
       "                .geemap-colab .jupyter-button {\n",
       "                    --jp-layout-color3: var(--colab-primary-surface-color, white);\n",
       "                }\n",
       "            </style>\n",
       "            "
      ],
      "text/plain": [
       "<IPython.core.display.HTML object>"
      ]
     },
     "metadata": {},
     "output_type": "display_data"
    }
   ],
   "source": [
    "df_acotado = df_iceberg.tail()"
   ]
  },
  {
   "cell_type": "code",
   "execution_count": 213,
   "metadata": {},
   "outputs": [
    {
     "data": {
      "text/html": [
       "\n",
       "            <style>\n",
       "                .geemap-dark {\n",
       "                    --jp-widgets-color: white;\n",
       "                    --jp-widgets-label-color: white;\n",
       "                    --jp-ui-font-color1: white;\n",
       "                    --jp-layout-color2: #454545;\n",
       "                    background-color: #383838;\n",
       "                }\n",
       "\n",
       "                .geemap-dark .jupyter-button {\n",
       "                    --jp-layout-color3: #383838;\n",
       "                }\n",
       "\n",
       "                .geemap-colab {\n",
       "                    background-color: var(--colab-primary-surface-color, white);\n",
       "                }\n",
       "\n",
       "                .geemap-colab .jupyter-button {\n",
       "                    --jp-layout-color3: var(--colab-primary-surface-color, white);\n",
       "                }\n",
       "            </style>\n",
       "            "
      ],
      "text/plain": [
       "<IPython.core.display.HTML object>"
      ]
     },
     "metadata": {},
     "output_type": "display_data"
    },
    {
     "data": {
      "application/vnd.jupyter.widget-view+json": {
       "model_id": "910ba550db5e46bc988741ff9900131f",
       "version_major": 2,
       "version_minor": 0
      },
      "text/plain": [
       "Map(center=[-74.46145216359426, -107.1577137150064], controls=(WidgetControl(options=['position', 'transparent…"
      ]
     },
     "metadata": {},
     "output_type": "display_data"
    }
   ],
   "source": [
    "Map = geemap.Map(center= [centroid[1], centroid[0]], zoom = 10)\n",
    "vis_seg = {'bands': [\"HH\"], 'min': -30, 'max': 0}\n",
    "Map.addLayer(img, vis_seg, 'sat')\n",
    "\n",
    "polygon_style = {'color': 'red', 'fillColor': 'red', 'fillOpacity': 0.5}\n",
    "point_style = {'color': 'blue', 'pointSize': 5}\n",
    "for i, row in df_acotado.iterrows():\n",
    "    variable = row.poligono\n",
    "    Map.addLayer(variable, polygon_style, f'ice{i}')\n",
    "    centroide_ee = ee.Geometry.Point(row['centroide'])\n",
    "    Map.addLayer(centroide_ee, point_style, f'cent-ice{i}')\n",
    "\n",
    "Map.addLayerControl()\n",
    "Map"
   ]
  },
  {
   "cell_type": "code",
   "execution_count": null,
   "metadata": {},
   "outputs": [],
   "source": []
  },
  {
   "cell_type": "code",
   "execution_count": null,
   "metadata": {},
   "outputs": [],
   "source": []
  },
  {
   "cell_type": "code",
   "execution_count": 56,
   "metadata": {},
   "outputs": [
    {
     "data": {
      "text/html": [
       "\n",
       "            <style>\n",
       "                .geemap-dark {\n",
       "                    --jp-widgets-color: white;\n",
       "                    --jp-widgets-label-color: white;\n",
       "                    --jp-ui-font-color1: white;\n",
       "                    --jp-layout-color2: #454545;\n",
       "                    background-color: #383838;\n",
       "                }\n",
       "\n",
       "                .geemap-dark .jupyter-button {\n",
       "                    --jp-layout-color3: #383838;\n",
       "                }\n",
       "\n",
       "                .geemap-colab {\n",
       "                    background-color: var(--colab-primary-surface-color, white);\n",
       "                }\n",
       "\n",
       "                .geemap-colab .jupyter-button {\n",
       "                    --jp-layout-color3: var(--colab-primary-surface-color, white);\n",
       "                }\n",
       "            </style>\n",
       "            "
      ],
      "text/plain": [
       "<IPython.core.display.HTML object>"
      ]
     },
     "metadata": {},
     "output_type": "display_data"
    },
    {
     "data": {
      "application/vnd.jupyter.widget-view+json": {
       "model_id": "3f663414ed674cf5a6043b30e1c31a9f",
       "version_major": 2,
       "version_minor": 0
      },
      "text/plain": [
       "Map(center=[-74.20871632959688, -107.22544474857695], controls=(WidgetControl(options=['position', 'transparen…"
      ]
     },
     "metadata": {},
     "output_type": "display_data"
    }
   ],
   "source": [
    "Map = geemap.Map(center= [centroid[1], centroid[0]], zoom = 10)\n",
    "vis_seg = {'bands': [\"HH\"], 'min': -30, 'max': 0}\n",
    "Map.addLayer(img, vis_seg, 'sat')\n",
    "\n",
    "polygon_style = {'color': 'red', 'fillColor': 'red', 'fillOpacity': 0.5}\n",
    "point_style = {'color': 'blue', 'pointSize': 5}\n",
    "for i, row in df_iceberg.iterrows():\n",
    "    variable = row.poligono\n",
    "    Map.addLayer(variable, polygon_style, f'ice{i}')\n",
    "    centroide_ee = ee.Geometry.Point(row['centroide'])\n",
    "    Map.addLayer(centroide_ee, point_style, f'cent-ice{i}')\n",
    "\n",
    "Map.addLayerControl()\n",
    "Map"
   ]
  },
  {
   "cell_type": "code",
   "execution_count": 59,
   "metadata": {},
   "outputs": [
    {
     "data": {
      "text/html": [
       "\n",
       "            <style>\n",
       "                .geemap-dark {\n",
       "                    --jp-widgets-color: white;\n",
       "                    --jp-widgets-label-color: white;\n",
       "                    --jp-ui-font-color1: white;\n",
       "                    --jp-layout-color2: #454545;\n",
       "                    background-color: #383838;\n",
       "                }\n",
       "\n",
       "                .geemap-dark .jupyter-button {\n",
       "                    --jp-layout-color3: #383838;\n",
       "                }\n",
       "\n",
       "                .geemap-colab {\n",
       "                    background-color: var(--colab-primary-surface-color, white);\n",
       "                }\n",
       "\n",
       "                .geemap-colab .jupyter-button {\n",
       "                    --jp-layout-color3: var(--colab-primary-surface-color, white);\n",
       "                }\n",
       "            </style>\n",
       "            "
      ],
      "text/plain": [
       "<IPython.core.display.HTML object>"
      ]
     },
     "metadata": {},
     "output_type": "display_data"
    },
    {
     "data": {
      "application/vnd.jupyter.widget-view+json": {
       "model_id": "0792ac83c3fa43c9b839a012914de485",
       "version_major": 2,
       "version_minor": 0
      },
      "text/plain": [
       "Map(center=[-74.36387139785128, -105.96976232645038], controls=(WidgetControl(options=['position', 'transparen…"
      ]
     },
     "metadata": {},
     "output_type": "display_data"
    }
   ],
   "source": [
    "Map = geemap.Map(center= [centroid[1], centroid[0]], zoom = 10)\n",
    "vis_seg = {'bands': [\"HH\"], 'min': -30, 'max': 0}\n",
    "Map.addLayer(img, vis_seg, 'sat')\n",
    "\n",
    "polygon_style = {'color': 'red', 'fillColor': 'red', 'fillOpacity': 0.5}\n",
    "point_style = {'color': 'blue', 'pointSize': 5}\n",
    "for i, row in df_iceberg.iterrows():\n",
    "    variable = row.poligono\n",
    "    Map.addLayer(variable, polygon_style, f'ice{i}')\n",
    "    centroide_ee = ee.Geometry.Point(row['centroide'])\n",
    "    Map.addLayer(centroide_ee, point_style, f'cent-ice{i}')\n",
    "\n",
    "Map.addLayerControl()\n",
    "Map"
   ]
  },
  {
   "cell_type": "code",
   "execution_count": 77,
   "metadata": {},
   "outputs": [
    {
     "data": {
      "text/html": [
       "\n",
       "            <style>\n",
       "                .geemap-dark {\n",
       "                    --jp-widgets-color: white;\n",
       "                    --jp-widgets-label-color: white;\n",
       "                    --jp-ui-font-color1: white;\n",
       "                    --jp-layout-color2: #454545;\n",
       "                    background-color: #383838;\n",
       "                }\n",
       "\n",
       "                .geemap-dark .jupyter-button {\n",
       "                    --jp-layout-color3: #383838;\n",
       "                }\n",
       "\n",
       "                .geemap-colab {\n",
       "                    background-color: var(--colab-primary-surface-color, white);\n",
       "                }\n",
       "\n",
       "                .geemap-colab .jupyter-button {\n",
       "                    --jp-layout-color3: var(--colab-primary-surface-color, white);\n",
       "                }\n",
       "            </style>\n",
       "            "
      ],
      "text/plain": [
       "<IPython.core.display.HTML object>"
      ]
     },
     "metadata": {},
     "output_type": "display_data"
    },
    {
     "data": {
      "application/vnd.jupyter.widget-view+json": {
       "model_id": "273169c530ae476ca33945b59bd566ad",
       "version_major": 2,
       "version_minor": 0
      },
      "text/plain": [
       "Map(center=[-74.43723465049283, -108.03988139483371], controls=(WidgetControl(options=['position', 'transparen…"
      ]
     },
     "metadata": {},
     "output_type": "display_data"
    }
   ],
   "source": [
    "Map = geemap.Map(center= [centroid[1], centroid[0]], zoom = 10)\n",
    "vis_seg = {'bands': [\"HH\"], 'min': -30, 'max': 0}\n",
    "Map.addLayer(img, vis_seg, 'sat')\n",
    "\n",
    "polygon_style = {'color': 'red', 'fillColor': 'red', 'fillOpacity': 0.5}\n",
    "point_style = {'color': 'blue', 'pointSize': 5}\n",
    "for i, row in df_iceberg.iterrows():\n",
    "    variable = row.poligono\n",
    "    Map.addLayer(variable, polygon_style, f'ice{i}')\n",
    "    centroide_ee = ee.Geometry.Point(row['centroide'])\n",
    "    Map.addLayer(centroide_ee, point_style, f'cent-ice{i}')\n",
    "\n",
    "Map.addLayerControl()\n",
    "Map"
   ]
  },
  {
   "cell_type": "code",
   "execution_count": 100,
   "metadata": {},
   "outputs": [
    {
     "data": {
      "text/html": [
       "\n",
       "            <style>\n",
       "                .geemap-dark {\n",
       "                    --jp-widgets-color: white;\n",
       "                    --jp-widgets-label-color: white;\n",
       "                    --jp-ui-font-color1: white;\n",
       "                    --jp-layout-color2: #454545;\n",
       "                    background-color: #383838;\n",
       "                }\n",
       "\n",
       "                .geemap-dark .jupyter-button {\n",
       "                    --jp-layout-color3: #383838;\n",
       "                }\n",
       "\n",
       "                .geemap-colab {\n",
       "                    background-color: var(--colab-primary-surface-color, white);\n",
       "                }\n",
       "\n",
       "                .geemap-colab .jupyter-button {\n",
       "                    --jp-layout-color3: var(--colab-primary-surface-color, white);\n",
       "                }\n",
       "            </style>\n",
       "            "
      ],
      "text/plain": [
       "<IPython.core.display.HTML object>"
      ]
     },
     "metadata": {},
     "output_type": "display_data"
    },
    {
     "data": {
      "application/vnd.jupyter.widget-view+json": {
       "model_id": "d015ad84475248e69ce2041814a0bb55",
       "version_major": 2,
       "version_minor": 0
      },
      "text/plain": [
       "Map(center=[-74.36415510232911, -105.95572341682997], controls=(WidgetControl(options=['position', 'transparen…"
      ]
     },
     "metadata": {},
     "output_type": "display_data"
    }
   ],
   "source": [
    "Map = geemap.Map(center= [centroid[1], centroid[0]], zoom = 10)\n",
    "vis_seg = {'bands': [\"HH\"], 'min': -30, 'max': 0}\n",
    "Map.addLayer(img, vis_seg, 'sat')\n",
    "\n",
    "polygon_style = {'color': 'red', 'fillColor': 'red', 'fillOpacity': 0.5}\n",
    "point_style = {'color': 'blue', 'pointSize': 5}\n",
    "for i, row in df_iceberg.iterrows():\n",
    "    variable = row.poligono\n",
    "    Map.addLayer(variable, polygon_style, f'ice{i}')\n",
    "    centroide_ee = ee.Geometry.Point(row['centroide'])\n",
    "    Map.addLayer(centroide_ee, point_style, f'cent-ice{i}')\n",
    "\n",
    "Map.addLayerControl()\n",
    "Map"
   ]
  },
  {
   "cell_type": "code",
   "execution_count": 138,
   "metadata": {},
   "outputs": [
    {
     "data": {
      "text/html": [
       "\n",
       "            <style>\n",
       "                .geemap-dark {\n",
       "                    --jp-widgets-color: white;\n",
       "                    --jp-widgets-label-color: white;\n",
       "                    --jp-ui-font-color1: white;\n",
       "                    --jp-layout-color2: #454545;\n",
       "                    background-color: #383838;\n",
       "                }\n",
       "\n",
       "                .geemap-dark .jupyter-button {\n",
       "                    --jp-layout-color3: #383838;\n",
       "                }\n",
       "\n",
       "                .geemap-colab {\n",
       "                    background-color: var(--colab-primary-surface-color, white);\n",
       "                }\n",
       "\n",
       "                .geemap-colab .jupyter-button {\n",
       "                    --jp-layout-color3: var(--colab-primary-surface-color, white);\n",
       "                }\n",
       "            </style>\n",
       "            "
      ],
      "text/plain": [
       "<IPython.core.display.HTML object>"
      ]
     },
     "metadata": {},
     "output_type": "display_data"
    }
   ],
   "source": [
    "coords1 = df_iceberg.iloc[5]['centroide']\n",
    "coords2 = df_iceberg.iloc[6]['centroide']"
   ]
  },
  {
   "cell_type": "code",
   "execution_count": 139,
   "metadata": {},
   "outputs": [
    {
     "data": {
      "text/html": [
       "\n",
       "            <style>\n",
       "                .geemap-dark {\n",
       "                    --jp-widgets-color: white;\n",
       "                    --jp-widgets-label-color: white;\n",
       "                    --jp-ui-font-color1: white;\n",
       "                    --jp-layout-color2: #454545;\n",
       "                    background-color: #383838;\n",
       "                }\n",
       "\n",
       "                .geemap-dark .jupyter-button {\n",
       "                    --jp-layout-color3: #383838;\n",
       "                }\n",
       "\n",
       "                .geemap-colab {\n",
       "                    background-color: var(--colab-primary-surface-color, white);\n",
       "                }\n",
       "\n",
       "                .geemap-colab .jupyter-button {\n",
       "                    --jp-layout-color3: var(--colab-primary-surface-color, white);\n",
       "                }\n",
       "            </style>\n",
       "            "
      ],
      "text/plain": [
       "<IPython.core.display.HTML object>"
      ]
     },
     "metadata": {},
     "output_type": "display_data"
    }
   ],
   "source": [
    "import math\n",
    "def calcular_distancia(lat1, lon1, lat2, lon2):\n",
    "    # Convertir grados a radianes\n",
    "    lat1_rad = math.radians(lat1)\n",
    "    lon1_rad = math.radians(lon1)\n",
    "    lat2_rad = math.radians(lat2)\n",
    "    lon2_rad = math.radians(lon2)\n",
    "    \n",
    "    # Radio de la Tierra en metros\n",
    "    R = 6371000\n",
    "    \n",
    "    # Diferencias de coordenadas\n",
    "    delta_lat = lat2_rad - lat1_rad\n",
    "    delta_lon = lon2_rad - lon1_rad\n",
    "    \n",
    "    # Fórmula de Haversine\n",
    "    a = math.sin(delta_lat / 2)**2 + math.cos(lat1_rad) * math.cos(lat2_rad) * math.sin(delta_lon / 2)**2\n",
    "    c = 2 * math.atan2(math.sqrt(a), math.sqrt(1 - a))\n",
    "    \n",
    "    # Distancia\n",
    "    distancia = R * c\n",
    "    \n",
    "    return distancia"
   ]
  },
  {
   "cell_type": "code",
   "execution_count": 140,
   "metadata": {},
   "outputs": [
    {
     "data": {
      "text/html": [
       "\n",
       "            <style>\n",
       "                .geemap-dark {\n",
       "                    --jp-widgets-color: white;\n",
       "                    --jp-widgets-label-color: white;\n",
       "                    --jp-ui-font-color1: white;\n",
       "                    --jp-layout-color2: #454545;\n",
       "                    background-color: #383838;\n",
       "                }\n",
       "\n",
       "                .geemap-dark .jupyter-button {\n",
       "                    --jp-layout-color3: #383838;\n",
       "                }\n",
       "\n",
       "                .geemap-colab {\n",
       "                    background-color: var(--colab-primary-surface-color, white);\n",
       "                }\n",
       "\n",
       "                .geemap-colab .jupyter-button {\n",
       "                    --jp-layout-color3: var(--colab-primary-surface-color, white);\n",
       "                }\n",
       "            </style>\n",
       "            "
      ],
      "text/plain": [
       "<IPython.core.display.HTML object>"
      ]
     },
     "metadata": {},
     "output_type": "display_data"
    },
    {
     "name": "stdout",
     "output_type": "stream",
     "text": [
      "La distancia entre Madrid y Barcelona es de 19889.83 metros.\n"
     ]
    }
   ],
   "source": [
    "latitud1 = coords1[0]  # Madrid\n",
    "longitud1 = coords1[1]  # Madrid\n",
    "latitud2 = coords2[0]  # Barcelona\n",
    "longitud2 = coords2[1] # Barcelona\n",
    "\n",
    "distancia_metros = calcular_distancia(latitud1, longitud1, latitud2, longitud2)\n",
    "print(f\"La distancia entre Madrid y Barcelona es de {distancia_metros:.2f} metros.\")"
   ]
  },
  {
   "cell_type": "code",
   "execution_count": null,
   "metadata": {},
   "outputs": [],
   "source": []
  }
 ],
 "metadata": {
  "kernelspec": {
   "display_name": "test",
   "language": "python",
   "name": "python3"
  },
  "language_info": {
   "codemirror_mode": {
    "name": "ipython",
    "version": 3
   },
   "file_extension": ".py",
   "mimetype": "text/x-python",
   "name": "python",
   "nbconvert_exporter": "python",
   "pygments_lexer": "ipython3",
   "version": "3.11.8"
  }
 },
 "nbformat": 4,
 "nbformat_minor": 2
}
