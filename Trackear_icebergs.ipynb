{
 "cells": [
  {
   "cell_type": "markdown",
   "metadata": {},
   "source": [
    "## Tracking de Icebergs"
   ]
  },
  {
   "cell_type": "code",
   "execution_count": 1,
   "metadata": {},
   "outputs": [],
   "source": [
    "import warnings\n",
    "warnings.filterwarnings('ignore')\n",
    "import numpy as np\n",
    "import pandas as pd\n",
    "import datetime as dt\n",
    "import matplotlib.pyplot as plt\n",
    "import geopandas as gpd\n",
    "import h5py"
   ]
  },
  {
   "cell_type": "code",
   "execution_count": 9,
   "metadata": {},
   "outputs": [
    {
     "data": {
      "text/html": [
       "<p>To authorize access needed by Earth Engine, open the following\n",
       "        URL in a web browser and follow the instructions:</p>\n",
       "        <p><a href=https://code.earthengine.google.com/client-auth?scopes=https%3A//www.googleapis.com/auth/earthengine%20https%3A//www.googleapis.com/auth/cloud-platform%20https%3A//www.googleapis.com/auth/devstorage.full_control&request_id=kSd0du2Vuy-ZtLAI3413pK02vojvMHVmUWYOlKo1Yus&tc=2TnJSkYFA1KxlWDPcvcp5to01iEq6hhbEaNYfRR8XAg&cc=USGuJMs5-eVagACxzqBPVzXAxDxbObEkipGLopDOoLU>https://code.earthengine.google.com/client-auth?scopes=https%3A//www.googleapis.com/auth/earthengine%20https%3A//www.googleapis.com/auth/cloud-platform%20https%3A//www.googleapis.com/auth/devstorage.full_control&request_id=kSd0du2Vuy-ZtLAI3413pK02vojvMHVmUWYOlKo1Yus&tc=2TnJSkYFA1KxlWDPcvcp5to01iEq6hhbEaNYfRR8XAg&cc=USGuJMs5-eVagACxzqBPVzXAxDxbObEkipGLopDOoLU</a></p>\n",
       "        <p>The authorization workflow will generate a code, which you should paste in the box below.</p>\n",
       "        "
      ],
      "text/plain": [
       "<IPython.core.display.HTML object>"
      ]
     },
     "metadata": {},
     "output_type": "display_data"
    },
    {
     "name": "stdout",
     "output_type": "stream",
     "text": [
      "\n",
      "Successfully saved authorization token.\n"
     ]
    }
   ],
   "source": [
    "import ee\n",
    "import folium\n",
    "ee.Authenticate()\n",
    "ee.Initialize()"
   ]
  },
  {
   "cell_type": "markdown",
   "metadata": {},
   "source": [
    "- Primero definimos nuestro icebergs de interes\n",
    "\n",
    "Para este proceso, directamente en Google engine seleccionamos manualmente el icebreg de interes. Usando el siguiente codigo."
   ]
  },
  {
   "cell_type": "code",
   "execution_count": null,
   "metadata": {},
   "outputs": [],
   "source": [
    "# var roi = ee.Geometry.Polygon([\n",
    "#   [[-112, -72.7], [-112, -73.7], [-108.5, -73.7], [-108.5, -72.7], [-112, -72.7]]\n",
    "# ]);\n",
    "\n",
    "# var startdate = '2017-04-19' \n",
    "# var enddate = '2017-04-20' \n",
    "\n",
    "# var S1 = sentinel1\n",
    "#   // Filter to get images with VV and VH dual polarization.\n",
    "#   //.filter(ee.Filter.listContains('transmitterReceiverPolarisation', 'HH'))\n",
    "#   // Filter to get images collected in interferometric wide swath mode.\n",
    "#   .filterDate(startdate, enddate) \n",
    "#   // .filter(ee.Filter.lt('CLOUDY_PIXEL_PERCENTAGE', 50))\n",
    "#   .filterBounds(roi);\n",
    "  \n",
    "# print(S1)\n",
    "# var img = S1.select(\"HH\")\n",
    "\n",
    "# var visParams1 = {band: ['HH'], min: -30, max: 0};\n",
    "# // var visParams2 = {band: ['B4'], max: 10000, min: 0};\n",
    "\n",
    "# Map.addLayer(img, visParams1, 'S1');\n",
    "\n",
    "# Definimos \"geometry\" manualmente\n",
    "# var geometry = ee.FeatureCollection(geometry)\n",
    "# Export.table.toDrive(geometry, 'iceberg_' + startdate, 'users/kooala317/Iceberg_tracking')"
   ]
  },
  {
   "cell_type": "code",
   "execution_count": 2,
   "metadata": {},
   "outputs": [],
   "source": [
    "from shapely.geometry import shape\n",
    "import json"
   ]
  },
  {
   "cell_type": "code",
   "execution_count": 3,
   "metadata": {},
   "outputs": [],
   "source": [
    "df = pd.read_csv(\"Icebergs\\iceberg_0000_2020-04-19.csv\")\n",
    "df['geometry'] = df['.geo'].apply(lambda x: shape(json.loads(x)))\n",
    "\n",
    "gdf = gpd.GeoDataFrame(df, geometry='geometry').set_crs('epsg:4326', inplace=True)"
   ]
  },
  {
   "cell_type": "code",
   "execution_count": 7,
   "metadata": {},
   "outputs": [
    {
     "data": {
      "text/html": [
       "<div>\n",
       "<style scoped>\n",
       "    .dataframe tbody tr th:only-of-type {\n",
       "        vertical-align: middle;\n",
       "    }\n",
       "\n",
       "    .dataframe tbody tr th {\n",
       "        vertical-align: top;\n",
       "    }\n",
       "\n",
       "    .dataframe thead th {\n",
       "        text-align: right;\n",
       "    }\n",
       "</style>\n",
       "<table border=\"1\" class=\"dataframe\">\n",
       "  <thead>\n",
       "    <tr style=\"text-align: right;\">\n",
       "      <th></th>\n",
       "      <th>system:index</th>\n",
       "      <th>.geo</th>\n",
       "      <th>geometry</th>\n",
       "    </tr>\n",
       "  </thead>\n",
       "  <tbody>\n",
       "    <tr>\n",
       "      <th>0</th>\n",
       "      <td>0</td>\n",
       "      <td>{\"type\":\"Polygon\",\"coordinates\":[[[-107.204257...</td>\n",
       "      <td>POLYGON ((-107.20426 -74.24049, -107.22211 -74...</td>\n",
       "    </tr>\n",
       "  </tbody>\n",
       "</table>\n",
       "</div>"
      ],
      "text/plain": [
       "   system:index                                               .geo  \\\n",
       "0             0  {\"type\":\"Polygon\",\"coordinates\":[[[-107.204257...   \n",
       "\n",
       "                                            geometry  \n",
       "0  POLYGON ((-107.20426 -74.24049, -107.22211 -74...  "
      ]
     },
     "execution_count": 7,
     "metadata": {},
     "output_type": "execute_result"
    }
   ],
   "source": [
    "gdf"
   ]
  },
  {
   "cell_type": "code",
   "execution_count": 4,
   "metadata": {},
   "outputs": [
    {
     "data": {
      "text/plain": [
       "<Axes: >"
      ]
     },
     "execution_count": 4,
     "metadata": {},
     "output_type": "execute_result"
    },
    {
     "data": {
      "image/png": "[encoded data removed]",
      "text/plain": [
       "<Figure size 640x480 with 1 Axes>"
      ]
     },
     "metadata": {},
     "output_type": "display_data"
    }
   ],
   "source": [
    "gdf[\"geometry\"].plot()"
   ]
  },
  {
   "cell_type": "markdown",
   "metadata": {},
   "source": [
    "- Luego, haciendo comparativas de similitud, localizamos el mismo iceberg en una imagen posterior. (Con un cierto margen de error)"
   ]
  },
  {
   "cell_type": "markdown",
   "metadata": {},
   "source": [
    "#### 1. Pasamos nuestro archivo local a una Feature collection"
   ]
  },
  {
   "cell_type": "code",
   "execution_count": 11,
   "metadata": {},
   "outputs": [],
   "source": [
    "from shapely.geometry import shape, mapping"
   ]
  },
  {
   "cell_type": "code",
   "execution_count": 27,
   "metadata": {},
   "outputs": [],
   "source": [
    "gdf.columns = [col.replace('.', '_') for col in gdf.columns]\n",
    "\n",
    "# Verificamos que todas las columnas son strings\n",
    "for col in gdf.columns:\n",
    "    if col != 'geometry':\n",
    "        gdf[col] = gdf[col].astype(str)\n",
    "\n",
    "# Convertimos el GeoDataFrame a una lista de Features\n",
    "features = []\n",
    "for _, row in gdf.iterrows():\n",
    "    geom = ee.Geometry(mapping(row['geometry']))\n",
    "    feature = ee.Feature(geom, row.drop('geometry').to_dict())\n",
    "    features.append(feature)\n",
    "\n",
    "\n",
    "iceberg = ee.FeatureCollection(features)\n"
   ]
  },
  {
   "cell_type": "markdown",
   "metadata": {},
   "source": [
    "#### 2. Una vez obtenida la feature collection del iceberg, obtenemos las imagenes satelitales de esté.  Junto con el centroide del iceberg."
   ]
  },
  {
   "cell_type": "code",
   "execution_count": 58,
   "metadata": {},
   "outputs": [],
   "source": [
    "fecha_inicio = '2020-04-19'\n",
    "fecha_fin = '2020-04-20'"
   ]
  },
  {
   "cell_type": "code",
   "execution_count": 71,
   "metadata": {},
   "outputs": [],
   "source": [
    "S1A = ee.ImageCollection(\"COPERNICUS/S1_GRD\")\\\n",
    ".filterDate(fecha_inicio, fecha_fin)\\\n",
    ".filterBounds(iceberg)\\\n",
    ".filter(ee.Filter.listContains('transmitterReceiverPolarisation', \"HH\"))\n",
    "\n",
    "band = [\"HH\", \"angle\"]\n",
    "\n",
    "img = S1A.select(band).mean().clip(iceberg) \n",
    "\n",
    "centroid = iceberg.geometry().centroid(10).getInfo()['coordinates']"
   ]
  },
  {
   "cell_type": "markdown",
   "metadata": {},
   "source": [
    "#### 3. Planteamos una forma de identificar el iceberg. Esta forma requiere calcular cómo varía la distancia desde el centroide hacia los bordes del iceberg. Para ello:"
   ]
  },
  {
   "cell_type": "markdown",
   "metadata": {},
   "source": [
    "- Definimos una capa de cobertura del iceberg, la cual vale 1 siempre que se abarca el iceberg."
   ]
  },
  {
   "cell_type": "code",
   "execution_count": 72,
   "metadata": {},
   "outputs": [],
   "source": [
    "cover = img.select('HH').clip(iceberg).multiply(0).add(1)\n",
    "cover = cover.addBands(ee.Image.pixelLonLat())"
   ]
  },
  {
   "cell_type": "markdown",
   "metadata": {},
   "source": [
    "- Definimos una Imagen que vale 1 en el centroide del Iceberg."
   ]
  },
  {
   "cell_type": "code",
   "execution_count": 73,
   "metadata": {},
   "outputs": [],
   "source": [
    "sources = ee.Image().toByte().paint(ee.Geometry.Point(centroid), 1)"
   ]
  },
  {
   "cell_type": "markdown",
   "metadata": {},
   "source": [
    "- Calculamos el costo acumulativo para recorrer la imagen desde el centroide del iceberg hasta los bordes del iceberg."
   ]
  },
  {
   "cell_type": "code",
   "execution_count": 74,
   "metadata": {},
   "outputs": [],
   "source": [
    "cumulativeCost = cover.select('HH').cumulativeCost(\n",
    "    source = sources,\n",
    "    maxDistance = 30000,\n",
    "    geodeticDistance = True\n",
    ").clip(iceberg)\n",
    "\n",
    "result = cumulativeCost.reduceRegion(ee.Reducer.toList(), iceberg, scale=200, maxPixels=1e20)\n",
    "A = result.getInfo()['cumulative_cost'] "
   ]
  },
  {
   "cell_type": "markdown",
   "metadata": {},
   "source": [
    "- Calculamos un histograma de la distribucion de las distancias centroide-borde"
   ]
  },
  {
   "cell_type": "code",
   "execution_count": 75,
   "metadata": {},
   "outputs": [
    {
     "data": {
      "text/plain": [
       "Text(0, 0.5, 'N')"
      ]
     },
     "execution_count": 75,
     "metadata": {},
     "output_type": "execute_result"
    },
    {
     "data": {
      "image/png": "[encoded data removed]",
      "text/plain": [
       "<Figure size 600x200 with 1 Axes>"
      ]
     },
     "metadata": {},
     "output_type": "display_data"
    }
   ],
   "source": [
    "hist1 = {}\n",
    "\n",
    "scale = 200\n",
    "max_pix = 20000\n",
    "\n",
    "fig = plt.subplots(figsize = (6, 2), dpi = 100)\n",
    "hist1['reference'] = np.histogram(A, int(max_pix/scale), [0, max_pix])\n",
    "\n",
    "plt.plot(hist1['reference'][1][:-1], hist1['reference'][0], color = \"k\", linewidth = 2)\n",
    "plt.xlabel(\"Distance from the centroid (m)\", fontsize = 12)\n",
    "plt.ylabel(\"N\", fontsize = 12)"
   ]
  },
  {
   "cell_type": "markdown",
   "metadata": {},
   "source": [
    "- Obtenemos el area real del iceberg"
   ]
  },
  {
   "cell_type": "code",
   "execution_count": 57,
   "metadata": {},
   "outputs": [
    {
     "name": "stdout",
     "output_type": "stream",
     "text": [
      "8256820.092200294\n"
     ]
    }
   ],
   "source": [
    "area0 = iceberg.geometry().area(10).getInfo()\n",
    "print(area0)"
   ]
  }
 ],
 "metadata": {
  "kernelspec": {
   "display_name": "test",
   "language": "python",
   "name": "python3"
  },
  "language_info": {
   "codemirror_mode": {
    "name": "ipython",
    "version": 3
   },
   "file_extension": ".py",
   "mimetype": "text/x-python",
   "name": "python",
   "nbconvert_exporter": "python",
   "pygments_lexer": "ipython3",
   "version": "3.11.8"
  }
 },
 "nbformat": 4,
 "nbformat_minor": 2
}
